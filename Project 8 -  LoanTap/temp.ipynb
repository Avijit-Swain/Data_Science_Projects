{
 "cells": [
  {
   "cell_type": "markdown",
   "id": "18900eca",
   "metadata": {},
   "source": [
    "### 1) Loan_Status - Target Variable"
   ]
  },
  {
   "cell_type": "code",
   "execution_count": null,
   "id": "1d37dadd",
   "metadata": {},
   "outputs": [],
   "source": [
    "variable='loan_status'\n",
    "#Checking for null values\n",
    "print('Number of Null Values -',df_train[variable].isna().sum())\n",
    "#There are no null values\n",
    "\n",
    "#Checking for number of unique values\n",
    "print('Number of Unique Values -',df_train[variable].nunique())\n",
    "#There are 2 unique values\n",
    "# This is a categorical variable"
   ]
  },
  {
   "cell_type": "code",
   "execution_count": null,
   "id": "53332718",
   "metadata": {},
   "outputs": [],
   "source": [
    "#Checking the percentage of occurence of each of the categories.\n",
    "print(np.round(df_train[variable].value_counts(normalize=True)*100))\n",
    "#We have imbalanced target data\n",
    "\n",
    "plt.figure(figsize=(7,5))\n",
    "sns.countplot(df_train[variable])\n",
    "plt.show()"
   ]
  },
  {
   "cell_type": "markdown",
   "id": "f3d2b956",
   "metadata": {},
   "source": [
    "### 2) Loan_Amount"
   ]
  },
  {
   "cell_type": "code",
   "execution_count": null,
   "id": "ecea76e3",
   "metadata": {},
   "outputs": [],
   "source": [
    "variable='loan_amnt'\n",
    "#Checking for null values\n",
    "print('Number of Null Values -',df_train[variable].isna().sum())\n",
    "#There are no null values\n",
    "\n",
    "#Checking for number of unique values\n",
    "print('Number of Unique Values -',df_train[variable].nunique())\n",
    "#There are 1387 unique values\n",
    "# This is a continuous variable"
   ]
  },
  {
   "cell_type": "code",
   "execution_count": null,
   "id": "2a1d590c",
   "metadata": {},
   "outputs": [],
   "source": [
    "plt.figure(figsize=(7,6))\n",
    "sns.kdeplot(df_train[variable])\n",
    "plt.show()\n",
    "#Data looks right skewed\n",
    "\n",
    "plt.figure(figsize=(7,6))\n",
    "sns.boxplot(df_train[variable])\n",
    "plt.show()\n",
    "#There are few outliers in the data"
   ]
  },
  {
   "cell_type": "code",
   "execution_count": null,
   "id": "62ba5483",
   "metadata": {},
   "outputs": [],
   "source": [
    "#Checking Loan_Status with Loan_Amount to check if there is any relationship\n",
    "plt.figure(figsize=(7,6))\n",
    "sns.boxplot(data=df_train,y=variable,x='loan_status')\n",
    "plt.show()\n",
    "#Observation - The median loan_amount is higher for charged off loans in comparison to fully_paid loans."
   ]
  },
  {
   "cell_type": "code",
   "execution_count": null,
   "id": "e8f0525f",
   "metadata": {},
   "outputs": [],
   "source": [
    "df_train.groupby(by='loan_status').mean()[variable]\n",
    "#Observation - The mean loan_amount is higher for charged off loans in comparison to fully_paid loans."
   ]
  },
  {
   "cell_type": "code",
   "execution_count": null,
   "id": "985a9e68",
   "metadata": {},
   "outputs": [],
   "source": [
    "#Removing the outliers\n",
    "q75=np.percentile(df_train[variable],75)\n",
    "q25=np.percentile(df_train[variable],25)\n",
    "iqr=q75-q25\n",
    "sns.boxplot(df_train.loc[df_train[variable]<iqr+q75,variable])\n",
    "plt.show()\n",
    "df_train=df_train.loc[df_train[variable]<iqr+q75]\n",
    "#The outliers have been removed"
   ]
  },
  {
   "cell_type": "code",
   "execution_count": null,
   "id": "ee143d50",
   "metadata": {},
   "outputs": [],
   "source": [
    "# Since mean and median loan_amount is different for different classes, therefore it could be an important feature.\n",
    "# Since it is a continuous variable, therefore adding it to the continuous_columns variable.\n",
    "continuous_columns.append(variable)"
   ]
  },
  {
   "cell_type": "code",
   "execution_count": null,
   "id": "afa6b6de",
   "metadata": {},
   "outputs": [],
   "source": []
  },
  {
   "cell_type": "markdown",
   "id": "c3cca2d7",
   "metadata": {},
   "source": [
    "### 3) Term"
   ]
  },
  {
   "cell_type": "code",
   "execution_count": null,
   "id": "277bd8bc",
   "metadata": {},
   "outputs": [],
   "source": [
    "variable= 'term'\n",
    "#Checking for null values\n",
    "print('Number of Null Values -',df_train[variable].isna().sum())\n",
    "#There are no null values\n",
    "\n",
    "#Checking for number of unique values\n",
    "print('Number of Unique Values -',df_train[variable].nunique())\n",
    "#There are 2 unique values\n",
    "# This is a categorical variable"
   ]
  },
  {
   "cell_type": "code",
   "execution_count": null,
   "id": "a71bf12d",
   "metadata": {},
   "outputs": [],
   "source": [
    "#Checking the percentage of occurence of each of the categories.\n",
    "print(np.round(df_train[variable].value_counts(normalize=True)*100))\n",
    "\n",
    "plt.figure(figsize=(7,5))\n",
    "sns.countplot(df_train[variable])\n",
    "plt.show()\n",
    "#Later we can encode this data."
   ]
  },
  {
   "cell_type": "code",
   "execution_count": null,
   "id": "c4358d90",
   "metadata": {},
   "outputs": [],
   "source": [
    "#Checking Loan_Status with Term to check if there is any relationship\n",
    "plt.figure(figsize=(7,6))\n",
    "sns.countplot(data=df_train,x=variable,hue='loan_status')\n",
    "plt.show()\n",
    "#Observation - We can see different behavior for each of the 2 categories of \"term\" variable."
   ]
  },
  {
   "cell_type": "code",
   "execution_count": null,
   "id": "571c2ab8",
   "metadata": {},
   "outputs": [],
   "source": [
    "np.round(pd.crosstab(df_train['loan_status'],df_train[variable],normalize='columns')*100)\n",
    "#Observation - People who take a 60 months term loan are more likely to default."
   ]
  },
  {
   "cell_type": "code",
   "execution_count": null,
   "id": "4f5972b3",
   "metadata": {},
   "outputs": [],
   "source": [
    "# Since the charged_off probability is diffrent from the 2 \"term\" categories,therefore \"term\" could be an important feature.\n",
    "# Since it is a continuous variable, therefore adding it to the categorical_columns variable.\n",
    "categorical_columns.append(variable)"
   ]
  },
  {
   "cell_type": "code",
   "execution_count": null,
   "id": "168e7db1",
   "metadata": {},
   "outputs": [],
   "source": []
  }
 ],
 "metadata": {
  "kernelspec": {
   "display_name": "Python 3 (ipykernel)",
   "language": "python",
   "name": "python3"
  },
  "language_info": {
   "codemirror_mode": {
    "name": "ipython",
    "version": 3
   },
   "file_extension": ".py",
   "mimetype": "text/x-python",
   "name": "python",
   "nbconvert_exporter": "python",
   "pygments_lexer": "ipython3",
   "version": "3.9.7"
  }
 },
 "nbformat": 4,
 "nbformat_minor": 5
}
