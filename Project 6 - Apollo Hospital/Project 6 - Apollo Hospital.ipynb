{
 "cells": [
  {
   "cell_type": "markdown",
   "id": "ce83cf02",
   "metadata": {},
   "source": [
    "## Context\n",
    "\n",
    "Apollo Hospitals was established in 1983, renowned as the architect of modern healthcare in India. As the nation's first corporate hospital, Apollo Hospitals is acclaimed for pioneering the private healthcare revolution in the country.\n",
    "\n",
    "\n",
    "As a data scientist working at Apollo 24/7, the ultimate goal is to tease out meaningful and actionable insights from Patient-level collected data.\n",
    "\n",
    "You can help Apollo hospitals to be more efficient, to influence diagnostic and treatment processes, to map the spread of a pandemic.\n",
    "\n",
    "\n",
    "One of the best examples of data scientists making a meaningful difference at a global level is in the response to the COVID-19 pandemic, where they have improved information collection, provided ongoing and accurate estimates of infection spread and health system demand, and assessed the effectiveness of government policies."
   ]
  },
  {
   "cell_type": "markdown",
   "id": "acbec5d2",
   "metadata": {},
   "source": [
    "### How can you help here?\n",
    "\n",
    "The company wants to know:\n",
    "\n",
    "• Which variables are significant in predicting the reason for hospitalization for different regions\n",
    "\n",
    "• How well some variables like viral load, smoking, Severity Level describe the hospitalization charges"
   ]
  },
  {
   "cell_type": "markdown",
   "id": "f5696008",
   "metadata": {},
   "source": [
    "### Column Profiling\n",
    "\n",
    "- Age: This is an integer indicating the age of the primary beneficiary (excluding those above 64 years, since they are generally covered by the government).\n",
    "- Sex: This is the policy holder's gender, either male or female\n",
    "- Viral Load: Viral load refers to the amount of virus in an infected person's blood\n",
    "- Severity Level: This is an integer indicating how severe the patient is\n",
    "- Smoker: This is yes or no depending on whether the insured regularly smokes tobacco.\n",
    "- Region: This is the beneficiary's place of residence in Delhi, divided into four geographic regions - northeast, southeast, southwest, or northwest\n",
    "- Hospitalization charges: Individual medical costs billed to health insurance"
   ]
  },
  {
   "cell_type": "code",
   "execution_count": null,
   "id": "436a09ad",
   "metadata": {},
   "outputs": [],
   "source": []
  },
  {
   "cell_type": "code",
   "execution_count": 1,
   "id": "d9ea370f",
   "metadata": {},
   "outputs": [],
   "source": [
    "import numpy as np\n",
    "import pandas as pd\n",
    "import matplotlib.pyplot as plt\n",
    "import seaborn as sns\n",
    "from scipy import stats"
   ]
  },
  {
   "cell_type": "code",
   "execution_count": 2,
   "id": "e1622838",
   "metadata": {},
   "outputs": [
    {
     "data": {
      "text/html": [
       "<div>\n",
       "<style scoped>\n",
       "    .dataframe tbody tr th:only-of-type {\n",
       "        vertical-align: middle;\n",
       "    }\n",
       "\n",
       "    .dataframe tbody tr th {\n",
       "        vertical-align: top;\n",
       "    }\n",
       "\n",
       "    .dataframe thead th {\n",
       "        text-align: right;\n",
       "    }\n",
       "</style>\n",
       "<table border=\"1\" class=\"dataframe\">\n",
       "  <thead>\n",
       "    <tr style=\"text-align: right;\">\n",
       "      <th></th>\n",
       "      <th>Unnamed: 0</th>\n",
       "      <th>age</th>\n",
       "      <th>sex</th>\n",
       "      <th>smoker</th>\n",
       "      <th>region</th>\n",
       "      <th>viral load</th>\n",
       "      <th>severity level</th>\n",
       "      <th>hospitalization charges</th>\n",
       "    </tr>\n",
       "  </thead>\n",
       "  <tbody>\n",
       "    <tr>\n",
       "      <th>0</th>\n",
       "      <td>0</td>\n",
       "      <td>19</td>\n",
       "      <td>female</td>\n",
       "      <td>yes</td>\n",
       "      <td>southwest</td>\n",
       "      <td>9.30</td>\n",
       "      <td>0</td>\n",
       "      <td>42212</td>\n",
       "    </tr>\n",
       "    <tr>\n",
       "      <th>1</th>\n",
       "      <td>1</td>\n",
       "      <td>18</td>\n",
       "      <td>male</td>\n",
       "      <td>no</td>\n",
       "      <td>southeast</td>\n",
       "      <td>11.26</td>\n",
       "      <td>1</td>\n",
       "      <td>4314</td>\n",
       "    </tr>\n",
       "    <tr>\n",
       "      <th>2</th>\n",
       "      <td>2</td>\n",
       "      <td>28</td>\n",
       "      <td>male</td>\n",
       "      <td>no</td>\n",
       "      <td>southeast</td>\n",
       "      <td>11.00</td>\n",
       "      <td>3</td>\n",
       "      <td>11124</td>\n",
       "    </tr>\n",
       "    <tr>\n",
       "      <th>3</th>\n",
       "      <td>3</td>\n",
       "      <td>33</td>\n",
       "      <td>male</td>\n",
       "      <td>no</td>\n",
       "      <td>northwest</td>\n",
       "      <td>7.57</td>\n",
       "      <td>0</td>\n",
       "      <td>54961</td>\n",
       "    </tr>\n",
       "    <tr>\n",
       "      <th>4</th>\n",
       "      <td>4</td>\n",
       "      <td>32</td>\n",
       "      <td>male</td>\n",
       "      <td>no</td>\n",
       "      <td>northwest</td>\n",
       "      <td>9.63</td>\n",
       "      <td>0</td>\n",
       "      <td>9667</td>\n",
       "    </tr>\n",
       "  </tbody>\n",
       "</table>\n",
       "</div>"
      ],
      "text/plain": [
       "   Unnamed: 0  age     sex smoker     region  viral load  severity level  \\\n",
       "0           0   19  female    yes  southwest        9.30               0   \n",
       "1           1   18    male     no  southeast       11.26               1   \n",
       "2           2   28    male     no  southeast       11.00               3   \n",
       "3           3   33    male     no  northwest        7.57               0   \n",
       "4           4   32    male     no  northwest        9.63               0   \n",
       "\n",
       "   hospitalization charges  \n",
       "0                    42212  \n",
       "1                     4314  \n",
       "2                    11124  \n",
       "3                    54961  \n",
       "4                     9667  "
      ]
     },
     "execution_count": 2,
     "metadata": {},
     "output_type": "execute_result"
    }
   ],
   "source": [
    "#Importing the Dataset\n",
    "df=pd.read_csv('https://d2beiqkhq929f0.cloudfront.net/public_assets/assets/000/001/681/original/scaler_apollo_hospitals.csv')\n",
    "df.head()"
   ]
  },
  {
   "cell_type": "code",
   "execution_count": 3,
   "id": "660ae216",
   "metadata": {},
   "outputs": [
    {
     "data": {
      "text/html": [
       "<div>\n",
       "<style scoped>\n",
       "    .dataframe tbody tr th:only-of-type {\n",
       "        vertical-align: middle;\n",
       "    }\n",
       "\n",
       "    .dataframe tbody tr th {\n",
       "        vertical-align: top;\n",
       "    }\n",
       "\n",
       "    .dataframe thead th {\n",
       "        text-align: right;\n",
       "    }\n",
       "</style>\n",
       "<table border=\"1\" class=\"dataframe\">\n",
       "  <thead>\n",
       "    <tr style=\"text-align: right;\">\n",
       "      <th></th>\n",
       "      <th>age</th>\n",
       "      <th>sex</th>\n",
       "      <th>smoker</th>\n",
       "      <th>region</th>\n",
       "      <th>viral load</th>\n",
       "      <th>severity level</th>\n",
       "      <th>hospitalization charges</th>\n",
       "    </tr>\n",
       "  </thead>\n",
       "  <tbody>\n",
       "    <tr>\n",
       "      <th>0</th>\n",
       "      <td>19</td>\n",
       "      <td>female</td>\n",
       "      <td>yes</td>\n",
       "      <td>southwest</td>\n",
       "      <td>9.30</td>\n",
       "      <td>0</td>\n",
       "      <td>42212</td>\n",
       "    </tr>\n",
       "    <tr>\n",
       "      <th>1</th>\n",
       "      <td>18</td>\n",
       "      <td>male</td>\n",
       "      <td>no</td>\n",
       "      <td>southeast</td>\n",
       "      <td>11.26</td>\n",
       "      <td>1</td>\n",
       "      <td>4314</td>\n",
       "    </tr>\n",
       "    <tr>\n",
       "      <th>2</th>\n",
       "      <td>28</td>\n",
       "      <td>male</td>\n",
       "      <td>no</td>\n",
       "      <td>southeast</td>\n",
       "      <td>11.00</td>\n",
       "      <td>3</td>\n",
       "      <td>11124</td>\n",
       "    </tr>\n",
       "    <tr>\n",
       "      <th>3</th>\n",
       "      <td>33</td>\n",
       "      <td>male</td>\n",
       "      <td>no</td>\n",
       "      <td>northwest</td>\n",
       "      <td>7.57</td>\n",
       "      <td>0</td>\n",
       "      <td>54961</td>\n",
       "    </tr>\n",
       "    <tr>\n",
       "      <th>4</th>\n",
       "      <td>32</td>\n",
       "      <td>male</td>\n",
       "      <td>no</td>\n",
       "      <td>northwest</td>\n",
       "      <td>9.63</td>\n",
       "      <td>0</td>\n",
       "      <td>9667</td>\n",
       "    </tr>\n",
       "  </tbody>\n",
       "</table>\n",
       "</div>"
      ],
      "text/plain": [
       "   age     sex smoker     region  viral load  severity level  \\\n",
       "0   19  female    yes  southwest        9.30               0   \n",
       "1   18    male     no  southeast       11.26               1   \n",
       "2   28    male     no  southeast       11.00               3   \n",
       "3   33    male     no  northwest        7.57               0   \n",
       "4   32    male     no  northwest        9.63               0   \n",
       "\n",
       "   hospitalization charges  \n",
       "0                    42212  \n",
       "1                     4314  \n",
       "2                    11124  \n",
       "3                    54961  \n",
       "4                     9667  "
      ]
     },
     "execution_count": 3,
     "metadata": {},
     "output_type": "execute_result"
    }
   ],
   "source": [
    "#Dropping the first column\n",
    "df.drop(columns='Unnamed: 0',inplace=True)\n",
    "df.head()"
   ]
  },
  {
   "cell_type": "markdown",
   "id": "0f7216be",
   "metadata": {},
   "source": [
    "- \"Hospitalization Charges\" is the dependant variable.\n",
    "- All other columns are independent variables."
   ]
  },
  {
   "cell_type": "code",
   "execution_count": 4,
   "id": "fd94ddfe",
   "metadata": {},
   "outputs": [
    {
     "data": {
      "text/plain": [
       "(1338, 7)"
      ]
     },
     "execution_count": 4,
     "metadata": {},
     "output_type": "execute_result"
    }
   ],
   "source": [
    "#Checking the shape of the dataset\n",
    "df.shape\n",
    "#There are 1338 rows and 7 columns."
   ]
  },
  {
   "cell_type": "code",
   "execution_count": 5,
   "id": "54db68a4",
   "metadata": {},
   "outputs": [
    {
     "name": "stdout",
     "output_type": "stream",
     "text": [
      "<class 'pandas.core.frame.DataFrame'>\n",
      "RangeIndex: 1338 entries, 0 to 1337\n",
      "Data columns (total 7 columns):\n",
      " #   Column                   Non-Null Count  Dtype  \n",
      "---  ------                   --------------  -----  \n",
      " 0   age                      1338 non-null   int64  \n",
      " 1   sex                      1338 non-null   object \n",
      " 2   smoker                   1338 non-null   object \n",
      " 3   region                   1338 non-null   object \n",
      " 4   viral load               1338 non-null   float64\n",
      " 5   severity level           1338 non-null   int64  \n",
      " 6   hospitalization charges  1338 non-null   int64  \n",
      "dtypes: float64(1), int64(3), object(3)\n",
      "memory usage: 73.3+ KB\n"
     ]
    }
   ],
   "source": [
    "#Checking the data types of the different columns\n",
    "df.info()"
   ]
  },
  {
   "cell_type": "code",
   "execution_count": 6,
   "id": "5583694c",
   "metadata": {},
   "outputs": [
    {
     "data": {
      "text/plain": [
       "age                        0\n",
       "sex                        0\n",
       "smoker                     0\n",
       "region                     0\n",
       "viral load                 0\n",
       "severity level             0\n",
       "hospitalization charges    0\n",
       "dtype: int64"
      ]
     },
     "execution_count": 6,
     "metadata": {},
     "output_type": "execute_result"
    }
   ],
   "source": [
    "#Checking for null values\n",
    "df.isna().sum()\n",
    "#There are no missing values."
   ]
  },
  {
   "cell_type": "code",
   "execution_count": 7,
   "id": "b2105905",
   "metadata": {},
   "outputs": [
    {
     "name": "stdout",
     "output_type": "stream",
     "text": [
      "int64 47\n"
     ]
    }
   ],
   "source": [
    "#Checking data type and number of unique values of \"age\" columns\n",
    "print(df['age'].dtype,df['age'].nunique())"
   ]
  },
  {
   "cell_type": "code",
   "execution_count": 8,
   "id": "92267668",
   "metadata": {},
   "outputs": [
    {
     "name": "stdout",
     "output_type": "stream",
     "text": [
      "object 2\n"
     ]
    }
   ],
   "source": [
    "#Checking data type and number of unique values of \"sex\" columns\n",
    "print(df['sex'].dtype,df['sex'].nunique())"
   ]
  },
  {
   "cell_type": "code",
   "execution_count": 9,
   "id": "8c7a5aac",
   "metadata": {},
   "outputs": [
    {
     "name": "stdout",
     "output_type": "stream",
     "text": [
      "object 2\n"
     ]
    }
   ],
   "source": [
    "#Checking data type and number of unique values of \"smoker\" columns\n",
    "print(df['smoker'].dtype,df['smoker'].nunique())"
   ]
  },
  {
   "cell_type": "code",
   "execution_count": 10,
   "id": "7480d222",
   "metadata": {},
   "outputs": [
    {
     "name": "stdout",
     "output_type": "stream",
     "text": [
      "object 4\n"
     ]
    }
   ],
   "source": [
    "#Checking data type and number of unique values of \"region\" columns\n",
    "print(df['region'].dtype,df['region'].nunique())"
   ]
  },
  {
   "cell_type": "code",
   "execution_count": 11,
   "id": "7384ed11",
   "metadata": {},
   "outputs": [
    {
     "name": "stdout",
     "output_type": "stream",
     "text": [
      "float64 462\n"
     ]
    }
   ],
   "source": [
    "#Checking data type and number of unique values of \"viral load\" columns\n",
    "print(df['viral load'].dtype,df['viral load'].nunique())"
   ]
  },
  {
   "cell_type": "code",
   "execution_count": 12,
   "id": "2c4afe1d",
   "metadata": {},
   "outputs": [
    {
     "name": "stdout",
     "output_type": "stream",
     "text": [
      "int64 6\n",
      "object\n"
     ]
    }
   ],
   "source": [
    "#Checking data type and number of unique values of \"severity level\" columns\n",
    "print(df['severity level'].dtype,df['severity level'].nunique())\n",
    "\n",
    "#This is actually a categorical data, but the data type is integer. Therefore changing it to object data type.\n",
    "df['severity level']=df['severity level'].astype('object')\n",
    "\n",
    "#Checking for updated data type\n",
    "print(df['severity level'].dtype)"
   ]
  },
  {
   "cell_type": "code",
   "execution_count": 13,
   "id": "bcf92758",
   "metadata": {},
   "outputs": [
    {
     "name": "stdout",
     "output_type": "stream",
     "text": [
      "int64 1320\n"
     ]
    }
   ],
   "source": [
    "#Checking data type and number of unique values of \"hospitalization charges\" columns\n",
    "print(df['hospitalization charges'].dtype,df['hospitalization charges'].nunique())"
   ]
  },
  {
   "cell_type": "code",
   "execution_count": 14,
   "id": "5cca00ee",
   "metadata": {},
   "outputs": [
    {
     "data": {
      "text/html": [
       "<div>\n",
       "<style scoped>\n",
       "    .dataframe tbody tr th:only-of-type {\n",
       "        vertical-align: middle;\n",
       "    }\n",
       "\n",
       "    .dataframe tbody tr th {\n",
       "        vertical-align: top;\n",
       "    }\n",
       "\n",
       "    .dataframe thead th {\n",
       "        text-align: right;\n",
       "    }\n",
       "</style>\n",
       "<table border=\"1\" class=\"dataframe\">\n",
       "  <thead>\n",
       "    <tr style=\"text-align: right;\">\n",
       "      <th></th>\n",
       "      <th>age</th>\n",
       "      <th>viral load</th>\n",
       "      <th>hospitalization charges</th>\n",
       "    </tr>\n",
       "  </thead>\n",
       "  <tbody>\n",
       "    <tr>\n",
       "      <th>count</th>\n",
       "      <td>1338.000000</td>\n",
       "      <td>1338.000000</td>\n",
       "      <td>1338.000000</td>\n",
       "    </tr>\n",
       "    <tr>\n",
       "      <th>mean</th>\n",
       "      <td>39.207025</td>\n",
       "      <td>10.221233</td>\n",
       "      <td>33176.058296</td>\n",
       "    </tr>\n",
       "    <tr>\n",
       "      <th>std</th>\n",
       "      <td>14.049960</td>\n",
       "      <td>2.032796</td>\n",
       "      <td>30275.029296</td>\n",
       "    </tr>\n",
       "    <tr>\n",
       "      <th>min</th>\n",
       "      <td>18.000000</td>\n",
       "      <td>5.320000</td>\n",
       "      <td>2805.000000</td>\n",
       "    </tr>\n",
       "    <tr>\n",
       "      <th>25%</th>\n",
       "      <td>27.000000</td>\n",
       "      <td>8.762500</td>\n",
       "      <td>11851.000000</td>\n",
       "    </tr>\n",
       "    <tr>\n",
       "      <th>50%</th>\n",
       "      <td>39.000000</td>\n",
       "      <td>10.130000</td>\n",
       "      <td>23455.000000</td>\n",
       "    </tr>\n",
       "    <tr>\n",
       "      <th>75%</th>\n",
       "      <td>51.000000</td>\n",
       "      <td>11.567500</td>\n",
       "      <td>41599.500000</td>\n",
       "    </tr>\n",
       "    <tr>\n",
       "      <th>max</th>\n",
       "      <td>64.000000</td>\n",
       "      <td>17.710000</td>\n",
       "      <td>159426.000000</td>\n",
       "    </tr>\n",
       "  </tbody>\n",
       "</table>\n",
       "</div>"
      ],
      "text/plain": [
       "               age   viral load  hospitalization charges\n",
       "count  1338.000000  1338.000000              1338.000000\n",
       "mean     39.207025    10.221233             33176.058296\n",
       "std      14.049960     2.032796             30275.029296\n",
       "min      18.000000     5.320000              2805.000000\n",
       "25%      27.000000     8.762500             11851.000000\n",
       "50%      39.000000    10.130000             23455.000000\n",
       "75%      51.000000    11.567500             41599.500000\n",
       "max      64.000000    17.710000            159426.000000"
      ]
     },
     "execution_count": 14,
     "metadata": {},
     "output_type": "execute_result"
    }
   ],
   "source": [
    "#Checking the statistical summary of numerical columns\n",
    "df.describe(include='number')"
   ]
  },
  {
   "cell_type": "markdown",
   "id": "b7abe0fa",
   "metadata": {},
   "source": [
    "From the statisitical summary of numerical columns, we observe that :\n",
    "- The mean and median age of the people in the given dataset is almost the same. The youngest person is 18 years old, and the eldest person is 64 years old.\n",
    "- The mean and median viral load of the people in the given dataset is almost the same. The minimum viral load in a person is 5.32 and the maximum viral load in a person is 17.71.\n",
    "- The mean hospitalization charges is a lot more than the median hospitalization charges. May be the hospitalization charges column is right skewed. The least hospitalization charges that any person has spent is 2805 and maximum is 159426."
   ]
  },
  {
   "cell_type": "code",
   "execution_count": 15,
   "id": "59f0943b",
   "metadata": {},
   "outputs": [
    {
     "data": {
      "text/html": [
       "<div>\n",
       "<style scoped>\n",
       "    .dataframe tbody tr th:only-of-type {\n",
       "        vertical-align: middle;\n",
       "    }\n",
       "\n",
       "    .dataframe tbody tr th {\n",
       "        vertical-align: top;\n",
       "    }\n",
       "\n",
       "    .dataframe thead th {\n",
       "        text-align: right;\n",
       "    }\n",
       "</style>\n",
       "<table border=\"1\" class=\"dataframe\">\n",
       "  <thead>\n",
       "    <tr style=\"text-align: right;\">\n",
       "      <th></th>\n",
       "      <th>sex</th>\n",
       "      <th>smoker</th>\n",
       "      <th>region</th>\n",
       "      <th>severity level</th>\n",
       "    </tr>\n",
       "  </thead>\n",
       "  <tbody>\n",
       "    <tr>\n",
       "      <th>count</th>\n",
       "      <td>1338</td>\n",
       "      <td>1338</td>\n",
       "      <td>1338</td>\n",
       "      <td>1338</td>\n",
       "    </tr>\n",
       "    <tr>\n",
       "      <th>unique</th>\n",
       "      <td>2</td>\n",
       "      <td>2</td>\n",
       "      <td>4</td>\n",
       "      <td>6</td>\n",
       "    </tr>\n",
       "    <tr>\n",
       "      <th>top</th>\n",
       "      <td>male</td>\n",
       "      <td>no</td>\n",
       "      <td>southeast</td>\n",
       "      <td>0</td>\n",
       "    </tr>\n",
       "    <tr>\n",
       "      <th>freq</th>\n",
       "      <td>676</td>\n",
       "      <td>1064</td>\n",
       "      <td>364</td>\n",
       "      <td>574</td>\n",
       "    </tr>\n",
       "  </tbody>\n",
       "</table>\n",
       "</div>"
      ],
      "text/plain": [
       "         sex smoker     region  severity level\n",
       "count   1338   1338       1338            1338\n",
       "unique     2      2          4               6\n",
       "top     male     no  southeast               0\n",
       "freq     676   1064        364             574"
      ]
     },
     "execution_count": 15,
     "metadata": {},
     "output_type": "execute_result"
    }
   ],
   "source": [
    "#Checking the statistical summary of object columns\n",
    "df.describe(include='object')"
   ]
  },
  {
   "cell_type": "markdown",
   "id": "83a2ecd1",
   "metadata": {},
   "source": [
    "From the statisitical summary of categorical columns, we observe that :\n",
    "- Sex column has 2 unique values, and the most occuring value is \"male\" which occured 676 times.\n",
    "- Smoker column has 2 unique values, and the most occuring value is \"no\" which occured 1064 times.\n",
    "- Region column has 4 unique values, and the most occuring value is \"southeast\" which occured 364 times.\n",
    "- Severity Level column has 6 unique values, and the most occuring value is \"0\" which occured 574 times."
   ]
  },
  {
   "cell_type": "code",
   "execution_count": 16,
   "id": "3d91a086",
   "metadata": {},
   "outputs": [
    {
     "data": {
      "image/png": "[encoded data removed]",
      "text/plain": [
       "<Figure size 432x432 with 2 Axes>"
      ]
     },
     "metadata": {
      "needs_background": "light"
     },
     "output_type": "display_data"
    }
   ],
   "source": [
    "#Checking the correlation between the different columns\n",
    "plt.figure(figsize=(6,6))\n",
    "sns.heatmap(df.corr(),annot=True,cmap='Blues')\n",
    "plt.show()\n",
    "#We observe that the highest correlation is between age and hospitalization charge, but a correlation of 0.3 is still weak."
   ]
  },
  {
   "cell_type": "code",
   "execution_count": null,
   "id": "a2072206",
   "metadata": {},
   "outputs": [],
   "source": []
  },
  {
   "cell_type": "markdown",
   "id": "5024ec0b",
   "metadata": {},
   "source": [
    "## Univariate Analysis"
   ]
  },
  {
   "cell_type": "markdown",
   "id": "eeb23cff",
   "metadata": {},
   "source": [
    "- ####  \"Age\" Column"
   ]
  },
  {
   "cell_type": "code",
   "execution_count": 17,
   "id": "fbc601e9",
   "metadata": {},
   "outputs": [
    {
     "data": {
      "image/png": "[encoded data removed]",
      "text/plain": [
       "<Figure size 432x432 with 1 Axes>"
      ]
     },
     "metadata": {
      "needs_background": "light"
     },
     "output_type": "display_data"
    }
   ],
   "source": [
    "plt.figure(figsize=(6,6))\n",
    "sns.histplot(data=df,x='age',kde=True)\n",
    "plt.xticks(np.arange(18,65,4))\n",
    "plt.show()\n",
    "#The peak of the histogram is for the age range 18-22."
   ]
  },
  {
   "cell_type": "code",
   "execution_count": 18,
   "id": "ca711c51",
   "metadata": {},
   "outputs": [
    {
     "data": {
      "image/png": "[encoded data removed]",
      "text/plain": [
       "<Figure size 432x432 with 1 Axes>"
      ]
     },
     "metadata": {
      "needs_background": "light"
     },
     "output_type": "display_data"
    }
   ],
   "source": [
    "plt.figure(figsize=(6,6))\n",
    "sns.boxplot(data=df,x='age')\n",
    "plt.show()\n",
    "#There are no outliers in age column."
   ]
  },
  {
   "cell_type": "markdown",
   "id": "d54cfff1",
   "metadata": {},
   "source": [
    "- #### \"Sex\" Column"
   ]
  },
  {
   "cell_type": "code",
   "execution_count": 19,
   "id": "cbb1c824",
   "metadata": {},
   "outputs": [
    {
     "data": {
      "image/png": "[encoded data removed]",
      "text/plain": [
       "<Figure size 432x432 with 1 Axes>"
      ]
     },
     "metadata": {
      "needs_background": "light"
     },
     "output_type": "display_data"
    }
   ],
   "source": [
    "plt.figure(figsize=(6,6))\n",
    "sns.countplot(data=df,x='sex')\n",
    "plt.show()\n",
    "#The number of male and female are almost same."
   ]
  },
  {
   "cell_type": "code",
   "execution_count": 20,
   "id": "2f8901cb",
   "metadata": {},
   "outputs": [
    {
     "data": {
      "text/plain": [
       "male      0.505232\n",
       "female    0.494768\n",
       "Name: sex, dtype: float64"
      ]
     },
     "execution_count": 20,
     "metadata": {},
     "output_type": "execute_result"
    }
   ],
   "source": [
    "df['sex'].value_counts(normalize=True)\n",
    "#The number of male and female are almost same."
   ]
  },
  {
   "cell_type": "markdown",
   "id": "b35f0c77",
   "metadata": {},
   "source": [
    "- #### \"Smoker\" Column"
   ]
  },
  {
   "cell_type": "code",
   "execution_count": 21,
   "id": "f34db371",
   "metadata": {},
   "outputs": [
    {
     "data": {
      "image/png": "[encoded data removed]",
      "text/plain": [
       "<Figure size 432x432 with 1 Axes>"
      ]
     },
     "metadata": {
      "needs_background": "light"
     },
     "output_type": "display_data"
    }
   ],
   "source": [
    "plt.figure(figsize=(6,6))\n",
    "sns.countplot(data=df,x='smoker')\n",
    "plt.show()\n",
    "#The number of non-smokers are quite a lot in comparison to smokers."
   ]
  },
  {
   "cell_type": "code",
   "execution_count": 22,
   "id": "5f5afdbe",
   "metadata": {},
   "outputs": [
    {
     "data": {
      "text/plain": [
       "no     0.795217\n",
       "yes    0.204783\n",
       "Name: smoker, dtype: float64"
      ]
     },
     "execution_count": 22,
     "metadata": {},
     "output_type": "execute_result"
    }
   ],
   "source": [
    "df['smoker'].value_counts(normalize=True)\n",
    "#The ratio of non-smokers to smokers is 4:1."
   ]
  },
  {
   "cell_type": "markdown",
   "id": "8620f69b",
   "metadata": {},
   "source": [
    "- #### \"Region\" Column"
   ]
  },
  {
   "cell_type": "code",
   "execution_count": 23,
   "id": "886d39e0",
   "metadata": {},
   "outputs": [
    {
     "data": {
      "image/png": "[encoded data removed]",
      "text/plain": [
       "<Figure size 432x432 with 1 Axes>"
      ]
     },
     "metadata": {
      "needs_background": "light"
     },
     "output_type": "display_data"
    }
   ],
   "source": [
    "plt.figure(figsize=(6,6))\n",
    "sns.countplot(data=df,x='region')\n",
    "plt.show()\n",
    "#The number of people in the 4 regions are almost the same."
   ]
  },
  {
   "cell_type": "code",
   "execution_count": 24,
   "id": "17035383",
   "metadata": {},
   "outputs": [
    {
     "data": {
      "text/plain": [
       "southeast    0.272048\n",
       "southwest    0.242900\n",
       "northwest    0.242900\n",
       "northeast    0.242152\n",
       "Name: region, dtype: float64"
      ]
     },
     "execution_count": 24,
     "metadata": {},
     "output_type": "execute_result"
    }
   ],
   "source": [
    "df['region'].value_counts(normalize=True)\n",
    "#The number of people in the 4 regions are almost the same."
   ]
  },
  {
   "cell_type": "markdown",
   "id": "d62907d8",
   "metadata": {},
   "source": [
    "- #### \"Viral Load\" Column"
   ]
  },
  {
   "cell_type": "code",
   "execution_count": 25,
   "id": "e7961d33",
   "metadata": {},
   "outputs": [
    {
     "data": {
      "image/png": "[encoded data removed]",
      "text/plain": [
       "<Figure size 432x432 with 1 Axes>"
      ]
     },
     "metadata": {
      "needs_background": "light"
     },
     "output_type": "display_data"
    }
   ],
   "source": [
    "plt.figure(figsize=(6,6))\n",
    "sns.histplot(data=df,x='viral load',kde=True)\n",
    "plt.show()\n",
    "#Viral Load data look like a bell shaped curve but is a slightly right skewed."
   ]
  },
  {
   "cell_type": "code",
   "execution_count": 26,
   "id": "ef0be543",
   "metadata": {},
   "outputs": [
    {
     "data": {
      "image/png": "[encoded data removed]",
      "text/plain": [
       "<Figure size 432x432 with 1 Axes>"
      ]
     },
     "metadata": {
      "needs_background": "light"
     },
     "output_type": "display_data"
    },
    {
     "data": {
      "image/png": "[encoded data removed]",
      "text/plain": [
       "<Figure size 432x432 with 1 Axes>"
      ]
     },
     "metadata": {
      "needs_background": "light"
     },
     "output_type": "display_data"
    }
   ],
   "source": [
    "plt.figure(figsize=(6,6))\n",
    "sns.boxplot(data=df,x='viral load')\n",
    "plt.show()\n",
    "#There are outliers in Viral Load column. Therefore we need to remove them.\n",
    "\n",
    "q75,q25=np.percentile(df['viral load'],75),np.percentile(df['viral load'],25)\n",
    "df=df[df['viral load']<(q75 + (q75-q25)*1.5)]\n",
    "\n",
    "plt.figure(figsize=(6,6))\n",
    "sns.boxplot(data=df,x='viral load')\n",
    "plt.show()\n",
    "#All the outliers have been removed."
   ]
  },
  {
   "cell_type": "markdown",
   "id": "7eba2085",
   "metadata": {},
   "source": [
    "- #### \"Severity Level\" Column"
   ]
  },
  {
   "cell_type": "code",
   "execution_count": 27,
   "id": "1f13355c",
   "metadata": {},
   "outputs": [
    {
     "data": {
      "image/png": "[encoded data removed]",
      "text/plain": [
       "<Figure size 432x432 with 1 Axes>"
      ]
     },
     "metadata": {
      "needs_background": "light"
     },
     "output_type": "display_data"
    }
   ],
   "source": [
    "plt.figure(figsize=(6,6))\n",
    "sns.countplot(data=df,x='severity level')\n",
    "plt.show()\n",
    "#We can observe that lesser the severity, more the number of people are there in the given dataset."
   ]
  },
  {
   "cell_type": "code",
   "execution_count": 28,
   "id": "c9c070d9",
   "metadata": {},
   "outputs": [
    {
     "data": {
      "text/plain": [
       "0    0.429646\n",
       "1    0.240783\n",
       "2    0.179082\n",
       "3    0.118134\n",
       "4    0.018811\n",
       "5    0.013544\n",
       "Name: severity level, dtype: float64"
      ]
     },
     "execution_count": 28,
     "metadata": {},
     "output_type": "execute_result"
    }
   ],
   "source": [
    "df['severity level'].value_counts(normalize=True)\n",
    "#We can observe that lesser the severity, more the number of people are there in the given dataset.."
   ]
  },
  {
   "cell_type": "markdown",
   "id": "1cbf9fa4",
   "metadata": {},
   "source": [
    "- #### \"Hospitalization Charges\" Column"
   ]
  },
  {
   "cell_type": "code",
   "execution_count": 29,
   "id": "8f64251b",
   "metadata": {},
   "outputs": [
    {
     "data": {
      "image/png": "[encoded data removed]",
      "text/plain": [
       "<Figure size 432x432 with 1 Axes>"
      ]
     },
     "metadata": {
      "needs_background": "light"
     },
     "output_type": "display_data"
    }
   ],
   "source": [
    "plt.figure(figsize=(6,6))\n",
    "sns.histplot(data=df,x='hospitalization charges',kde=True)\n",
    "plt.show()\n",
    "#Hospitalization charges data is right skewed."
   ]
  },
  {
   "cell_type": "code",
   "execution_count": null,
   "id": "c1692c9b",
   "metadata": {},
   "outputs": [],
   "source": []
  },
  {
   "cell_type": "markdown",
   "id": "6ac901b9",
   "metadata": {},
   "source": [
    "## Bivariate Analysis"
   ]
  },
  {
   "cell_type": "markdown",
   "id": "0cd91ac7",
   "metadata": {},
   "source": [
    "- #### \"Age and Hospitalization Charges\" Columns"
   ]
  },
  {
   "cell_type": "code",
   "execution_count": 30,
   "id": "d6cd0e8c",
   "metadata": {},
   "outputs": [
    {
     "data": {
      "image/png": "[encoded data removed]",
      "text/plain": [
       "<Figure size 432x432 with 1 Axes>"
      ]
     },
     "metadata": {
      "needs_background": "light"
     },
     "output_type": "display_data"
    }
   ],
   "source": [
    "plt.figure(figsize=(6,6))\n",
    "sns.scatterplot(data=df,x='age',y='hospitalization charges')\n",
    "plt.show()\n",
    "#We do not see a distinct relationship between age and hospitalization charges.\n",
    "#For a single value of age, there are multiple values of hospitalization charges."
   ]
  },
  {
   "cell_type": "markdown",
   "id": "9fecf7b2",
   "metadata": {},
   "source": [
    "- #### \"Sex and Hospitalization Charges\" Columns"
   ]
  },
  {
   "cell_type": "code",
   "execution_count": 31,
   "id": "a4d55239",
   "metadata": {},
   "outputs": [
    {
     "data": {
      "image/png": "[encoded data removed]",
      "text/plain": [
       "<Figure size 432x432 with 1 Axes>"
      ]
     },
     "metadata": {
      "needs_background": "light"
     },
     "output_type": "display_data"
    }
   ],
   "source": [
    "plt.figure(figsize=(6,6))\n",
    "sns.boxplot(data=df,x='sex',y='hospitalization charges')\n",
    "plt.show()\n",
    "#We observe that there the median hospitalization charges are almost same for both male and female.\n",
    "#There are a few outliers both for male and female."
   ]
  },
  {
   "cell_type": "markdown",
   "id": "76effa34",
   "metadata": {},
   "source": [
    "- #### \"Smoker and Hospitalization Charges\" Columns"
   ]
  },
  {
   "cell_type": "code",
   "execution_count": 32,
   "id": "081b4fe3",
   "metadata": {},
   "outputs": [
    {
     "data": {
      "image/png": "[encoded data removed]",
      "text/plain": [
       "<Figure size 432x432 with 1 Axes>"
      ]
     },
     "metadata": {
      "needs_background": "light"
     },
     "output_type": "display_data"
    }
   ],
   "source": [
    "plt.figure(figsize=(6,6))\n",
    "sns.boxplot(data=df,x='smoker',y='hospitalization charges')\n",
    "plt.show()\n",
    "#We observe that there the median hospitalization charges is a lot greater for smokers in comparison to non smokers.\n",
    "#However there are a few outliers for non-smokers."
   ]
  },
  {
   "cell_type": "markdown",
   "id": "aaa05d78",
   "metadata": {},
   "source": [
    "- #### \"Region and Hospitalization Charges\" Columns"
   ]
  },
  {
   "cell_type": "code",
   "execution_count": 33,
   "id": "3d94614e",
   "metadata": {},
   "outputs": [
    {
     "data": {
      "image/png": "[encoded data removed]",
      "text/plain": [
       "<Figure size 432x432 with 1 Axes>"
      ]
     },
     "metadata": {
      "needs_background": "light"
     },
     "output_type": "display_data"
    }
   ],
   "source": [
    "plt.figure(figsize=(6,6))\n",
    "sns.boxplot(data=df,x='region',y='hospitalization charges')\n",
    "plt.show()\n",
    "#We observe that there the median hospitalization charges are almost same for the different regions.\n",
    "#There are a few outliers for all the regions."
   ]
  },
  {
   "cell_type": "markdown",
   "id": "b480199d",
   "metadata": {},
   "source": [
    "- #### \"Viral Load and Hospitalization Charges\" Columns"
   ]
  },
  {
   "cell_type": "code",
   "execution_count": 34,
   "id": "fda51520",
   "metadata": {},
   "outputs": [
    {
     "data": {
      "image/png": "[encoded data removed]",
      "text/plain": [
       "<Figure size 432x432 with 1 Axes>"
      ]
     },
     "metadata": {
      "needs_background": "light"
     },
     "output_type": "display_data"
    }
   ],
   "source": [
    "plt.figure(figsize=(6,6))\n",
    "sns.scatterplot(data=df,x='viral load',y='hospitalization charges')\n",
    "plt.show()\n",
    "#We do not see a distinct relationship between viral load and hospitalization charges."
   ]
  },
  {
   "cell_type": "markdown",
   "id": "252cbc07",
   "metadata": {},
   "source": [
    "- #### \"Severity Level and Hospitalization Charges\" Columns"
   ]
  },
  {
   "cell_type": "code",
   "execution_count": 35,
   "id": "d4328481",
   "metadata": {},
   "outputs": [
    {
     "data": {
      "image/png": "[encoded data removed]",
      "text/plain": [
       "<Figure size 432x432 with 1 Axes>"
      ]
     },
     "metadata": {
      "needs_background": "light"
     },
     "output_type": "display_data"
    }
   ],
   "source": [
    "plt.figure(figsize=(6,6))\n",
    "sns.boxplot(data=df,x='severity level',y='hospitalization charges')\n",
    "plt.show()\n",
    "#We observe that the median hospitalization charges are almost same for severity levels."
   ]
  },
  {
   "cell_type": "markdown",
   "id": "fc9bf856",
   "metadata": {},
   "source": [
    "- #### \"Sex and Smoker\" Columns"
   ]
  },
  {
   "cell_type": "code",
   "execution_count": 36,
   "id": "b049a104",
   "metadata": {},
   "outputs": [
    {
     "data": {
      "image/png": "[encoded data removed]",
      "text/plain": [
       "<Figure size 432x432 with 1 Axes>"
      ]
     },
     "metadata": {
      "needs_background": "light"
     },
     "output_type": "display_data"
    }
   ],
   "source": [
    "plt.figure(figsize=(6,6))\n",
    "sns.countplot(data=df,x='sex',hue='smoker')\n",
    "plt.show()\n",
    "#We observe that irrespective of the gender, there are more non-smokers in comparison to smokers."
   ]
  },
  {
   "cell_type": "code",
   "execution_count": 37,
   "id": "f5ea0295",
   "metadata": {},
   "outputs": [
    {
     "data": {
      "text/html": [
       "<div>\n",
       "<style scoped>\n",
       "    .dataframe tbody tr th:only-of-type {\n",
       "        vertical-align: middle;\n",
       "    }\n",
       "\n",
       "    .dataframe tbody tr th {\n",
       "        vertical-align: top;\n",
       "    }\n",
       "\n",
       "    .dataframe thead th {\n",
       "        text-align: right;\n",
       "    }\n",
       "</style>\n",
       "<table border=\"1\" class=\"dataframe\">\n",
       "  <thead>\n",
       "    <tr style=\"text-align: right;\">\n",
       "      <th>smoker</th>\n",
       "      <th>no</th>\n",
       "      <th>yes</th>\n",
       "    </tr>\n",
       "    <tr>\n",
       "      <th>sex</th>\n",
       "      <th></th>\n",
       "      <th></th>\n",
       "    </tr>\n",
       "  </thead>\n",
       "  <tbody>\n",
       "    <tr>\n",
       "      <th>female</th>\n",
       "      <td>0.828528</td>\n",
       "      <td>0.171472</td>\n",
       "    </tr>\n",
       "    <tr>\n",
       "      <th>male</th>\n",
       "      <td>0.764179</td>\n",
       "      <td>0.235821</td>\n",
       "    </tr>\n",
       "  </tbody>\n",
       "</table>\n",
       "</div>"
      ],
      "text/plain": [
       "smoker        no       yes\n",
       "sex                       \n",
       "female  0.828528  0.171472\n",
       "male    0.764179  0.235821"
      ]
     },
     "execution_count": 37,
     "metadata": {},
     "output_type": "execute_result"
    }
   ],
   "source": [
    "pd.crosstab(df['sex'],df['smoker'],normalize='index')\n",
    "#We observe that irrespective of the gender, there are more non-smokers in comparison to smokers."
   ]
  },
  {
   "cell_type": "markdown",
   "id": "a130d8d1",
   "metadata": {},
   "source": [
    "- #### \"Severity Level and Smoker\" Columns"
   ]
  },
  {
   "cell_type": "code",
   "execution_count": 38,
   "id": "0891da00",
   "metadata": {},
   "outputs": [
    {
     "data": {
      "image/png": "[encoded data removed]",
      "text/plain": [
       "<Figure size 432x432 with 1 Axes>"
      ]
     },
     "metadata": {
      "needs_background": "light"
     },
     "output_type": "display_data"
    }
   ],
   "source": [
    "plt.figure(figsize=(6,6))\n",
    "sns.countplot(data=df,x='smoker',hue='severity level')\n",
    "plt.show()\n",
    "#We observe that irrepective of smoker status, the order of the severity level is the same for both smokers and non smokers."
   ]
  },
  {
   "cell_type": "code",
   "execution_count": 39,
   "id": "6a1b6acc",
   "metadata": {},
   "outputs": [
    {
     "data": {
      "text/html": [
       "<div>\n",
       "<style scoped>\n",
       "    .dataframe tbody tr th:only-of-type {\n",
       "        vertical-align: middle;\n",
       "    }\n",
       "\n",
       "    .dataframe tbody tr th {\n",
       "        vertical-align: top;\n",
       "    }\n",
       "\n",
       "    .dataframe thead th {\n",
       "        text-align: right;\n",
       "    }\n",
       "</style>\n",
       "<table border=\"1\" class=\"dataframe\">\n",
       "  <thead>\n",
       "    <tr style=\"text-align: right;\">\n",
       "      <th>severity level</th>\n",
       "      <th>0</th>\n",
       "      <th>1</th>\n",
       "      <th>2</th>\n",
       "      <th>3</th>\n",
       "      <th>4</th>\n",
       "      <th>5</th>\n",
       "    </tr>\n",
       "    <tr>\n",
       "      <th>smoker</th>\n",
       "      <th></th>\n",
       "      <th></th>\n",
       "      <th></th>\n",
       "      <th></th>\n",
       "      <th></th>\n",
       "      <th></th>\n",
       "    </tr>\n",
       "  </thead>\n",
       "  <tbody>\n",
       "    <tr>\n",
       "      <th>no</th>\n",
       "      <td>0.431947</td>\n",
       "      <td>0.245747</td>\n",
       "      <td>0.173913</td>\n",
       "      <td>0.111531</td>\n",
       "      <td>0.020794</td>\n",
       "      <td>0.016068</td>\n",
       "    </tr>\n",
       "    <tr>\n",
       "      <th>yes</th>\n",
       "      <td>0.420664</td>\n",
       "      <td>0.221402</td>\n",
       "      <td>0.199262</td>\n",
       "      <td>0.143911</td>\n",
       "      <td>0.011070</td>\n",
       "      <td>0.003690</td>\n",
       "    </tr>\n",
       "  </tbody>\n",
       "</table>\n",
       "</div>"
      ],
      "text/plain": [
       "severity level         0         1         2         3         4         5\n",
       "smoker                                                                    \n",
       "no              0.431947  0.245747  0.173913  0.111531  0.020794  0.016068\n",
       "yes             0.420664  0.221402  0.199262  0.143911  0.011070  0.003690"
      ]
     },
     "execution_count": 39,
     "metadata": {},
     "output_type": "execute_result"
    }
   ],
   "source": [
    "pd.crosstab(df['smoker'],df['severity level'],normalize='index')\n",
    "#We observe that irrepective of smoker status, the order of the severity level is the same for both smokers and non smokers."
   ]
  },
  {
   "cell_type": "markdown",
   "id": "98429d16",
   "metadata": {},
   "source": [
    "- #### \"Age and Smoker\" Column"
   ]
  },
  {
   "cell_type": "code",
   "execution_count": 40,
   "id": "c6eaeea9",
   "metadata": {},
   "outputs": [
    {
     "data": {
      "image/png": "[encoded data removed]",
      "text/plain": [
       "<Figure size 432x432 with 1 Axes>"
      ]
     },
     "metadata": {
      "needs_background": "light"
     },
     "output_type": "display_data"
    }
   ],
   "source": [
    "plt.figure(figsize=(6,6))\n",
    "sns.boxplot(data=df,x='smoker',y='age')\n",
    "plt.show()\n",
    "#We observe that non-smokers have a greater median age than smokers."
   ]
  },
  {
   "cell_type": "markdown",
   "id": "0d6fd600",
   "metadata": {},
   "source": [
    "- #### \"Age and Viral Load\" Column"
   ]
  },
  {
   "cell_type": "code",
   "execution_count": 41,
   "id": "e2253ca4",
   "metadata": {},
   "outputs": [
    {
     "data": {
      "image/png": "[encoded data removed]",
      "text/plain": [
       "<Figure size 432x432 with 1 Axes>"
      ]
     },
     "metadata": {
      "needs_background": "light"
     },
     "output_type": "display_data"
    }
   ],
   "source": [
    "plt.figure(figsize=(6,6))\n",
    "sns.scatterplot(data=df,x='age',y='viral load')\n",
    "plt.show()\n",
    "# We do not see any distinct relationship between age and viral load."
   ]
  },
  {
   "cell_type": "markdown",
   "id": "6faa48b8",
   "metadata": {},
   "source": [
    "- #### \"Sex and Viral Load\" Column"
   ]
  },
  {
   "cell_type": "code",
   "execution_count": 42,
   "id": "56f26b56",
   "metadata": {},
   "outputs": [
    {
     "data": {
      "image/png": "[encoded data removed]",
      "text/plain": [
       "<Figure size 432x432 with 1 Axes>"
      ]
     },
     "metadata": {
      "needs_background": "light"
     },
     "output_type": "display_data"
    }
   ],
   "source": [
    "plt.figure(figsize=(6,6))\n",
    "sns.boxplot(data=df,x='sex',y='viral load')\n",
    "plt.show()\n",
    "#We observe that the viral load for male and female is almost same."
   ]
  },
  {
   "cell_type": "markdown",
   "id": "8afaf84c",
   "metadata": {},
   "source": [
    "- #### \"Smoker and Viral Load\" Column"
   ]
  },
  {
   "cell_type": "code",
   "execution_count": 43,
   "id": "941f5134",
   "metadata": {},
   "outputs": [
    {
     "data": {
      "image/png": "[encoded data removed]",
      "text/plain": [
       "<Figure size 432x432 with 1 Axes>"
      ]
     },
     "metadata": {
      "needs_background": "light"
     },
     "output_type": "display_data"
    }
   ],
   "source": [
    "plt.figure(figsize=(6,6))\n",
    "sns.boxplot(data=df,x='smoker',y='viral load')\n",
    "plt.show()\n",
    "#We observe that the viral load for smokers and non-smokers is almost same."
   ]
  },
  {
   "cell_type": "markdown",
   "id": "76921710",
   "metadata": {},
   "source": [
    "- #### \"Region and Viral Load\" Column"
   ]
  },
  {
   "cell_type": "code",
   "execution_count": 44,
   "id": "f4fc88b2",
   "metadata": {},
   "outputs": [
    {
     "data": {
      "image/png": "[encoded data removed]",
      "text/plain": [
       "<Figure size 432x432 with 1 Axes>"
      ]
     },
     "metadata": {
      "needs_background": "light"
     },
     "output_type": "display_data"
    }
   ],
   "source": [
    "plt.figure(figsize=(6,6))\n",
    "sns.boxplot(data=df,x='region',y='viral load')\n",
    "plt.show()\n",
    "#We observe the median viral load is almost same for all the regions except southeast which has higher median viral load."
   ]
  },
  {
   "cell_type": "markdown",
   "id": "77a75146",
   "metadata": {},
   "source": [
    "- #### \"Region and Smoker\" Column"
   ]
  },
  {
   "cell_type": "code",
   "execution_count": 45,
   "id": "2eae143f",
   "metadata": {},
   "outputs": [
    {
     "data": {
      "image/png": "[encoded data removed]",
      "text/plain": [
       "<Figure size 432x432 with 1 Axes>"
      ]
     },
     "metadata": {
      "needs_background": "light"
     },
     "output_type": "display_data"
    }
   ],
   "source": [
    "plt.figure(figsize=(6,6))\n",
    "sns.countplot(data=df,x='region',hue='smoker')\n",
    "plt.show()\n",
    "#We observe that irrespective of the region, there are more non-smokers in comparison to smokers."
   ]
  },
  {
   "cell_type": "code",
   "execution_count": 46,
   "id": "bfcc20b0",
   "metadata": {},
   "outputs": [
    {
     "data": {
      "text/html": [
       "<div>\n",
       "<style scoped>\n",
       "    .dataframe tbody tr th:only-of-type {\n",
       "        vertical-align: middle;\n",
       "    }\n",
       "\n",
       "    .dataframe tbody tr th {\n",
       "        vertical-align: top;\n",
       "    }\n",
       "\n",
       "    .dataframe thead th {\n",
       "        text-align: right;\n",
       "    }\n",
       "</style>\n",
       "<table border=\"1\" class=\"dataframe\">\n",
       "  <thead>\n",
       "    <tr style=\"text-align: right;\">\n",
       "      <th>smoker</th>\n",
       "      <th>no</th>\n",
       "      <th>yes</th>\n",
       "    </tr>\n",
       "    <tr>\n",
       "      <th>region</th>\n",
       "      <th></th>\n",
       "      <th></th>\n",
       "    </tr>\n",
       "  </thead>\n",
       "  <tbody>\n",
       "    <tr>\n",
       "      <th>northeast</th>\n",
       "      <td>0.792570</td>\n",
       "      <td>0.207430</td>\n",
       "    </tr>\n",
       "    <tr>\n",
       "      <th>northwest</th>\n",
       "      <td>0.821538</td>\n",
       "      <td>0.178462</td>\n",
       "    </tr>\n",
       "    <tr>\n",
       "      <th>southeast</th>\n",
       "      <td>0.750700</td>\n",
       "      <td>0.249300</td>\n",
       "    </tr>\n",
       "    <tr>\n",
       "      <th>southwest</th>\n",
       "      <td>0.824074</td>\n",
       "      <td>0.175926</td>\n",
       "    </tr>\n",
       "  </tbody>\n",
       "</table>\n",
       "</div>"
      ],
      "text/plain": [
       "smoker           no       yes\n",
       "region                       \n",
       "northeast  0.792570  0.207430\n",
       "northwest  0.821538  0.178462\n",
       "southeast  0.750700  0.249300\n",
       "southwest  0.824074  0.175926"
      ]
     },
     "execution_count": 46,
     "metadata": {},
     "output_type": "execute_result"
    }
   ],
   "source": [
    "pd.crosstab(df['region'],df['smoker'],normalize='index')\n",
    "#We observe that irrespective of the region, there are more non-smokers in comparison to smokers."
   ]
  },
  {
   "cell_type": "markdown",
   "id": "ca04b5a8",
   "metadata": {},
   "source": [
    "- #### \"Severity Level and Viral Load\" Column"
   ]
  },
  {
   "cell_type": "code",
   "execution_count": 47,
   "id": "220f38c4",
   "metadata": {},
   "outputs": [
    {
     "data": {
      "image/png": "[encoded data removed]",
      "text/plain": [
       "<Figure size 432x432 with 1 Axes>"
      ]
     },
     "metadata": {
      "needs_background": "light"
     },
     "output_type": "display_data"
    }
   ],
   "source": [
    "plt.figure(figsize=(6,6))\n",
    "sns.boxplot(data=df,x='severity level',y='viral load')\n",
    "plt.show()\n",
    "#We observe that irrespective of the severity level, the median viral load is almost same."
   ]
  },
  {
   "cell_type": "code",
   "execution_count": null,
   "id": "470c6aa2",
   "metadata": {},
   "outputs": [],
   "source": []
  },
  {
   "cell_type": "markdown",
   "id": "e83db4e1",
   "metadata": {},
   "source": [
    "## Hypothesis Testing"
   ]
  },
  {
   "cell_type": "markdown",
   "id": "99457121",
   "metadata": {},
   "source": [
    "### 1) Prove (or disprove) that the hospitalization charges of people who do smoking are greater than those who don't?\n"
   ]
  },
  {
   "cell_type": "code",
   "execution_count": 48,
   "id": "884146cf",
   "metadata": {},
   "outputs": [
    {
     "data": {
      "text/plain": [
       "['yes', 'no']"
      ]
     },
     "execution_count": 48,
     "metadata": {},
     "output_type": "execute_result"
    }
   ],
   "source": [
    "#Lets check the different categories of smoker column\n",
    "df['smoker'].unique().tolist()"
   ]
  },
  {
   "cell_type": "code",
   "execution_count": 49,
   "id": "32e52d40",
   "metadata": {},
   "outputs": [],
   "source": [
    "#Lets segregate the two datasets\n",
    "smoker_yes = df.loc[df['smoker']=='yes','hospitalization charges']\n",
    "smoker_no = df.loc[df['smoker']=='no','hospitalization charges']"
   ]
  },
  {
   "cell_type": "code",
   "execution_count": 50,
   "id": "fac53bdd",
   "metadata": {},
   "outputs": [
    {
     "name": "stdout",
     "output_type": "stream",
     "text": [
      "271 1058\n"
     ]
    }
   ],
   "source": [
    "#Lets check the length of both datasets.\n",
    "print(len(smoker_yes),len(smoker_no))"
   ]
  },
  {
   "cell_type": "markdown",
   "id": "16a6435e",
   "metadata": {},
   "source": [
    "- #### We can perform a 2 sample independent right tailed t-test to verify whether the hospitalization charges of people who do smoking are greater than those who don't do smoking.\n",
    "\n",
    "#### Lets define our null and alternative hypothesis\n",
    "- Null Hypothesis : The average hospitalization charges of smokers is less than or equal to the average hospitalization charges of non-smokers, which can be represented as : Mean Hospitalization charges(Smokers) <= Mean Hospitalization charges(Smokers).\n",
    "    \n",
    "- Alternative Hypothesis : The average hospitalization charges of smokers is greater than the average hospitalization charges of non-smokers, which can be represented as : Mean Hospitalization charges(Smokers) > Mean Hospitalization charges(Smokers)."
   ]
  },
  {
   "cell_type": "markdown",
   "id": "31eda674",
   "metadata": {},
   "source": [
    "### Assumptions:\n",
    "- Population mean and sigma are finite.\n",
    "- Observations are random and finite."
   ]
  },
  {
   "cell_type": "code",
   "execution_count": 51,
   "id": "245e52c7",
   "metadata": {},
   "outputs": [
    {
     "name": "stdout",
     "output_type": "stream",
     "text": [
      "p-value for two tailed test is 1.2623407061825943e-279\n",
      "\n",
      "Conclusion - Since p-value(1.2623407061825943e-279) <= alpha(0.05)\n",
      "We reject the null hypothesis H0.\n",
      "We can conclude mean hospitalization charges of smokers is greater than non-smokers\n"
     ]
    }
   ],
   "source": [
    "alpha = 0.05\n",
    "t_value,p_value=stats.ttest_ind(smoker_yes,smoker_no,alternative='greater')\n",
    "print('p-value for two tailed test is {}'.format(p_value))\n",
    "print()\n",
    "\n",
    "if p_value<=alpha:\n",
    "    print('Conclusion - Since p-value({}) <= alpha({})'.format(p_value,alpha))\n",
    "    print('We reject the null hypothesis H0.')\n",
    "    print('We can conclude mean hospitalization charges of smokers is greater than non-smokers')\n",
    "\n",
    "else:\n",
    "    print('Conclusion - Since p-value({}) > alpha({})'.format(p_value,alpha))\n",
    "    print('We cannot reject the null hypothesis H0.')\n",
    "    print('We cannot conclude mean hospitalization charges of smokers is greater than non-smokers')"
   ]
  },
  {
   "cell_type": "code",
   "execution_count": null,
   "id": "101c9a01",
   "metadata": {},
   "outputs": [],
   "source": []
  },
  {
   "cell_type": "markdown",
   "id": "61c378c9",
   "metadata": {},
   "source": [
    "### 2) Prove (or disprove) with statistical evidence that the viral load of females is different from that of males.\n"
   ]
  },
  {
   "cell_type": "code",
   "execution_count": 52,
   "id": "1cc70eb9",
   "metadata": {},
   "outputs": [
    {
     "data": {
      "text/plain": [
       "['female', 'male']"
      ]
     },
     "execution_count": 52,
     "metadata": {},
     "output_type": "execute_result"
    }
   ],
   "source": [
    "#Lets check the different categories of sex\n",
    "df['sex'].unique().tolist()"
   ]
  },
  {
   "cell_type": "code",
   "execution_count": 53,
   "id": "3c931368",
   "metadata": {},
   "outputs": [],
   "source": [
    "#Lets segregate the two datasets\n",
    "male_viral_load = df.loc[df['sex']=='male','viral load']\n",
    "female_viral_load = df.loc[df['sex']=='female','viral load']"
   ]
  },
  {
   "cell_type": "code",
   "execution_count": 54,
   "id": "dc34cf26",
   "metadata": {},
   "outputs": [
    {
     "name": "stdout",
     "output_type": "stream",
     "text": [
      "670 659\n"
     ]
    }
   ],
   "source": [
    "#Lets check the length of both datasets.\n",
    "print(len(male_viral_load),len(female_viral_load))"
   ]
  },
  {
   "cell_type": "markdown",
   "id": "31df11d9",
   "metadata": {},
   "source": [
    "- #### We can perform a 2 sample independent 2-tailed t-test to verify whether the viral load of females is different from viral load of males.\n",
    "\n",
    "#### Lets define our null and alternative hypothesis\n",
    "- Null Hypothesis : The average viral load of females is same as average viral load of males, which can be represented as : Mean Viral Load(Males) = Mean Viral Load(Females).\n",
    "    \n",
    "- Alternative Hypothesis : The average viral load of females is different from average viral load of males, which can be represented as : Mean Viral Load(Males) != Mean Viral Load(Females)."
   ]
  },
  {
   "cell_type": "markdown",
   "id": "b2387986",
   "metadata": {},
   "source": [
    "### Assumptions:\n",
    "- Population mean and sigma are finite.\n",
    "- Observations are random and finite."
   ]
  },
  {
   "cell_type": "code",
   "execution_count": 55,
   "id": "50ac1735",
   "metadata": {},
   "outputs": [
    {
     "name": "stdout",
     "output_type": "stream",
     "text": [
      "p-value for two tailed test is 0.1457083485811941\n",
      "\n",
      "Conclusion - Since p-value(0.1457083485811941) > alpha(0.05)\n",
      "We cannot reject the null hypothesis H0.\n",
      "We cannot conclude mean female viral load is not equal to mean male viral load\n"
     ]
    }
   ],
   "source": [
    "alpha = 0.05\n",
    "t_value,p_value=stats.ttest_ind(male_viral_load,female_viral_load)\n",
    "print('p-value for two tailed test is {}'.format(p_value))\n",
    "print()\n",
    "\n",
    "if p_value<=alpha:\n",
    "    print('Conclusion - Since p-value({}) <= alpha({})'.format(p_value,alpha))\n",
    "    print('We reject the null hypothesis H0.')\n",
    "    print('We can conclude mean female viral load is not equal to mean male viral load')\n",
    "\n",
    "else:\n",
    "    print('Conclusion - Since p-value({}) > alpha({})'.format(p_value,alpha))\n",
    "    print('We cannot reject the null hypothesis H0.')\n",
    "    print('We cannot conclude mean female viral load is not equal to mean male viral load')"
   ]
  },
  {
   "cell_type": "code",
   "execution_count": null,
   "id": "e0de6021",
   "metadata": {},
   "outputs": [],
   "source": []
  },
  {
   "cell_type": "markdown",
   "id": "f0865db9",
   "metadata": {},
   "source": [
    "### 3) Is the proportion of smoking significantly different across different regions?"
   ]
  },
  {
   "cell_type": "code",
   "execution_count": 56,
   "id": "634c156d",
   "metadata": {},
   "outputs": [
    {
     "data": {
      "text/plain": [
       "['yes', 'no']"
      ]
     },
     "execution_count": 56,
     "metadata": {},
     "output_type": "execute_result"
    }
   ],
   "source": [
    "#Lets check the different categories of smoker column\n",
    "df['smoker'].unique().tolist()"
   ]
  },
  {
   "cell_type": "code",
   "execution_count": 57,
   "id": "e319f149",
   "metadata": {},
   "outputs": [
    {
     "data": {
      "text/plain": [
       "['southwest', 'southeast', 'northwest', 'northeast']"
      ]
     },
     "execution_count": 57,
     "metadata": {},
     "output_type": "execute_result"
    }
   ],
   "source": [
    "#Lets check the different categories of region column\n",
    "df['region'].unique().tolist()"
   ]
  },
  {
   "cell_type": "markdown",
   "id": "96775e6f",
   "metadata": {},
   "source": [
    "- #### We can perform Chi-Square test to determine whether proportion of smoking is significantly different across different regions.\n",
    "#### Lets define our null and alternative hypothesis\n",
    "- Null Hypothesis : Region has no effect on Smoker : Region and Smoker are independent of each other.\n",
    "- Alternative Hypothesis : Region has effect on Smoker : Region and Smoker are dependent on each other."
   ]
  },
  {
   "cell_type": "markdown",
   "id": "0efeaefb",
   "metadata": {},
   "source": [
    "### Assumptions:\n",
    "- Since it is a non-parametric test, therefore there is no assumption about the population."
   ]
  },
  {
   "cell_type": "code",
   "execution_count": 58,
   "id": "33e562ca",
   "metadata": {},
   "outputs": [
    {
     "name": "stdout",
     "output_type": "stream",
     "text": [
      "p-value for two tailed test is 0.05978076201764091\n",
      "\n",
      "Conclusion - Since p-value(0.05978076201764091) > alpha(0.05)\n",
      "We cannot reject the null hypothesis H0.\n",
      "So we cannot conclude that Region and Smoker are dependent on each other.\n"
     ]
    }
   ],
   "source": [
    "alpha = 0.05\n",
    "stat, p_value, dof, expected = stats.chi2_contingency(pd.crosstab(df['smoker'],df['region']))\n",
    "print('p-value for two tailed test is {}'.format(p_value))\n",
    "print()\n",
    "\n",
    "if p_value<=alpha:\n",
    "    print('Conclusion - Since p-value({}) <= alpha({})'.format(p_value,alpha))\n",
    "    print('We reject the null hypothesis H0.')\n",
    "    print('So we can conclude that Region and Smoker are dependent on each other.')\n",
    "\n",
    "else:\n",
    "    print('Conclusion - Since p-value({}) > alpha({})'.format(p_value,alpha))\n",
    "    print('We cannot reject the null hypothesis H0.')\n",
    "    print('So we cannot conclude that Region and Smoker are dependent on each other.')"
   ]
  },
  {
   "cell_type": "code",
   "execution_count": null,
   "id": "4dd91aa3",
   "metadata": {},
   "outputs": [],
   "source": []
  },
  {
   "cell_type": "markdown",
   "id": "af2332b3",
   "metadata": {},
   "source": [
    "### 4) Is the mean viral load of women with 0 Severity level, 1 Severity level, and 2 Severity level the same? Explain your answer with statistical evidence."
   ]
  },
  {
   "cell_type": "code",
   "execution_count": 59,
   "id": "3248b9f7",
   "metadata": {},
   "outputs": [],
   "source": [
    "#Lets segregate the three datasets\n",
    "female_severity_level_0 = df.loc[(df['sex']=='female') & (df['severity level']==0),'viral load']\n",
    "female_severity_level_1 = df.loc[(df['sex']=='female') & (df['severity level']==1),'viral load']\n",
    "female_severity_level_2 = df.loc[(df['sex']=='female') & (df['severity level']==2),'viral load']"
   ]
  },
  {
   "cell_type": "code",
   "execution_count": 60,
   "id": "9d80b990",
   "metadata": {},
   "outputs": [
    {
     "name": "stdout",
     "output_type": "stream",
     "text": [
      "288 158 117\n"
     ]
    }
   ],
   "source": [
    "#Lets check the length of three datasets.\n",
    "print(len(female_severity_level_0),len(female_severity_level_1),len(female_severity_level_2))"
   ]
  },
  {
   "cell_type": "markdown",
   "id": "9ee3c8a0",
   "metadata": {},
   "source": [
    "- #### We can perform a One-Way ANOVA test to verify whether the mean viral load of women with 0 Severity level, 1 Severity level, and 2 Severity level the same or different, since the no. of categories are more than 2.\n",
    "#### Lets define our null and alternative hypothesis\n",
    "- Null Hypothesis : The mean viral load of females with different severity level is same, which can be represented as : There is no difference between the mean number viral load for females for different severity level categories.\n",
    "- Alternative Hypothesis : The mean viral load of females with different severity level is different, which can be represented as : There is difference between the mean number viral load for females for different severity level categories."
   ]
  },
  {
   "cell_type": "markdown",
   "id": "6750fb87",
   "metadata": {},
   "source": [
    "### Assumptions:\n",
    "- Variance of each group is almost same.\n",
    "- Observations are random and finite."
   ]
  },
  {
   "cell_type": "code",
   "execution_count": 61,
   "id": "ad4eef1d",
   "metadata": {},
   "outputs": [
    {
     "name": "stdout",
     "output_type": "stream",
     "text": [
      "3.8440222499517747 3.6977404262137497 4.353871415004748\n"
     ]
    }
   ],
   "source": [
    "#Checking the variances of the three groups.\n",
    "print(np.std(female_severity_level_0)**2,np.std(female_severity_level_1)**2,np.std(female_severity_level_2)**2)\n",
    "#They are nearly same. Proceeding with hypothesis testing."
   ]
  },
  {
   "cell_type": "code",
   "execution_count": 62,
   "id": "67957df2",
   "metadata": {},
   "outputs": [
    {
     "name": "stdout",
     "output_type": "stream",
     "text": [
      "p-value for two tailed test is 0.8894553469550055\n",
      "\n",
      "Conclusion - Since p-value(0.8894553469550055) > alpha(0.05)\n",
      "We cannot reject the null hypothesis H0.\n",
      "So we cannot conclude that there is some difference in the mean viral load for different groups.\n"
     ]
    }
   ],
   "source": [
    "alpha = 0.05\n",
    "f_value, p_value = stats.f_oneway(female_severity_level_0,female_severity_level_1,female_severity_level_2)\n",
    "print('p-value for two tailed test is {}'.format(p_value))\n",
    "print()\n",
    "\n",
    "if p_value<=alpha:\n",
    "    print('Conclusion - Since p-value({}) <= alpha({})'.format(p_value,alpha))\n",
    "    print('We reject the null hypothesis H0.')\n",
    "    print('So we can conclude that there is difference in the mean viral load for different groups.')\n",
    "\n",
    "else:\n",
    "    print('Conclusion - Since p-value({}) > alpha({})'.format(p_value,alpha))\n",
    "    print('We cannot reject the null hypothesis H0.')\n",
    "    print('So we cannot conclude that there is some difference in the mean viral load for different groups.')"
   ]
  },
  {
   "cell_type": "code",
   "execution_count": null,
   "id": "41d4cc29",
   "metadata": {},
   "outputs": [],
   "source": []
  },
  {
   "cell_type": "markdown",
   "id": "6cc7eb4e",
   "metadata": {},
   "source": [
    "## Business Insights"
   ]
  },
  {
   "cell_type": "markdown",
   "id": "1ad125f9",
   "metadata": {},
   "source": [
    "- Patients of all ages from 18 to 64 are present in the dataset.\n",
    "- Equal percentage of male and female are patients.\n",
    "- Number of non-smoker is quite a lot in comparison to smokers.\n",
    "- Patients were admitted from all the 4 regions of the country in almost equal numbers.\n",
    "- Most patients had viral load in the range of [9-11]\n",
    "- Most people had severity level 0 followed by severity level 1.\n",
    "- Hospitalization charges data is right skewed, most people had hospitalization charges less than 40000.\n",
    "- Gender had no relation with hospitalization charges.\n",
    "- The mean and median hospitalization charges is far greater for smokers in comparison to non-smokers.\n",
    "- Region has no impact on hospitalization charges.\n",
    "- The hospitalization charges for different severity levels is almost same.\n",
    "- Irrespective of the gender, there are more non-smokers in comparison to smokers.\n",
    "- Irrespective of smoker status, the order of the severity level is the same for both smokers and non smokers.\n",
    "- Non-smokers have a greater median age than smokers.\n",
    "- Viral load for male and female is almost same.\n",
    "- Viral load for smokers and non-smokers is almost same.\n",
    "- The median viral load is almost same for all the regions except southeast which has higher median viral load.\n",
    "- Irrespective of the region, there are more non-smokers in comparison to smokers.\n",
    "- Irrespective of the severity level, the median viral load is almost same."
   ]
  },
  {
   "cell_type": "markdown",
   "id": "e60003b4",
   "metadata": {},
   "source": [
    "## Recommendations"
   ]
  },
  {
   "cell_type": "markdown",
   "id": "db679f98",
   "metadata": {},
   "source": [
    "- Smoking is the most important factor on which hospitalization charges is dependent. People who smoke pay more hospitalization charges in comparison to non-smokers. Therfore the hospital should try to look for more patients who are smokers, and try to advertise its medical services for smokers.\n",
    "- The hospital can appoint employees who provide knowledge about the harmful effects of smoking so that more people can get admitted to cure themselves in the hospital.\n",
    "- The hospital can give free testing services for smokers to make them realize that they have very bad health, so that they decide to get admitted.\n",
    "- Since region has no effect on hospitalization charges, therefore the hospital try to look for smokers in every part of the country. Since the proprotion of smokers from every region is almost the same, therefore the hospital can actively look for smokers in any city of the country.\n",
    "- The hospital should try to look for smokers irrespective of the gender, since gender is not a factor in determining the hospitalization charges.\n",
    "- Since irrepective of smoker status, the order of the severity level is the same for both smokers and non smokers and the hospitalization charges is also almost same for different severity levels, therefore the hospital can look for patients who have any severity level.\n",
    "- The median viral load is almost the same irrespective of the gender, smoker status, region and severity level, therefore the hospital can admit patients who have any value of viral load since viral load is not a distinct factor in determining hospitalization charges."
   ]
  },
  {
   "cell_type": "code",
   "execution_count": null,
   "id": "3c0681ea",
   "metadata": {},
   "outputs": [],
   "source": []
  }
 ],
 "metadata": {
  "kernelspec": {
   "display_name": "Python 3 (ipykernel)",
   "language": "python",
   "name": "python3"
  },
  "language_info": {
   "codemirror_mode": {
    "name": "ipython",
    "version": 3
   },
   "file_extension": ".py",
   "mimetype": "text/x-python",
   "name": "python",
   "nbconvert_exporter": "python",
   "pygments_lexer": "ipython3",
   "version": "3.9.7"
  }
 },
 "nbformat": 4,
 "nbformat_minor": 5
}
