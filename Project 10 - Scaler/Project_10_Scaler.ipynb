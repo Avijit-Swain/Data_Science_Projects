{
 "cells": [
  {
   "cell_type": "markdown",
   "id": "9d42edfa",
   "metadata": {
    "id": "9d42edfa"
   },
   "source": [
    "## Problem Statement\n",
    "\n",
    "Scaler is an online tech-versity offering intensive computer science & Data Science courses through live classes delivered by tech leaders and subject matter experts. The meticulously structured program enhances the skills of software professionals by offering a modern curriculum with exposure to the latest technologies. It is a product by InterviewBit.\n",
    "\n",
    "You are working as a data scientist with the analytics vertical of Scaler, focused on profiling the best companies and job positions to work for from the Scaler database. You are provided with the information for a segment of learners and tasked to cluster them on the basis of their job profile, company, and other features. Ideally, these clusters should have similar characteristics."
   ]
  },
  {
   "cell_type": "markdown",
   "id": "51f8131e",
   "metadata": {
    "id": "51f8131e"
   },
   "source": [
    "## Data Dictionary:\n",
    "\n",
    "- ‘Unnamed 0’- Index of the dataset\n",
    "- Email_hash- Anonymised Personal Identifiable Information (PII)\n",
    "- Company- Current employer of the learner\n",
    "- orgyear- Employment start date\n",
    "- CTC- Current CTC\n",
    "- Job_position- Job profile in the company\n",
    "- CTC_updated_year: Year in which CTC got updated (Yearly increments, Promotions)"
   ]
  },
  {
   "cell_type": "code",
   "execution_count": 3,
   "id": "f1640c2a",
   "metadata": {
    "id": "f1640c2a"
   },
   "outputs": [],
   "source": [
    "#Importing the required libraries\n",
    "import numpy as np\n",
    "import pandas as pd\n",
    "import matplotlib.pyplot as plt\n",
    "import seaborn as sns\n",
    "from sklearn.metrics import silhouette_score\n",
    "from sklearn.preprocessing import StandardScaler\n",
    "from sklearn.preprocessing import OneHotEncoder\n",
    "import warnings\n",
    "warnings.filterwarnings('ignore')\n",
    "import re\n",
    "from sklearn.cluster import AgglomerativeClustering, KMeans, DBSCAN\n",
    "from sklearn.mixture import GaussianMixture\n",
    "from yellowbrick.cluster import SilhouetteVisualizer\n",
    "from sklearn.cluster import AgglomerativeClustering\n",
    "from scipy.cluster.hierarchy import dendrogram, linkage"
   ]
  },
  {
   "cell_type": "code",
   "execution_count": 4,
   "id": "6b6f2c3f",
   "metadata": {
    "id": "6b6f2c3f"
   },
   "outputs": [],
   "source": [
    "# Getting the Dataset.\n",
    "df=pd.read_csv('https://d2beiqkhq929f0.cloudfront.net/public_assets/assets/000/002/856/original/scaler_clustering.csv')"
   ]
  },
  {
   "cell_type": "code",
   "execution_count": 5,
   "id": "dfd804ed",
   "metadata": {
    "colab": {
     "base_uri": "https://localhost:8080/",
     "height": 206
    },
    "id": "dfd804ed",
    "outputId": "e6a14aec-5ba1-434f-bd88-f62618e5d8a5"
   },
   "outputs": [
    {
     "data": {
      "text/html": [
       "\n",
       "  <div id=\"df-a2082b62-732a-481c-a4bf-40dbe6d249a5\">\n",
       "    <div class=\"colab-df-container\">\n",
       "      <div>\n",
       "<style scoped>\n",
       "    .dataframe tbody tr th:only-of-type {\n",
       "        vertical-align: middle;\n",
       "    }\n",
       "\n",
       "    .dataframe tbody tr th {\n",
       "        vertical-align: top;\n",
       "    }\n",
       "\n",
       "    .dataframe thead th {\n",
       "        text-align: right;\n",
       "    }\n",
       "</style>\n",
       "<table border=\"1\" class=\"dataframe\">\n",
       "  <thead>\n",
       "    <tr style=\"text-align: right;\">\n",
       "      <th></th>\n",
       "      <th>Unnamed: 0</th>\n",
       "      <th>company_hash</th>\n",
       "      <th>email_hash</th>\n",
       "      <th>orgyear</th>\n",
       "      <th>ctc</th>\n",
       "      <th>job_position</th>\n",
       "      <th>ctc_updated_year</th>\n",
       "    </tr>\n",
       "  </thead>\n",
       "  <tbody>\n",
       "    <tr>\n",
       "      <th>0</th>\n",
       "      <td>0</td>\n",
       "      <td>atrgxnnt xzaxv</td>\n",
       "      <td>6de0a4417d18ab14334c3f43397fc13b30c35149d70c05...</td>\n",
       "      <td>2016.0</td>\n",
       "      <td>1100000</td>\n",
       "      <td>Other</td>\n",
       "      <td>2020.0</td>\n",
       "    </tr>\n",
       "    <tr>\n",
       "      <th>1</th>\n",
       "      <td>1</td>\n",
       "      <td>qtrxvzwt xzegwgbb rxbxnta</td>\n",
       "      <td>b0aaf1ac138b53cb6e039ba2c3d6604a250d02d5145c10...</td>\n",
       "      <td>2018.0</td>\n",
       "      <td>449999</td>\n",
       "      <td>FullStack Engineer</td>\n",
       "      <td>2019.0</td>\n",
       "    </tr>\n",
       "    <tr>\n",
       "      <th>2</th>\n",
       "      <td>2</td>\n",
       "      <td>ojzwnvwnxw vx</td>\n",
       "      <td>4860c670bcd48fb96c02a4b0ae3608ae6fdd98176112e9...</td>\n",
       "      <td>2015.0</td>\n",
       "      <td>2000000</td>\n",
       "      <td>Backend Engineer</td>\n",
       "      <td>2020.0</td>\n",
       "    </tr>\n",
       "    <tr>\n",
       "      <th>3</th>\n",
       "      <td>3</td>\n",
       "      <td>ngpgutaxv</td>\n",
       "      <td>effdede7a2e7c2af664c8a31d9346385016128d66bbc58...</td>\n",
       "      <td>2017.0</td>\n",
       "      <td>700000</td>\n",
       "      <td>Backend Engineer</td>\n",
       "      <td>2019.0</td>\n",
       "    </tr>\n",
       "    <tr>\n",
       "      <th>4</th>\n",
       "      <td>4</td>\n",
       "      <td>qxen sqghu</td>\n",
       "      <td>6ff54e709262f55cb999a1c1db8436cb2055d8f79ab520...</td>\n",
       "      <td>2017.0</td>\n",
       "      <td>1400000</td>\n",
       "      <td>FullStack Engineer</td>\n",
       "      <td>2019.0</td>\n",
       "    </tr>\n",
       "  </tbody>\n",
       "</table>\n",
       "</div>\n",
       "      <button class=\"colab-df-convert\" onclick=\"convertToInteractive('df-a2082b62-732a-481c-a4bf-40dbe6d249a5')\"\n",
       "              title=\"Convert this dataframe to an interactive table.\"\n",
       "              style=\"display:none;\">\n",
       "        \n",
       "  <svg xmlns=\"http://www.w3.org/2000/svg\" height=\"24px\"viewBox=\"0 0 24 24\"\n",
       "       width=\"24px\">\n",
       "    <path d=\"M0 0h24v24H0V0z\" fill=\"none\"/>\n",
       "    <path d=\"M18.56 5.44l.94 2.06.94-2.06 2.06-.94-2.06-.94-.94-2.06-.94 2.06-2.06.94zm-11 1L8.5 8.5l.94-2.06 2.06-.94-2.06-.94L8.5 2.5l-.94 2.06-2.06.94zm10 10l.94 2.06.94-2.06 2.06-.94-2.06-.94-.94-2.06-.94 2.06-2.06.94z\"/><path d=\"M17.41 7.96l-1.37-1.37c-.4-.4-.92-.59-1.43-.59-.52 0-1.04.2-1.43.59L10.3 9.45l-7.72 7.72c-.78.78-.78 2.05 0 2.83L4 21.41c.39.39.9.59 1.41.59.51 0 1.02-.2 1.41-.59l7.78-7.78 2.81-2.81c.8-.78.8-2.07 0-2.86zM5.41 20L4 18.59l7.72-7.72 1.47 1.35L5.41 20z\"/>\n",
       "  </svg>\n",
       "      </button>\n",
       "      \n",
       "  <style>\n",
       "    .colab-df-container {\n",
       "      display:flex;\n",
       "      flex-wrap:wrap;\n",
       "      gap: 12px;\n",
       "    }\n",
       "\n",
       "    .colab-df-convert {\n",
       "      background-color: #E8F0FE;\n",
       "      border: none;\n",
       "      border-radius: 50%;\n",
       "      cursor: pointer;\n",
       "      display: none;\n",
       "      fill: #1967D2;\n",
       "      height: 32px;\n",
       "      padding: 0 0 0 0;\n",
       "      width: 32px;\n",
       "    }\n",
       "\n",
       "    .colab-df-convert:hover {\n",
       "      background-color: #E2EBFA;\n",
       "      box-shadow: 0px 1px 2px rgba(60, 64, 67, 0.3), 0px 1px 3px 1px rgba(60, 64, 67, 0.15);\n",
       "      fill: #174EA6;\n",
       "    }\n",
       "\n",
       "    [theme=dark] .colab-df-convert {\n",
       "      background-color: #3B4455;\n",
       "      fill: #D2E3FC;\n",
       "    }\n",
       "\n",
       "    [theme=dark] .colab-df-convert:hover {\n",
       "      background-color: #434B5C;\n",
       "      box-shadow: 0px 1px 3px 1px rgba(0, 0, 0, 0.15);\n",
       "      filter: drop-shadow(0px 1px 2px rgba(0, 0, 0, 0.3));\n",
       "      fill: #FFFFFF;\n",
       "    }\n",
       "  </style>\n",
       "\n",
       "      <script>\n",
       "        const buttonEl =\n",
       "          document.querySelector('#df-a2082b62-732a-481c-a4bf-40dbe6d249a5 button.colab-df-convert');\n",
       "        buttonEl.style.display =\n",
       "          google.colab.kernel.accessAllowed ? 'block' : 'none';\n",
       "\n",
       "        async function convertToInteractive(key) {\n",
       "          const element = document.querySelector('#df-a2082b62-732a-481c-a4bf-40dbe6d249a5');\n",
       "          const dataTable =\n",
       "            await google.colab.kernel.invokeFunction('convertToInteractive',\n",
       "                                                     [key], {});\n",
       "          if (!dataTable) return;\n",
       "\n",
       "          const docLinkHtml = 'Like what you see? Visit the ' +\n",
       "            '<a target=\"_blank\" href=https://colab.research.google.com/notebooks/data_table.ipynb>data table notebook</a>'\n",
       "            + ' to learn more about interactive tables.';\n",
       "          element.innerHTML = '';\n",
       "          dataTable['output_type'] = 'display_data';\n",
       "          await google.colab.output.renderOutput(dataTable, element);\n",
       "          const docLink = document.createElement('div');\n",
       "          docLink.innerHTML = docLinkHtml;\n",
       "          element.appendChild(docLink);\n",
       "        }\n",
       "      </script>\n",
       "    </div>\n",
       "  </div>\n",
       "  "
      ],
      "text/plain": [
       "   Unnamed: 0               company_hash  \\\n",
       "0           0             atrgxnnt xzaxv   \n",
       "1           1  qtrxvzwt xzegwgbb rxbxnta   \n",
       "2           2              ojzwnvwnxw vx   \n",
       "3           3                  ngpgutaxv   \n",
       "4           4                 qxen sqghu   \n",
       "\n",
       "                                          email_hash  orgyear      ctc  \\\n",
       "0  6de0a4417d18ab14334c3f43397fc13b30c35149d70c05...   2016.0  1100000   \n",
       "1  b0aaf1ac138b53cb6e039ba2c3d6604a250d02d5145c10...   2018.0   449999   \n",
       "2  4860c670bcd48fb96c02a4b0ae3608ae6fdd98176112e9...   2015.0  2000000   \n",
       "3  effdede7a2e7c2af664c8a31d9346385016128d66bbc58...   2017.0   700000   \n",
       "4  6ff54e709262f55cb999a1c1db8436cb2055d8f79ab520...   2017.0  1400000   \n",
       "\n",
       "         job_position  ctc_updated_year  \n",
       "0               Other            2020.0  \n",
       "1  FullStack Engineer            2019.0  \n",
       "2    Backend Engineer            2020.0  \n",
       "3    Backend Engineer            2019.0  \n",
       "4  FullStack Engineer            2019.0  "
      ]
     },
     "execution_count": 5,
     "metadata": {},
     "output_type": "execute_result"
    }
   ],
   "source": [
    "# Checking the first 5 observations.\n",
    "df.head()"
   ]
  },
  {
   "cell_type": "code",
   "execution_count": 6,
   "id": "343aa159",
   "metadata": {
    "colab": {
     "base_uri": "https://localhost:8080/",
     "height": 206
    },
    "id": "343aa159",
    "outputId": "1cffff55-4330-4e61-e10c-40f8040cd974"
   },
   "outputs": [
    {
     "data": {
      "text/html": [
       "\n",
       "  <div id=\"df-8aa77118-eb11-438a-8f6c-3bc6c23a5a71\">\n",
       "    <div class=\"colab-df-container\">\n",
       "      <div>\n",
       "<style scoped>\n",
       "    .dataframe tbody tr th:only-of-type {\n",
       "        vertical-align: middle;\n",
       "    }\n",
       "\n",
       "    .dataframe tbody tr th {\n",
       "        vertical-align: top;\n",
       "    }\n",
       "\n",
       "    .dataframe thead th {\n",
       "        text-align: right;\n",
       "    }\n",
       "</style>\n",
       "<table border=\"1\" class=\"dataframe\">\n",
       "  <thead>\n",
       "    <tr style=\"text-align: right;\">\n",
       "      <th></th>\n",
       "      <th>Unnamed: 0</th>\n",
       "      <th>company_hash</th>\n",
       "      <th>email_hash</th>\n",
       "      <th>orgyear</th>\n",
       "      <th>ctc</th>\n",
       "      <th>job_position</th>\n",
       "      <th>ctc_updated_year</th>\n",
       "    </tr>\n",
       "  </thead>\n",
       "  <tbody>\n",
       "    <tr>\n",
       "      <th>205838</th>\n",
       "      <td>206918</td>\n",
       "      <td>vuurt xzw</td>\n",
       "      <td>70027b728c8ee901fe979533ed94ffda97be08fc23f33b...</td>\n",
       "      <td>2008.0</td>\n",
       "      <td>220000</td>\n",
       "      <td>NaN</td>\n",
       "      <td>2019.0</td>\n",
       "    </tr>\n",
       "    <tr>\n",
       "      <th>205839</th>\n",
       "      <td>206919</td>\n",
       "      <td>husqvawgb</td>\n",
       "      <td>7f7292ffad724ebbe9ca860f515245368d714c84705b42...</td>\n",
       "      <td>2017.0</td>\n",
       "      <td>500000</td>\n",
       "      <td>NaN</td>\n",
       "      <td>2020.0</td>\n",
       "    </tr>\n",
       "    <tr>\n",
       "      <th>205840</th>\n",
       "      <td>206920</td>\n",
       "      <td>vwwgrxnt</td>\n",
       "      <td>cb25cc7304e9a24facda7f5567c7922ffc48e3d5d6018c...</td>\n",
       "      <td>2021.0</td>\n",
       "      <td>700000</td>\n",
       "      <td>NaN</td>\n",
       "      <td>2021.0</td>\n",
       "    </tr>\n",
       "    <tr>\n",
       "      <th>205841</th>\n",
       "      <td>206921</td>\n",
       "      <td>zgn vuurxwvmrt</td>\n",
       "      <td>fb46a1a2752f5f652ce634f6178d0578ef6995ee59f6c8...</td>\n",
       "      <td>2019.0</td>\n",
       "      <td>5100000</td>\n",
       "      <td>NaN</td>\n",
       "      <td>2019.0</td>\n",
       "    </tr>\n",
       "    <tr>\n",
       "      <th>205842</th>\n",
       "      <td>206922</td>\n",
       "      <td>bgqsvz onvzrtj</td>\n",
       "      <td>0bcfc1d05f2e8dc4147743a1313aa70a119b41b30d4a1f...</td>\n",
       "      <td>2014.0</td>\n",
       "      <td>1240000</td>\n",
       "      <td>NaN</td>\n",
       "      <td>2016.0</td>\n",
       "    </tr>\n",
       "  </tbody>\n",
       "</table>\n",
       "</div>\n",
       "      <button class=\"colab-df-convert\" onclick=\"convertToInteractive('df-8aa77118-eb11-438a-8f6c-3bc6c23a5a71')\"\n",
       "              title=\"Convert this dataframe to an interactive table.\"\n",
       "              style=\"display:none;\">\n",
       "        \n",
       "  <svg xmlns=\"http://www.w3.org/2000/svg\" height=\"24px\"viewBox=\"0 0 24 24\"\n",
       "       width=\"24px\">\n",
       "    <path d=\"M0 0h24v24H0V0z\" fill=\"none\"/>\n",
       "    <path d=\"M18.56 5.44l.94 2.06.94-2.06 2.06-.94-2.06-.94-.94-2.06-.94 2.06-2.06.94zm-11 1L8.5 8.5l.94-2.06 2.06-.94-2.06-.94L8.5 2.5l-.94 2.06-2.06.94zm10 10l.94 2.06.94-2.06 2.06-.94-2.06-.94-.94-2.06-.94 2.06-2.06.94z\"/><path d=\"M17.41 7.96l-1.37-1.37c-.4-.4-.92-.59-1.43-.59-.52 0-1.04.2-1.43.59L10.3 9.45l-7.72 7.72c-.78.78-.78 2.05 0 2.83L4 21.41c.39.39.9.59 1.41.59.51 0 1.02-.2 1.41-.59l7.78-7.78 2.81-2.81c.8-.78.8-2.07 0-2.86zM5.41 20L4 18.59l7.72-7.72 1.47 1.35L5.41 20z\"/>\n",
       "  </svg>\n",
       "      </button>\n",
       "      \n",
       "  <style>\n",
       "    .colab-df-container {\n",
       "      display:flex;\n",
       "      flex-wrap:wrap;\n",
       "      gap: 12px;\n",
       "    }\n",
       "\n",
       "    .colab-df-convert {\n",
       "      background-color: #E8F0FE;\n",
       "      border: none;\n",
       "      border-radius: 50%;\n",
       "      cursor: pointer;\n",
       "      display: none;\n",
       "      fill: #1967D2;\n",
       "      height: 32px;\n",
       "      padding: 0 0 0 0;\n",
       "      width: 32px;\n",
       "    }\n",
       "\n",
       "    .colab-df-convert:hover {\n",
       "      background-color: #E2EBFA;\n",
       "      box-shadow: 0px 1px 2px rgba(60, 64, 67, 0.3), 0px 1px 3px 1px rgba(60, 64, 67, 0.15);\n",
       "      fill: #174EA6;\n",
       "    }\n",
       "\n",
       "    [theme=dark] .colab-df-convert {\n",
       "      background-color: #3B4455;\n",
       "      fill: #D2E3FC;\n",
       "    }\n",
       "\n",
       "    [theme=dark] .colab-df-convert:hover {\n",
       "      background-color: #434B5C;\n",
       "      box-shadow: 0px 1px 3px 1px rgba(0, 0, 0, 0.15);\n",
       "      filter: drop-shadow(0px 1px 2px rgba(0, 0, 0, 0.3));\n",
       "      fill: #FFFFFF;\n",
       "    }\n",
       "  </style>\n",
       "\n",
       "      <script>\n",
       "        const buttonEl =\n",
       "          document.querySelector('#df-8aa77118-eb11-438a-8f6c-3bc6c23a5a71 button.colab-df-convert');\n",
       "        buttonEl.style.display =\n",
       "          google.colab.kernel.accessAllowed ? 'block' : 'none';\n",
       "\n",
       "        async function convertToInteractive(key) {\n",
       "          const element = document.querySelector('#df-8aa77118-eb11-438a-8f6c-3bc6c23a5a71');\n",
       "          const dataTable =\n",
       "            await google.colab.kernel.invokeFunction('convertToInteractive',\n",
       "                                                     [key], {});\n",
       "          if (!dataTable) return;\n",
       "\n",
       "          const docLinkHtml = 'Like what you see? Visit the ' +\n",
       "            '<a target=\"_blank\" href=https://colab.research.google.com/notebooks/data_table.ipynb>data table notebook</a>'\n",
       "            + ' to learn more about interactive tables.';\n",
       "          element.innerHTML = '';\n",
       "          dataTable['output_type'] = 'display_data';\n",
       "          await google.colab.output.renderOutput(dataTable, element);\n",
       "          const docLink = document.createElement('div');\n",
       "          docLink.innerHTML = docLinkHtml;\n",
       "          element.appendChild(docLink);\n",
       "        }\n",
       "      </script>\n",
       "    </div>\n",
       "  </div>\n",
       "  "
      ],
      "text/plain": [
       "        Unnamed: 0    company_hash  \\\n",
       "205838      206918       vuurt xzw   \n",
       "205839      206919       husqvawgb   \n",
       "205840      206920        vwwgrxnt   \n",
       "205841      206921  zgn vuurxwvmrt   \n",
       "205842      206922  bgqsvz onvzrtj   \n",
       "\n",
       "                                               email_hash  orgyear      ctc  \\\n",
       "205838  70027b728c8ee901fe979533ed94ffda97be08fc23f33b...   2008.0   220000   \n",
       "205839  7f7292ffad724ebbe9ca860f515245368d714c84705b42...   2017.0   500000   \n",
       "205840  cb25cc7304e9a24facda7f5567c7922ffc48e3d5d6018c...   2021.0   700000   \n",
       "205841  fb46a1a2752f5f652ce634f6178d0578ef6995ee59f6c8...   2019.0  5100000   \n",
       "205842  0bcfc1d05f2e8dc4147743a1313aa70a119b41b30d4a1f...   2014.0  1240000   \n",
       "\n",
       "       job_position  ctc_updated_year  \n",
       "205838          NaN            2019.0  \n",
       "205839          NaN            2020.0  \n",
       "205840          NaN            2021.0  \n",
       "205841          NaN            2019.0  \n",
       "205842          NaN            2016.0  "
      ]
     },
     "execution_count": 6,
     "metadata": {},
     "output_type": "execute_result"
    }
   ],
   "source": [
    "# Checking the last 5 observations.\n",
    "df.tail()"
   ]
  },
  {
   "cell_type": "code",
   "execution_count": 7,
   "id": "6a9bfb68",
   "metadata": {
    "colab": {
     "base_uri": "https://localhost:8080/",
     "height": 0
    },
    "id": "6a9bfb68",
    "outputId": "9e2e1cb0-4989-417c-9b66-95da3398d669"
   },
   "outputs": [
    {
     "data": {
      "text/plain": [
       "(205843, 7)"
      ]
     },
     "execution_count": 7,
     "metadata": {},
     "output_type": "execute_result"
    }
   ],
   "source": [
    "# Checking the shape of the dataset.\n",
    "df.shape\n",
    "\n",
    "# Need to check if there are 205843 number of unique learners, otherwise we need to remove/aggregate the duplicate records."
   ]
  },
  {
   "cell_type": "code",
   "execution_count": 8,
   "id": "3e1830f9",
   "metadata": {
    "colab": {
     "base_uri": "https://localhost:8080/",
     "height": 0
    },
    "id": "3e1830f9",
    "outputId": "ee777130-384f-4ab1-938c-58231bb096cc"
   },
   "outputs": [
    {
     "name": "stdout",
     "output_type": "stream",
     "text": [
      "0\n"
     ]
    }
   ],
   "source": [
    "# Checking for number of duplicate values in \"Unnamed: 0\" column\n",
    "print((df['Unnamed: 0'].duplicated()).sum())\n",
    "# There are no duplicate values. All the values are unique.\n",
    "\n",
    "# Dropping the \"Unnamed: 0\" column\n",
    "df.drop(columns=['Unnamed: 0'],inplace=True)"
   ]
  },
  {
   "cell_type": "code",
   "execution_count": 9,
   "id": "f6242b27",
   "metadata": {
    "colab": {
     "base_uri": "https://localhost:8080/",
     "height": 0
    },
    "id": "f6242b27",
    "outputId": "d37dea96-7f65-4dfe-a586-12cc8961a10c"
   },
   "outputs": [
    {
     "name": "stdout",
     "output_type": "stream",
     "text": [
      "33\n"
     ]
    }
   ],
   "source": [
    "# Checking for number of duplicate records.\n",
    "print((df.duplicated()).sum())\n",
    "\n",
    "# There are 33 duplicate records. We can drop these observations.\n",
    "df=df[~df.duplicated()]"
   ]
  },
  {
   "cell_type": "code",
   "execution_count": 10,
   "id": "9c644228",
   "metadata": {
    "id": "9c644228"
   },
   "outputs": [],
   "source": [
    "#Resetting the Index.\n",
    "df.reset_index(drop=True,inplace=True)"
   ]
  },
  {
   "cell_type": "code",
   "execution_count": 11,
   "id": "112b394c",
   "metadata": {
    "colab": {
     "base_uri": "https://localhost:8080/",
     "height": 0
    },
    "id": "112b394c",
    "outputId": "a59b1e75-ffba-4a7a-bbfb-4033260b3304"
   },
   "outputs": [
    {
     "data": {
      "text/plain": [
       "(205810, 6)"
      ]
     },
     "execution_count": 11,
     "metadata": {},
     "output_type": "execute_result"
    }
   ],
   "source": [
    "# Checking the shape of the dataset.\n",
    "df.shape"
   ]
  },
  {
   "cell_type": "code",
   "execution_count": 12,
   "id": "1738dbf8",
   "metadata": {
    "colab": {
     "base_uri": "https://localhost:8080/",
     "height": 0
    },
    "id": "1738dbf8",
    "outputId": "79eee0dc-3f35-461c-f46e-3a7c472c3b4f"
   },
   "outputs": [
    {
     "data": {
      "text/plain": [
       "153443"
      ]
     },
     "execution_count": 12,
     "metadata": {},
     "output_type": "execute_result"
    }
   ],
   "source": [
    "# Checking for total number of unique learners using the email-Id column.\n",
    "df['email_hash'].nunique()\n",
    "\n",
    "# Total Records:205810,Total Unique Learners:153443.Need to inspect the remaining duplicate records, and then aggregate."
   ]
  },
  {
   "cell_type": "code",
   "execution_count": 13,
   "id": "6113b10a",
   "metadata": {
    "colab": {
     "base_uri": "https://localhost:8080/",
     "height": 0
    },
    "id": "6113b10a",
    "outputId": "08e7479c-5177-49e1-def5-2c3d33d4f065"
   },
   "outputs": [
    {
     "name": "stdout",
     "output_type": "stream",
     "text": [
      "Total Duplicated Learners 41191\n",
      "Total Non-Duplicated Learners 112252\n"
     ]
    }
   ],
   "source": [
    "# Finding the list of email_ids for whom we have more than 1 record.\n",
    "temp=df['email_hash'].value_counts()\n",
    "duplicated_learners=temp[temp>1].index\n",
    "\n",
    "# Finding the list of email_ids who have just 1 unique record.\n",
    "non_duplicated_learners=temp[temp==1].index\n",
    "\n",
    "print(\"Total Duplicated Learners\",len(duplicated_learners))\n",
    "print(\"Total Non-Duplicated Learners\",len(non_duplicated_learners))"
   ]
  },
  {
   "cell_type": "code",
   "execution_count": 14,
   "id": "aafe769a",
   "metadata": {
    "colab": {
     "base_uri": "https://localhost:8080/",
     "height": 0
    },
    "id": "aafe769a",
    "outputId": "f93ef512-90bc-4c2e-ce93-24d279d928b6"
   },
   "outputs": [
    {
     "data": {
      "text/plain": [
       "company_hash           44\n",
       "email_hash              0\n",
       "orgyear                86\n",
       "ctc                     0\n",
       "job_position        52547\n",
       "ctc_updated_year        0\n",
       "dtype: int64"
      ]
     },
     "execution_count": 14,
     "metadata": {},
     "output_type": "execute_result"
    }
   ],
   "source": [
    "# Checking for missing values for every column\n",
    "df.isna().sum()\n",
    "\n",
    "# There are no missing values for \"email_hash\", \"ctc\" and \"ctc_updated_year\".\n",
    "# Need to handle missing values for \"company_hash\", \"orgyear\" and \"job_position\"."
   ]
  },
  {
   "cell_type": "code",
   "execution_count": 15,
   "id": "194d1198",
   "metadata": {
    "colab": {
     "base_uri": "https://localhost:8080/",
     "height": 0
    },
    "id": "194d1198",
    "outputId": "dfcdaeb8-587c-4b37-b5ae-e46b822441ea"
   },
   "outputs": [
    {
     "name": "stdout",
     "output_type": "stream",
     "text": [
      "<class 'pandas.core.frame.DataFrame'>\n",
      "RangeIndex: 205810 entries, 0 to 205809\n",
      "Data columns (total 6 columns):\n",
      " #   Column            Non-Null Count   Dtype  \n",
      "---  ------            --------------   -----  \n",
      " 0   company_hash      205766 non-null  object \n",
      " 1   email_hash        205810 non-null  object \n",
      " 2   orgyear           205724 non-null  float64\n",
      " 3   ctc               205810 non-null  int64  \n",
      " 4   job_position      153263 non-null  object \n",
      " 5   ctc_updated_year  205810 non-null  float64\n",
      "dtypes: float64(2), int64(1), object(3)\n",
      "memory usage: 9.4+ MB\n"
     ]
    }
   ],
   "source": [
    "# Checking the data types of the columns\n",
    "df.info()"
   ]
  },
  {
   "cell_type": "code",
   "execution_count": 15,
   "id": "fbdaf34d",
   "metadata": {
    "id": "fbdaf34d"
   },
   "outputs": [],
   "source": []
  },
  {
   "cell_type": "markdown",
   "id": "3c6e8d0f",
   "metadata": {
    "id": "3c6e8d0f"
   },
   "source": [
    "#### Lets check the duplicated records for few learners to understand how to do the aggregation."
   ]
  },
  {
   "cell_type": "code",
   "execution_count": 16,
   "id": "87a57825",
   "metadata": {
    "colab": {
     "base_uri": "https://localhost:8080/",
     "height": 300
    },
    "id": "87a57825",
    "outputId": "b2537347-2c15-4e8d-df21-3abc42059bfa"
   },
   "outputs": [
    {
     "data": {
      "text/html": [
       "\n",
       "  <div id=\"df-9ef515f1-1963-4db1-86b0-e3e67fedc744\">\n",
       "    <div class=\"colab-df-container\">\n",
       "      <div>\n",
       "<style scoped>\n",
       "    .dataframe tbody tr th:only-of-type {\n",
       "        vertical-align: middle;\n",
       "    }\n",
       "\n",
       "    .dataframe tbody tr th {\n",
       "        vertical-align: top;\n",
       "    }\n",
       "\n",
       "    .dataframe thead th {\n",
       "        text-align: right;\n",
       "    }\n",
       "</style>\n",
       "<table border=\"1\" class=\"dataframe\">\n",
       "  <thead>\n",
       "    <tr style=\"text-align: right;\">\n",
       "      <th></th>\n",
       "      <th>company_hash</th>\n",
       "      <th>email_hash</th>\n",
       "      <th>orgyear</th>\n",
       "      <th>ctc</th>\n",
       "      <th>job_position</th>\n",
       "      <th>ctc_updated_year</th>\n",
       "    </tr>\n",
       "  </thead>\n",
       "  <tbody>\n",
       "    <tr>\n",
       "      <th>37734</th>\n",
       "      <td>bvi ogenfvqt</td>\n",
       "      <td>b4d5afa09bec8689017d8b29701b80d664ca37b83cb883...</td>\n",
       "      <td>2020.0</td>\n",
       "      <td>900000</td>\n",
       "      <td>Engineering Leadership</td>\n",
       "      <td>2021.0</td>\n",
       "    </tr>\n",
       "    <tr>\n",
       "      <th>45982</th>\n",
       "      <td>bvi ogenfvqt</td>\n",
       "      <td>b4d5afa09bec8689017d8b29701b80d664ca37b83cb883...</td>\n",
       "      <td>2020.0</td>\n",
       "      <td>900000</td>\n",
       "      <td>Engineering Intern</td>\n",
       "      <td>2021.0</td>\n",
       "    </tr>\n",
       "    <tr>\n",
       "      <th>144744</th>\n",
       "      <td>bvi ogenfvqt</td>\n",
       "      <td>b4d5afa09bec8689017d8b29701b80d664ca37b83cb883...</td>\n",
       "      <td>2020.0</td>\n",
       "      <td>900000</td>\n",
       "      <td>Data Analyst</td>\n",
       "      <td>2021.0</td>\n",
       "    </tr>\n",
       "    <tr>\n",
       "      <th>151696</th>\n",
       "      <td>bvi ogenfvqt</td>\n",
       "      <td>b4d5afa09bec8689017d8b29701b80d664ca37b83cb883...</td>\n",
       "      <td>2020.0</td>\n",
       "      <td>900000</td>\n",
       "      <td>Data Scientist</td>\n",
       "      <td>2021.0</td>\n",
       "    </tr>\n",
       "    <tr>\n",
       "      <th>153848</th>\n",
       "      <td>bvi ogenfvqt</td>\n",
       "      <td>b4d5afa09bec8689017d8b29701b80d664ca37b83cb883...</td>\n",
       "      <td>2020.0</td>\n",
       "      <td>900000</td>\n",
       "      <td>NaN</td>\n",
       "      <td>2021.0</td>\n",
       "    </tr>\n",
       "    <tr>\n",
       "      <th>154626</th>\n",
       "      <td>bvi ogenfvqt</td>\n",
       "      <td>b4d5afa09bec8689017d8b29701b80d664ca37b83cb883...</td>\n",
       "      <td>2020.0</td>\n",
       "      <td>900000</td>\n",
       "      <td>Software Engineer 1</td>\n",
       "      <td>2021.0</td>\n",
       "    </tr>\n",
       "    <tr>\n",
       "      <th>197115</th>\n",
       "      <td>bvi ogenfvqt</td>\n",
       "      <td>b4d5afa09bec8689017d8b29701b80d664ca37b83cb883...</td>\n",
       "      <td>2020.0</td>\n",
       "      <td>2000000</td>\n",
       "      <td>Engineering Intern</td>\n",
       "      <td>2021.0</td>\n",
       "    </tr>\n",
       "    <tr>\n",
       "      <th>203140</th>\n",
       "      <td>bvi ogenfvqt</td>\n",
       "      <td>b4d5afa09bec8689017d8b29701b80d664ca37b83cb883...</td>\n",
       "      <td>2020.0</td>\n",
       "      <td>2000000</td>\n",
       "      <td>Data Analyst</td>\n",
       "      <td>2021.0</td>\n",
       "    </tr>\n",
       "  </tbody>\n",
       "</table>\n",
       "</div>\n",
       "      <button class=\"colab-df-convert\" onclick=\"convertToInteractive('df-9ef515f1-1963-4db1-86b0-e3e67fedc744')\"\n",
       "              title=\"Convert this dataframe to an interactive table.\"\n",
       "              style=\"display:none;\">\n",
       "        \n",
       "  <svg xmlns=\"http://www.w3.org/2000/svg\" height=\"24px\"viewBox=\"0 0 24 24\"\n",
       "       width=\"24px\">\n",
       "    <path d=\"M0 0h24v24H0V0z\" fill=\"none\"/>\n",
       "    <path d=\"M18.56 5.44l.94 2.06.94-2.06 2.06-.94-2.06-.94-.94-2.06-.94 2.06-2.06.94zm-11 1L8.5 8.5l.94-2.06 2.06-.94-2.06-.94L8.5 2.5l-.94 2.06-2.06.94zm10 10l.94 2.06.94-2.06 2.06-.94-2.06-.94-.94-2.06-.94 2.06-2.06.94z\"/><path d=\"M17.41 7.96l-1.37-1.37c-.4-.4-.92-.59-1.43-.59-.52 0-1.04.2-1.43.59L10.3 9.45l-7.72 7.72c-.78.78-.78 2.05 0 2.83L4 21.41c.39.39.9.59 1.41.59.51 0 1.02-.2 1.41-.59l7.78-7.78 2.81-2.81c.8-.78.8-2.07 0-2.86zM5.41 20L4 18.59l7.72-7.72 1.47 1.35L5.41 20z\"/>\n",
       "  </svg>\n",
       "      </button>\n",
       "      \n",
       "  <style>\n",
       "    .colab-df-container {\n",
       "      display:flex;\n",
       "      flex-wrap:wrap;\n",
       "      gap: 12px;\n",
       "    }\n",
       "\n",
       "    .colab-df-convert {\n",
       "      background-color: #E8F0FE;\n",
       "      border: none;\n",
       "      border-radius: 50%;\n",
       "      cursor: pointer;\n",
       "      display: none;\n",
       "      fill: #1967D2;\n",
       "      height: 32px;\n",
       "      padding: 0 0 0 0;\n",
       "      width: 32px;\n",
       "    }\n",
       "\n",
       "    .colab-df-convert:hover {\n",
       "      background-color: #E2EBFA;\n",
       "      box-shadow: 0px 1px 2px rgba(60, 64, 67, 0.3), 0px 1px 3px 1px rgba(60, 64, 67, 0.15);\n",
       "      fill: #174EA6;\n",
       "    }\n",
       "\n",
       "    [theme=dark] .colab-df-convert {\n",
       "      background-color: #3B4455;\n",
       "      fill: #D2E3FC;\n",
       "    }\n",
       "\n",
       "    [theme=dark] .colab-df-convert:hover {\n",
       "      background-color: #434B5C;\n",
       "      box-shadow: 0px 1px 3px 1px rgba(0, 0, 0, 0.15);\n",
       "      filter: drop-shadow(0px 1px 2px rgba(0, 0, 0, 0.3));\n",
       "      fill: #FFFFFF;\n",
       "    }\n",
       "  </style>\n",
       "\n",
       "      <script>\n",
       "        const buttonEl =\n",
       "          document.querySelector('#df-9ef515f1-1963-4db1-86b0-e3e67fedc744 button.colab-df-convert');\n",
       "        buttonEl.style.display =\n",
       "          google.colab.kernel.accessAllowed ? 'block' : 'none';\n",
       "\n",
       "        async function convertToInteractive(key) {\n",
       "          const element = document.querySelector('#df-9ef515f1-1963-4db1-86b0-e3e67fedc744');\n",
       "          const dataTable =\n",
       "            await google.colab.kernel.invokeFunction('convertToInteractive',\n",
       "                                                     [key], {});\n",
       "          if (!dataTable) return;\n",
       "\n",
       "          const docLinkHtml = 'Like what you see? Visit the ' +\n",
       "            '<a target=\"_blank\" href=https://colab.research.google.com/notebooks/data_table.ipynb>data table notebook</a>'\n",
       "            + ' to learn more about interactive tables.';\n",
       "          element.innerHTML = '';\n",
       "          dataTable['output_type'] = 'display_data';\n",
       "          await google.colab.output.renderOutput(dataTable, element);\n",
       "          const docLink = document.createElement('div');\n",
       "          docLink.innerHTML = docLinkHtml;\n",
       "          element.appendChild(docLink);\n",
       "        }\n",
       "      </script>\n",
       "    </div>\n",
       "  </div>\n",
       "  "
      ],
      "text/plain": [
       "        company_hash                                         email_hash  \\\n",
       "37734   bvi ogenfvqt  b4d5afa09bec8689017d8b29701b80d664ca37b83cb883...   \n",
       "45982   bvi ogenfvqt  b4d5afa09bec8689017d8b29701b80d664ca37b83cb883...   \n",
       "144744  bvi ogenfvqt  b4d5afa09bec8689017d8b29701b80d664ca37b83cb883...   \n",
       "151696  bvi ogenfvqt  b4d5afa09bec8689017d8b29701b80d664ca37b83cb883...   \n",
       "153848  bvi ogenfvqt  b4d5afa09bec8689017d8b29701b80d664ca37b83cb883...   \n",
       "154626  bvi ogenfvqt  b4d5afa09bec8689017d8b29701b80d664ca37b83cb883...   \n",
       "197115  bvi ogenfvqt  b4d5afa09bec8689017d8b29701b80d664ca37b83cb883...   \n",
       "203140  bvi ogenfvqt  b4d5afa09bec8689017d8b29701b80d664ca37b83cb883...   \n",
       "\n",
       "        orgyear      ctc            job_position  ctc_updated_year  \n",
       "37734    2020.0   900000  Engineering Leadership            2021.0  \n",
       "45982    2020.0   900000      Engineering Intern            2021.0  \n",
       "144744   2020.0   900000            Data Analyst            2021.0  \n",
       "151696   2020.0   900000          Data Scientist            2021.0  \n",
       "153848   2020.0   900000                     NaN            2021.0  \n",
       "154626   2020.0   900000     Software Engineer 1            2021.0  \n",
       "197115   2020.0  2000000      Engineering Intern            2021.0  \n",
       "203140   2020.0  2000000            Data Analyst            2021.0  "
      ]
     },
     "metadata": {},
     "output_type": "display_data"
    }
   ],
   "source": [
    "# Checking records of Learner 1\n",
    "display(df[df['email_hash']==duplicated_learners[7]])\n",
    "\n",
    "# Observation : The 8 records look almost the same except the ctc and job_position. "
   ]
  },
  {
   "cell_type": "code",
   "execution_count": 17,
   "id": "f594423f",
   "metadata": {
    "colab": {
     "base_uri": "https://localhost:8080/",
     "height": 269
    },
    "id": "f594423f",
    "outputId": "fe278ab3-2462-4204-f250-52f1b7aa993c"
   },
   "outputs": [
    {
     "data": {
      "text/html": [
       "\n",
       "  <div id=\"df-14101654-3298-40cb-bd66-85a47fd000e8\">\n",
       "    <div class=\"colab-df-container\">\n",
       "      <div>\n",
       "<style scoped>\n",
       "    .dataframe tbody tr th:only-of-type {\n",
       "        vertical-align: middle;\n",
       "    }\n",
       "\n",
       "    .dataframe tbody tr th {\n",
       "        vertical-align: top;\n",
       "    }\n",
       "\n",
       "    .dataframe thead th {\n",
       "        text-align: right;\n",
       "    }\n",
       "</style>\n",
       "<table border=\"1\" class=\"dataframe\">\n",
       "  <thead>\n",
       "    <tr style=\"text-align: right;\">\n",
       "      <th></th>\n",
       "      <th>company_hash</th>\n",
       "      <th>email_hash</th>\n",
       "      <th>orgyear</th>\n",
       "      <th>ctc</th>\n",
       "      <th>job_position</th>\n",
       "      <th>ctc_updated_year</th>\n",
       "    </tr>\n",
       "  </thead>\n",
       "  <tbody>\n",
       "    <tr>\n",
       "      <th>2396</th>\n",
       "      <td>ouxqg ogrhnxgz uqxcvnt rxbxnta</td>\n",
       "      <td>021ea9c97b6b287336e9345f39f9308c33ccbd15ac366d...</td>\n",
       "      <td>2020.0</td>\n",
       "      <td>300000</td>\n",
       "      <td>Engineering Intern</td>\n",
       "      <td>2021.0</td>\n",
       "    </tr>\n",
       "    <tr>\n",
       "      <th>8292</th>\n",
       "      <td>ouxqg ogrhnxgz uqxcvnt rxbxnta</td>\n",
       "      <td>021ea9c97b6b287336e9345f39f9308c33ccbd15ac366d...</td>\n",
       "      <td>2020.0</td>\n",
       "      <td>300000</td>\n",
       "      <td>Other</td>\n",
       "      <td>2021.0</td>\n",
       "    </tr>\n",
       "    <tr>\n",
       "      <th>10927</th>\n",
       "      <td>ouxqg ogrhnxgz uqxcvnt rxbxnta</td>\n",
       "      <td>021ea9c97b6b287336e9345f39f9308c33ccbd15ac366d...</td>\n",
       "      <td>2020.0</td>\n",
       "      <td>300000</td>\n",
       "      <td>Backend Engineer</td>\n",
       "      <td>2021.0</td>\n",
       "    </tr>\n",
       "    <tr>\n",
       "      <th>35627</th>\n",
       "      <td>ouxqg ogrhnxgz uqxcvnt rxbxnta</td>\n",
       "      <td>021ea9c97b6b287336e9345f39f9308c33ccbd15ac366d...</td>\n",
       "      <td>2020.0</td>\n",
       "      <td>300000</td>\n",
       "      <td>Non Coder</td>\n",
       "      <td>2021.0</td>\n",
       "    </tr>\n",
       "    <tr>\n",
       "      <th>88098</th>\n",
       "      <td>ouxqg ogrhnxgz uqxcvnt rxbxnta</td>\n",
       "      <td>021ea9c97b6b287336e9345f39f9308c33ccbd15ac366d...</td>\n",
       "      <td>2022.0</td>\n",
       "      <td>420000</td>\n",
       "      <td>Backend Engineer</td>\n",
       "      <td>2021.0</td>\n",
       "    </tr>\n",
       "    <tr>\n",
       "      <th>88137</th>\n",
       "      <td>ouxqg ogrhnxgz uqxcvnt rxbxnta</td>\n",
       "      <td>021ea9c97b6b287336e9345f39f9308c33ccbd15ac366d...</td>\n",
       "      <td>2022.0</td>\n",
       "      <td>420000</td>\n",
       "      <td>Engineering Intern</td>\n",
       "      <td>2021.0</td>\n",
       "    </tr>\n",
       "    <tr>\n",
       "      <th>137341</th>\n",
       "      <td>ouxqg ogrhnxgz uqxcvnt rxbxnta</td>\n",
       "      <td>021ea9c97b6b287336e9345f39f9308c33ccbd15ac366d...</td>\n",
       "      <td>2022.0</td>\n",
       "      <td>420000</td>\n",
       "      <td>Other</td>\n",
       "      <td>2021.0</td>\n",
       "    </tr>\n",
       "  </tbody>\n",
       "</table>\n",
       "</div>\n",
       "      <button class=\"colab-df-convert\" onclick=\"convertToInteractive('df-14101654-3298-40cb-bd66-85a47fd000e8')\"\n",
       "              title=\"Convert this dataframe to an interactive table.\"\n",
       "              style=\"display:none;\">\n",
       "        \n",
       "  <svg xmlns=\"http://www.w3.org/2000/svg\" height=\"24px\"viewBox=\"0 0 24 24\"\n",
       "       width=\"24px\">\n",
       "    <path d=\"M0 0h24v24H0V0z\" fill=\"none\"/>\n",
       "    <path d=\"M18.56 5.44l.94 2.06.94-2.06 2.06-.94-2.06-.94-.94-2.06-.94 2.06-2.06.94zm-11 1L8.5 8.5l.94-2.06 2.06-.94-2.06-.94L8.5 2.5l-.94 2.06-2.06.94zm10 10l.94 2.06.94-2.06 2.06-.94-2.06-.94-.94-2.06-.94 2.06-2.06.94z\"/><path d=\"M17.41 7.96l-1.37-1.37c-.4-.4-.92-.59-1.43-.59-.52 0-1.04.2-1.43.59L10.3 9.45l-7.72 7.72c-.78.78-.78 2.05 0 2.83L4 21.41c.39.39.9.59 1.41.59.51 0 1.02-.2 1.41-.59l7.78-7.78 2.81-2.81c.8-.78.8-2.07 0-2.86zM5.41 20L4 18.59l7.72-7.72 1.47 1.35L5.41 20z\"/>\n",
       "  </svg>\n",
       "      </button>\n",
       "      \n",
       "  <style>\n",
       "    .colab-df-container {\n",
       "      display:flex;\n",
       "      flex-wrap:wrap;\n",
       "      gap: 12px;\n",
       "    }\n",
       "\n",
       "    .colab-df-convert {\n",
       "      background-color: #E8F0FE;\n",
       "      border: none;\n",
       "      border-radius: 50%;\n",
       "      cursor: pointer;\n",
       "      display: none;\n",
       "      fill: #1967D2;\n",
       "      height: 32px;\n",
       "      padding: 0 0 0 0;\n",
       "      width: 32px;\n",
       "    }\n",
       "\n",
       "    .colab-df-convert:hover {\n",
       "      background-color: #E2EBFA;\n",
       "      box-shadow: 0px 1px 2px rgba(60, 64, 67, 0.3), 0px 1px 3px 1px rgba(60, 64, 67, 0.15);\n",
       "      fill: #174EA6;\n",
       "    }\n",
       "\n",
       "    [theme=dark] .colab-df-convert {\n",
       "      background-color: #3B4455;\n",
       "      fill: #D2E3FC;\n",
       "    }\n",
       "\n",
       "    [theme=dark] .colab-df-convert:hover {\n",
       "      background-color: #434B5C;\n",
       "      box-shadow: 0px 1px 3px 1px rgba(0, 0, 0, 0.15);\n",
       "      filter: drop-shadow(0px 1px 2px rgba(0, 0, 0, 0.3));\n",
       "      fill: #FFFFFF;\n",
       "    }\n",
       "  </style>\n",
       "\n",
       "      <script>\n",
       "        const buttonEl =\n",
       "          document.querySelector('#df-14101654-3298-40cb-bd66-85a47fd000e8 button.colab-df-convert');\n",
       "        buttonEl.style.display =\n",
       "          google.colab.kernel.accessAllowed ? 'block' : 'none';\n",
       "\n",
       "        async function convertToInteractive(key) {\n",
       "          const element = document.querySelector('#df-14101654-3298-40cb-bd66-85a47fd000e8');\n",
       "          const dataTable =\n",
       "            await google.colab.kernel.invokeFunction('convertToInteractive',\n",
       "                                                     [key], {});\n",
       "          if (!dataTable) return;\n",
       "\n",
       "          const docLinkHtml = 'Like what you see? Visit the ' +\n",
       "            '<a target=\"_blank\" href=https://colab.research.google.com/notebooks/data_table.ipynb>data table notebook</a>'\n",
       "            + ' to learn more about interactive tables.';\n",
       "          element.innerHTML = '';\n",
       "          dataTable['output_type'] = 'display_data';\n",
       "          await google.colab.output.renderOutput(dataTable, element);\n",
       "          const docLink = document.createElement('div');\n",
       "          docLink.innerHTML = docLinkHtml;\n",
       "          element.appendChild(docLink);\n",
       "        }\n",
       "      </script>\n",
       "    </div>\n",
       "  </div>\n",
       "  "
      ],
      "text/plain": [
       "                          company_hash  \\\n",
       "2396    ouxqg ogrhnxgz uqxcvnt rxbxnta   \n",
       "8292    ouxqg ogrhnxgz uqxcvnt rxbxnta   \n",
       "10927   ouxqg ogrhnxgz uqxcvnt rxbxnta   \n",
       "35627   ouxqg ogrhnxgz uqxcvnt rxbxnta   \n",
       "88098   ouxqg ogrhnxgz uqxcvnt rxbxnta   \n",
       "88137   ouxqg ogrhnxgz uqxcvnt rxbxnta   \n",
       "137341  ouxqg ogrhnxgz uqxcvnt rxbxnta   \n",
       "\n",
       "                                               email_hash  orgyear     ctc  \\\n",
       "2396    021ea9c97b6b287336e9345f39f9308c33ccbd15ac366d...   2020.0  300000   \n",
       "8292    021ea9c97b6b287336e9345f39f9308c33ccbd15ac366d...   2020.0  300000   \n",
       "10927   021ea9c97b6b287336e9345f39f9308c33ccbd15ac366d...   2020.0  300000   \n",
       "35627   021ea9c97b6b287336e9345f39f9308c33ccbd15ac366d...   2020.0  300000   \n",
       "88098   021ea9c97b6b287336e9345f39f9308c33ccbd15ac366d...   2022.0  420000   \n",
       "88137   021ea9c97b6b287336e9345f39f9308c33ccbd15ac366d...   2022.0  420000   \n",
       "137341  021ea9c97b6b287336e9345f39f9308c33ccbd15ac366d...   2022.0  420000   \n",
       "\n",
       "              job_position  ctc_updated_year  \n",
       "2396    Engineering Intern            2021.0  \n",
       "8292                 Other            2021.0  \n",
       "10927     Backend Engineer            2021.0  \n",
       "35627            Non Coder            2021.0  \n",
       "88098     Backend Engineer            2021.0  \n",
       "88137   Engineering Intern            2021.0  \n",
       "137341               Other            2021.0  "
      ]
     },
     "metadata": {},
     "output_type": "display_data"
    }
   ],
   "source": [
    "# Checking records of Learner 2\n",
    "display(df[df['email_hash']==duplicated_learners[15]])\n",
    "\n",
    "# Observation : The 7 records look almost the same except the organisation_year, ctc and job_position. "
   ]
  },
  {
   "cell_type": "code",
   "execution_count": 18,
   "id": "6af42ff3",
   "metadata": {
    "colab": {
     "base_uri": "https://localhost:8080/",
     "height": 237
    },
    "id": "6af42ff3",
    "outputId": "a618aa08-3353-4952-bf43-fba48cc04e18"
   },
   "outputs": [
    {
     "data": {
      "text/html": [
       "\n",
       "  <div id=\"df-82d2a4f9-b472-46bc-94d8-c8554020cdf3\">\n",
       "    <div class=\"colab-df-container\">\n",
       "      <div>\n",
       "<style scoped>\n",
       "    .dataframe tbody tr th:only-of-type {\n",
       "        vertical-align: middle;\n",
       "    }\n",
       "\n",
       "    .dataframe tbody tr th {\n",
       "        vertical-align: top;\n",
       "    }\n",
       "\n",
       "    .dataframe thead th {\n",
       "        text-align: right;\n",
       "    }\n",
       "</style>\n",
       "<table border=\"1\" class=\"dataframe\">\n",
       "  <thead>\n",
       "    <tr style=\"text-align: right;\">\n",
       "      <th></th>\n",
       "      <th>company_hash</th>\n",
       "      <th>email_hash</th>\n",
       "      <th>orgyear</th>\n",
       "      <th>ctc</th>\n",
       "      <th>job_position</th>\n",
       "      <th>ctc_updated_year</th>\n",
       "    </tr>\n",
       "  </thead>\n",
       "  <tbody>\n",
       "    <tr>\n",
       "      <th>8336</th>\n",
       "      <td>atigat</td>\n",
       "      <td>8b711b2bb77300ab4bfb6f8bf54d9b28cdd214d8c66e9e...</td>\n",
       "      <td>2018.0</td>\n",
       "      <td>3800000</td>\n",
       "      <td>FullStack Engineer</td>\n",
       "      <td>2019.0</td>\n",
       "    </tr>\n",
       "    <tr>\n",
       "      <th>8645</th>\n",
       "      <td>atigat</td>\n",
       "      <td>8b711b2bb77300ab4bfb6f8bf54d9b28cdd214d8c66e9e...</td>\n",
       "      <td>2018.0</td>\n",
       "      <td>3800000</td>\n",
       "      <td>Other</td>\n",
       "      <td>2019.0</td>\n",
       "    </tr>\n",
       "    <tr>\n",
       "      <th>22481</th>\n",
       "      <td>atigat</td>\n",
       "      <td>8b711b2bb77300ab4bfb6f8bf54d9b28cdd214d8c66e9e...</td>\n",
       "      <td>2018.0</td>\n",
       "      <td>3800000</td>\n",
       "      <td>Backend Engineer</td>\n",
       "      <td>2019.0</td>\n",
       "    </tr>\n",
       "    <tr>\n",
       "      <th>194677</th>\n",
       "      <td>atigat</td>\n",
       "      <td>8b711b2bb77300ab4bfb6f8bf54d9b28cdd214d8c66e9e...</td>\n",
       "      <td>2018.0</td>\n",
       "      <td>3800000</td>\n",
       "      <td>Backend Engineer</td>\n",
       "      <td>2020.0</td>\n",
       "    </tr>\n",
       "    <tr>\n",
       "      <th>196770</th>\n",
       "      <td>atigat</td>\n",
       "      <td>8b711b2bb77300ab4bfb6f8bf54d9b28cdd214d8c66e9e...</td>\n",
       "      <td>2018.0</td>\n",
       "      <td>3800000</td>\n",
       "      <td>FullStack Engineer</td>\n",
       "      <td>2020.0</td>\n",
       "    </tr>\n",
       "    <tr>\n",
       "      <th>198817</th>\n",
       "      <td>atigat</td>\n",
       "      <td>8b711b2bb77300ab4bfb6f8bf54d9b28cdd214d8c66e9e...</td>\n",
       "      <td>2018.0</td>\n",
       "      <td>3800000</td>\n",
       "      <td>Other</td>\n",
       "      <td>2020.0</td>\n",
       "    </tr>\n",
       "  </tbody>\n",
       "</table>\n",
       "</div>\n",
       "      <button class=\"colab-df-convert\" onclick=\"convertToInteractive('df-82d2a4f9-b472-46bc-94d8-c8554020cdf3')\"\n",
       "              title=\"Convert this dataframe to an interactive table.\"\n",
       "              style=\"display:none;\">\n",
       "        \n",
       "  <svg xmlns=\"http://www.w3.org/2000/svg\" height=\"24px\"viewBox=\"0 0 24 24\"\n",
       "       width=\"24px\">\n",
       "    <path d=\"M0 0h24v24H0V0z\" fill=\"none\"/>\n",
       "    <path d=\"M18.56 5.44l.94 2.06.94-2.06 2.06-.94-2.06-.94-.94-2.06-.94 2.06-2.06.94zm-11 1L8.5 8.5l.94-2.06 2.06-.94-2.06-.94L8.5 2.5l-.94 2.06-2.06.94zm10 10l.94 2.06.94-2.06 2.06-.94-2.06-.94-.94-2.06-.94 2.06-2.06.94z\"/><path d=\"M17.41 7.96l-1.37-1.37c-.4-.4-.92-.59-1.43-.59-.52 0-1.04.2-1.43.59L10.3 9.45l-7.72 7.72c-.78.78-.78 2.05 0 2.83L4 21.41c.39.39.9.59 1.41.59.51 0 1.02-.2 1.41-.59l7.78-7.78 2.81-2.81c.8-.78.8-2.07 0-2.86zM5.41 20L4 18.59l7.72-7.72 1.47 1.35L5.41 20z\"/>\n",
       "  </svg>\n",
       "      </button>\n",
       "      \n",
       "  <style>\n",
       "    .colab-df-container {\n",
       "      display:flex;\n",
       "      flex-wrap:wrap;\n",
       "      gap: 12px;\n",
       "    }\n",
       "\n",
       "    .colab-df-convert {\n",
       "      background-color: #E8F0FE;\n",
       "      border: none;\n",
       "      border-radius: 50%;\n",
       "      cursor: pointer;\n",
       "      display: none;\n",
       "      fill: #1967D2;\n",
       "      height: 32px;\n",
       "      padding: 0 0 0 0;\n",
       "      width: 32px;\n",
       "    }\n",
       "\n",
       "    .colab-df-convert:hover {\n",
       "      background-color: #E2EBFA;\n",
       "      box-shadow: 0px 1px 2px rgba(60, 64, 67, 0.3), 0px 1px 3px 1px rgba(60, 64, 67, 0.15);\n",
       "      fill: #174EA6;\n",
       "    }\n",
       "\n",
       "    [theme=dark] .colab-df-convert {\n",
       "      background-color: #3B4455;\n",
       "      fill: #D2E3FC;\n",
       "    }\n",
       "\n",
       "    [theme=dark] .colab-df-convert:hover {\n",
       "      background-color: #434B5C;\n",
       "      box-shadow: 0px 1px 3px 1px rgba(0, 0, 0, 0.15);\n",
       "      filter: drop-shadow(0px 1px 2px rgba(0, 0, 0, 0.3));\n",
       "      fill: #FFFFFF;\n",
       "    }\n",
       "  </style>\n",
       "\n",
       "      <script>\n",
       "        const buttonEl =\n",
       "          document.querySelector('#df-82d2a4f9-b472-46bc-94d8-c8554020cdf3 button.colab-df-convert');\n",
       "        buttonEl.style.display =\n",
       "          google.colab.kernel.accessAllowed ? 'block' : 'none';\n",
       "\n",
       "        async function convertToInteractive(key) {\n",
       "          const element = document.querySelector('#df-82d2a4f9-b472-46bc-94d8-c8554020cdf3');\n",
       "          const dataTable =\n",
       "            await google.colab.kernel.invokeFunction('convertToInteractive',\n",
       "                                                     [key], {});\n",
       "          if (!dataTable) return;\n",
       "\n",
       "          const docLinkHtml = 'Like what you see? Visit the ' +\n",
       "            '<a target=\"_blank\" href=https://colab.research.google.com/notebooks/data_table.ipynb>data table notebook</a>'\n",
       "            + ' to learn more about interactive tables.';\n",
       "          element.innerHTML = '';\n",
       "          dataTable['output_type'] = 'display_data';\n",
       "          await google.colab.output.renderOutput(dataTable, element);\n",
       "          const docLink = document.createElement('div');\n",
       "          docLink.innerHTML = docLinkHtml;\n",
       "          element.appendChild(docLink);\n",
       "        }\n",
       "      </script>\n",
       "    </div>\n",
       "  </div>\n",
       "  "
      ],
      "text/plain": [
       "       company_hash                                         email_hash  \\\n",
       "8336         atigat  8b711b2bb77300ab4bfb6f8bf54d9b28cdd214d8c66e9e...   \n",
       "8645         atigat  8b711b2bb77300ab4bfb6f8bf54d9b28cdd214d8c66e9e...   \n",
       "22481        atigat  8b711b2bb77300ab4bfb6f8bf54d9b28cdd214d8c66e9e...   \n",
       "194677       atigat  8b711b2bb77300ab4bfb6f8bf54d9b28cdd214d8c66e9e...   \n",
       "196770       atigat  8b711b2bb77300ab4bfb6f8bf54d9b28cdd214d8c66e9e...   \n",
       "198817       atigat  8b711b2bb77300ab4bfb6f8bf54d9b28cdd214d8c66e9e...   \n",
       "\n",
       "        orgyear      ctc        job_position  ctc_updated_year  \n",
       "8336     2018.0  3800000  FullStack Engineer            2019.0  \n",
       "8645     2018.0  3800000               Other            2019.0  \n",
       "22481    2018.0  3800000    Backend Engineer            2019.0  \n",
       "194677   2018.0  3800000    Backend Engineer            2020.0  \n",
       "196770   2018.0  3800000  FullStack Engineer            2020.0  \n",
       "198817   2018.0  3800000               Other            2020.0  "
      ]
     },
     "metadata": {},
     "output_type": "display_data"
    }
   ],
   "source": [
    "# Checking records of Learner 3\n",
    "display(df[df['email_hash']==duplicated_learners[36]])\n",
    "\n",
    "# Observation : The 6 records look almost the same except the job_position and ctc_updated_year. "
   ]
  },
  {
   "cell_type": "code",
   "execution_count": 19,
   "id": "41aed452",
   "metadata": {
    "colab": {
     "base_uri": "https://localhost:8080/",
     "height": 237
    },
    "id": "41aed452",
    "outputId": "7880c53c-d8e3-464e-ee11-3abb3083ffc9"
   },
   "outputs": [
    {
     "data": {
      "text/html": [
       "\n",
       "  <div id=\"df-5d5b6905-edea-413c-b79a-ee655091c5ea\">\n",
       "    <div class=\"colab-df-container\">\n",
       "      <div>\n",
       "<style scoped>\n",
       "    .dataframe tbody tr th:only-of-type {\n",
       "        vertical-align: middle;\n",
       "    }\n",
       "\n",
       "    .dataframe tbody tr th {\n",
       "        vertical-align: top;\n",
       "    }\n",
       "\n",
       "    .dataframe thead th {\n",
       "        text-align: right;\n",
       "    }\n",
       "</style>\n",
       "<table border=\"1\" class=\"dataframe\">\n",
       "  <thead>\n",
       "    <tr style=\"text-align: right;\">\n",
       "      <th></th>\n",
       "      <th>company_hash</th>\n",
       "      <th>email_hash</th>\n",
       "      <th>orgyear</th>\n",
       "      <th>ctc</th>\n",
       "      <th>job_position</th>\n",
       "      <th>ctc_updated_year</th>\n",
       "    </tr>\n",
       "  </thead>\n",
       "  <tbody>\n",
       "    <tr>\n",
       "      <th>52127</th>\n",
       "      <td>yxuug cxatg</td>\n",
       "      <td>8ffe41ee60bc738df2cb50dbf5c248300b4ddf830093c7...</td>\n",
       "      <td>2019.0</td>\n",
       "      <td>750000</td>\n",
       "      <td>FullStack Engineer</td>\n",
       "      <td>2020.0</td>\n",
       "    </tr>\n",
       "    <tr>\n",
       "      <th>58375</th>\n",
       "      <td>yxuug cxatg</td>\n",
       "      <td>8ffe41ee60bc738df2cb50dbf5c248300b4ddf830093c7...</td>\n",
       "      <td>2019.0</td>\n",
       "      <td>750000</td>\n",
       "      <td>NaN</td>\n",
       "      <td>2020.0</td>\n",
       "    </tr>\n",
       "    <tr>\n",
       "      <th>143785</th>\n",
       "      <td>nvnv wgzohrnvzwj otqcxwto</td>\n",
       "      <td>8ffe41ee60bc738df2cb50dbf5c248300b4ddf830093c7...</td>\n",
       "      <td>2019.0</td>\n",
       "      <td>396000</td>\n",
       "      <td>Support Engineer</td>\n",
       "      <td>2020.0</td>\n",
       "    </tr>\n",
       "    <tr>\n",
       "      <th>144053</th>\n",
       "      <td>nvnv wgzohrnvzwj otqcxwto</td>\n",
       "      <td>8ffe41ee60bc738df2cb50dbf5c248300b4ddf830093c7...</td>\n",
       "      <td>2019.0</td>\n",
       "      <td>396000</td>\n",
       "      <td>Backend Engineer</td>\n",
       "      <td>2020.0</td>\n",
       "    </tr>\n",
       "    <tr>\n",
       "      <th>161826</th>\n",
       "      <td>nvnv wgzohrnvzwj otqcxwto</td>\n",
       "      <td>8ffe41ee60bc738df2cb50dbf5c248300b4ddf830093c7...</td>\n",
       "      <td>2019.0</td>\n",
       "      <td>396000</td>\n",
       "      <td>Other</td>\n",
       "      <td>2020.0</td>\n",
       "    </tr>\n",
       "    <tr>\n",
       "      <th>165732</th>\n",
       "      <td>nvnv wgzohrnvzwj otqcxwto</td>\n",
       "      <td>8ffe41ee60bc738df2cb50dbf5c248300b4ddf830093c7...</td>\n",
       "      <td>2019.0</td>\n",
       "      <td>396000</td>\n",
       "      <td>NaN</td>\n",
       "      <td>2020.0</td>\n",
       "    </tr>\n",
       "  </tbody>\n",
       "</table>\n",
       "</div>\n",
       "      <button class=\"colab-df-convert\" onclick=\"convertToInteractive('df-5d5b6905-edea-413c-b79a-ee655091c5ea')\"\n",
       "              title=\"Convert this dataframe to an interactive table.\"\n",
       "              style=\"display:none;\">\n",
       "        \n",
       "  <svg xmlns=\"http://www.w3.org/2000/svg\" height=\"24px\"viewBox=\"0 0 24 24\"\n",
       "       width=\"24px\">\n",
       "    <path d=\"M0 0h24v24H0V0z\" fill=\"none\"/>\n",
       "    <path d=\"M18.56 5.44l.94 2.06.94-2.06 2.06-.94-2.06-.94-.94-2.06-.94 2.06-2.06.94zm-11 1L8.5 8.5l.94-2.06 2.06-.94-2.06-.94L8.5 2.5l-.94 2.06-2.06.94zm10 10l.94 2.06.94-2.06 2.06-.94-2.06-.94-.94-2.06-.94 2.06-2.06.94z\"/><path d=\"M17.41 7.96l-1.37-1.37c-.4-.4-.92-.59-1.43-.59-.52 0-1.04.2-1.43.59L10.3 9.45l-7.72 7.72c-.78.78-.78 2.05 0 2.83L4 21.41c.39.39.9.59 1.41.59.51 0 1.02-.2 1.41-.59l7.78-7.78 2.81-2.81c.8-.78.8-2.07 0-2.86zM5.41 20L4 18.59l7.72-7.72 1.47 1.35L5.41 20z\"/>\n",
       "  </svg>\n",
       "      </button>\n",
       "      \n",
       "  <style>\n",
       "    .colab-df-container {\n",
       "      display:flex;\n",
       "      flex-wrap:wrap;\n",
       "      gap: 12px;\n",
       "    }\n",
       "\n",
       "    .colab-df-convert {\n",
       "      background-color: #E8F0FE;\n",
       "      border: none;\n",
       "      border-radius: 50%;\n",
       "      cursor: pointer;\n",
       "      display: none;\n",
       "      fill: #1967D2;\n",
       "      height: 32px;\n",
       "      padding: 0 0 0 0;\n",
       "      width: 32px;\n",
       "    }\n",
       "\n",
       "    .colab-df-convert:hover {\n",
       "      background-color: #E2EBFA;\n",
       "      box-shadow: 0px 1px 2px rgba(60, 64, 67, 0.3), 0px 1px 3px 1px rgba(60, 64, 67, 0.15);\n",
       "      fill: #174EA6;\n",
       "    }\n",
       "\n",
       "    [theme=dark] .colab-df-convert {\n",
       "      background-color: #3B4455;\n",
       "      fill: #D2E3FC;\n",
       "    }\n",
       "\n",
       "    [theme=dark] .colab-df-convert:hover {\n",
       "      background-color: #434B5C;\n",
       "      box-shadow: 0px 1px 3px 1px rgba(0, 0, 0, 0.15);\n",
       "      filter: drop-shadow(0px 1px 2px rgba(0, 0, 0, 0.3));\n",
       "      fill: #FFFFFF;\n",
       "    }\n",
       "  </style>\n",
       "\n",
       "      <script>\n",
       "        const buttonEl =\n",
       "          document.querySelector('#df-5d5b6905-edea-413c-b79a-ee655091c5ea button.colab-df-convert');\n",
       "        buttonEl.style.display =\n",
       "          google.colab.kernel.accessAllowed ? 'block' : 'none';\n",
       "\n",
       "        async function convertToInteractive(key) {\n",
       "          const element = document.querySelector('#df-5d5b6905-edea-413c-b79a-ee655091c5ea');\n",
       "          const dataTable =\n",
       "            await google.colab.kernel.invokeFunction('convertToInteractive',\n",
       "                                                     [key], {});\n",
       "          if (!dataTable) return;\n",
       "\n",
       "          const docLinkHtml = 'Like what you see? Visit the ' +\n",
       "            '<a target=\"_blank\" href=https://colab.research.google.com/notebooks/data_table.ipynb>data table notebook</a>'\n",
       "            + ' to learn more about interactive tables.';\n",
       "          element.innerHTML = '';\n",
       "          dataTable['output_type'] = 'display_data';\n",
       "          await google.colab.output.renderOutput(dataTable, element);\n",
       "          const docLink = document.createElement('div');\n",
       "          docLink.innerHTML = docLinkHtml;\n",
       "          element.appendChild(docLink);\n",
       "        }\n",
       "      </script>\n",
       "    </div>\n",
       "  </div>\n",
       "  "
      ],
      "text/plain": [
       "                     company_hash  \\\n",
       "52127                 yxuug cxatg   \n",
       "58375                 yxuug cxatg   \n",
       "143785  nvnv wgzohrnvzwj otqcxwto   \n",
       "144053  nvnv wgzohrnvzwj otqcxwto   \n",
       "161826  nvnv wgzohrnvzwj otqcxwto   \n",
       "165732  nvnv wgzohrnvzwj otqcxwto   \n",
       "\n",
       "                                               email_hash  orgyear     ctc  \\\n",
       "52127   8ffe41ee60bc738df2cb50dbf5c248300b4ddf830093c7...   2019.0  750000   \n",
       "58375   8ffe41ee60bc738df2cb50dbf5c248300b4ddf830093c7...   2019.0  750000   \n",
       "143785  8ffe41ee60bc738df2cb50dbf5c248300b4ddf830093c7...   2019.0  396000   \n",
       "144053  8ffe41ee60bc738df2cb50dbf5c248300b4ddf830093c7...   2019.0  396000   \n",
       "161826  8ffe41ee60bc738df2cb50dbf5c248300b4ddf830093c7...   2019.0  396000   \n",
       "165732  8ffe41ee60bc738df2cb50dbf5c248300b4ddf830093c7...   2019.0  396000   \n",
       "\n",
       "              job_position  ctc_updated_year  \n",
       "52127   FullStack Engineer            2020.0  \n",
       "58375                  NaN            2020.0  \n",
       "143785    Support Engineer            2020.0  \n",
       "144053    Backend Engineer            2020.0  \n",
       "161826               Other            2020.0  \n",
       "165732                 NaN            2020.0  "
      ]
     },
     "metadata": {},
     "output_type": "display_data"
    }
   ],
   "source": [
    "# Checking records of Learner 4\n",
    "display(df[df['email_hash']==duplicated_learners[41]])\n",
    "\n",
    "# Observation : The 6 records look almost the same except the company_hash, ctc and job_position. "
   ]
  },
  {
   "cell_type": "code",
   "execution_count": 19,
   "id": "ba678eaf",
   "metadata": {
    "id": "ba678eaf"
   },
   "outputs": [],
   "source": []
  },
  {
   "cell_type": "markdown",
   "id": "0906b227",
   "metadata": {
    "id": "0906b227"
   },
   "source": [
    "#### - To aggregate the duplicate records, lets first sort the dataset according to, \"email_hash\", decreasing \"ctc\" and decreasing \"ctc_updated_year\". \n",
    "#### - We can then extract the first record for every learner."
   ]
  },
  {
   "cell_type": "code",
   "execution_count": 20,
   "id": "0e3a2cab",
   "metadata": {
    "id": "0e3a2cab"
   },
   "outputs": [],
   "source": [
    "df=df.sort_values(by=['email_hash','ctc','ctc_updated_year'],ascending=[True,False,False])"
   ]
  },
  {
   "cell_type": "code",
   "execution_count": 20,
   "id": "bca0010d",
   "metadata": {
    "id": "bca0010d"
   },
   "outputs": [],
   "source": []
  },
  {
   "cell_type": "markdown",
   "id": "fbc9264e",
   "metadata": {
    "id": "fbc9264e"
   },
   "source": [
    "### Creating Aggregated Dataset"
   ]
  },
  {
   "cell_type": "code",
   "execution_count": 21,
   "id": "f7e9e2e9",
   "metadata": {
    "colab": {
     "base_uri": "https://localhost:8080/",
     "height": 206
    },
    "id": "f7e9e2e9",
    "outputId": "ae69add0-90b3-426c-c9a7-ba839ca6ab4e"
   },
   "outputs": [
    {
     "data": {
      "text/html": [
       "\n",
       "  <div id=\"df-71668210-c23c-4ac1-94fb-89165ca54cd0\">\n",
       "    <div class=\"colab-df-container\">\n",
       "      <div>\n",
       "<style scoped>\n",
       "    .dataframe tbody tr th:only-of-type {\n",
       "        vertical-align: middle;\n",
       "    }\n",
       "\n",
       "    .dataframe tbody tr th {\n",
       "        vertical-align: top;\n",
       "    }\n",
       "\n",
       "    .dataframe thead th {\n",
       "        text-align: right;\n",
       "    }\n",
       "</style>\n",
       "<table border=\"1\" class=\"dataframe\">\n",
       "  <thead>\n",
       "    <tr style=\"text-align: right;\">\n",
       "      <th></th>\n",
       "      <th>company_hash</th>\n",
       "      <th>orgyear</th>\n",
       "      <th>ctc</th>\n",
       "      <th>job_position</th>\n",
       "      <th>ctc_updated_year</th>\n",
       "    </tr>\n",
       "  </thead>\n",
       "  <tbody>\n",
       "    <tr>\n",
       "      <th>0</th>\n",
       "      <td>bxwqgogen</td>\n",
       "      <td>2012.0</td>\n",
       "      <td>3500000</td>\n",
       "      <td>Backend Engineer</td>\n",
       "      <td>2019.0</td>\n",
       "    </tr>\n",
       "    <tr>\n",
       "      <th>1</th>\n",
       "      <td>nqsn axsxnvr</td>\n",
       "      <td>2013.0</td>\n",
       "      <td>250000</td>\n",
       "      <td>Backend Engineer</td>\n",
       "      <td>2020.0</td>\n",
       "    </tr>\n",
       "    <tr>\n",
       "      <th>2</th>\n",
       "      <td>gunhb</td>\n",
       "      <td>2021.0</td>\n",
       "      <td>1300000</td>\n",
       "      <td>FullStack Engineer</td>\n",
       "      <td>2019.0</td>\n",
       "    </tr>\n",
       "    <tr>\n",
       "      <th>3</th>\n",
       "      <td>bxwqgotbx wgqugqvnxgz</td>\n",
       "      <td>2004.0</td>\n",
       "      <td>2000000</td>\n",
       "      <td>FullStack Engineer</td>\n",
       "      <td>2021.0</td>\n",
       "    </tr>\n",
       "    <tr>\n",
       "      <th>4</th>\n",
       "      <td>fvrbvqn rvmo</td>\n",
       "      <td>2009.0</td>\n",
       "      <td>3400000</td>\n",
       "      <td>None</td>\n",
       "      <td>2018.0</td>\n",
       "    </tr>\n",
       "  </tbody>\n",
       "</table>\n",
       "</div>\n",
       "      <button class=\"colab-df-convert\" onclick=\"convertToInteractive('df-71668210-c23c-4ac1-94fb-89165ca54cd0')\"\n",
       "              title=\"Convert this dataframe to an interactive table.\"\n",
       "              style=\"display:none;\">\n",
       "        \n",
       "  <svg xmlns=\"http://www.w3.org/2000/svg\" height=\"24px\"viewBox=\"0 0 24 24\"\n",
       "       width=\"24px\">\n",
       "    <path d=\"M0 0h24v24H0V0z\" fill=\"none\"/>\n",
       "    <path d=\"M18.56 5.44l.94 2.06.94-2.06 2.06-.94-2.06-.94-.94-2.06-.94 2.06-2.06.94zm-11 1L8.5 8.5l.94-2.06 2.06-.94-2.06-.94L8.5 2.5l-.94 2.06-2.06.94zm10 10l.94 2.06.94-2.06 2.06-.94-2.06-.94-.94-2.06-.94 2.06-2.06.94z\"/><path d=\"M17.41 7.96l-1.37-1.37c-.4-.4-.92-.59-1.43-.59-.52 0-1.04.2-1.43.59L10.3 9.45l-7.72 7.72c-.78.78-.78 2.05 0 2.83L4 21.41c.39.39.9.59 1.41.59.51 0 1.02-.2 1.41-.59l7.78-7.78 2.81-2.81c.8-.78.8-2.07 0-2.86zM5.41 20L4 18.59l7.72-7.72 1.47 1.35L5.41 20z\"/>\n",
       "  </svg>\n",
       "      </button>\n",
       "      \n",
       "  <style>\n",
       "    .colab-df-container {\n",
       "      display:flex;\n",
       "      flex-wrap:wrap;\n",
       "      gap: 12px;\n",
       "    }\n",
       "\n",
       "    .colab-df-convert {\n",
       "      background-color: #E8F0FE;\n",
       "      border: none;\n",
       "      border-radius: 50%;\n",
       "      cursor: pointer;\n",
       "      display: none;\n",
       "      fill: #1967D2;\n",
       "      height: 32px;\n",
       "      padding: 0 0 0 0;\n",
       "      width: 32px;\n",
       "    }\n",
       "\n",
       "    .colab-df-convert:hover {\n",
       "      background-color: #E2EBFA;\n",
       "      box-shadow: 0px 1px 2px rgba(60, 64, 67, 0.3), 0px 1px 3px 1px rgba(60, 64, 67, 0.15);\n",
       "      fill: #174EA6;\n",
       "    }\n",
       "\n",
       "    [theme=dark] .colab-df-convert {\n",
       "      background-color: #3B4455;\n",
       "      fill: #D2E3FC;\n",
       "    }\n",
       "\n",
       "    [theme=dark] .colab-df-convert:hover {\n",
       "      background-color: #434B5C;\n",
       "      box-shadow: 0px 1px 3px 1px rgba(0, 0, 0, 0.15);\n",
       "      filter: drop-shadow(0px 1px 2px rgba(0, 0, 0, 0.3));\n",
       "      fill: #FFFFFF;\n",
       "    }\n",
       "  </style>\n",
       "\n",
       "      <script>\n",
       "        const buttonEl =\n",
       "          document.querySelector('#df-71668210-c23c-4ac1-94fb-89165ca54cd0 button.colab-df-convert');\n",
       "        buttonEl.style.display =\n",
       "          google.colab.kernel.accessAllowed ? 'block' : 'none';\n",
       "\n",
       "        async function convertToInteractive(key) {\n",
       "          const element = document.querySelector('#df-71668210-c23c-4ac1-94fb-89165ca54cd0');\n",
       "          const dataTable =\n",
       "            await google.colab.kernel.invokeFunction('convertToInteractive',\n",
       "                                                     [key], {});\n",
       "          if (!dataTable) return;\n",
       "\n",
       "          const docLinkHtml = 'Like what you see? Visit the ' +\n",
       "            '<a target=\"_blank\" href=https://colab.research.google.com/notebooks/data_table.ipynb>data table notebook</a>'\n",
       "            + ' to learn more about interactive tables.';\n",
       "          element.innerHTML = '';\n",
       "          dataTable['output_type'] = 'display_data';\n",
       "          await google.colab.output.renderOutput(dataTable, element);\n",
       "          const docLink = document.createElement('div');\n",
       "          docLink.innerHTML = docLinkHtml;\n",
       "          element.appendChild(docLink);\n",
       "        }\n",
       "      </script>\n",
       "    </div>\n",
       "  </div>\n",
       "  "
      ],
      "text/plain": [
       "            company_hash  orgyear      ctc        job_position  \\\n",
       "0              bxwqgogen   2012.0  3500000    Backend Engineer   \n",
       "1           nqsn axsxnvr   2013.0   250000    Backend Engineer   \n",
       "2                  gunhb   2021.0  1300000  FullStack Engineer   \n",
       "3  bxwqgotbx wgqugqvnxgz   2004.0  2000000  FullStack Engineer   \n",
       "4           fvrbvqn rvmo   2009.0  3400000                None   \n",
       "\n",
       "   ctc_updated_year  \n",
       "0            2019.0  \n",
       "1            2020.0  \n",
       "2            2019.0  \n",
       "3            2021.0  \n",
       "4            2018.0  "
      ]
     },
     "execution_count": 21,
     "metadata": {},
     "output_type": "execute_result"
    }
   ],
   "source": [
    "# Getting the first record for every learner.\n",
    "df=df.groupby(by='email_hash').first().reset_index()\n",
    "\n",
    "# We can drop the \"email_hash\" column from the dataset since it's of no use to us anymore.\n",
    "df.drop(columns='email_hash',inplace=True)\n",
    "\n",
    "df.head()"
   ]
  },
  {
   "cell_type": "code",
   "execution_count": 22,
   "id": "953ae317",
   "metadata": {
    "colab": {
     "base_uri": "https://localhost:8080/",
     "height": 0
    },
    "id": "953ae317",
    "outputId": "ffa52a7c-16f2-4420-e68e-262ce8c62b25"
   },
   "outputs": [
    {
     "data": {
      "text/plain": [
       "company_hash         0.02\n",
       "orgyear              0.05\n",
       "ctc                  0.00\n",
       "job_position        13.18\n",
       "ctc_updated_year     0.00\n",
       "dtype: float64"
      ]
     },
     "execution_count": 22,
     "metadata": {},
     "output_type": "execute_result"
    }
   ],
   "source": [
    "# Checking for missing values in Percentage.\n",
    "round(100*df.isna().mean(),2)\n",
    "\n",
    "# \"company_hash\" has almost 0.02% missing values.\n",
    "# \"orgyear\" has almost 0.05% missing values.\n",
    "# \"job_position\" has almost 13.18% missing values."
   ]
  },
  {
   "cell_type": "code",
   "execution_count": 23,
   "id": "6189d742",
   "metadata": {
    "colab": {
     "base_uri": "https://localhost:8080/",
     "height": 0
    },
    "id": "6189d742",
    "outputId": "93df2503-dc7b-4e5e-9a86-fd4097368c5e"
   },
   "outputs": [
    {
     "data": {
      "text/plain": [
       "813"
      ]
     },
     "execution_count": 23,
     "metadata": {},
     "output_type": "execute_result"
    }
   ],
   "source": [
    "# Lets try to first deal with the missing values of \"job_position\".\n",
    "\n",
    "# Lets look at the number of unique values of \"job_position\".\n",
    "df['job_position'].nunique()\n",
    "\n",
    "#There are a lot of categories for this column.Lets try doing a few data cleaning techniques to reduce the categories."
   ]
  },
  {
   "cell_type": "code",
   "execution_count": 24,
   "id": "d93cc334",
   "metadata": {
    "id": "d93cc334"
   },
   "outputs": [],
   "source": [
    "# First using Regex to try to reduce duplicated categories with special characters.\n",
    "\n",
    "def function(string):\n",
    "    if string!=None:\n",
    "        return re.sub('[^A-Za-z0-9 ]+', '', string)\n",
    "\n",
    "df['job_position']=df['job_position'].apply(function)"
   ]
  },
  {
   "cell_type": "code",
   "execution_count": 25,
   "id": "b7e299c1",
   "metadata": {
    "id": "b7e299c1"
   },
   "outputs": [],
   "source": [
    "# Lets convert all the \"job_position\" into lower-case and also removing leading and trailing spaces.\n",
    "df['job_position']=(df['job_position'].str.lower()).str.strip()"
   ]
  },
  {
   "cell_type": "code",
   "execution_count": 26,
   "id": "16b26daa",
   "metadata": {
    "id": "16b26daa"
   },
   "outputs": [],
   "source": [
    "# Lets also remove if there are spaces between the words.\n",
    "def remove_spaces(job):\n",
    "    if job !=None:\n",
    "        job=job.split()\n",
    "        job=' '.join(job)\n",
    "        return job\n",
    "\n",
    "df['job_position']=df['job_position'].apply(remove_spaces)"
   ]
  },
  {
   "cell_type": "code",
   "execution_count": 27,
   "id": "a05357ec",
   "metadata": {
    "colab": {
     "base_uri": "https://localhost:8080/",
     "height": 0
    },
    "id": "a05357ec",
    "outputId": "939f50d6-1ab7-4323-85f3-2f6fb354638f"
   },
   "outputs": [
    {
     "data": {
      "text/plain": [
       "721"
      ]
     },
     "execution_count": 27,
     "metadata": {},
     "output_type": "execute_result"
    }
   ],
   "source": [
    "# Lets check how many categories we have now.\n",
    "df['job_position'].nunique()\n",
    "\n",
    "# Great! We were able to remove almost 90 duplicate categories."
   ]
  },
  {
   "cell_type": "code",
   "execution_count": 28,
   "id": "33216ef1",
   "metadata": {
    "colab": {
     "base_uri": "https://localhost:8080/",
     "height": 0
    },
    "id": "33216ef1",
    "outputId": "dc2349f7-5cdc-43d0-d162-28e5240a0c16"
   },
   "outputs": [
    {
     "data": {
      "text/plain": [
       "backend engineer          27.981744\n",
       "fullstack engineer        16.064525\n",
       "other                     11.854916\n",
       "frontend engineer          6.957716\n",
       "engineering leadership     4.659245\n",
       "qa engineer                4.616459\n",
       "data scientist             3.678154\n",
       "android engineer           3.672149\n",
       "sdet                       3.392159\n",
       "devops engineer            3.229269\n",
       "support engineer           2.372785\n",
       "ios engineer               1.926152\n",
       "data analyst               1.909638\n",
       "engineering intern         1.580105\n",
       "product designer           0.957821\n",
       "product manager            0.801687\n",
       "backend architect          0.794932\n",
       "research engineers         0.728124\n",
       "program manager            0.571990\n",
       "non coder                  0.399342\n",
       "Name: job_position, dtype: float64"
      ]
     },
     "execution_count": 28,
     "metadata": {},
     "output_type": "execute_result"
    }
   ],
   "source": [
    "# Since \"job_position\" is a categorical variable, lets look at its value_counts.\n",
    "df['job_position'].value_counts(normalize=True,dropna=False)*100\n",
    "\n",
    "# Observation : We do not have a clear majority mode here. \n",
    "# Lets see try to look at the top 20 occuring job profiles.\n",
    "(df['job_position'].value_counts(normalize=True)*100)[:20]"
   ]
  },
  {
   "cell_type": "code",
   "execution_count": 29,
   "id": "2373a0f4",
   "metadata": {
    "id": "2373a0f4"
   },
   "outputs": [],
   "source": [
    "# We can create 1 new category \"Missing\" to impute the missing values.\n",
    "# And we can create another new category \"Combined\" to combine all the categories whose occurence is less than 1 percent.\n",
    "\n",
    "df['job_position'].fillna('Missing',inplace=True)\n",
    "\n",
    "temp=df['job_position'].value_counts(normalize=True)*100\n",
    "jobs_to_replace=temp[temp<1].index\n",
    "df.loc[df['job_position'].isin(jobs_to_replace),'job_position']='Combined'"
   ]
  },
  {
   "cell_type": "code",
   "execution_count": 30,
   "id": "3c7a9c76",
   "metadata": {
    "colab": {
     "base_uri": "https://localhost:8080/",
     "height": 0
    },
    "id": "3c7a9c76",
    "outputId": "b70550d3-bedf-4e0c-e7f7-377415c9055a"
   },
   "outputs": [
    {
     "data": {
      "text/plain": [
       "0"
      ]
     },
     "execution_count": 30,
     "metadata": {},
     "output_type": "execute_result"
    }
   ],
   "source": [
    "# Lets check if the missing value handling was successful.\n",
    "df['job_position'].isna().sum()"
   ]
  },
  {
   "cell_type": "code",
   "execution_count": 31,
   "id": "d6103ac9",
   "metadata": {
    "colab": {
     "base_uri": "https://localhost:8080/",
     "height": 0
    },
    "id": "d6103ac9",
    "outputId": "f59c1116-5679-4632-c8b8-e7f94e92bc66"
   },
   "outputs": [
    {
     "name": "stdout",
     "output_type": "stream",
     "text": [
      "Total Missing Values 32\n",
      "Total Categories 36323\n",
      "Total Categories after Regex 36323\n"
     ]
    }
   ],
   "source": [
    "# Lets check how many values are missing for \"company_hash\"\n",
    "print('Total Missing Values',df['company_hash'].isna().sum())\n",
    "\n",
    "# Lets check for the total number of categories in \"company_hash\"\n",
    "print('Total Categories',df['company_hash'].nunique())\n",
    "\n",
    "# Since there are so many companies and the number of missing values are very less, we can drop these rows.\n",
    "df=df[~df['company_hash'].isna()]\n",
    "\n",
    "\n",
    "# Lets try using Regex to try to reduce duplicated categories with special characters if present.\n",
    "\n",
    "def function(string):\n",
    "    if string!=None:\n",
    "        return re.sub('[^A-Za-z0-9 ]+', '', string)\n",
    "df['job_position']=df['job_position'].apply(function)\n",
    "\n",
    "# Lets check for the total number of categories in \"company_hash\"\n",
    "print('Total Categories after Regex',df['company_hash'].nunique())\n",
    "\n",
    "# Resetting the Index\n",
    "df.reset_index(drop=True,inplace=True)"
   ]
  },
  {
   "cell_type": "code",
   "execution_count": 32,
   "id": "808b514c",
   "metadata": {
    "colab": {
     "base_uri": "https://localhost:8080/",
     "height": 0
    },
    "id": "808b514c",
    "outputId": "a32891e5-663a-41fc-9593-78e0d331c345"
   },
   "outputs": [
    {
     "name": "stdout",
     "output_type": "stream",
     "text": [
      "Total Missing Values: 78\n",
      "\n",
      "Total Categories: 77\n",
      "\n",
      "[1.0, 1986.0, 1989.0, 1990.0, 1991.0, 1992.0, 1993.0, 1994.0, 1995.0, 1996.0, 1997.0, 1998.0, 1999.0, 2000.0, 2001.0, 2002.0, 2003.0, 2004.0, 2005.0, 2006.0, 2007.0, 2008.0, 2009.0, 2010.0, 2011.0, 2012.0, 2013.0, 2014.0, 2015.0, 2016.0, 2017.0, 2018.0, 2019.0, 2020.0, 2021.0, 2022.0, 2023.0, nan, 0.0, 2.0, 3.0, 4.0, 5.0, 6.0, 38.0, 83.0, 91.0, 200.0, 201.0, 206.0, 208.0, 209.0, 1900.0, 1970.0, 1971.0, 1972.0, 1973.0, 1976.0, 1977.0, 1979.0, 1981.0, 1982.0, 1984.0, 1985.0, 1987.0, 1988.0, 2024.0, 2025.0, 2026.0, 2027.0, 2028.0, 2029.0, 2031.0, 2101.0, 2106.0, 2107.0, 2204.0, 20165.0]\n",
      "\n",
      "96.47352536649915 %\n",
      "\n",
      "Total Missing Values: 0\n"
     ]
    }
   ],
   "source": [
    "# Lets check how many values are missing for \"orgyear\"\n",
    "print('Total Missing Values:',df['orgyear'].isna().sum())\n",
    "print()\n",
    "\n",
    "# Lets check for the total number of categories in \"orgyear\"\n",
    "print('Total Categories:',df['orgyear'].nunique())\n",
    "print()\n",
    "\n",
    "# Lets look at the possible values of \"orgyear\"\n",
    "print(sorted(df['orgyear'].unique().tolist()))\n",
    "print()\n",
    "\n",
    "# We can see lot of illogical values such as 0,1,2,208,209,2204,20165. We can drop such rows.\n",
    "# Lets check the percentage of records that lie between 2005 and 2022. Almost 97.5%, which is a good proportion.\n",
    "print(df['orgyear'].between(2005,2022).mean()*100,'%')\n",
    "print()\n",
    "# We can drop the other observations.\n",
    "\n",
    "df=df[df['orgyear'].between(2005,2022)]\n",
    "\n",
    "# Lets check whether the missing values are still present.\n",
    "print('Total Missing Values:',df['orgyear'].isna().sum())\n",
    "\n",
    "# Hurrah! The missing values were dropped as part of the previous process.\n",
    "# There was no need of using KNN imputation to fill the missing values.\n",
    "\n",
    "# Resetting the Index\n",
    "df.reset_index(drop=True,inplace=True)"
   ]
  },
  {
   "cell_type": "code",
   "execution_count": 33,
   "id": "74fac251",
   "metadata": {
    "colab": {
     "base_uri": "https://localhost:8080/",
     "height": 0
    },
    "id": "74fac251",
    "outputId": "31a9497c-b956-4a5d-dde2-7c8794ad45e0"
   },
   "outputs": [
    {
     "data": {
      "text/plain": [
       "company_hash        0\n",
       "orgyear             0\n",
       "ctc                 0\n",
       "job_position        0\n",
       "ctc_updated_year    0\n",
       "dtype: int64"
      ]
     },
     "execution_count": 33,
     "metadata": {},
     "output_type": "execute_result"
    }
   ],
   "source": [
    "# Final Check for presence of missing values.\n",
    "df.isna().sum()"
   ]
  },
  {
   "cell_type": "code",
   "execution_count": 33,
   "id": "a3afced0",
   "metadata": {
    "id": "a3afced0"
   },
   "outputs": [],
   "source": []
  },
  {
   "cell_type": "markdown",
   "id": "c1a31728",
   "metadata": {
    "id": "c1a31728"
   },
   "source": [
    "## New Features"
   ]
  },
  {
   "cell_type": "markdown",
   "id": "d4da9aa5",
   "metadata": {
    "id": "d4da9aa5"
   },
   "source": [
    "### 1) \"Years of Experience\""
   ]
  },
  {
   "cell_type": "code",
   "execution_count": 34,
   "id": "d5ff5c4d",
   "metadata": {
    "id": "d5ff5c4d"
   },
   "outputs": [],
   "source": [
    "# We can get this new feature by subtracting \"ctc_updated_year\" from \"orgyear\".\n",
    "df['Years_of_Experience']=df['ctc_updated_year']-df['orgyear']"
   ]
  },
  {
   "cell_type": "code",
   "execution_count": 35,
   "id": "97882200",
   "metadata": {
    "colab": {
     "base_uri": "https://localhost:8080/",
     "height": 347
    },
    "id": "97882200",
    "outputId": "aeeb7a71-2a1a-47cb-b6b2-30aaebb177bb"
   },
   "outputs": [
    {
     "data": {
      "image/png": "[encoded data removed]",
      "text/plain": [
       "<Figure size 864x360 with 1 Axes>"
      ]
     },
     "metadata": {},
     "output_type": "display_data"
    }
   ],
   "source": [
    "# Lets check if we have only non-negative values of \"Years of Experience\".\n",
    "plt.figure(figsize=(12,5))\n",
    "sns.countplot(data=df,x='Years_of_Experience')\n",
    "plt.xticks(rotation=90)\n",
    "plt.show()"
   ]
  },
  {
   "cell_type": "code",
   "execution_count": 36,
   "id": "d63ed007",
   "metadata": {
    "id": "d63ed007"
   },
   "outputs": [],
   "source": [
    "# We observed that there are negative values for \"Years of Experience\", which is not possible in the real world.\n",
    "# We can therefore drop those records for which \"Years of Experience\" has negative values.\n",
    "\n",
    "df=df[df['Years_of_Experience']>=0]\n",
    "\n",
    "# Resetting the Index\n",
    "df.reset_index(drop=True,inplace=True)"
   ]
  },
  {
   "cell_type": "code",
   "execution_count": 37,
   "id": "8ce0f02a",
   "metadata": {
    "id": "8ce0f02a"
   },
   "outputs": [],
   "source": [
    "# Now we can drop the columns \"orgyear\" and \"ctc_updated_year\"\n",
    "df.drop(columns=['orgyear','ctc_updated_year'],inplace=True)"
   ]
  },
  {
   "cell_type": "code",
   "execution_count": 37,
   "id": "a5cae8f0",
   "metadata": {
    "id": "a5cae8f0"
   },
   "outputs": [],
   "source": []
  },
  {
   "cell_type": "code",
   "execution_count": 38,
   "id": "098c28f2",
   "metadata": {
    "colab": {
     "base_uri": "https://localhost:8080/",
     "height": 143
    },
    "id": "098c28f2",
    "outputId": "cb221f42-9a4c-441d-f0ee-b1ccbdc0b2d0"
   },
   "outputs": [
    {
     "data": {
      "text/html": [
       "\n",
       "  <div id=\"df-00117ee9-882f-499b-b1b9-56aad96261e2\">\n",
       "    <div class=\"colab-df-container\">\n",
       "      <div>\n",
       "<style scoped>\n",
       "    .dataframe tbody tr th:only-of-type {\n",
       "        vertical-align: middle;\n",
       "    }\n",
       "\n",
       "    .dataframe tbody tr th {\n",
       "        vertical-align: top;\n",
       "    }\n",
       "\n",
       "    .dataframe thead th {\n",
       "        text-align: right;\n",
       "    }\n",
       "</style>\n",
       "<table border=\"1\" class=\"dataframe\">\n",
       "  <thead>\n",
       "    <tr style=\"text-align: right;\">\n",
       "      <th></th>\n",
       "      <th>company_hash</th>\n",
       "      <th>ctc</th>\n",
       "      <th>job_position</th>\n",
       "      <th>Years_of_Experience</th>\n",
       "    </tr>\n",
       "  </thead>\n",
       "  <tbody>\n",
       "    <tr>\n",
       "      <th>0</th>\n",
       "      <td>bxwqgogen</td>\n",
       "      <td>3500000</td>\n",
       "      <td>backend engineer</td>\n",
       "      <td>7.0</td>\n",
       "    </tr>\n",
       "    <tr>\n",
       "      <th>1</th>\n",
       "      <td>nqsn axsxnvr</td>\n",
       "      <td>250000</td>\n",
       "      <td>backend engineer</td>\n",
       "      <td>7.0</td>\n",
       "    </tr>\n",
       "    <tr>\n",
       "      <th>2</th>\n",
       "      <td>fvrbvqn rvmo</td>\n",
       "      <td>3400000</td>\n",
       "      <td>Missing</td>\n",
       "      <td>9.0</td>\n",
       "    </tr>\n",
       "  </tbody>\n",
       "</table>\n",
       "</div>\n",
       "      <button class=\"colab-df-convert\" onclick=\"convertToInteractive('df-00117ee9-882f-499b-b1b9-56aad96261e2')\"\n",
       "              title=\"Convert this dataframe to an interactive table.\"\n",
       "              style=\"display:none;\">\n",
       "        \n",
       "  <svg xmlns=\"http://www.w3.org/2000/svg\" height=\"24px\"viewBox=\"0 0 24 24\"\n",
       "       width=\"24px\">\n",
       "    <path d=\"M0 0h24v24H0V0z\" fill=\"none\"/>\n",
       "    <path d=\"M18.56 5.44l.94 2.06.94-2.06 2.06-.94-2.06-.94-.94-2.06-.94 2.06-2.06.94zm-11 1L8.5 8.5l.94-2.06 2.06-.94-2.06-.94L8.5 2.5l-.94 2.06-2.06.94zm10 10l.94 2.06.94-2.06 2.06-.94-2.06-.94-.94-2.06-.94 2.06-2.06.94z\"/><path d=\"M17.41 7.96l-1.37-1.37c-.4-.4-.92-.59-1.43-.59-.52 0-1.04.2-1.43.59L10.3 9.45l-7.72 7.72c-.78.78-.78 2.05 0 2.83L4 21.41c.39.39.9.59 1.41.59.51 0 1.02-.2 1.41-.59l7.78-7.78 2.81-2.81c.8-.78.8-2.07 0-2.86zM5.41 20L4 18.59l7.72-7.72 1.47 1.35L5.41 20z\"/>\n",
       "  </svg>\n",
       "      </button>\n",
       "      \n",
       "  <style>\n",
       "    .colab-df-container {\n",
       "      display:flex;\n",
       "      flex-wrap:wrap;\n",
       "      gap: 12px;\n",
       "    }\n",
       "\n",
       "    .colab-df-convert {\n",
       "      background-color: #E8F0FE;\n",
       "      border: none;\n",
       "      border-radius: 50%;\n",
       "      cursor: pointer;\n",
       "      display: none;\n",
       "      fill: #1967D2;\n",
       "      height: 32px;\n",
       "      padding: 0 0 0 0;\n",
       "      width: 32px;\n",
       "    }\n",
       "\n",
       "    .colab-df-convert:hover {\n",
       "      background-color: #E2EBFA;\n",
       "      box-shadow: 0px 1px 2px rgba(60, 64, 67, 0.3), 0px 1px 3px 1px rgba(60, 64, 67, 0.15);\n",
       "      fill: #174EA6;\n",
       "    }\n",
       "\n",
       "    [theme=dark] .colab-df-convert {\n",
       "      background-color: #3B4455;\n",
       "      fill: #D2E3FC;\n",
       "    }\n",
       "\n",
       "    [theme=dark] .colab-df-convert:hover {\n",
       "      background-color: #434B5C;\n",
       "      box-shadow: 0px 1px 3px 1px rgba(0, 0, 0, 0.15);\n",
       "      filter: drop-shadow(0px 1px 2px rgba(0, 0, 0, 0.3));\n",
       "      fill: #FFFFFF;\n",
       "    }\n",
       "  </style>\n",
       "\n",
       "      <script>\n",
       "        const buttonEl =\n",
       "          document.querySelector('#df-00117ee9-882f-499b-b1b9-56aad96261e2 button.colab-df-convert');\n",
       "        buttonEl.style.display =\n",
       "          google.colab.kernel.accessAllowed ? 'block' : 'none';\n",
       "\n",
       "        async function convertToInteractive(key) {\n",
       "          const element = document.querySelector('#df-00117ee9-882f-499b-b1b9-56aad96261e2');\n",
       "          const dataTable =\n",
       "            await google.colab.kernel.invokeFunction('convertToInteractive',\n",
       "                                                     [key], {});\n",
       "          if (!dataTable) return;\n",
       "\n",
       "          const docLinkHtml = 'Like what you see? Visit the ' +\n",
       "            '<a target=\"_blank\" href=https://colab.research.google.com/notebooks/data_table.ipynb>data table notebook</a>'\n",
       "            + ' to learn more about interactive tables.';\n",
       "          element.innerHTML = '';\n",
       "          dataTable['output_type'] = 'display_data';\n",
       "          await google.colab.output.renderOutput(dataTable, element);\n",
       "          const docLink = document.createElement('div');\n",
       "          docLink.innerHTML = docLinkHtml;\n",
       "          element.appendChild(docLink);\n",
       "        }\n",
       "      </script>\n",
       "    </div>\n",
       "  </div>\n",
       "  "
      ],
      "text/plain": [
       "   company_hash      ctc      job_position  Years_of_Experience\n",
       "0     bxwqgogen  3500000  backend engineer                  7.0\n",
       "1  nqsn axsxnvr   250000  backend engineer                  7.0\n",
       "2  fvrbvqn rvmo  3400000           Missing                  9.0"
      ]
     },
     "execution_count": 38,
     "metadata": {},
     "output_type": "execute_result"
    }
   ],
   "source": [
    "# Lets take a look at our dataset.\n",
    "df.head(3)"
   ]
  },
  {
   "cell_type": "code",
   "execution_count": 39,
   "id": "50027945",
   "metadata": {
    "colab": {
     "base_uri": "https://localhost:8080/",
     "height": 0
    },
    "id": "50027945",
    "outputId": "ee8fab98-ca7d-4982-e1a6-6e660d88bdd4"
   },
   "outputs": [
    {
     "data": {
      "text/plain": [
       "(141111, 4)"
      ]
     },
     "execution_count": 39,
     "metadata": {},
     "output_type": "execute_result"
    }
   ],
   "source": [
    "df.shape"
   ]
  },
  {
   "cell_type": "code",
   "execution_count": 40,
   "id": "d3356581",
   "metadata": {
    "colab": {
     "base_uri": "https://localhost:8080/",
     "height": 0
    },
    "id": "d3356581",
    "outputId": "7e8dd7cb-8103-43e6-b64a-66f1d91662b7"
   },
   "outputs": [
    {
     "name": "stdout",
     "output_type": "stream",
     "text": [
      "<class 'pandas.core.frame.DataFrame'>\n",
      "RangeIndex: 141111 entries, 0 to 141110\n",
      "Data columns (total 4 columns):\n",
      " #   Column               Non-Null Count   Dtype  \n",
      "---  ------               --------------   -----  \n",
      " 0   company_hash         141111 non-null  object \n",
      " 1   ctc                  141111 non-null  int64  \n",
      " 2   job_position         141111 non-null  object \n",
      " 3   Years_of_Experience  141111 non-null  float64\n",
      "dtypes: float64(1), int64(1), object(2)\n",
      "memory usage: 4.3+ MB\n"
     ]
    }
   ],
   "source": [
    "df.info()"
   ]
  },
  {
   "cell_type": "code",
   "execution_count": 41,
   "id": "3541d34a",
   "metadata": {
    "colab": {
     "base_uri": "https://localhost:8080/",
     "height": 112
    },
    "id": "3541d34a",
    "outputId": "fc3bce6d-71ed-4ae7-afe5-e02d02b6cd82"
   },
   "outputs": [
    {
     "data": {
      "text/html": [
       "\n",
       "  <div id=\"df-7e1f81a3-f585-4a6f-be68-6a9b2f2c2d42\">\n",
       "    <div class=\"colab-df-container\">\n",
       "      <div>\n",
       "<style scoped>\n",
       "    .dataframe tbody tr th:only-of-type {\n",
       "        vertical-align: middle;\n",
       "    }\n",
       "\n",
       "    .dataframe tbody tr th {\n",
       "        vertical-align: top;\n",
       "    }\n",
       "\n",
       "    .dataframe thead th {\n",
       "        text-align: right;\n",
       "    }\n",
       "</style>\n",
       "<table border=\"1\" class=\"dataframe\">\n",
       "  <thead>\n",
       "    <tr style=\"text-align: right;\">\n",
       "      <th></th>\n",
       "      <th>count</th>\n",
       "      <th>mean</th>\n",
       "      <th>std</th>\n",
       "      <th>min</th>\n",
       "      <th>25%</th>\n",
       "      <th>50%</th>\n",
       "      <th>75%</th>\n",
       "      <th>max</th>\n",
       "    </tr>\n",
       "  </thead>\n",
       "  <tbody>\n",
       "    <tr>\n",
       "      <th>ctc</th>\n",
       "      <td>141111.0</td>\n",
       "      <td>2.425988e+06</td>\n",
       "      <td>1.283431e+07</td>\n",
       "      <td>2.0</td>\n",
       "      <td>550000.0</td>\n",
       "      <td>950000.0</td>\n",
       "      <td>1680000.0</td>\n",
       "      <td>1.000150e+09</td>\n",
       "    </tr>\n",
       "    <tr>\n",
       "      <th>Years_of_Experience</th>\n",
       "      <td>141111.0</td>\n",
       "      <td>4.471267e+00</td>\n",
       "      <td>3.266160e+00</td>\n",
       "      <td>0.0</td>\n",
       "      <td>2.0</td>\n",
       "      <td>4.0</td>\n",
       "      <td>6.0</td>\n",
       "      <td>1.600000e+01</td>\n",
       "    </tr>\n",
       "  </tbody>\n",
       "</table>\n",
       "</div>\n",
       "      <button class=\"colab-df-convert\" onclick=\"convertToInteractive('df-7e1f81a3-f585-4a6f-be68-6a9b2f2c2d42')\"\n",
       "              title=\"Convert this dataframe to an interactive table.\"\n",
       "              style=\"display:none;\">\n",
       "        \n",
       "  <svg xmlns=\"http://www.w3.org/2000/svg\" height=\"24px\"viewBox=\"0 0 24 24\"\n",
       "       width=\"24px\">\n",
       "    <path d=\"M0 0h24v24H0V0z\" fill=\"none\"/>\n",
       "    <path d=\"M18.56 5.44l.94 2.06.94-2.06 2.06-.94-2.06-.94-.94-2.06-.94 2.06-2.06.94zm-11 1L8.5 8.5l.94-2.06 2.06-.94-2.06-.94L8.5 2.5l-.94 2.06-2.06.94zm10 10l.94 2.06.94-2.06 2.06-.94-2.06-.94-.94-2.06-.94 2.06-2.06.94z\"/><path d=\"M17.41 7.96l-1.37-1.37c-.4-.4-.92-.59-1.43-.59-.52 0-1.04.2-1.43.59L10.3 9.45l-7.72 7.72c-.78.78-.78 2.05 0 2.83L4 21.41c.39.39.9.59 1.41.59.51 0 1.02-.2 1.41-.59l7.78-7.78 2.81-2.81c.8-.78.8-2.07 0-2.86zM5.41 20L4 18.59l7.72-7.72 1.47 1.35L5.41 20z\"/>\n",
       "  </svg>\n",
       "      </button>\n",
       "      \n",
       "  <style>\n",
       "    .colab-df-container {\n",
       "      display:flex;\n",
       "      flex-wrap:wrap;\n",
       "      gap: 12px;\n",
       "    }\n",
       "\n",
       "    .colab-df-convert {\n",
       "      background-color: #E8F0FE;\n",
       "      border: none;\n",
       "      border-radius: 50%;\n",
       "      cursor: pointer;\n",
       "      display: none;\n",
       "      fill: #1967D2;\n",
       "      height: 32px;\n",
       "      padding: 0 0 0 0;\n",
       "      width: 32px;\n",
       "    }\n",
       "\n",
       "    .colab-df-convert:hover {\n",
       "      background-color: #E2EBFA;\n",
       "      box-shadow: 0px 1px 2px rgba(60, 64, 67, 0.3), 0px 1px 3px 1px rgba(60, 64, 67, 0.15);\n",
       "      fill: #174EA6;\n",
       "    }\n",
       "\n",
       "    [theme=dark] .colab-df-convert {\n",
       "      background-color: #3B4455;\n",
       "      fill: #D2E3FC;\n",
       "    }\n",
       "\n",
       "    [theme=dark] .colab-df-convert:hover {\n",
       "      background-color: #434B5C;\n",
       "      box-shadow: 0px 1px 3px 1px rgba(0, 0, 0, 0.15);\n",
       "      filter: drop-shadow(0px 1px 2px rgba(0, 0, 0, 0.3));\n",
       "      fill: #FFFFFF;\n",
       "    }\n",
       "  </style>\n",
       "\n",
       "      <script>\n",
       "        const buttonEl =\n",
       "          document.querySelector('#df-7e1f81a3-f585-4a6f-be68-6a9b2f2c2d42 button.colab-df-convert');\n",
       "        buttonEl.style.display =\n",
       "          google.colab.kernel.accessAllowed ? 'block' : 'none';\n",
       "\n",
       "        async function convertToInteractive(key) {\n",
       "          const element = document.querySelector('#df-7e1f81a3-f585-4a6f-be68-6a9b2f2c2d42');\n",
       "          const dataTable =\n",
       "            await google.colab.kernel.invokeFunction('convertToInteractive',\n",
       "                                                     [key], {});\n",
       "          if (!dataTable) return;\n",
       "\n",
       "          const docLinkHtml = 'Like what you see? Visit the ' +\n",
       "            '<a target=\"_blank\" href=https://colab.research.google.com/notebooks/data_table.ipynb>data table notebook</a>'\n",
       "            + ' to learn more about interactive tables.';\n",
       "          element.innerHTML = '';\n",
       "          dataTable['output_type'] = 'display_data';\n",
       "          await google.colab.output.renderOutput(dataTable, element);\n",
       "          const docLink = document.createElement('div');\n",
       "          docLink.innerHTML = docLinkHtml;\n",
       "          element.appendChild(docLink);\n",
       "        }\n",
       "      </script>\n",
       "    </div>\n",
       "  </div>\n",
       "  "
      ],
      "text/plain": [
       "                        count          mean           std  min       25%  \\\n",
       "ctc                  141111.0  2.425988e+06  1.283431e+07  2.0  550000.0   \n",
       "Years_of_Experience  141111.0  4.471267e+00  3.266160e+00  0.0       2.0   \n",
       "\n",
       "                          50%        75%           max  \n",
       "ctc                  950000.0  1680000.0  1.000150e+09  \n",
       "Years_of_Experience       4.0        6.0  1.600000e+01  "
      ]
     },
     "metadata": {},
     "output_type": "display_data"
    }
   ],
   "source": [
    "# Descriptive Statistics for Continuous Columns\n",
    "display(df[['ctc','Years_of_Experience']].describe().T)\n",
    "\n",
    "# Observation - The max value of \"ctc\" is very large. And the min value is strangely very small. Need to inspect further."
   ]
  },
  {
   "cell_type": "code",
   "execution_count": 42,
   "id": "c88b833d",
   "metadata": {
    "colab": {
     "base_uri": "https://localhost:8080/",
     "height": 175
    },
    "id": "c88b833d",
    "outputId": "8d714d60-094b-436b-c116-fde432b04e22"
   },
   "outputs": [
    {
     "data": {
      "text/html": [
       "\n",
       "  <div id=\"df-e5d6e44c-a6a5-44b7-9cb5-71d0290a8e30\">\n",
       "    <div class=\"colab-df-container\">\n",
       "      <div>\n",
       "<style scoped>\n",
       "    .dataframe tbody tr th:only-of-type {\n",
       "        vertical-align: middle;\n",
       "    }\n",
       "\n",
       "    .dataframe tbody tr th {\n",
       "        vertical-align: top;\n",
       "    }\n",
       "\n",
       "    .dataframe thead th {\n",
       "        text-align: right;\n",
       "    }\n",
       "</style>\n",
       "<table border=\"1\" class=\"dataframe\">\n",
       "  <thead>\n",
       "    <tr style=\"text-align: right;\">\n",
       "      <th></th>\n",
       "      <th>company_hash</th>\n",
       "      <th>job_position</th>\n",
       "    </tr>\n",
       "  </thead>\n",
       "  <tbody>\n",
       "    <tr>\n",
       "      <th>count</th>\n",
       "      <td>141111</td>\n",
       "      <td>141111</td>\n",
       "    </tr>\n",
       "    <tr>\n",
       "      <th>unique</th>\n",
       "      <td>33953</td>\n",
       "      <td>16</td>\n",
       "    </tr>\n",
       "    <tr>\n",
       "      <th>top</th>\n",
       "      <td>nvnv wgzohrnvzwj otqcxwto</td>\n",
       "      <td>backend engineer</td>\n",
       "    </tr>\n",
       "    <tr>\n",
       "      <th>freq</th>\n",
       "      <td>4927</td>\n",
       "      <td>35709</td>\n",
       "    </tr>\n",
       "  </tbody>\n",
       "</table>\n",
       "</div>\n",
       "      <button class=\"colab-df-convert\" onclick=\"convertToInteractive('df-e5d6e44c-a6a5-44b7-9cb5-71d0290a8e30')\"\n",
       "              title=\"Convert this dataframe to an interactive table.\"\n",
       "              style=\"display:none;\">\n",
       "        \n",
       "  <svg xmlns=\"http://www.w3.org/2000/svg\" height=\"24px\"viewBox=\"0 0 24 24\"\n",
       "       width=\"24px\">\n",
       "    <path d=\"M0 0h24v24H0V0z\" fill=\"none\"/>\n",
       "    <path d=\"M18.56 5.44l.94 2.06.94-2.06 2.06-.94-2.06-.94-.94-2.06-.94 2.06-2.06.94zm-11 1L8.5 8.5l.94-2.06 2.06-.94-2.06-.94L8.5 2.5l-.94 2.06-2.06.94zm10 10l.94 2.06.94-2.06 2.06-.94-2.06-.94-.94-2.06-.94 2.06-2.06.94z\"/><path d=\"M17.41 7.96l-1.37-1.37c-.4-.4-.92-.59-1.43-.59-.52 0-1.04.2-1.43.59L10.3 9.45l-7.72 7.72c-.78.78-.78 2.05 0 2.83L4 21.41c.39.39.9.59 1.41.59.51 0 1.02-.2 1.41-.59l7.78-7.78 2.81-2.81c.8-.78.8-2.07 0-2.86zM5.41 20L4 18.59l7.72-7.72 1.47 1.35L5.41 20z\"/>\n",
       "  </svg>\n",
       "      </button>\n",
       "      \n",
       "  <style>\n",
       "    .colab-df-container {\n",
       "      display:flex;\n",
       "      flex-wrap:wrap;\n",
       "      gap: 12px;\n",
       "    }\n",
       "\n",
       "    .colab-df-convert {\n",
       "      background-color: #E8F0FE;\n",
       "      border: none;\n",
       "      border-radius: 50%;\n",
       "      cursor: pointer;\n",
       "      display: none;\n",
       "      fill: #1967D2;\n",
       "      height: 32px;\n",
       "      padding: 0 0 0 0;\n",
       "      width: 32px;\n",
       "    }\n",
       "\n",
       "    .colab-df-convert:hover {\n",
       "      background-color: #E2EBFA;\n",
       "      box-shadow: 0px 1px 2px rgba(60, 64, 67, 0.3), 0px 1px 3px 1px rgba(60, 64, 67, 0.15);\n",
       "      fill: #174EA6;\n",
       "    }\n",
       "\n",
       "    [theme=dark] .colab-df-convert {\n",
       "      background-color: #3B4455;\n",
       "      fill: #D2E3FC;\n",
       "    }\n",
       "\n",
       "    [theme=dark] .colab-df-convert:hover {\n",
       "      background-color: #434B5C;\n",
       "      box-shadow: 0px 1px 3px 1px rgba(0, 0, 0, 0.15);\n",
       "      filter: drop-shadow(0px 1px 2px rgba(0, 0, 0, 0.3));\n",
       "      fill: #FFFFFF;\n",
       "    }\n",
       "  </style>\n",
       "\n",
       "      <script>\n",
       "        const buttonEl =\n",
       "          document.querySelector('#df-e5d6e44c-a6a5-44b7-9cb5-71d0290a8e30 button.colab-df-convert');\n",
       "        buttonEl.style.display =\n",
       "          google.colab.kernel.accessAllowed ? 'block' : 'none';\n",
       "\n",
       "        async function convertToInteractive(key) {\n",
       "          const element = document.querySelector('#df-e5d6e44c-a6a5-44b7-9cb5-71d0290a8e30');\n",
       "          const dataTable =\n",
       "            await google.colab.kernel.invokeFunction('convertToInteractive',\n",
       "                                                     [key], {});\n",
       "          if (!dataTable) return;\n",
       "\n",
       "          const docLinkHtml = 'Like what you see? Visit the ' +\n",
       "            '<a target=\"_blank\" href=https://colab.research.google.com/notebooks/data_table.ipynb>data table notebook</a>'\n",
       "            + ' to learn more about interactive tables.';\n",
       "          element.innerHTML = '';\n",
       "          dataTable['output_type'] = 'display_data';\n",
       "          await google.colab.output.renderOutput(dataTable, element);\n",
       "          const docLink = document.createElement('div');\n",
       "          docLink.innerHTML = docLinkHtml;\n",
       "          element.appendChild(docLink);\n",
       "        }\n",
       "      </script>\n",
       "    </div>\n",
       "  </div>\n",
       "  "
      ],
      "text/plain": [
       "                     company_hash      job_position\n",
       "count                      141111            141111\n",
       "unique                      33953                16\n",
       "top     nvnv wgzohrnvzwj otqcxwto  backend engineer\n",
       "freq                         4927             35709"
      ]
     },
     "metadata": {},
     "output_type": "display_data"
    }
   ],
   "source": [
    "# Descriptive Statistics for Categorical Columns\n",
    "display(df[['company_hash', 'job_position']].describe())"
   ]
  },
  {
   "cell_type": "code",
   "execution_count": 42,
   "id": "3160770e",
   "metadata": {
    "id": "3160770e"
   },
   "outputs": [],
   "source": []
  },
  {
   "cell_type": "markdown",
   "id": "c8fc875f",
   "metadata": {
    "id": "c8fc875f"
   },
   "source": [
    "## Analysis"
   ]
  },
  {
   "cell_type": "markdown",
   "id": "313eee22",
   "metadata": {
    "id": "313eee22"
   },
   "source": [
    "### 1) \"ctc\""
   ]
  },
  {
   "cell_type": "code",
   "execution_count": 43,
   "id": "195913a4",
   "metadata": {
    "colab": {
     "base_uri": "https://localhost:8080/",
     "height": 81
    },
    "id": "195913a4",
    "outputId": "0ec0da95-3e7d-4ff1-f2e3-ed545c4f605f"
   },
   "outputs": [
    {
     "data": {
      "text/html": [
       "\n",
       "  <div id=\"df-9102a91c-b7db-4c45-ab30-fcefede68c06\">\n",
       "    <div class=\"colab-df-container\">\n",
       "      <div>\n",
       "<style scoped>\n",
       "    .dataframe tbody tr th:only-of-type {\n",
       "        vertical-align: middle;\n",
       "    }\n",
       "\n",
       "    .dataframe tbody tr th {\n",
       "        vertical-align: top;\n",
       "    }\n",
       "\n",
       "    .dataframe thead th {\n",
       "        text-align: right;\n",
       "    }\n",
       "</style>\n",
       "<table border=\"1\" class=\"dataframe\">\n",
       "  <thead>\n",
       "    <tr style=\"text-align: right;\">\n",
       "      <th></th>\n",
       "      <th>count</th>\n",
       "      <th>mean</th>\n",
       "      <th>std</th>\n",
       "      <th>min</th>\n",
       "      <th>25%</th>\n",
       "      <th>50%</th>\n",
       "      <th>75%</th>\n",
       "      <th>max</th>\n",
       "    </tr>\n",
       "  </thead>\n",
       "  <tbody>\n",
       "    <tr>\n",
       "      <th>ctc</th>\n",
       "      <td>141111.0</td>\n",
       "      <td>2.425988e+06</td>\n",
       "      <td>1.283431e+07</td>\n",
       "      <td>2.0</td>\n",
       "      <td>550000.0</td>\n",
       "      <td>950000.0</td>\n",
       "      <td>1680000.0</td>\n",
       "      <td>1.000150e+09</td>\n",
       "    </tr>\n",
       "  </tbody>\n",
       "</table>\n",
       "</div>\n",
       "      <button class=\"colab-df-convert\" onclick=\"convertToInteractive('df-9102a91c-b7db-4c45-ab30-fcefede68c06')\"\n",
       "              title=\"Convert this dataframe to an interactive table.\"\n",
       "              style=\"display:none;\">\n",
       "        \n",
       "  <svg xmlns=\"http://www.w3.org/2000/svg\" height=\"24px\"viewBox=\"0 0 24 24\"\n",
       "       width=\"24px\">\n",
       "    <path d=\"M0 0h24v24H0V0z\" fill=\"none\"/>\n",
       "    <path d=\"M18.56 5.44l.94 2.06.94-2.06 2.06-.94-2.06-.94-.94-2.06-.94 2.06-2.06.94zm-11 1L8.5 8.5l.94-2.06 2.06-.94-2.06-.94L8.5 2.5l-.94 2.06-2.06.94zm10 10l.94 2.06.94-2.06 2.06-.94-2.06-.94-.94-2.06-.94 2.06-2.06.94z\"/><path d=\"M17.41 7.96l-1.37-1.37c-.4-.4-.92-.59-1.43-.59-.52 0-1.04.2-1.43.59L10.3 9.45l-7.72 7.72c-.78.78-.78 2.05 0 2.83L4 21.41c.39.39.9.59 1.41.59.51 0 1.02-.2 1.41-.59l7.78-7.78 2.81-2.81c.8-.78.8-2.07 0-2.86zM5.41 20L4 18.59l7.72-7.72 1.47 1.35L5.41 20z\"/>\n",
       "  </svg>\n",
       "      </button>\n",
       "      \n",
       "  <style>\n",
       "    .colab-df-container {\n",
       "      display:flex;\n",
       "      flex-wrap:wrap;\n",
       "      gap: 12px;\n",
       "    }\n",
       "\n",
       "    .colab-df-convert {\n",
       "      background-color: #E8F0FE;\n",
       "      border: none;\n",
       "      border-radius: 50%;\n",
       "      cursor: pointer;\n",
       "      display: none;\n",
       "      fill: #1967D2;\n",
       "      height: 32px;\n",
       "      padding: 0 0 0 0;\n",
       "      width: 32px;\n",
       "    }\n",
       "\n",
       "    .colab-df-convert:hover {\n",
       "      background-color: #E2EBFA;\n",
       "      box-shadow: 0px 1px 2px rgba(60, 64, 67, 0.3), 0px 1px 3px 1px rgba(60, 64, 67, 0.15);\n",
       "      fill: #174EA6;\n",
       "    }\n",
       "\n",
       "    [theme=dark] .colab-df-convert {\n",
       "      background-color: #3B4455;\n",
       "      fill: #D2E3FC;\n",
       "    }\n",
       "\n",
       "    [theme=dark] .colab-df-convert:hover {\n",
       "      background-color: #434B5C;\n",
       "      box-shadow: 0px 1px 3px 1px rgba(0, 0, 0, 0.15);\n",
       "      filter: drop-shadow(0px 1px 2px rgba(0, 0, 0, 0.3));\n",
       "      fill: #FFFFFF;\n",
       "    }\n",
       "  </style>\n",
       "\n",
       "      <script>\n",
       "        const buttonEl =\n",
       "          document.querySelector('#df-9102a91c-b7db-4c45-ab30-fcefede68c06 button.colab-df-convert');\n",
       "        buttonEl.style.display =\n",
       "          google.colab.kernel.accessAllowed ? 'block' : 'none';\n",
       "\n",
       "        async function convertToInteractive(key) {\n",
       "          const element = document.querySelector('#df-9102a91c-b7db-4c45-ab30-fcefede68c06');\n",
       "          const dataTable =\n",
       "            await google.colab.kernel.invokeFunction('convertToInteractive',\n",
       "                                                     [key], {});\n",
       "          if (!dataTable) return;\n",
       "\n",
       "          const docLinkHtml = 'Like what you see? Visit the ' +\n",
       "            '<a target=\"_blank\" href=https://colab.research.google.com/notebooks/data_table.ipynb>data table notebook</a>'\n",
       "            + ' to learn more about interactive tables.';\n",
       "          element.innerHTML = '';\n",
       "          dataTable['output_type'] = 'display_data';\n",
       "          await google.colab.output.renderOutput(dataTable, element);\n",
       "          const docLink = document.createElement('div');\n",
       "          docLink.innerHTML = docLinkHtml;\n",
       "          element.appendChild(docLink);\n",
       "        }\n",
       "      </script>\n",
       "    </div>\n",
       "  </div>\n",
       "  "
      ],
      "text/plain": [
       "        count          mean           std  min       25%       50%        75%  \\\n",
       "ctc  141111.0  2.425988e+06  1.283431e+07  2.0  550000.0  950000.0  1680000.0   \n",
       "\n",
       "              max  \n",
       "ctc  1.000150e+09  "
      ]
     },
     "execution_count": 43,
     "metadata": {},
     "output_type": "execute_result"
    }
   ],
   "source": [
    "df[['ctc']].describe().T\n",
    "# As observed earlier, the max value is very large, and the min value is very small. This could be a potential outlier."
   ]
  },
  {
   "cell_type": "code",
   "execution_count": 44,
   "id": "d86acefb",
   "metadata": {
    "colab": {
     "base_uri": "https://localhost:8080/",
     "height": 0
    },
    "id": "d86acefb",
    "outputId": "33dbd0c0-078a-4e8f-e2bc-3fd07176cec4"
   },
   "outputs": [
    {
     "name": "stdout",
     "output_type": "stream",
     "text": [
      "2.262049025235453\n"
     ]
    }
   ],
   "source": [
    "# Lets first look at smaller values of \"ctc\" columns.\n",
    "# Lets check how many values are smaller than 1 lakh.\n",
    "\n",
    "print((df['ctc']<100000).mean()*100)\n",
    "\n",
    "# Almost 2.26 percent data is well below a logical minimum \"ctc\". Lets assume these are errors and proceed to drop them.\n",
    "\n",
    "df=df[df['ctc']>=100000]"
   ]
  },
  {
   "cell_type": "code",
   "execution_count": 45,
   "id": "76b4ba35",
   "metadata": {
    "colab": {
     "base_uri": "https://localhost:8080/",
     "height": 0
    },
    "id": "76b4ba35",
    "outputId": "cbbf7a98-5e89-4e83-d479-9859bddf5c8f"
   },
   "outputs": [
    {
     "name": "stdout",
     "output_type": "stream",
     "text": [
      "1.2833619733321733\n"
     ]
    }
   ],
   "source": [
    "# Now lets look at the larger values of \"ctc\" column.\n",
    "# Lets check how many values are greater than 1 crore.\n",
    "\n",
    "print((df['ctc']>10000000).mean()*100)\n",
    "\n",
    "# Almost 1.28 percent data is greater than 1 crore. These are not very common \"ctc\", so lets go ahead and drop them.\n",
    "\n",
    "df=df[df['ctc']<=10000000]"
   ]
  },
  {
   "cell_type": "code",
   "execution_count": 46,
   "id": "22781893",
   "metadata": {
    "id": "22781893"
   },
   "outputs": [],
   "source": [
    "# Resetting the Index.\n",
    "df.reset_index(drop=True,inplace=True)"
   ]
  },
  {
   "cell_type": "code",
   "execution_count": 47,
   "id": "48559839",
   "metadata": {
    "colab": {
     "base_uri": "https://localhost:8080/",
     "height": 442
    },
    "id": "48559839",
    "outputId": "e3a6be91-ed15-46f8-af9c-70ef13a6b6e0"
   },
   "outputs": [
    {
     "data": {
      "image/png": "[encoded data removed]",
      "text/plain": [
       "<Figure size 504x504 with 1 Axes>"
      ]
     },
     "metadata": {},
     "output_type": "display_data"
    }
   ],
   "source": [
    "# PLotting the boxplot.\n",
    "plt.figure(figsize=(7,7))\n",
    "sns.boxplot(data=df,x='ctc')\n",
    "plt.show()\n",
    "\n",
    "# There are very still big values in the \"ctc\" column. Lets use Log Transformation on \"ctc\" colum.\n",
    "df['Log_ctc']=np.log(df['ctc'])"
   ]
  },
  {
   "cell_type": "code",
   "execution_count": 48,
   "id": "3dd51170",
   "metadata": {
    "colab": {
     "base_uri": "https://localhost:8080/",
     "height": 378
    },
    "id": "3dd51170",
    "outputId": "f4c4cff5-6efe-48bd-b494-dde024d8c958"
   },
   "outputs": [
    {
     "data": {
      "text/plain": [
       "<matplotlib.axes._subplots.AxesSubplot at 0x7fd61a0a4d90>"
      ]
     },
     "execution_count": 48,
     "metadata": {},
     "output_type": "execute_result"
    },
    {
     "data": {
      "image/png": "[encoded data removed]",
      "text/plain": [
       "<Figure size 576x396 with 1 Axes>"
      ]
     },
     "metadata": {},
     "output_type": "display_data"
    }
   ],
   "source": [
    "# Lets check the distribution of \"ctc\" column.\n",
    "sns.kdeplot(df['Log_ctc'])\n",
    "\n",
    "# The distribution looks much better. We can use this column instead to find the clusters."
   ]
  },
  {
   "cell_type": "code",
   "execution_count": 49,
   "id": "68b29828",
   "metadata": {
    "colab": {
     "base_uri": "https://localhost:8080/",
     "height": 0
    },
    "id": "68b29828",
    "outputId": "616dba41-6211-4e24-9fb7-c774d16e103d"
   },
   "outputs": [
    {
     "data": {
      "text/plain": [
       "(136149, 5)"
      ]
     },
     "execution_count": 49,
     "metadata": {},
     "output_type": "execute_result"
    }
   ],
   "source": [
    "df.shape"
   ]
  },
  {
   "cell_type": "markdown",
   "id": "5e29e462",
   "metadata": {
    "id": "5e29e462"
   },
   "source": [
    "### 2) \"job_position\""
   ]
  },
  {
   "cell_type": "code",
   "execution_count": 50,
   "id": "440a62d6",
   "metadata": {
    "colab": {
     "base_uri": "https://localhost:8080/",
     "height": 370
    },
    "id": "440a62d6",
    "outputId": "ff0daac5-95d7-4b5f-f89d-1f142d61b213"
   },
   "outputs": [
    {
     "data": {
      "image/png": "[encoded data removed]",
      "text/plain": [
       "<Figure size 1080x288 with 1 Axes>"
      ]
     },
     "metadata": {},
     "output_type": "display_data"
    }
   ],
   "source": [
    "# Lets look at the occurences of each of the \"job_position\" categories.\n",
    "\n",
    "plt.figure(figsize=(15,4))\n",
    "sns.countplot(data=df,x='job_position')\n",
    "plt.xticks(rotation=90)\n",
    "plt.show()\n",
    "\n",
    "# \"Backend-Engineer\" and  \"Fullstack-Engineer\" appear the most times."
   ]
  },
  {
   "cell_type": "code",
   "execution_count": 50,
   "id": "a46854a3",
   "metadata": {
    "id": "a46854a3"
   },
   "outputs": [],
   "source": []
  },
  {
   "cell_type": "markdown",
   "id": "7467e582",
   "metadata": {
    "id": "7467e582"
   },
   "source": [
    "### 3) \"ctc\" with \"job_position\""
   ]
  },
  {
   "cell_type": "code",
   "execution_count": 51,
   "id": "5b6dd5b3",
   "metadata": {
    "colab": {
     "base_uri": "https://localhost:8080/",
     "height": 381
    },
    "id": "5b6dd5b3",
    "outputId": "d3cd3af8-c991-4632-928b-0c8d2ceb1cd7"
   },
   "outputs": [
    {
     "data": {
      "image/png": "[encoded data removed]",
      "text/plain": [
       "<Figure size 1080x288 with 1 Axes>"
      ]
     },
     "metadata": {},
     "output_type": "display_data"
    }
   ],
   "source": [
    "# Lets look at the average salary of each of the job categories.\n",
    "plt.figure(figsize=(15,4))\n",
    "sns.barplot(data=df,x='job_position',y='ctc')\n",
    "plt.xticks(rotation=90)\n",
    "plt.show()\n",
    "\n",
    "# \"Engineering Leadership\" earns the highest average \"ctc\" among all job categories.\n",
    "# \"Support Engineer\" has the minimum average \"ctc\" among all job categories."
   ]
  },
  {
   "cell_type": "code",
   "execution_count": 51,
   "id": "4fba85ed",
   "metadata": {
    "id": "4fba85ed"
   },
   "outputs": [],
   "source": []
  },
  {
   "cell_type": "markdown",
   "id": "2db0082e",
   "metadata": {
    "id": "2db0082e"
   },
   "source": [
    "### 4) \"Years_of_Experience\" with \"job_position\""
   ]
  },
  {
   "cell_type": "code",
   "execution_count": 52,
   "id": "19b3c5d4",
   "metadata": {
    "colab": {
     "base_uri": "https://localhost:8080/",
     "height": 370
    },
    "id": "19b3c5d4",
    "outputId": "55d00018-b1ed-4ea1-803c-b61b4b05330e"
   },
   "outputs": [
    {
     "data": {
      "image/png": "[encoded data removed]",
      "text/plain": [
       "<Figure size 1080x288 with 1 Axes>"
      ]
     },
     "metadata": {},
     "output_type": "display_data"
    }
   ],
   "source": [
    "# Lets look at the average salary of each of the job categories.\n",
    "plt.figure(figsize=(15,4))\n",
    "sns.barplot(data=df,x='job_position',y='Years_of_Experience')\n",
    "plt.xticks(rotation=90)\n",
    "plt.show()\n",
    "\n",
    "# \"Engineering Leadership\" has the highest average \"Years_of_Experience\" among all job categories.\n",
    "# \"Engineering Intern\" has the minimum average \"Years_of_Experience\" among all job categories."
   ]
  },
  {
   "cell_type": "code",
   "execution_count": 52,
   "id": "ef755e39",
   "metadata": {
    "id": "ef755e39"
   },
   "outputs": [],
   "source": []
  },
  {
   "cell_type": "markdown",
   "id": "d8a5ab6b",
   "metadata": {
    "id": "d8a5ab6b"
   },
   "source": [
    "### 5) \"company_hash\""
   ]
  },
  {
   "cell_type": "code",
   "execution_count": 53,
   "id": "c6f9a647",
   "metadata": {
    "colab": {
     "base_uri": "https://localhost:8080/",
     "height": 380
    },
    "id": "c6f9a647",
    "outputId": "d5f290ad-900c-4b59-be34-84c0b6b3647c"
   },
   "outputs": [
    {
     "data": {
      "image/png": "[encoded data removed]",
      "text/plain": [
       "<Figure size 1080x288 with 1 Axes>"
      ]
     },
     "metadata": {},
     "output_type": "display_data"
    }
   ],
   "source": [
    "# Lets look at the top 10 companies having most number of jobs.\n",
    "\n",
    "plt.figure(figsize=(15,4))\n",
    "temp=df['company_hash'].value_counts().sort_values(ascending=False)[:10]\n",
    "sns.barplot(x=temp.index,y=temp.values)\n",
    "plt.xticks(rotation=90)\n",
    "plt.show()"
   ]
  },
  {
   "cell_type": "code",
   "execution_count": 53,
   "id": "8af41e2e",
   "metadata": {
    "id": "8af41e2e"
   },
   "outputs": [],
   "source": []
  },
  {
   "cell_type": "markdown",
   "id": "2c2f40b1",
   "metadata": {
    "id": "2c2f40b1"
   },
   "source": [
    "### 6) \"company_hash\" with \"ctc\" "
   ]
  },
  {
   "cell_type": "code",
   "execution_count": 54,
   "id": "208249d6",
   "metadata": {
    "colab": {
     "base_uri": "https://localhost:8080/",
     "height": 368
    },
    "id": "208249d6",
    "outputId": "e5d4b1ed-9a8b-49a2-b552-a44a8334bf22"
   },
   "outputs": [
    {
     "data": {
      "image/png": "[encoded data removed]",
      "text/plain": [
       "<Figure size 1080x288 with 1 Axes>"
      ]
     },
     "metadata": {},
     "output_type": "display_data"
    }
   ],
   "source": [
    "# Lets look at the top 10 companies having average \"ctc\".\n",
    "\n",
    "plt.figure(figsize=(15,4))\n",
    "temp=df.groupby(by='company_hash').mean()['ctc'].sort_values(ascending=False)[:10]\n",
    "sns.barplot(x=temp.index,y=temp.values)\n",
    "plt.xticks(rotation=90)\n",
    "plt.show()\n",
    "\n",
    "# There are many companies who pay a very big \"ctc\". All the top 10 \"ctc\" are identical."
   ]
  },
  {
   "cell_type": "code",
   "execution_count": 54,
   "id": "cc211609",
   "metadata": {
    "id": "cc211609"
   },
   "outputs": [],
   "source": []
  },
  {
   "cell_type": "markdown",
   "id": "df061765",
   "metadata": {
    "id": "df061765"
   },
   "source": [
    "## Manual Clustering"
   ]
  },
  {
   "cell_type": "markdown",
   "id": "5afbf182",
   "metadata": {
    "id": "5afbf182"
   },
   "source": [
    "### 1) \"Designation Flag\"\n",
    "Creating \"Designation_Flag\" which shows learners with CTC greater/lower than the Average of their Company’s department having same Years of Experience."
   ]
  },
  {
   "cell_type": "markdown",
   "id": "3887a91e",
   "metadata": {
    "id": "3887a91e"
   },
   "source": [
    "- Before we create the flag, lets specify the rules based on which the flag would be created. \n",
    "- If the \"ctc\" is less than 75% of \"average_ctc\", we can flag it as 1.\n",
    "- If the \"ctc\" is between 75% and 125% of \"average_ctc\", we can flag it as 2.\n",
    "- If the \"ctc\" is grater than 125% of \"average_ctc\", we can flag it as 3."
   ]
  },
  {
   "cell_type": "code",
   "execution_count": 55,
   "id": "f811a665",
   "metadata": {
    "id": "f811a665"
   },
   "outputs": [],
   "source": [
    "# Lets find the \"average_ctc\" as per the \"company_hash\",\"job_position\" and \"Years_of_Experience\". We can name it \"Average_1\"\n",
    "temp=df.groupby(by=[\"company_hash\",\"job_position\",\"Years_of_Experience\"]).agg({'ctc':'mean',}).astype('int').reset_index().rename(columns={'ctc':\"Average_1\"})\n",
    "\n",
    "# Merging the average_ctc with the dataset.\n",
    "df=pd.merge(left=df,right=temp,on=[\"company_hash\",\"job_position\",\"Years_of_Experience\"])"
   ]
  },
  {
   "cell_type": "code",
   "execution_count": 56,
   "id": "4652f12a",
   "metadata": {
    "colab": {
     "base_uri": "https://localhost:8080/",
     "height": 143
    },
    "id": "4652f12a",
    "outputId": "962bdb4a-6509-402a-cb6c-3cb9cbd33911"
   },
   "outputs": [
    {
     "data": {
      "text/html": [
       "\n",
       "  <div id=\"df-8ef67434-d3a4-4851-971d-621b1cb5b120\">\n",
       "    <div class=\"colab-df-container\">\n",
       "      <div>\n",
       "<style scoped>\n",
       "    .dataframe tbody tr th:only-of-type {\n",
       "        vertical-align: middle;\n",
       "    }\n",
       "\n",
       "    .dataframe tbody tr th {\n",
       "        vertical-align: top;\n",
       "    }\n",
       "\n",
       "    .dataframe thead th {\n",
       "        text-align: right;\n",
       "    }\n",
       "</style>\n",
       "<table border=\"1\" class=\"dataframe\">\n",
       "  <thead>\n",
       "    <tr style=\"text-align: right;\">\n",
       "      <th></th>\n",
       "      <th>company_hash</th>\n",
       "      <th>ctc</th>\n",
       "      <th>job_position</th>\n",
       "      <th>Years_of_Experience</th>\n",
       "      <th>Log_ctc</th>\n",
       "      <th>Average_1</th>\n",
       "    </tr>\n",
       "  </thead>\n",
       "  <tbody>\n",
       "    <tr>\n",
       "      <th>0</th>\n",
       "      <td>bxwqgogen</td>\n",
       "      <td>3500000</td>\n",
       "      <td>backend engineer</td>\n",
       "      <td>7.0</td>\n",
       "      <td>15.068274</td>\n",
       "      <td>3286052</td>\n",
       "    </tr>\n",
       "    <tr>\n",
       "      <th>1</th>\n",
       "      <td>bxwqgogen</td>\n",
       "      <td>3560000</td>\n",
       "      <td>backend engineer</td>\n",
       "      <td>7.0</td>\n",
       "      <td>15.085271</td>\n",
       "      <td>3286052</td>\n",
       "    </tr>\n",
       "    <tr>\n",
       "      <th>2</th>\n",
       "      <td>bxwqgogen</td>\n",
       "      <td>5500000</td>\n",
       "      <td>backend engineer</td>\n",
       "      <td>7.0</td>\n",
       "      <td>15.520259</td>\n",
       "      <td>3286052</td>\n",
       "    </tr>\n",
       "  </tbody>\n",
       "</table>\n",
       "</div>\n",
       "      <button class=\"colab-df-convert\" onclick=\"convertToInteractive('df-8ef67434-d3a4-4851-971d-621b1cb5b120')\"\n",
       "              title=\"Convert this dataframe to an interactive table.\"\n",
       "              style=\"display:none;\">\n",
       "        \n",
       "  <svg xmlns=\"http://www.w3.org/2000/svg\" height=\"24px\"viewBox=\"0 0 24 24\"\n",
       "       width=\"24px\">\n",
       "    <path d=\"M0 0h24v24H0V0z\" fill=\"none\"/>\n",
       "    <path d=\"M18.56 5.44l.94 2.06.94-2.06 2.06-.94-2.06-.94-.94-2.06-.94 2.06-2.06.94zm-11 1L8.5 8.5l.94-2.06 2.06-.94-2.06-.94L8.5 2.5l-.94 2.06-2.06.94zm10 10l.94 2.06.94-2.06 2.06-.94-2.06-.94-.94-2.06-.94 2.06-2.06.94z\"/><path d=\"M17.41 7.96l-1.37-1.37c-.4-.4-.92-.59-1.43-.59-.52 0-1.04.2-1.43.59L10.3 9.45l-7.72 7.72c-.78.78-.78 2.05 0 2.83L4 21.41c.39.39.9.59 1.41.59.51 0 1.02-.2 1.41-.59l7.78-7.78 2.81-2.81c.8-.78.8-2.07 0-2.86zM5.41 20L4 18.59l7.72-7.72 1.47 1.35L5.41 20z\"/>\n",
       "  </svg>\n",
       "      </button>\n",
       "      \n",
       "  <style>\n",
       "    .colab-df-container {\n",
       "      display:flex;\n",
       "      flex-wrap:wrap;\n",
       "      gap: 12px;\n",
       "    }\n",
       "\n",
       "    .colab-df-convert {\n",
       "      background-color: #E8F0FE;\n",
       "      border: none;\n",
       "      border-radius: 50%;\n",
       "      cursor: pointer;\n",
       "      display: none;\n",
       "      fill: #1967D2;\n",
       "      height: 32px;\n",
       "      padding: 0 0 0 0;\n",
       "      width: 32px;\n",
       "    }\n",
       "\n",
       "    .colab-df-convert:hover {\n",
       "      background-color: #E2EBFA;\n",
       "      box-shadow: 0px 1px 2px rgba(60, 64, 67, 0.3), 0px 1px 3px 1px rgba(60, 64, 67, 0.15);\n",
       "      fill: #174EA6;\n",
       "    }\n",
       "\n",
       "    [theme=dark] .colab-df-convert {\n",
       "      background-color: #3B4455;\n",
       "      fill: #D2E3FC;\n",
       "    }\n",
       "\n",
       "    [theme=dark] .colab-df-convert:hover {\n",
       "      background-color: #434B5C;\n",
       "      box-shadow: 0px 1px 3px 1px rgba(0, 0, 0, 0.15);\n",
       "      filter: drop-shadow(0px 1px 2px rgba(0, 0, 0, 0.3));\n",
       "      fill: #FFFFFF;\n",
       "    }\n",
       "  </style>\n",
       "\n",
       "      <script>\n",
       "        const buttonEl =\n",
       "          document.querySelector('#df-8ef67434-d3a4-4851-971d-621b1cb5b120 button.colab-df-convert');\n",
       "        buttonEl.style.display =\n",
       "          google.colab.kernel.accessAllowed ? 'block' : 'none';\n",
       "\n",
       "        async function convertToInteractive(key) {\n",
       "          const element = document.querySelector('#df-8ef67434-d3a4-4851-971d-621b1cb5b120');\n",
       "          const dataTable =\n",
       "            await google.colab.kernel.invokeFunction('convertToInteractive',\n",
       "                                                     [key], {});\n",
       "          if (!dataTable) return;\n",
       "\n",
       "          const docLinkHtml = 'Like what you see? Visit the ' +\n",
       "            '<a target=\"_blank\" href=https://colab.research.google.com/notebooks/data_table.ipynb>data table notebook</a>'\n",
       "            + ' to learn more about interactive tables.';\n",
       "          element.innerHTML = '';\n",
       "          dataTable['output_type'] = 'display_data';\n",
       "          await google.colab.output.renderOutput(dataTable, element);\n",
       "          const docLink = document.createElement('div');\n",
       "          docLink.innerHTML = docLinkHtml;\n",
       "          element.appendChild(docLink);\n",
       "        }\n",
       "      </script>\n",
       "    </div>\n",
       "  </div>\n",
       "  "
      ],
      "text/plain": [
       "  company_hash      ctc      job_position  Years_of_Experience    Log_ctc  \\\n",
       "0    bxwqgogen  3500000  backend engineer                  7.0  15.068274   \n",
       "1    bxwqgogen  3560000  backend engineer                  7.0  15.085271   \n",
       "2    bxwqgogen  5500000  backend engineer                  7.0  15.520259   \n",
       "\n",
       "   Average_1  \n",
       "0    3286052  \n",
       "1    3286052  \n",
       "2    3286052  "
      ]
     },
     "execution_count": 56,
     "metadata": {},
     "output_type": "execute_result"
    }
   ],
   "source": [
    "# Lets have a look at our updated dataset.\n",
    "df.head(3)"
   ]
  },
  {
   "cell_type": "code",
   "execution_count": 57,
   "id": "126f56f4",
   "metadata": {
    "id": "126f56f4"
   },
   "outputs": [],
   "source": [
    "# Lets create a function to create the \"Designation_Flag\" column.\n",
    "def function(arr):\n",
    "    if arr[0]>(1.25*arr[1]):\n",
    "        return 3\n",
    "    elif arr[0]<(0.75*arr[1]):\n",
    "        return 1\n",
    "    else:\n",
    "        return 2\n",
    "\n",
    "# Lets get the values of \"Designation_Flag\"\n",
    "df['Designation_Flag']=df[['ctc','Average_1']].apply(function,axis=1)\n",
    "\n",
    "# We can now drop the \"Average_1\" column.\n",
    "df.drop(columns=['Average_1'],inplace=True)"
   ]
  },
  {
   "cell_type": "code",
   "execution_count": 58,
   "id": "a1054ced",
   "metadata": {
    "colab": {
     "base_uri": "https://localhost:8080/",
     "height": 143
    },
    "id": "a1054ced",
    "outputId": "2861b03d-32bb-4962-be91-30c875445222"
   },
   "outputs": [
    {
     "data": {
      "text/html": [
       "\n",
       "  <div id=\"df-6e64b4d7-782a-4b0a-8c06-f1bc18e6241f\">\n",
       "    <div class=\"colab-df-container\">\n",
       "      <div>\n",
       "<style scoped>\n",
       "    .dataframe tbody tr th:only-of-type {\n",
       "        vertical-align: middle;\n",
       "    }\n",
       "\n",
       "    .dataframe tbody tr th {\n",
       "        vertical-align: top;\n",
       "    }\n",
       "\n",
       "    .dataframe thead th {\n",
       "        text-align: right;\n",
       "    }\n",
       "</style>\n",
       "<table border=\"1\" class=\"dataframe\">\n",
       "  <thead>\n",
       "    <tr style=\"text-align: right;\">\n",
       "      <th></th>\n",
       "      <th>company_hash</th>\n",
       "      <th>ctc</th>\n",
       "      <th>job_position</th>\n",
       "      <th>Years_of_Experience</th>\n",
       "      <th>Log_ctc</th>\n",
       "      <th>Designation_Flag</th>\n",
       "    </tr>\n",
       "  </thead>\n",
       "  <tbody>\n",
       "    <tr>\n",
       "      <th>0</th>\n",
       "      <td>bxwqgogen</td>\n",
       "      <td>3500000</td>\n",
       "      <td>backend engineer</td>\n",
       "      <td>7.0</td>\n",
       "      <td>15.068274</td>\n",
       "      <td>2</td>\n",
       "    </tr>\n",
       "    <tr>\n",
       "      <th>1</th>\n",
       "      <td>bxwqgogen</td>\n",
       "      <td>3560000</td>\n",
       "      <td>backend engineer</td>\n",
       "      <td>7.0</td>\n",
       "      <td>15.085271</td>\n",
       "      <td>2</td>\n",
       "    </tr>\n",
       "    <tr>\n",
       "      <th>2</th>\n",
       "      <td>bxwqgogen</td>\n",
       "      <td>5500000</td>\n",
       "      <td>backend engineer</td>\n",
       "      <td>7.0</td>\n",
       "      <td>15.520259</td>\n",
       "      <td>3</td>\n",
       "    </tr>\n",
       "  </tbody>\n",
       "</table>\n",
       "</div>\n",
       "      <button class=\"colab-df-convert\" onclick=\"convertToInteractive('df-6e64b4d7-782a-4b0a-8c06-f1bc18e6241f')\"\n",
       "              title=\"Convert this dataframe to an interactive table.\"\n",
       "              style=\"display:none;\">\n",
       "        \n",
       "  <svg xmlns=\"http://www.w3.org/2000/svg\" height=\"24px\"viewBox=\"0 0 24 24\"\n",
       "       width=\"24px\">\n",
       "    <path d=\"M0 0h24v24H0V0z\" fill=\"none\"/>\n",
       "    <path d=\"M18.56 5.44l.94 2.06.94-2.06 2.06-.94-2.06-.94-.94-2.06-.94 2.06-2.06.94zm-11 1L8.5 8.5l.94-2.06 2.06-.94-2.06-.94L8.5 2.5l-.94 2.06-2.06.94zm10 10l.94 2.06.94-2.06 2.06-.94-2.06-.94-.94-2.06-.94 2.06-2.06.94z\"/><path d=\"M17.41 7.96l-1.37-1.37c-.4-.4-.92-.59-1.43-.59-.52 0-1.04.2-1.43.59L10.3 9.45l-7.72 7.72c-.78.78-.78 2.05 0 2.83L4 21.41c.39.39.9.59 1.41.59.51 0 1.02-.2 1.41-.59l7.78-7.78 2.81-2.81c.8-.78.8-2.07 0-2.86zM5.41 20L4 18.59l7.72-7.72 1.47 1.35L5.41 20z\"/>\n",
       "  </svg>\n",
       "      </button>\n",
       "      \n",
       "  <style>\n",
       "    .colab-df-container {\n",
       "      display:flex;\n",
       "      flex-wrap:wrap;\n",
       "      gap: 12px;\n",
       "    }\n",
       "\n",
       "    .colab-df-convert {\n",
       "      background-color: #E8F0FE;\n",
       "      border: none;\n",
       "      border-radius: 50%;\n",
       "      cursor: pointer;\n",
       "      display: none;\n",
       "      fill: #1967D2;\n",
       "      height: 32px;\n",
       "      padding: 0 0 0 0;\n",
       "      width: 32px;\n",
       "    }\n",
       "\n",
       "    .colab-df-convert:hover {\n",
       "      background-color: #E2EBFA;\n",
       "      box-shadow: 0px 1px 2px rgba(60, 64, 67, 0.3), 0px 1px 3px 1px rgba(60, 64, 67, 0.15);\n",
       "      fill: #174EA6;\n",
       "    }\n",
       "\n",
       "    [theme=dark] .colab-df-convert {\n",
       "      background-color: #3B4455;\n",
       "      fill: #D2E3FC;\n",
       "    }\n",
       "\n",
       "    [theme=dark] .colab-df-convert:hover {\n",
       "      background-color: #434B5C;\n",
       "      box-shadow: 0px 1px 3px 1px rgba(0, 0, 0, 0.15);\n",
       "      filter: drop-shadow(0px 1px 2px rgba(0, 0, 0, 0.3));\n",
       "      fill: #FFFFFF;\n",
       "    }\n",
       "  </style>\n",
       "\n",
       "      <script>\n",
       "        const buttonEl =\n",
       "          document.querySelector('#df-6e64b4d7-782a-4b0a-8c06-f1bc18e6241f button.colab-df-convert');\n",
       "        buttonEl.style.display =\n",
       "          google.colab.kernel.accessAllowed ? 'block' : 'none';\n",
       "\n",
       "        async function convertToInteractive(key) {\n",
       "          const element = document.querySelector('#df-6e64b4d7-782a-4b0a-8c06-f1bc18e6241f');\n",
       "          const dataTable =\n",
       "            await google.colab.kernel.invokeFunction('convertToInteractive',\n",
       "                                                     [key], {});\n",
       "          if (!dataTable) return;\n",
       "\n",
       "          const docLinkHtml = 'Like what you see? Visit the ' +\n",
       "            '<a target=\"_blank\" href=https://colab.research.google.com/notebooks/data_table.ipynb>data table notebook</a>'\n",
       "            + ' to learn more about interactive tables.';\n",
       "          element.innerHTML = '';\n",
       "          dataTable['output_type'] = 'display_data';\n",
       "          await google.colab.output.renderOutput(dataTable, element);\n",
       "          const docLink = document.createElement('div');\n",
       "          docLink.innerHTML = docLinkHtml;\n",
       "          element.appendChild(docLink);\n",
       "        }\n",
       "      </script>\n",
       "    </div>\n",
       "  </div>\n",
       "  "
      ],
      "text/plain": [
       "  company_hash      ctc      job_position  Years_of_Experience    Log_ctc  \\\n",
       "0    bxwqgogen  3500000  backend engineer                  7.0  15.068274   \n",
       "1    bxwqgogen  3560000  backend engineer                  7.0  15.085271   \n",
       "2    bxwqgogen  5500000  backend engineer                  7.0  15.520259   \n",
       "\n",
       "   Designation_Flag  \n",
       "0                 2  \n",
       "1                 2  \n",
       "2                 3  "
      ]
     },
     "execution_count": 58,
     "metadata": {},
     "output_type": "execute_result"
    }
   ],
   "source": [
    "# Lets have a look at our updated dataset.\n",
    "df.head(3)"
   ]
  },
  {
   "cell_type": "code",
   "execution_count": 59,
   "id": "a9058f85",
   "metadata": {
    "colab": {
     "base_uri": "https://localhost:8080/",
     "height": 275
    },
    "id": "a9058f85",
    "outputId": "d14af1dc-0238-4b2f-d8b5-83f590802ed0"
   },
   "outputs": [
    {
     "data": {
      "image/png": "[encoded data removed]",
      "text/plain": [
       "<Figure size 1080x288 with 1 Axes>"
      ]
     },
     "metadata": {},
     "output_type": "display_data"
    }
   ],
   "source": [
    "# Lets look at the percentage of people beloonging to each type of \"Designation_Flag\".\n",
    "plt.figure(figsize=(15,4))\n",
    "sns.countplot(data=df,x='Designation_Flag')\n",
    "plt.xticks(rotation=90)\n",
    "plt.show()\n",
    "\n",
    "# There are more people who earn almost equal to the average salary as per their \"company_hash\",\"job_position\",\"Years_of_Experience\".\n",
    "# There is a small section of learners who earn either very large or very large ctc."
   ]
  },
  {
   "cell_type": "code",
   "execution_count": 60,
   "id": "_4IYniLTb0iJ",
   "metadata": {
    "colab": {
     "base_uri": "https://localhost:8080/",
     "height": 286
    },
    "id": "_4IYniLTb0iJ",
    "outputId": "2f05611d-e323-44c3-c9a3-c179c8a8ab09"
   },
   "outputs": [
    {
     "data": {
      "image/png": "[encoded data removed]",
      "text/plain": [
       "<Figure size 1080x288 with 1 Axes>"
      ]
     },
     "metadata": {},
     "output_type": "display_data"
    }
   ],
   "source": [
    "# Lets look at the relationship of \"Designation_Flag\" with \"ctc\".\n",
    "plt.figure(figsize=(15,4))\n",
    "sns.barplot(data=df,x='Designation_Flag',y='ctc')\n",
    "plt.xticks(rotation=90)\n",
    "plt.show()\n",
    "\n",
    "# We can see a good difference between the relative ctcs between flag_1, flag_2 and flag_3."
   ]
  },
  {
   "cell_type": "code",
   "execution_count": 61,
   "id": "PSDprge9b0lj",
   "metadata": {
    "colab": {
     "base_uri": "https://localhost:8080/",
     "height": 275
    },
    "id": "PSDprge9b0lj",
    "outputId": "538bcc6d-e422-4edf-dbfc-c1c1c1460df6"
   },
   "outputs": [
    {
     "data": {
      "image/png": "[encoded data removed]",
      "text/plain": [
       "<Figure size 1080x288 with 1 Axes>"
      ]
     },
     "metadata": {},
     "output_type": "display_data"
    }
   ],
   "source": [
    "# Lets look at the relationship of \"Designation_Flag\" with \"Years_of_Experience\".\n",
    "plt.figure(figsize=(15,4))\n",
    "sns.barplot(data=df,x='Designation_Flag',y='Years_of_Experience')\n",
    "plt.xticks(rotation=90)\n",
    "plt.show()\n",
    "\n",
    "# This is an interesting discovery. Learners who earn the highest salaries do not have the highest \"Years_of_Experience\"."
   ]
  },
  {
   "cell_type": "code",
   "execution_count": 61,
   "id": "jZdc3Ujfc1M7",
   "metadata": {
    "id": "jZdc3Ujfc1M7"
   },
   "outputs": [],
   "source": []
  },
  {
   "cell_type": "markdown",
   "id": "d9cdfa9c",
   "metadata": {
    "id": "d9cdfa9c"
   },
   "source": [
    "### 2) \"Class Flag\"\n",
    "Creating \"Class_Flag\" which shows learners with CTC greater/lower than the Average of their Company’s department."
   ]
  },
  {
   "cell_type": "markdown",
   "id": "faf98250",
   "metadata": {
    "id": "faf98250"
   },
   "source": [
    "- Before we create the flag, lets specify the rules based on which the flag would be created. \n",
    "- If the \"ctc\" is less than 75% of \"average_ctc\", we can flag it as 1.\n",
    "- If the \"ctc\" is between 75% and 125% of \"average_ctc\", we can flag it as 2.\n",
    "- If the \"ctc\" is grater than 125% of \"average_ctc\", we can flag it as 3."
   ]
  },
  {
   "cell_type": "code",
   "execution_count": 62,
   "id": "39d61e34",
   "metadata": {
    "id": "39d61e34"
   },
   "outputs": [],
   "source": [
    "# Lets find the \"average_ctc\" as per the \"company_hash\" and \"job_position\". We can name it \"Average_2\"\n",
    "temp=df.groupby(by=[\"company_hash\",\"job_position\"]).agg({'ctc':'mean',}).astype('int').reset_index().rename(columns={'ctc':\"Average_2\"})\n",
    "\n",
    "# Merging the average_ctc with the dataset.\n",
    "df=pd.merge(left=df,right=temp,on=[\"company_hash\",\"job_position\"])"
   ]
  },
  {
   "cell_type": "code",
   "execution_count": 63,
   "id": "d958c425",
   "metadata": {
    "colab": {
     "base_uri": "https://localhost:8080/",
     "height": 143
    },
    "id": "d958c425",
    "outputId": "f124505e-83b9-40ab-db86-7db2947d7bd2"
   },
   "outputs": [
    {
     "data": {
      "text/html": [
       "\n",
       "  <div id=\"df-308a35d7-6ba3-4fc1-ad37-f2f7171793a2\">\n",
       "    <div class=\"colab-df-container\">\n",
       "      <div>\n",
       "<style scoped>\n",
       "    .dataframe tbody tr th:only-of-type {\n",
       "        vertical-align: middle;\n",
       "    }\n",
       "\n",
       "    .dataframe tbody tr th {\n",
       "        vertical-align: top;\n",
       "    }\n",
       "\n",
       "    .dataframe thead th {\n",
       "        text-align: right;\n",
       "    }\n",
       "</style>\n",
       "<table border=\"1\" class=\"dataframe\">\n",
       "  <thead>\n",
       "    <tr style=\"text-align: right;\">\n",
       "      <th></th>\n",
       "      <th>company_hash</th>\n",
       "      <th>ctc</th>\n",
       "      <th>job_position</th>\n",
       "      <th>Years_of_Experience</th>\n",
       "      <th>Log_ctc</th>\n",
       "      <th>Designation_Flag</th>\n",
       "      <th>Average_2</th>\n",
       "    </tr>\n",
       "  </thead>\n",
       "  <tbody>\n",
       "    <tr>\n",
       "      <th>0</th>\n",
       "      <td>bxwqgogen</td>\n",
       "      <td>3500000</td>\n",
       "      <td>backend engineer</td>\n",
       "      <td>7.0</td>\n",
       "      <td>15.068274</td>\n",
       "      <td>2</td>\n",
       "      <td>2873402</td>\n",
       "    </tr>\n",
       "    <tr>\n",
       "      <th>1</th>\n",
       "      <td>bxwqgogen</td>\n",
       "      <td>3560000</td>\n",
       "      <td>backend engineer</td>\n",
       "      <td>7.0</td>\n",
       "      <td>15.085271</td>\n",
       "      <td>2</td>\n",
       "      <td>2873402</td>\n",
       "    </tr>\n",
       "    <tr>\n",
       "      <th>2</th>\n",
       "      <td>bxwqgogen</td>\n",
       "      <td>5500000</td>\n",
       "      <td>backend engineer</td>\n",
       "      <td>7.0</td>\n",
       "      <td>15.520259</td>\n",
       "      <td>3</td>\n",
       "      <td>2873402</td>\n",
       "    </tr>\n",
       "  </tbody>\n",
       "</table>\n",
       "</div>\n",
       "      <button class=\"colab-df-convert\" onclick=\"convertToInteractive('df-308a35d7-6ba3-4fc1-ad37-f2f7171793a2')\"\n",
       "              title=\"Convert this dataframe to an interactive table.\"\n",
       "              style=\"display:none;\">\n",
       "        \n",
       "  <svg xmlns=\"http://www.w3.org/2000/svg\" height=\"24px\"viewBox=\"0 0 24 24\"\n",
       "       width=\"24px\">\n",
       "    <path d=\"M0 0h24v24H0V0z\" fill=\"none\"/>\n",
       "    <path d=\"M18.56 5.44l.94 2.06.94-2.06 2.06-.94-2.06-.94-.94-2.06-.94 2.06-2.06.94zm-11 1L8.5 8.5l.94-2.06 2.06-.94-2.06-.94L8.5 2.5l-.94 2.06-2.06.94zm10 10l.94 2.06.94-2.06 2.06-.94-2.06-.94-.94-2.06-.94 2.06-2.06.94z\"/><path d=\"M17.41 7.96l-1.37-1.37c-.4-.4-.92-.59-1.43-.59-.52 0-1.04.2-1.43.59L10.3 9.45l-7.72 7.72c-.78.78-.78 2.05 0 2.83L4 21.41c.39.39.9.59 1.41.59.51 0 1.02-.2 1.41-.59l7.78-7.78 2.81-2.81c.8-.78.8-2.07 0-2.86zM5.41 20L4 18.59l7.72-7.72 1.47 1.35L5.41 20z\"/>\n",
       "  </svg>\n",
       "      </button>\n",
       "      \n",
       "  <style>\n",
       "    .colab-df-container {\n",
       "      display:flex;\n",
       "      flex-wrap:wrap;\n",
       "      gap: 12px;\n",
       "    }\n",
       "\n",
       "    .colab-df-convert {\n",
       "      background-color: #E8F0FE;\n",
       "      border: none;\n",
       "      border-radius: 50%;\n",
       "      cursor: pointer;\n",
       "      display: none;\n",
       "      fill: #1967D2;\n",
       "      height: 32px;\n",
       "      padding: 0 0 0 0;\n",
       "      width: 32px;\n",
       "    }\n",
       "\n",
       "    .colab-df-convert:hover {\n",
       "      background-color: #E2EBFA;\n",
       "      box-shadow: 0px 1px 2px rgba(60, 64, 67, 0.3), 0px 1px 3px 1px rgba(60, 64, 67, 0.15);\n",
       "      fill: #174EA6;\n",
       "    }\n",
       "\n",
       "    [theme=dark] .colab-df-convert {\n",
       "      background-color: #3B4455;\n",
       "      fill: #D2E3FC;\n",
       "    }\n",
       "\n",
       "    [theme=dark] .colab-df-convert:hover {\n",
       "      background-color: #434B5C;\n",
       "      box-shadow: 0px 1px 3px 1px rgba(0, 0, 0, 0.15);\n",
       "      filter: drop-shadow(0px 1px 2px rgba(0, 0, 0, 0.3));\n",
       "      fill: #FFFFFF;\n",
       "    }\n",
       "  </style>\n",
       "\n",
       "      <script>\n",
       "        const buttonEl =\n",
       "          document.querySelector('#df-308a35d7-6ba3-4fc1-ad37-f2f7171793a2 button.colab-df-convert');\n",
       "        buttonEl.style.display =\n",
       "          google.colab.kernel.accessAllowed ? 'block' : 'none';\n",
       "\n",
       "        async function convertToInteractive(key) {\n",
       "          const element = document.querySelector('#df-308a35d7-6ba3-4fc1-ad37-f2f7171793a2');\n",
       "          const dataTable =\n",
       "            await google.colab.kernel.invokeFunction('convertToInteractive',\n",
       "                                                     [key], {});\n",
       "          if (!dataTable) return;\n",
       "\n",
       "          const docLinkHtml = 'Like what you see? Visit the ' +\n",
       "            '<a target=\"_blank\" href=https://colab.research.google.com/notebooks/data_table.ipynb>data table notebook</a>'\n",
       "            + ' to learn more about interactive tables.';\n",
       "          element.innerHTML = '';\n",
       "          dataTable['output_type'] = 'display_data';\n",
       "          await google.colab.output.renderOutput(dataTable, element);\n",
       "          const docLink = document.createElement('div');\n",
       "          docLink.innerHTML = docLinkHtml;\n",
       "          element.appendChild(docLink);\n",
       "        }\n",
       "      </script>\n",
       "    </div>\n",
       "  </div>\n",
       "  "
      ],
      "text/plain": [
       "  company_hash      ctc      job_position  Years_of_Experience    Log_ctc  \\\n",
       "0    bxwqgogen  3500000  backend engineer                  7.0  15.068274   \n",
       "1    bxwqgogen  3560000  backend engineer                  7.0  15.085271   \n",
       "2    bxwqgogen  5500000  backend engineer                  7.0  15.520259   \n",
       "\n",
       "   Designation_Flag  Average_2  \n",
       "0                 2    2873402  \n",
       "1                 2    2873402  \n",
       "2                 3    2873402  "
      ]
     },
     "execution_count": 63,
     "metadata": {},
     "output_type": "execute_result"
    }
   ],
   "source": [
    "# Lets have a look at our updated dataset.\n",
    "df.head(3)"
   ]
  },
  {
   "cell_type": "code",
   "execution_count": 64,
   "id": "420c5ae4",
   "metadata": {
    "id": "420c5ae4"
   },
   "outputs": [],
   "source": [
    "# Lets get the values of \"Class_Flag\"\n",
    "df['Class_Flag']=df[['ctc','Average_2']].apply(function,axis=1)\n",
    "\n",
    "# We can now drop the \"Average_1\" column.\n",
    "df.drop(columns=['Average_2'],inplace=True)"
   ]
  },
  {
   "cell_type": "code",
   "execution_count": 65,
   "id": "b36c1692",
   "metadata": {
    "colab": {
     "base_uri": "https://localhost:8080/",
     "height": 143
    },
    "id": "b36c1692",
    "outputId": "49a5bbdb-3437-445d-8328-8f4385a9ff00"
   },
   "outputs": [
    {
     "data": {
      "text/html": [
       "\n",
       "  <div id=\"df-ff750da2-e151-48c5-8d7c-8ef7ff261a70\">\n",
       "    <div class=\"colab-df-container\">\n",
       "      <div>\n",
       "<style scoped>\n",
       "    .dataframe tbody tr th:only-of-type {\n",
       "        vertical-align: middle;\n",
       "    }\n",
       "\n",
       "    .dataframe tbody tr th {\n",
       "        vertical-align: top;\n",
       "    }\n",
       "\n",
       "    .dataframe thead th {\n",
       "        text-align: right;\n",
       "    }\n",
       "</style>\n",
       "<table border=\"1\" class=\"dataframe\">\n",
       "  <thead>\n",
       "    <tr style=\"text-align: right;\">\n",
       "      <th></th>\n",
       "      <th>company_hash</th>\n",
       "      <th>ctc</th>\n",
       "      <th>job_position</th>\n",
       "      <th>Years_of_Experience</th>\n",
       "      <th>Log_ctc</th>\n",
       "      <th>Designation_Flag</th>\n",
       "      <th>Class_Flag</th>\n",
       "    </tr>\n",
       "  </thead>\n",
       "  <tbody>\n",
       "    <tr>\n",
       "      <th>0</th>\n",
       "      <td>bxwqgogen</td>\n",
       "      <td>3500000</td>\n",
       "      <td>backend engineer</td>\n",
       "      <td>7.0</td>\n",
       "      <td>15.068274</td>\n",
       "      <td>2</td>\n",
       "      <td>2</td>\n",
       "    </tr>\n",
       "    <tr>\n",
       "      <th>1</th>\n",
       "      <td>bxwqgogen</td>\n",
       "      <td>3560000</td>\n",
       "      <td>backend engineer</td>\n",
       "      <td>7.0</td>\n",
       "      <td>15.085271</td>\n",
       "      <td>2</td>\n",
       "      <td>2</td>\n",
       "    </tr>\n",
       "    <tr>\n",
       "      <th>2</th>\n",
       "      <td>bxwqgogen</td>\n",
       "      <td>5500000</td>\n",
       "      <td>backend engineer</td>\n",
       "      <td>7.0</td>\n",
       "      <td>15.520259</td>\n",
       "      <td>3</td>\n",
       "      <td>3</td>\n",
       "    </tr>\n",
       "  </tbody>\n",
       "</table>\n",
       "</div>\n",
       "      <button class=\"colab-df-convert\" onclick=\"convertToInteractive('df-ff750da2-e151-48c5-8d7c-8ef7ff261a70')\"\n",
       "              title=\"Convert this dataframe to an interactive table.\"\n",
       "              style=\"display:none;\">\n",
       "        \n",
       "  <svg xmlns=\"http://www.w3.org/2000/svg\" height=\"24px\"viewBox=\"0 0 24 24\"\n",
       "       width=\"24px\">\n",
       "    <path d=\"M0 0h24v24H0V0z\" fill=\"none\"/>\n",
       "    <path d=\"M18.56 5.44l.94 2.06.94-2.06 2.06-.94-2.06-.94-.94-2.06-.94 2.06-2.06.94zm-11 1L8.5 8.5l.94-2.06 2.06-.94-2.06-.94L8.5 2.5l-.94 2.06-2.06.94zm10 10l.94 2.06.94-2.06 2.06-.94-2.06-.94-.94-2.06-.94 2.06-2.06.94z\"/><path d=\"M17.41 7.96l-1.37-1.37c-.4-.4-.92-.59-1.43-.59-.52 0-1.04.2-1.43.59L10.3 9.45l-7.72 7.72c-.78.78-.78 2.05 0 2.83L4 21.41c.39.39.9.59 1.41.59.51 0 1.02-.2 1.41-.59l7.78-7.78 2.81-2.81c.8-.78.8-2.07 0-2.86zM5.41 20L4 18.59l7.72-7.72 1.47 1.35L5.41 20z\"/>\n",
       "  </svg>\n",
       "      </button>\n",
       "      \n",
       "  <style>\n",
       "    .colab-df-container {\n",
       "      display:flex;\n",
       "      flex-wrap:wrap;\n",
       "      gap: 12px;\n",
       "    }\n",
       "\n",
       "    .colab-df-convert {\n",
       "      background-color: #E8F0FE;\n",
       "      border: none;\n",
       "      border-radius: 50%;\n",
       "      cursor: pointer;\n",
       "      display: none;\n",
       "      fill: #1967D2;\n",
       "      height: 32px;\n",
       "      padding: 0 0 0 0;\n",
       "      width: 32px;\n",
       "    }\n",
       "\n",
       "    .colab-df-convert:hover {\n",
       "      background-color: #E2EBFA;\n",
       "      box-shadow: 0px 1px 2px rgba(60, 64, 67, 0.3), 0px 1px 3px 1px rgba(60, 64, 67, 0.15);\n",
       "      fill: #174EA6;\n",
       "    }\n",
       "\n",
       "    [theme=dark] .colab-df-convert {\n",
       "      background-color: #3B4455;\n",
       "      fill: #D2E3FC;\n",
       "    }\n",
       "\n",
       "    [theme=dark] .colab-df-convert:hover {\n",
       "      background-color: #434B5C;\n",
       "      box-shadow: 0px 1px 3px 1px rgba(0, 0, 0, 0.15);\n",
       "      filter: drop-shadow(0px 1px 2px rgba(0, 0, 0, 0.3));\n",
       "      fill: #FFFFFF;\n",
       "    }\n",
       "  </style>\n",
       "\n",
       "      <script>\n",
       "        const buttonEl =\n",
       "          document.querySelector('#df-ff750da2-e151-48c5-8d7c-8ef7ff261a70 button.colab-df-convert');\n",
       "        buttonEl.style.display =\n",
       "          google.colab.kernel.accessAllowed ? 'block' : 'none';\n",
       "\n",
       "        async function convertToInteractive(key) {\n",
       "          const element = document.querySelector('#df-ff750da2-e151-48c5-8d7c-8ef7ff261a70');\n",
       "          const dataTable =\n",
       "            await google.colab.kernel.invokeFunction('convertToInteractive',\n",
       "                                                     [key], {});\n",
       "          if (!dataTable) return;\n",
       "\n",
       "          const docLinkHtml = 'Like what you see? Visit the ' +\n",
       "            '<a target=\"_blank\" href=https://colab.research.google.com/notebooks/data_table.ipynb>data table notebook</a>'\n",
       "            + ' to learn more about interactive tables.';\n",
       "          element.innerHTML = '';\n",
       "          dataTable['output_type'] = 'display_data';\n",
       "          await google.colab.output.renderOutput(dataTable, element);\n",
       "          const docLink = document.createElement('div');\n",
       "          docLink.innerHTML = docLinkHtml;\n",
       "          element.appendChild(docLink);\n",
       "        }\n",
       "      </script>\n",
       "    </div>\n",
       "  </div>\n",
       "  "
      ],
      "text/plain": [
       "  company_hash      ctc      job_position  Years_of_Experience    Log_ctc  \\\n",
       "0    bxwqgogen  3500000  backend engineer                  7.0  15.068274   \n",
       "1    bxwqgogen  3560000  backend engineer                  7.0  15.085271   \n",
       "2    bxwqgogen  5500000  backend engineer                  7.0  15.520259   \n",
       "\n",
       "   Designation_Flag  Class_Flag  \n",
       "0                 2           2  \n",
       "1                 2           2  \n",
       "2                 3           3  "
      ]
     },
     "execution_count": 65,
     "metadata": {},
     "output_type": "execute_result"
    }
   ],
   "source": [
    "# Lets have a look at our updated dataset.\n",
    "df.head(3)"
   ]
  },
  {
   "cell_type": "code",
   "execution_count": 66,
   "id": "06f7ec97",
   "metadata": {
    "colab": {
     "base_uri": "https://localhost:8080/",
     "height": 275
    },
    "id": "06f7ec97",
    "outputId": "c9c8fa0b-875e-46ef-bd96-b853acffc972"
   },
   "outputs": [
    {
     "data": {
      "image/png": "[encoded data removed]",
      "text/plain": [
       "<Figure size 1080x288 with 1 Axes>"
      ]
     },
     "metadata": {},
     "output_type": "display_data"
    }
   ],
   "source": [
    "# Lets look at the percentage of people belionging to each type of \"Class_Flag\".\n",
    "plt.figure(figsize=(15,4))\n",
    "sns.countplot(data=df,x='Class_Flag')\n",
    "plt.xticks(rotation=90)\n",
    "plt.show()\n",
    "\n",
    "# There are more people who earn almost equal to the average salary as per their \"company_hash\" and \"job_position\"\n",
    "# There is a small section of learners who earn either very large or very large ctc."
   ]
  },
  {
   "cell_type": "code",
   "execution_count": 67,
   "id": "4c9a6768",
   "metadata": {
    "colab": {
     "base_uri": "https://localhost:8080/",
     "height": 286
    },
    "id": "4c9a6768",
    "outputId": "87806806-e475-4c24-81a3-3f983ef3f4cf"
   },
   "outputs": [
    {
     "data": {
      "image/png": "[encoded data removed]",
      "text/plain": [
       "<Figure size 1080x288 with 1 Axes>"
      ]
     },
     "metadata": {},
     "output_type": "display_data"
    }
   ],
   "source": [
    "# Lets look at the relationship of \"Class_Flag\" with \"ctc\".\n",
    "plt.figure(figsize=(15,4))\n",
    "sns.barplot(data=df,x='Class_Flag',y='ctc')\n",
    "plt.xticks(rotation=90)\n",
    "plt.show()\n",
    "\n",
    "# We can see a good difference between the relative ctcs between flag_1, flag_2 and flag_3."
   ]
  },
  {
   "cell_type": "code",
   "execution_count": 68,
   "id": "i2xug6FodDkW",
   "metadata": {
    "colab": {
     "base_uri": "https://localhost:8080/",
     "height": 275
    },
    "id": "i2xug6FodDkW",
    "outputId": "08b104af-82e2-456c-af9f-0776d19279da"
   },
   "outputs": [
    {
     "data": {
      "image/png": "[encoded data removed]",
      "text/plain": [
       "<Figure size 1080x288 with 1 Axes>"
      ]
     },
     "metadata": {},
     "output_type": "display_data"
    }
   ],
   "source": [
    "# Lets look at the relationship of \"Class_Flag\" with \"Years_of_Experience\".\n",
    "plt.figure(figsize=(15,4))\n",
    "sns.barplot(data=df,x='Class_Flag',y='Years_of_Experience')\n",
    "plt.xticks(rotation=90)\n",
    "plt.show()\n",
    "\n",
    "# Learners who earn the highest salaries have the highest \"Years_of_Experience\"."
   ]
  },
  {
   "cell_type": "code",
   "execution_count": 68,
   "id": "1BRNHlQudD5v",
   "metadata": {
    "id": "1BRNHlQudD5v"
   },
   "outputs": [],
   "source": []
  },
  {
   "cell_type": "markdown",
   "id": "cd000e71",
   "metadata": {
    "id": "cd000e71"
   },
   "source": [
    "### 3) \"Tier Flag\"\n",
    "Creating \"Tier_Flag\" which shows learners with CTC greater/lower than the Average of their Company."
   ]
  },
  {
   "cell_type": "markdown",
   "id": "156227e8",
   "metadata": {
    "id": "156227e8"
   },
   "source": [
    "- Before we create the flag, lets specify the rules based on which the flag would be created. \n",
    "- If the \"ctc\" is less than 75% of \"average_ctc\", we can flag it as 1.\n",
    "- If the \"ctc\" is between 75% and 125% of \"average_ctc\", we can flag it as 2.\n",
    "- If the \"ctc\" is grater than 125% of \"average_ctc\", we can flag it as 3."
   ]
  },
  {
   "cell_type": "code",
   "execution_count": 69,
   "id": "79673c10",
   "metadata": {
    "id": "79673c10"
   },
   "outputs": [],
   "source": [
    "# Lets find the \"average_ctc\" as per the \"company_hash\". We can name it \"Average_3\"\n",
    "temp=df.groupby(by=[\"company_hash\"]).agg({'ctc':'mean',}).astype('int').reset_index().rename(columns={'ctc':\"Average_3\"})\n",
    "\n",
    "# Merging the average_ctc with the dataset.\n",
    "df=pd.merge(left=df,right=temp,on=[\"company_hash\"])"
   ]
  },
  {
   "cell_type": "code",
   "execution_count": 70,
   "id": "4aa24413",
   "metadata": {
    "colab": {
     "base_uri": "https://localhost:8080/",
     "height": 143
    },
    "id": "4aa24413",
    "outputId": "178298da-f9bd-47da-c201-3f9a24e4b54a"
   },
   "outputs": [
    {
     "data": {
      "text/html": [
       "\n",
       "  <div id=\"df-72370499-a14d-47c3-8167-711b99abae36\">\n",
       "    <div class=\"colab-df-container\">\n",
       "      <div>\n",
       "<style scoped>\n",
       "    .dataframe tbody tr th:only-of-type {\n",
       "        vertical-align: middle;\n",
       "    }\n",
       "\n",
       "    .dataframe tbody tr th {\n",
       "        vertical-align: top;\n",
       "    }\n",
       "\n",
       "    .dataframe thead th {\n",
       "        text-align: right;\n",
       "    }\n",
       "</style>\n",
       "<table border=\"1\" class=\"dataframe\">\n",
       "  <thead>\n",
       "    <tr style=\"text-align: right;\">\n",
       "      <th></th>\n",
       "      <th>company_hash</th>\n",
       "      <th>ctc</th>\n",
       "      <th>job_position</th>\n",
       "      <th>Years_of_Experience</th>\n",
       "      <th>Log_ctc</th>\n",
       "      <th>Designation_Flag</th>\n",
       "      <th>Class_Flag</th>\n",
       "      <th>Average_3</th>\n",
       "    </tr>\n",
       "  </thead>\n",
       "  <tbody>\n",
       "    <tr>\n",
       "      <th>0</th>\n",
       "      <td>bxwqgogen</td>\n",
       "      <td>3500000</td>\n",
       "      <td>backend engineer</td>\n",
       "      <td>7.0</td>\n",
       "      <td>15.068274</td>\n",
       "      <td>2</td>\n",
       "      <td>2</td>\n",
       "      <td>2792920</td>\n",
       "    </tr>\n",
       "    <tr>\n",
       "      <th>1</th>\n",
       "      <td>bxwqgogen</td>\n",
       "      <td>3560000</td>\n",
       "      <td>backend engineer</td>\n",
       "      <td>7.0</td>\n",
       "      <td>15.085271</td>\n",
       "      <td>2</td>\n",
       "      <td>2</td>\n",
       "      <td>2792920</td>\n",
       "    </tr>\n",
       "    <tr>\n",
       "      <th>2</th>\n",
       "      <td>bxwqgogen</td>\n",
       "      <td>5500000</td>\n",
       "      <td>backend engineer</td>\n",
       "      <td>7.0</td>\n",
       "      <td>15.520259</td>\n",
       "      <td>3</td>\n",
       "      <td>3</td>\n",
       "      <td>2792920</td>\n",
       "    </tr>\n",
       "  </tbody>\n",
       "</table>\n",
       "</div>\n",
       "      <button class=\"colab-df-convert\" onclick=\"convertToInteractive('df-72370499-a14d-47c3-8167-711b99abae36')\"\n",
       "              title=\"Convert this dataframe to an interactive table.\"\n",
       "              style=\"display:none;\">\n",
       "        \n",
       "  <svg xmlns=\"http://www.w3.org/2000/svg\" height=\"24px\"viewBox=\"0 0 24 24\"\n",
       "       width=\"24px\">\n",
       "    <path d=\"M0 0h24v24H0V0z\" fill=\"none\"/>\n",
       "    <path d=\"M18.56 5.44l.94 2.06.94-2.06 2.06-.94-2.06-.94-.94-2.06-.94 2.06-2.06.94zm-11 1L8.5 8.5l.94-2.06 2.06-.94-2.06-.94L8.5 2.5l-.94 2.06-2.06.94zm10 10l.94 2.06.94-2.06 2.06-.94-2.06-.94-.94-2.06-.94 2.06-2.06.94z\"/><path d=\"M17.41 7.96l-1.37-1.37c-.4-.4-.92-.59-1.43-.59-.52 0-1.04.2-1.43.59L10.3 9.45l-7.72 7.72c-.78.78-.78 2.05 0 2.83L4 21.41c.39.39.9.59 1.41.59.51 0 1.02-.2 1.41-.59l7.78-7.78 2.81-2.81c.8-.78.8-2.07 0-2.86zM5.41 20L4 18.59l7.72-7.72 1.47 1.35L5.41 20z\"/>\n",
       "  </svg>\n",
       "      </button>\n",
       "      \n",
       "  <style>\n",
       "    .colab-df-container {\n",
       "      display:flex;\n",
       "      flex-wrap:wrap;\n",
       "      gap: 12px;\n",
       "    }\n",
       "\n",
       "    .colab-df-convert {\n",
       "      background-color: #E8F0FE;\n",
       "      border: none;\n",
       "      border-radius: 50%;\n",
       "      cursor: pointer;\n",
       "      display: none;\n",
       "      fill: #1967D2;\n",
       "      height: 32px;\n",
       "      padding: 0 0 0 0;\n",
       "      width: 32px;\n",
       "    }\n",
       "\n",
       "    .colab-df-convert:hover {\n",
       "      background-color: #E2EBFA;\n",
       "      box-shadow: 0px 1px 2px rgba(60, 64, 67, 0.3), 0px 1px 3px 1px rgba(60, 64, 67, 0.15);\n",
       "      fill: #174EA6;\n",
       "    }\n",
       "\n",
       "    [theme=dark] .colab-df-convert {\n",
       "      background-color: #3B4455;\n",
       "      fill: #D2E3FC;\n",
       "    }\n",
       "\n",
       "    [theme=dark] .colab-df-convert:hover {\n",
       "      background-color: #434B5C;\n",
       "      box-shadow: 0px 1px 3px 1px rgba(0, 0, 0, 0.15);\n",
       "      filter: drop-shadow(0px 1px 2px rgba(0, 0, 0, 0.3));\n",
       "      fill: #FFFFFF;\n",
       "    }\n",
       "  </style>\n",
       "\n",
       "      <script>\n",
       "        const buttonEl =\n",
       "          document.querySelector('#df-72370499-a14d-47c3-8167-711b99abae36 button.colab-df-convert');\n",
       "        buttonEl.style.display =\n",
       "          google.colab.kernel.accessAllowed ? 'block' : 'none';\n",
       "\n",
       "        async function convertToInteractive(key) {\n",
       "          const element = document.querySelector('#df-72370499-a14d-47c3-8167-711b99abae36');\n",
       "          const dataTable =\n",
       "            await google.colab.kernel.invokeFunction('convertToInteractive',\n",
       "                                                     [key], {});\n",
       "          if (!dataTable) return;\n",
       "\n",
       "          const docLinkHtml = 'Like what you see? Visit the ' +\n",
       "            '<a target=\"_blank\" href=https://colab.research.google.com/notebooks/data_table.ipynb>data table notebook</a>'\n",
       "            + ' to learn more about interactive tables.';\n",
       "          element.innerHTML = '';\n",
       "          dataTable['output_type'] = 'display_data';\n",
       "          await google.colab.output.renderOutput(dataTable, element);\n",
       "          const docLink = document.createElement('div');\n",
       "          docLink.innerHTML = docLinkHtml;\n",
       "          element.appendChild(docLink);\n",
       "        }\n",
       "      </script>\n",
       "    </div>\n",
       "  </div>\n",
       "  "
      ],
      "text/plain": [
       "  company_hash      ctc      job_position  Years_of_Experience    Log_ctc  \\\n",
       "0    bxwqgogen  3500000  backend engineer                  7.0  15.068274   \n",
       "1    bxwqgogen  3560000  backend engineer                  7.0  15.085271   \n",
       "2    bxwqgogen  5500000  backend engineer                  7.0  15.520259   \n",
       "\n",
       "   Designation_Flag  Class_Flag  Average_3  \n",
       "0                 2           2    2792920  \n",
       "1                 2           2    2792920  \n",
       "2                 3           3    2792920  "
      ]
     },
     "execution_count": 70,
     "metadata": {},
     "output_type": "execute_result"
    }
   ],
   "source": [
    "# Lets have a look at our updated dataset.\n",
    "df.head(3)"
   ]
  },
  {
   "cell_type": "code",
   "execution_count": 71,
   "id": "3d664a0c",
   "metadata": {
    "id": "3d664a0c"
   },
   "outputs": [],
   "source": [
    "# Lets get the values of \"Tier_Flag\"\n",
    "df['Tier_Flag']=df[['ctc','Average_3']].apply(function,axis=1)\n",
    "\n",
    "# We can now drop the \"Average_1\" column.\n",
    "df.drop(columns=['Average_3'],inplace=True)"
   ]
  },
  {
   "cell_type": "code",
   "execution_count": 72,
   "id": "6838b161",
   "metadata": {
    "colab": {
     "base_uri": "https://localhost:8080/",
     "height": 143
    },
    "id": "6838b161",
    "outputId": "23aa1943-cf47-4ba5-e7ec-bb378fc3d500"
   },
   "outputs": [
    {
     "data": {
      "text/html": [
       "\n",
       "  <div id=\"df-f83b552a-877f-4f02-a1fb-af94bd033c5d\">\n",
       "    <div class=\"colab-df-container\">\n",
       "      <div>\n",
       "<style scoped>\n",
       "    .dataframe tbody tr th:only-of-type {\n",
       "        vertical-align: middle;\n",
       "    }\n",
       "\n",
       "    .dataframe tbody tr th {\n",
       "        vertical-align: top;\n",
       "    }\n",
       "\n",
       "    .dataframe thead th {\n",
       "        text-align: right;\n",
       "    }\n",
       "</style>\n",
       "<table border=\"1\" class=\"dataframe\">\n",
       "  <thead>\n",
       "    <tr style=\"text-align: right;\">\n",
       "      <th></th>\n",
       "      <th>company_hash</th>\n",
       "      <th>ctc</th>\n",
       "      <th>job_position</th>\n",
       "      <th>Years_of_Experience</th>\n",
       "      <th>Log_ctc</th>\n",
       "      <th>Designation_Flag</th>\n",
       "      <th>Class_Flag</th>\n",
       "      <th>Tier_Flag</th>\n",
       "    </tr>\n",
       "  </thead>\n",
       "  <tbody>\n",
       "    <tr>\n",
       "      <th>0</th>\n",
       "      <td>bxwqgogen</td>\n",
       "      <td>3500000</td>\n",
       "      <td>backend engineer</td>\n",
       "      <td>7.0</td>\n",
       "      <td>15.068274</td>\n",
       "      <td>2</td>\n",
       "      <td>2</td>\n",
       "      <td>3</td>\n",
       "    </tr>\n",
       "    <tr>\n",
       "      <th>1</th>\n",
       "      <td>bxwqgogen</td>\n",
       "      <td>3560000</td>\n",
       "      <td>backend engineer</td>\n",
       "      <td>7.0</td>\n",
       "      <td>15.085271</td>\n",
       "      <td>2</td>\n",
       "      <td>2</td>\n",
       "      <td>3</td>\n",
       "    </tr>\n",
       "    <tr>\n",
       "      <th>2</th>\n",
       "      <td>bxwqgogen</td>\n",
       "      <td>5500000</td>\n",
       "      <td>backend engineer</td>\n",
       "      <td>7.0</td>\n",
       "      <td>15.520259</td>\n",
       "      <td>3</td>\n",
       "      <td>3</td>\n",
       "      <td>3</td>\n",
       "    </tr>\n",
       "  </tbody>\n",
       "</table>\n",
       "</div>\n",
       "      <button class=\"colab-df-convert\" onclick=\"convertToInteractive('df-f83b552a-877f-4f02-a1fb-af94bd033c5d')\"\n",
       "              title=\"Convert this dataframe to an interactive table.\"\n",
       "              style=\"display:none;\">\n",
       "        \n",
       "  <svg xmlns=\"http://www.w3.org/2000/svg\" height=\"24px\"viewBox=\"0 0 24 24\"\n",
       "       width=\"24px\">\n",
       "    <path d=\"M0 0h24v24H0V0z\" fill=\"none\"/>\n",
       "    <path d=\"M18.56 5.44l.94 2.06.94-2.06 2.06-.94-2.06-.94-.94-2.06-.94 2.06-2.06.94zm-11 1L8.5 8.5l.94-2.06 2.06-.94-2.06-.94L8.5 2.5l-.94 2.06-2.06.94zm10 10l.94 2.06.94-2.06 2.06-.94-2.06-.94-.94-2.06-.94 2.06-2.06.94z\"/><path d=\"M17.41 7.96l-1.37-1.37c-.4-.4-.92-.59-1.43-.59-.52 0-1.04.2-1.43.59L10.3 9.45l-7.72 7.72c-.78.78-.78 2.05 0 2.83L4 21.41c.39.39.9.59 1.41.59.51 0 1.02-.2 1.41-.59l7.78-7.78 2.81-2.81c.8-.78.8-2.07 0-2.86zM5.41 20L4 18.59l7.72-7.72 1.47 1.35L5.41 20z\"/>\n",
       "  </svg>\n",
       "      </button>\n",
       "      \n",
       "  <style>\n",
       "    .colab-df-container {\n",
       "      display:flex;\n",
       "      flex-wrap:wrap;\n",
       "      gap: 12px;\n",
       "    }\n",
       "\n",
       "    .colab-df-convert {\n",
       "      background-color: #E8F0FE;\n",
       "      border: none;\n",
       "      border-radius: 50%;\n",
       "      cursor: pointer;\n",
       "      display: none;\n",
       "      fill: #1967D2;\n",
       "      height: 32px;\n",
       "      padding: 0 0 0 0;\n",
       "      width: 32px;\n",
       "    }\n",
       "\n",
       "    .colab-df-convert:hover {\n",
       "      background-color: #E2EBFA;\n",
       "      box-shadow: 0px 1px 2px rgba(60, 64, 67, 0.3), 0px 1px 3px 1px rgba(60, 64, 67, 0.15);\n",
       "      fill: #174EA6;\n",
       "    }\n",
       "\n",
       "    [theme=dark] .colab-df-convert {\n",
       "      background-color: #3B4455;\n",
       "      fill: #D2E3FC;\n",
       "    }\n",
       "\n",
       "    [theme=dark] .colab-df-convert:hover {\n",
       "      background-color: #434B5C;\n",
       "      box-shadow: 0px 1px 3px 1px rgba(0, 0, 0, 0.15);\n",
       "      filter: drop-shadow(0px 1px 2px rgba(0, 0, 0, 0.3));\n",
       "      fill: #FFFFFF;\n",
       "    }\n",
       "  </style>\n",
       "\n",
       "      <script>\n",
       "        const buttonEl =\n",
       "          document.querySelector('#df-f83b552a-877f-4f02-a1fb-af94bd033c5d button.colab-df-convert');\n",
       "        buttonEl.style.display =\n",
       "          google.colab.kernel.accessAllowed ? 'block' : 'none';\n",
       "\n",
       "        async function convertToInteractive(key) {\n",
       "          const element = document.querySelector('#df-f83b552a-877f-4f02-a1fb-af94bd033c5d');\n",
       "          const dataTable =\n",
       "            await google.colab.kernel.invokeFunction('convertToInteractive',\n",
       "                                                     [key], {});\n",
       "          if (!dataTable) return;\n",
       "\n",
       "          const docLinkHtml = 'Like what you see? Visit the ' +\n",
       "            '<a target=\"_blank\" href=https://colab.research.google.com/notebooks/data_table.ipynb>data table notebook</a>'\n",
       "            + ' to learn more about interactive tables.';\n",
       "          element.innerHTML = '';\n",
       "          dataTable['output_type'] = 'display_data';\n",
       "          await google.colab.output.renderOutput(dataTable, element);\n",
       "          const docLink = document.createElement('div');\n",
       "          docLink.innerHTML = docLinkHtml;\n",
       "          element.appendChild(docLink);\n",
       "        }\n",
       "      </script>\n",
       "    </div>\n",
       "  </div>\n",
       "  "
      ],
      "text/plain": [
       "  company_hash      ctc      job_position  Years_of_Experience    Log_ctc  \\\n",
       "0    bxwqgogen  3500000  backend engineer                  7.0  15.068274   \n",
       "1    bxwqgogen  3560000  backend engineer                  7.0  15.085271   \n",
       "2    bxwqgogen  5500000  backend engineer                  7.0  15.520259   \n",
       "\n",
       "   Designation_Flag  Class_Flag  Tier_Flag  \n",
       "0                 2           2          3  \n",
       "1                 2           2          3  \n",
       "2                 3           3          3  "
      ]
     },
     "execution_count": 72,
     "metadata": {},
     "output_type": "execute_result"
    }
   ],
   "source": [
    "# Lets have a look at our updated dataset.\n",
    "df.head(3)"
   ]
  },
  {
   "cell_type": "code",
   "execution_count": 73,
   "id": "d62681f6",
   "metadata": {
    "colab": {
     "base_uri": "https://localhost:8080/",
     "height": 275
    },
    "id": "d62681f6",
    "outputId": "3a6181ab-ab33-4480-e92a-219ac71719bf"
   },
   "outputs": [
    {
     "data": {
      "image/png": "[encoded data removed]",
      "text/plain": [
       "<Figure size 1080x288 with 1 Axes>"
      ]
     },
     "metadata": {},
     "output_type": "display_data"
    }
   ],
   "source": [
    "# Lets look at the percentage of people belionging to each type of \"Tier_Flag\".\n",
    "plt.figure(figsize=(15,4))\n",
    "sns.countplot(data=df,x='Tier_Flag')\n",
    "plt.xticks(rotation=90)\n",
    "plt.show()\n",
    "\n",
    "# There are more people who earn almost equal to the average salary as per their \"company_hash\".\n",
    "# There is a small section of learners who earn either very large or very large ctc."
   ]
  },
  {
   "cell_type": "code",
   "execution_count": 74,
   "id": "VBrl0LWldlxu",
   "metadata": {
    "colab": {
     "base_uri": "https://localhost:8080/",
     "height": 286
    },
    "id": "VBrl0LWldlxu",
    "outputId": "c5b65edc-9e74-40aa-f87a-8c394170c61e"
   },
   "outputs": [
    {
     "data": {
      "image/png": "[encoded data removed]",
      "text/plain": [
       "<Figure size 1080x288 with 1 Axes>"
      ]
     },
     "metadata": {},
     "output_type": "display_data"
    }
   ],
   "source": [
    "# Lets look at the relationship of \"Tier_Flag\" with \"ctc\".\n",
    "plt.figure(figsize=(15,4))\n",
    "sns.barplot(data=df,x='Tier_Flag',y='ctc')\n",
    "plt.xticks(rotation=90)\n",
    "plt.show()\n",
    "\n",
    "# We can see a good difference between the relative ctcs between flag_1, flag_2 and flag_3."
   ]
  },
  {
   "cell_type": "code",
   "execution_count": 75,
   "id": "VVnqP3FSdl0I",
   "metadata": {
    "colab": {
     "base_uri": "https://localhost:8080/",
     "height": 275
    },
    "id": "VVnqP3FSdl0I",
    "outputId": "e72e027a-93b0-47a3-9f7b-aca158af45a4"
   },
   "outputs": [
    {
     "data": {
      "image/png": "[encoded data removed]",
      "text/plain": [
       "<Figure size 1080x288 with 1 Axes>"
      ]
     },
     "metadata": {},
     "output_type": "display_data"
    }
   ],
   "source": [
    "# Lets look at the relationship of \"Tier_Flag\" with \"Years_of_Experience\".\n",
    "plt.figure(figsize=(15,4))\n",
    "sns.barplot(data=df,x='Tier_Flag',y='Years_of_Experience')\n",
    "plt.xticks(rotation=90)\n",
    "plt.show()\n",
    "\n",
    "# Learners who earn the highest salaries have the highest \"Years_of_Experience\"."
   ]
  },
  {
   "cell_type": "code",
   "execution_count": 75,
   "id": "_8fNQylldl3r",
   "metadata": {
    "id": "_8fNQylldl3r"
   },
   "outputs": [],
   "source": []
  },
  {
   "cell_type": "markdown",
   "id": "7c64f267",
   "metadata": {
    "id": "7c64f267"
   },
   "source": [
    "## Encoding"
   ]
  },
  {
   "cell_type": "code",
   "execution_count": 76,
   "id": "094647d3",
   "metadata": {
    "colab": {
     "base_uri": "https://localhost:8080/",
     "height": 112
    },
    "id": "094647d3",
    "outputId": "39c97d53-bf6d-43ba-adb0-da077b5ecbb4"
   },
   "outputs": [
    {
     "data": {
      "text/html": [
       "\n",
       "  <div id=\"df-546dc5a7-3584-4997-9425-60e6bb3bd6f0\">\n",
       "    <div class=\"colab-df-container\">\n",
       "      <div>\n",
       "<style scoped>\n",
       "    .dataframe tbody tr th:only-of-type {\n",
       "        vertical-align: middle;\n",
       "    }\n",
       "\n",
       "    .dataframe tbody tr th {\n",
       "        vertical-align: top;\n",
       "    }\n",
       "\n",
       "    .dataframe thead th {\n",
       "        text-align: right;\n",
       "    }\n",
       "</style>\n",
       "<table border=\"1\" class=\"dataframe\">\n",
       "  <thead>\n",
       "    <tr style=\"text-align: right;\">\n",
       "      <th></th>\n",
       "      <th>company_hash</th>\n",
       "      <th>ctc</th>\n",
       "      <th>job_position</th>\n",
       "      <th>Years_of_Experience</th>\n",
       "      <th>Log_ctc</th>\n",
       "      <th>Designation_Flag</th>\n",
       "      <th>Class_Flag</th>\n",
       "      <th>Tier_Flag</th>\n",
       "    </tr>\n",
       "  </thead>\n",
       "  <tbody>\n",
       "    <tr>\n",
       "      <th>0</th>\n",
       "      <td>bxwqgogen</td>\n",
       "      <td>3500000</td>\n",
       "      <td>backend engineer</td>\n",
       "      <td>7.0</td>\n",
       "      <td>15.068274</td>\n",
       "      <td>2</td>\n",
       "      <td>2</td>\n",
       "      <td>3</td>\n",
       "    </tr>\n",
       "    <tr>\n",
       "      <th>1</th>\n",
       "      <td>bxwqgogen</td>\n",
       "      <td>3560000</td>\n",
       "      <td>backend engineer</td>\n",
       "      <td>7.0</td>\n",
       "      <td>15.085271</td>\n",
       "      <td>2</td>\n",
       "      <td>2</td>\n",
       "      <td>3</td>\n",
       "    </tr>\n",
       "  </tbody>\n",
       "</table>\n",
       "</div>\n",
       "      <button class=\"colab-df-convert\" onclick=\"convertToInteractive('df-546dc5a7-3584-4997-9425-60e6bb3bd6f0')\"\n",
       "              title=\"Convert this dataframe to an interactive table.\"\n",
       "              style=\"display:none;\">\n",
       "        \n",
       "  <svg xmlns=\"http://www.w3.org/2000/svg\" height=\"24px\"viewBox=\"0 0 24 24\"\n",
       "       width=\"24px\">\n",
       "    <path d=\"M0 0h24v24H0V0z\" fill=\"none\"/>\n",
       "    <path d=\"M18.56 5.44l.94 2.06.94-2.06 2.06-.94-2.06-.94-.94-2.06-.94 2.06-2.06.94zm-11 1L8.5 8.5l.94-2.06 2.06-.94-2.06-.94L8.5 2.5l-.94 2.06-2.06.94zm10 10l.94 2.06.94-2.06 2.06-.94-2.06-.94-.94-2.06-.94 2.06-2.06.94z\"/><path d=\"M17.41 7.96l-1.37-1.37c-.4-.4-.92-.59-1.43-.59-.52 0-1.04.2-1.43.59L10.3 9.45l-7.72 7.72c-.78.78-.78 2.05 0 2.83L4 21.41c.39.39.9.59 1.41.59.51 0 1.02-.2 1.41-.59l7.78-7.78 2.81-2.81c.8-.78.8-2.07 0-2.86zM5.41 20L4 18.59l7.72-7.72 1.47 1.35L5.41 20z\"/>\n",
       "  </svg>\n",
       "      </button>\n",
       "      \n",
       "  <style>\n",
       "    .colab-df-container {\n",
       "      display:flex;\n",
       "      flex-wrap:wrap;\n",
       "      gap: 12px;\n",
       "    }\n",
       "\n",
       "    .colab-df-convert {\n",
       "      background-color: #E8F0FE;\n",
       "      border: none;\n",
       "      border-radius: 50%;\n",
       "      cursor: pointer;\n",
       "      display: none;\n",
       "      fill: #1967D2;\n",
       "      height: 32px;\n",
       "      padding: 0 0 0 0;\n",
       "      width: 32px;\n",
       "    }\n",
       "\n",
       "    .colab-df-convert:hover {\n",
       "      background-color: #E2EBFA;\n",
       "      box-shadow: 0px 1px 2px rgba(60, 64, 67, 0.3), 0px 1px 3px 1px rgba(60, 64, 67, 0.15);\n",
       "      fill: #174EA6;\n",
       "    }\n",
       "\n",
       "    [theme=dark] .colab-df-convert {\n",
       "      background-color: #3B4455;\n",
       "      fill: #D2E3FC;\n",
       "    }\n",
       "\n",
       "    [theme=dark] .colab-df-convert:hover {\n",
       "      background-color: #434B5C;\n",
       "      box-shadow: 0px 1px 3px 1px rgba(0, 0, 0, 0.15);\n",
       "      filter: drop-shadow(0px 1px 2px rgba(0, 0, 0, 0.3));\n",
       "      fill: #FFFFFF;\n",
       "    }\n",
       "  </style>\n",
       "\n",
       "      <script>\n",
       "        const buttonEl =\n",
       "          document.querySelector('#df-546dc5a7-3584-4997-9425-60e6bb3bd6f0 button.colab-df-convert');\n",
       "        buttonEl.style.display =\n",
       "          google.colab.kernel.accessAllowed ? 'block' : 'none';\n",
       "\n",
       "        async function convertToInteractive(key) {\n",
       "          const element = document.querySelector('#df-546dc5a7-3584-4997-9425-60e6bb3bd6f0');\n",
       "          const dataTable =\n",
       "            await google.colab.kernel.invokeFunction('convertToInteractive',\n",
       "                                                     [key], {});\n",
       "          if (!dataTable) return;\n",
       "\n",
       "          const docLinkHtml = 'Like what you see? Visit the ' +\n",
       "            '<a target=\"_blank\" href=https://colab.research.google.com/notebooks/data_table.ipynb>data table notebook</a>'\n",
       "            + ' to learn more about interactive tables.';\n",
       "          element.innerHTML = '';\n",
       "          dataTable['output_type'] = 'display_data';\n",
       "          await google.colab.output.renderOutput(dataTable, element);\n",
       "          const docLink = document.createElement('div');\n",
       "          docLink.innerHTML = docLinkHtml;\n",
       "          element.appendChild(docLink);\n",
       "        }\n",
       "      </script>\n",
       "    </div>\n",
       "  </div>\n",
       "  "
      ],
      "text/plain": [
       "  company_hash      ctc      job_position  Years_of_Experience    Log_ctc  \\\n",
       "0    bxwqgogen  3500000  backend engineer                  7.0  15.068274   \n",
       "1    bxwqgogen  3560000  backend engineer                  7.0  15.085271   \n",
       "\n",
       "   Designation_Flag  Class_Flag  Tier_Flag  \n",
       "0                 2           2          3  \n",
       "1                 2           2          3  "
      ]
     },
     "metadata": {},
     "output_type": "display_data"
    }
   ],
   "source": [
    "# Lets check which columns we need to encode.\n",
    "display(df.head(2))\n",
    "\n",
    "# Since \"company_hash\" has a lot of categories, we can drop it for doing clustering.\n",
    "# For doing clustering, we can also drop \"Designation_Flag\", \"Class_Flag\" and \"Tier_Flag\".\n",
    "# Also, we can drop \"ctc\" column since we have a new column - \"Log_ctc\".\n",
    "# We need to One-Hot-Encode \"job_position\"\n",
    "\n",
    "df=df[['job_position', 'Years_of_Experience', 'Log_ctc']]\n",
    "encoder=OneHotEncoder(sparse=False)\n",
    "temp=pd.DataFrame(data=encoder.fit_transform(df[['job_position']]),columns=encoder.get_feature_names())\n",
    "df=pd.concat((df.iloc[:,1:],temp),axis=1)"
   ]
  },
  {
   "cell_type": "code",
   "execution_count": 76,
   "id": "8657f613",
   "metadata": {
    "id": "8657f613"
   },
   "outputs": [],
   "source": []
  },
  {
   "cell_type": "markdown",
   "id": "c604a0e5",
   "metadata": {
    "id": "c604a0e5"
   },
   "source": [
    "## Scaling"
   ]
  },
  {
   "cell_type": "code",
   "execution_count": 77,
   "id": "0618e3b2",
   "metadata": {
    "colab": {
     "base_uri": "https://localhost:8080/",
     "height": 193
    },
    "id": "0618e3b2",
    "outputId": "3dfe4a0a-2b3d-48f2-a202-8ecc37edeaa6"
   },
   "outputs": [
    {
     "data": {
      "text/html": [
       "\n",
       "  <div id=\"df-8d5c3b04-41b8-4fec-8f28-8a059b10790f\">\n",
       "    <div class=\"colab-df-container\">\n",
       "      <div>\n",
       "<style scoped>\n",
       "    .dataframe tbody tr th:only-of-type {\n",
       "        vertical-align: middle;\n",
       "    }\n",
       "\n",
       "    .dataframe tbody tr th {\n",
       "        vertical-align: top;\n",
       "    }\n",
       "\n",
       "    .dataframe thead th {\n",
       "        text-align: right;\n",
       "    }\n",
       "</style>\n",
       "<table border=\"1\" class=\"dataframe\">\n",
       "  <thead>\n",
       "    <tr style=\"text-align: right;\">\n",
       "      <th></th>\n",
       "      <th>Years_of_Experience</th>\n",
       "      <th>Log_ctc</th>\n",
       "      <th>x0_Combined</th>\n",
       "      <th>x0_Missing</th>\n",
       "      <th>x0_android engineer</th>\n",
       "      <th>x0_backend engineer</th>\n",
       "      <th>x0_data analyst</th>\n",
       "      <th>x0_data scientist</th>\n",
       "      <th>x0_devops engineer</th>\n",
       "      <th>x0_engineering intern</th>\n",
       "      <th>x0_engineering leadership</th>\n",
       "      <th>x0_frontend engineer</th>\n",
       "      <th>x0_fullstack engineer</th>\n",
       "      <th>x0_ios engineer</th>\n",
       "      <th>x0_other</th>\n",
       "      <th>x0_qa engineer</th>\n",
       "      <th>x0_sdet</th>\n",
       "      <th>x0_support engineer</th>\n",
       "    </tr>\n",
       "  </thead>\n",
       "  <tbody>\n",
       "    <tr>\n",
       "      <th>0</th>\n",
       "      <td>7.0</td>\n",
       "      <td>15.068274</td>\n",
       "      <td>0.0</td>\n",
       "      <td>0.0</td>\n",
       "      <td>0.0</td>\n",
       "      <td>1.0</td>\n",
       "      <td>0.0</td>\n",
       "      <td>0.0</td>\n",
       "      <td>0.0</td>\n",
       "      <td>0.0</td>\n",
       "      <td>0.0</td>\n",
       "      <td>0.0</td>\n",
       "      <td>0.0</td>\n",
       "      <td>0.0</td>\n",
       "      <td>0.0</td>\n",
       "      <td>0.0</td>\n",
       "      <td>0.0</td>\n",
       "      <td>0.0</td>\n",
       "    </tr>\n",
       "    <tr>\n",
       "      <th>1</th>\n",
       "      <td>7.0</td>\n",
       "      <td>15.085271</td>\n",
       "      <td>0.0</td>\n",
       "      <td>0.0</td>\n",
       "      <td>0.0</td>\n",
       "      <td>1.0</td>\n",
       "      <td>0.0</td>\n",
       "      <td>0.0</td>\n",
       "      <td>0.0</td>\n",
       "      <td>0.0</td>\n",
       "      <td>0.0</td>\n",
       "      <td>0.0</td>\n",
       "      <td>0.0</td>\n",
       "      <td>0.0</td>\n",
       "      <td>0.0</td>\n",
       "      <td>0.0</td>\n",
       "      <td>0.0</td>\n",
       "      <td>0.0</td>\n",
       "    </tr>\n",
       "  </tbody>\n",
       "</table>\n",
       "</div>\n",
       "      <button class=\"colab-df-convert\" onclick=\"convertToInteractive('df-8d5c3b04-41b8-4fec-8f28-8a059b10790f')\"\n",
       "              title=\"Convert this dataframe to an interactive table.\"\n",
       "              style=\"display:none;\">\n",
       "        \n",
       "  <svg xmlns=\"http://www.w3.org/2000/svg\" height=\"24px\"viewBox=\"0 0 24 24\"\n",
       "       width=\"24px\">\n",
       "    <path d=\"M0 0h24v24H0V0z\" fill=\"none\"/>\n",
       "    <path d=\"M18.56 5.44l.94 2.06.94-2.06 2.06-.94-2.06-.94-.94-2.06-.94 2.06-2.06.94zm-11 1L8.5 8.5l.94-2.06 2.06-.94-2.06-.94L8.5 2.5l-.94 2.06-2.06.94zm10 10l.94 2.06.94-2.06 2.06-.94-2.06-.94-.94-2.06-.94 2.06-2.06.94z\"/><path d=\"M17.41 7.96l-1.37-1.37c-.4-.4-.92-.59-1.43-.59-.52 0-1.04.2-1.43.59L10.3 9.45l-7.72 7.72c-.78.78-.78 2.05 0 2.83L4 21.41c.39.39.9.59 1.41.59.51 0 1.02-.2 1.41-.59l7.78-7.78 2.81-2.81c.8-.78.8-2.07 0-2.86zM5.41 20L4 18.59l7.72-7.72 1.47 1.35L5.41 20z\"/>\n",
       "  </svg>\n",
       "      </button>\n",
       "      \n",
       "  <style>\n",
       "    .colab-df-container {\n",
       "      display:flex;\n",
       "      flex-wrap:wrap;\n",
       "      gap: 12px;\n",
       "    }\n",
       "\n",
       "    .colab-df-convert {\n",
       "      background-color: #E8F0FE;\n",
       "      border: none;\n",
       "      border-radius: 50%;\n",
       "      cursor: pointer;\n",
       "      display: none;\n",
       "      fill: #1967D2;\n",
       "      height: 32px;\n",
       "      padding: 0 0 0 0;\n",
       "      width: 32px;\n",
       "    }\n",
       "\n",
       "    .colab-df-convert:hover {\n",
       "      background-color: #E2EBFA;\n",
       "      box-shadow: 0px 1px 2px rgba(60, 64, 67, 0.3), 0px 1px 3px 1px rgba(60, 64, 67, 0.15);\n",
       "      fill: #174EA6;\n",
       "    }\n",
       "\n",
       "    [theme=dark] .colab-df-convert {\n",
       "      background-color: #3B4455;\n",
       "      fill: #D2E3FC;\n",
       "    }\n",
       "\n",
       "    [theme=dark] .colab-df-convert:hover {\n",
       "      background-color: #434B5C;\n",
       "      box-shadow: 0px 1px 3px 1px rgba(0, 0, 0, 0.15);\n",
       "      filter: drop-shadow(0px 1px 2px rgba(0, 0, 0, 0.3));\n",
       "      fill: #FFFFFF;\n",
       "    }\n",
       "  </style>\n",
       "\n",
       "      <script>\n",
       "        const buttonEl =\n",
       "          document.querySelector('#df-8d5c3b04-41b8-4fec-8f28-8a059b10790f button.colab-df-convert');\n",
       "        buttonEl.style.display =\n",
       "          google.colab.kernel.accessAllowed ? 'block' : 'none';\n",
       "\n",
       "        async function convertToInteractive(key) {\n",
       "          const element = document.querySelector('#df-8d5c3b04-41b8-4fec-8f28-8a059b10790f');\n",
       "          const dataTable =\n",
       "            await google.colab.kernel.invokeFunction('convertToInteractive',\n",
       "                                                     [key], {});\n",
       "          if (!dataTable) return;\n",
       "\n",
       "          const docLinkHtml = 'Like what you see? Visit the ' +\n",
       "            '<a target=\"_blank\" href=https://colab.research.google.com/notebooks/data_table.ipynb>data table notebook</a>'\n",
       "            + ' to learn more about interactive tables.';\n",
       "          element.innerHTML = '';\n",
       "          dataTable['output_type'] = 'display_data';\n",
       "          await google.colab.output.renderOutput(dataTable, element);\n",
       "          const docLink = document.createElement('div');\n",
       "          docLink.innerHTML = docLinkHtml;\n",
       "          element.appendChild(docLink);\n",
       "        }\n",
       "      </script>\n",
       "    </div>\n",
       "  </div>\n",
       "  "
      ],
      "text/plain": [
       "   Years_of_Experience    Log_ctc  x0_Combined  x0_Missing  \\\n",
       "0                  7.0  15.068274          0.0         0.0   \n",
       "1                  7.0  15.085271          0.0         0.0   \n",
       "\n",
       "   x0_android engineer  x0_backend engineer  x0_data analyst  \\\n",
       "0                  0.0                  1.0              0.0   \n",
       "1                  0.0                  1.0              0.0   \n",
       "\n",
       "   x0_data scientist  x0_devops engineer  x0_engineering intern  \\\n",
       "0                0.0                 0.0                    0.0   \n",
       "1                0.0                 0.0                    0.0   \n",
       "\n",
       "   x0_engineering leadership  x0_frontend engineer  x0_fullstack engineer  \\\n",
       "0                        0.0                   0.0                    0.0   \n",
       "1                        0.0                   0.0                    0.0   \n",
       "\n",
       "   x0_ios engineer  x0_other  x0_qa engineer  x0_sdet  x0_support engineer  \n",
       "0              0.0       0.0             0.0      0.0                  0.0  \n",
       "1              0.0       0.0             0.0      0.0                  0.0  "
      ]
     },
     "metadata": {},
     "output_type": "display_data"
    }
   ],
   "source": [
    "# Lets check which columns we need to encode.\n",
    "display(df.head(2))\n",
    "\n",
    "# We need to scale \"Years_of_Experience\" and \"Log_ctc\".\n",
    "scaler=StandardScaler()\n",
    "temp=pd.DataFrame(data=scaler.fit_transform(df.iloc[:,[0,1]]),columns=scaler.get_feature_names_out())\n",
    "df=pd.concat((temp,df.iloc[:,2:]),axis=1)"
   ]
  },
  {
   "cell_type": "code",
   "execution_count": 78,
   "id": "3488afb8",
   "metadata": {
    "colab": {
     "base_uri": "https://localhost:8080/",
     "height": 193
    },
    "id": "3488afb8",
    "outputId": "fc22bbfa-879d-41d4-dd1b-e7109b75a3ba"
   },
   "outputs": [
    {
     "data": {
      "text/html": [
       "\n",
       "  <div id=\"df-cb9b9723-1270-4ff7-92b5-3fc2018a552c\">\n",
       "    <div class=\"colab-df-container\">\n",
       "      <div>\n",
       "<style scoped>\n",
       "    .dataframe tbody tr th:only-of-type {\n",
       "        vertical-align: middle;\n",
       "    }\n",
       "\n",
       "    .dataframe tbody tr th {\n",
       "        vertical-align: top;\n",
       "    }\n",
       "\n",
       "    .dataframe thead th {\n",
       "        text-align: right;\n",
       "    }\n",
       "</style>\n",
       "<table border=\"1\" class=\"dataframe\">\n",
       "  <thead>\n",
       "    <tr style=\"text-align: right;\">\n",
       "      <th></th>\n",
       "      <th>Years_of_Experience</th>\n",
       "      <th>Log_ctc</th>\n",
       "      <th>x0_Combined</th>\n",
       "      <th>x0_Missing</th>\n",
       "      <th>x0_android engineer</th>\n",
       "      <th>x0_backend engineer</th>\n",
       "      <th>x0_data analyst</th>\n",
       "      <th>x0_data scientist</th>\n",
       "      <th>x0_devops engineer</th>\n",
       "      <th>x0_engineering intern</th>\n",
       "      <th>x0_engineering leadership</th>\n",
       "      <th>x0_frontend engineer</th>\n",
       "      <th>x0_fullstack engineer</th>\n",
       "      <th>x0_ios engineer</th>\n",
       "      <th>x0_other</th>\n",
       "      <th>x0_qa engineer</th>\n",
       "      <th>x0_sdet</th>\n",
       "      <th>x0_support engineer</th>\n",
       "    </tr>\n",
       "  </thead>\n",
       "  <tbody>\n",
       "    <tr>\n",
       "      <th>0</th>\n",
       "      <td>0.774817</td>\n",
       "      <td>1.631987</td>\n",
       "      <td>0.0</td>\n",
       "      <td>0.0</td>\n",
       "      <td>0.0</td>\n",
       "      <td>1.0</td>\n",
       "      <td>0.0</td>\n",
       "      <td>0.0</td>\n",
       "      <td>0.0</td>\n",
       "      <td>0.0</td>\n",
       "      <td>0.0</td>\n",
       "      <td>0.0</td>\n",
       "      <td>0.0</td>\n",
       "      <td>0.0</td>\n",
       "      <td>0.0</td>\n",
       "      <td>0.0</td>\n",
       "      <td>0.0</td>\n",
       "      <td>0.0</td>\n",
       "    </tr>\n",
       "    <tr>\n",
       "      <th>1</th>\n",
       "      <td>0.774817</td>\n",
       "      <td>1.653532</td>\n",
       "      <td>0.0</td>\n",
       "      <td>0.0</td>\n",
       "      <td>0.0</td>\n",
       "      <td>1.0</td>\n",
       "      <td>0.0</td>\n",
       "      <td>0.0</td>\n",
       "      <td>0.0</td>\n",
       "      <td>0.0</td>\n",
       "      <td>0.0</td>\n",
       "      <td>0.0</td>\n",
       "      <td>0.0</td>\n",
       "      <td>0.0</td>\n",
       "      <td>0.0</td>\n",
       "      <td>0.0</td>\n",
       "      <td>0.0</td>\n",
       "      <td>0.0</td>\n",
       "    </tr>\n",
       "  </tbody>\n",
       "</table>\n",
       "</div>\n",
       "      <button class=\"colab-df-convert\" onclick=\"convertToInteractive('df-cb9b9723-1270-4ff7-92b5-3fc2018a552c')\"\n",
       "              title=\"Convert this dataframe to an interactive table.\"\n",
       "              style=\"display:none;\">\n",
       "        \n",
       "  <svg xmlns=\"http://www.w3.org/2000/svg\" height=\"24px\"viewBox=\"0 0 24 24\"\n",
       "       width=\"24px\">\n",
       "    <path d=\"M0 0h24v24H0V0z\" fill=\"none\"/>\n",
       "    <path d=\"M18.56 5.44l.94 2.06.94-2.06 2.06-.94-2.06-.94-.94-2.06-.94 2.06-2.06.94zm-11 1L8.5 8.5l.94-2.06 2.06-.94-2.06-.94L8.5 2.5l-.94 2.06-2.06.94zm10 10l.94 2.06.94-2.06 2.06-.94-2.06-.94-.94-2.06-.94 2.06-2.06.94z\"/><path d=\"M17.41 7.96l-1.37-1.37c-.4-.4-.92-.59-1.43-.59-.52 0-1.04.2-1.43.59L10.3 9.45l-7.72 7.72c-.78.78-.78 2.05 0 2.83L4 21.41c.39.39.9.59 1.41.59.51 0 1.02-.2 1.41-.59l7.78-7.78 2.81-2.81c.8-.78.8-2.07 0-2.86zM5.41 20L4 18.59l7.72-7.72 1.47 1.35L5.41 20z\"/>\n",
       "  </svg>\n",
       "      </button>\n",
       "      \n",
       "  <style>\n",
       "    .colab-df-container {\n",
       "      display:flex;\n",
       "      flex-wrap:wrap;\n",
       "      gap: 12px;\n",
       "    }\n",
       "\n",
       "    .colab-df-convert {\n",
       "      background-color: #E8F0FE;\n",
       "      border: none;\n",
       "      border-radius: 50%;\n",
       "      cursor: pointer;\n",
       "      display: none;\n",
       "      fill: #1967D2;\n",
       "      height: 32px;\n",
       "      padding: 0 0 0 0;\n",
       "      width: 32px;\n",
       "    }\n",
       "\n",
       "    .colab-df-convert:hover {\n",
       "      background-color: #E2EBFA;\n",
       "      box-shadow: 0px 1px 2px rgba(60, 64, 67, 0.3), 0px 1px 3px 1px rgba(60, 64, 67, 0.15);\n",
       "      fill: #174EA6;\n",
       "    }\n",
       "\n",
       "    [theme=dark] .colab-df-convert {\n",
       "      background-color: #3B4455;\n",
       "      fill: #D2E3FC;\n",
       "    }\n",
       "\n",
       "    [theme=dark] .colab-df-convert:hover {\n",
       "      background-color: #434B5C;\n",
       "      box-shadow: 0px 1px 3px 1px rgba(0, 0, 0, 0.15);\n",
       "      filter: drop-shadow(0px 1px 2px rgba(0, 0, 0, 0.3));\n",
       "      fill: #FFFFFF;\n",
       "    }\n",
       "  </style>\n",
       "\n",
       "      <script>\n",
       "        const buttonEl =\n",
       "          document.querySelector('#df-cb9b9723-1270-4ff7-92b5-3fc2018a552c button.colab-df-convert');\n",
       "        buttonEl.style.display =\n",
       "          google.colab.kernel.accessAllowed ? 'block' : 'none';\n",
       "\n",
       "        async function convertToInteractive(key) {\n",
       "          const element = document.querySelector('#df-cb9b9723-1270-4ff7-92b5-3fc2018a552c');\n",
       "          const dataTable =\n",
       "            await google.colab.kernel.invokeFunction('convertToInteractive',\n",
       "                                                     [key], {});\n",
       "          if (!dataTable) return;\n",
       "\n",
       "          const docLinkHtml = 'Like what you see? Visit the ' +\n",
       "            '<a target=\"_blank\" href=https://colab.research.google.com/notebooks/data_table.ipynb>data table notebook</a>'\n",
       "            + ' to learn more about interactive tables.';\n",
       "          element.innerHTML = '';\n",
       "          dataTable['output_type'] = 'display_data';\n",
       "          await google.colab.output.renderOutput(dataTable, element);\n",
       "          const docLink = document.createElement('div');\n",
       "          docLink.innerHTML = docLinkHtml;\n",
       "          element.appendChild(docLink);\n",
       "        }\n",
       "      </script>\n",
       "    </div>\n",
       "  </div>\n",
       "  "
      ],
      "text/plain": [
       "   Years_of_Experience   Log_ctc  x0_Combined  x0_Missing  \\\n",
       "0             0.774817  1.631987          0.0         0.0   \n",
       "1             0.774817  1.653532          0.0         0.0   \n",
       "\n",
       "   x0_android engineer  x0_backend engineer  x0_data analyst  \\\n",
       "0                  0.0                  1.0              0.0   \n",
       "1                  0.0                  1.0              0.0   \n",
       "\n",
       "   x0_data scientist  x0_devops engineer  x0_engineering intern  \\\n",
       "0                0.0                 0.0                    0.0   \n",
       "1                0.0                 0.0                    0.0   \n",
       "\n",
       "   x0_engineering leadership  x0_frontend engineer  x0_fullstack engineer  \\\n",
       "0                        0.0                   0.0                    0.0   \n",
       "1                        0.0                   0.0                    0.0   \n",
       "\n",
       "   x0_ios engineer  x0_other  x0_qa engineer  x0_sdet  x0_support engineer  \n",
       "0              0.0       0.0             0.0      0.0                  0.0  \n",
       "1              0.0       0.0             0.0      0.0                  0.0  "
      ]
     },
     "execution_count": 78,
     "metadata": {},
     "output_type": "execute_result"
    }
   ],
   "source": [
    "# Final Look at our encoded and scaled dataset.\n",
    "df.head(2)"
   ]
  },
  {
   "cell_type": "code",
   "execution_count": null,
   "id": "rsMd90lZbPMF",
   "metadata": {
    "id": "rsMd90lZbPMF"
   },
   "outputs": [],
   "source": []
  },
  {
   "cell_type": "markdown",
   "id": "3dec1b67",
   "metadata": {
    "id": "3dec1b67"
   },
   "source": [
    "# Unsupervised Learning - Clustering"
   ]
  },
  {
   "cell_type": "markdown",
   "id": "9961d8f2",
   "metadata": {
    "id": "9961d8f2"
   },
   "source": [
    "## 1) K-Means Clustering"
   ]
  },
  {
   "cell_type": "code",
   "execution_count": null,
   "id": "41104bea",
   "metadata": {
    "id": "41104bea"
   },
   "outputs": [],
   "source": [
    "# Lets use KMeans clustering to find the optimal number of clusters. Lets try for clusters 2,3,4,5 and 6.\n",
    "inertias=[]\n",
    "silhouette_scores=[]\n",
    "kmeans_per_k = [KMeans(n_clusters=k, random_state=42).fit(df) for k in range(2, 7)]\n",
    "\n",
    "# Inertia and Silhouette_Scores for deciding the optimal number of clusters\n",
    "inertias = [model.inertia_ for model in kmeans_per_k]\n",
    "silhouette_scores = [silhouette_score(df, model.labels_) for model in kmeans_per_k]"
   ]
  },
  {
   "cell_type": "code",
   "execution_count": null,
   "id": "Cp9JSbOM1gLI",
   "metadata": {
    "colab": {
     "base_uri": "https://localhost:8080/",
     "height": 741
    },
    "id": "Cp9JSbOM1gLI",
    "outputId": "7f652281-f999-45ae-9f4b-aa2861d9a85d"
   },
   "outputs": [
    {
     "data": {
      "image/png": "[encoded data removed]",
      "text/plain": [
       "<Figure size 720x432 with 1 Axes>"
      ]
     },
     "metadata": {},
     "output_type": "display_data"
    },
    {
     "data": {
      "image/png": "[encoded data removed]",
      "text/plain": [
       "<Figure size 576x396 with 1 Axes>"
      ]
     },
     "metadata": {},
     "output_type": "display_data"
    }
   ],
   "source": [
    "# Elbow method to determine the optimal number of clusters\n",
    "plt.figure(figsize=(10, 6))\n",
    "plt.plot(range(2,7), inertias, \"ro-\")\n",
    "plt.xlabel(\"$k$\", fontsize=14)\n",
    "plt.ylabel(\"Inertia\", fontsize=14)\n",
    "plt.annotate('Elbow', xy=(3, inertias[1]), xytext=(0.55, 0.55), textcoords='figure fraction',\n",
    "             fontsize=16, arrowprops=dict(facecolor='black', shrink=0.1))\n",
    "plt.show()\n",
    "\n",
    "# From the elbow method, we can see a sharp bend for k=3. Lets look at the segmenation for 3 clusters.\n",
    "plt.scatter(x=df['Years_of_Experience'],y=df['Log_ctc'],c=kmeans_per_k[1].labels_,cmap='Set2')\n",
    "plt.xlabel(\"Years of Experience\", fontsize=14)\n",
    "plt.ylabel(\"Log-CTC\", fontsize=14)\n",
    "plt.show()"
   ]
  },
  {
   "cell_type": "code",
   "execution_count": null,
   "id": "BCVgt_0HH3M4",
   "metadata": {
    "colab": {
     "base_uri": "https://localhost:8080/",
     "height": 741
    },
    "id": "BCVgt_0HH3M4",
    "outputId": "7dd0f8eb-fc02-4db1-a389-f128a1ba2943"
   },
   "outputs": [
    {
     "data": {
      "image/png": "[encoded data removed]",
      "text/plain": [
       "<Figure size 720x432 with 1 Axes>"
      ]
     },
     "metadata": {},
     "output_type": "display_data"
    },
    {
     "data": {
      "image/png": "[encoded data removed]",
      "text/plain": [
       "<Figure size 576x396 with 1 Axes>"
      ]
     },
     "metadata": {},
     "output_type": "display_data"
    }
   ],
   "source": [
    "# Silhouette_scores to determine the optimal number of clusters.\n",
    "plt.figure(figsize=(10, 6))\n",
    "plt.plot(range(2,7), silhouette_scores, \"bo-\")\n",
    "plt.xlabel(\"$k$\", fontsize=14)\n",
    "plt.ylabel(\"Inertia\", fontsize=14)\n",
    "plt.show()\n",
    "\n",
    "# From this plot, k=2 or k=3 is the right number of clusters. Lets look at the segmenation for 2 clusters.\n",
    "plt.scatter(x=df['Years_of_Experience'],y=df['Log_ctc'],c=kmeans_per_k[0].labels_,cmap='Set2')\n",
    "plt.xlabel(\"Years of Experience\", fontsize=14)\n",
    "plt.ylabel(\"Log-CTC\", fontsize=14)\n",
    "plt.show()"
   ]
  },
  {
   "cell_type": "code",
   "execution_count": null,
   "id": "M24jFEh8quN7",
   "metadata": {
    "id": "M24jFEh8quN7"
   },
   "outputs": [],
   "source": [
    "# Observation - 3 Clusters are more suitable according to the business sense.\n",
    "# - The first cluster belongs to those young learners who are probably highly skilled and have joined high paying startups and MNCs.\n",
    "# - The second cluster belongs to those learner who are probably working in service based MNCs and their salary increases with experience.\n",
    "# - The third cluster belongs to those learner who are probably working in top product based companies and are very skillful and experienced.\n"
   ]
  },
  {
   "cell_type": "code",
   "execution_count": null,
   "id": "jzV-DtC7dPRa",
   "metadata": {
    "id": "jzV-DtC7dPRa"
   },
   "outputs": [],
   "source": []
  },
  {
   "cell_type": "markdown",
   "id": "63f8cd8a",
   "metadata": {
    "id": "63f8cd8a"
   },
   "source": [
    "## 2) Hierarchical Clustering"
   ]
  },
  {
   "cell_type": "code",
   "execution_count": 81,
   "id": "EjDEi_gKZnBx",
   "metadata": {
    "colab": {
     "base_uri": "https://localhost:8080/",
     "height": 348
    },
    "id": "EjDEi_gKZnBx",
    "outputId": "aad77984-da3b-427d-afef-10c52b1b3276"
   },
   "outputs": [
    {
     "data": {
      "image/png": "[encoded data removed]",
      "text/plain": [
       "<Figure size 576x396 with 1 Axes>"
      ]
     },
     "metadata": {},
     "output_type": "display_data"
    }
   ],
   "source": [
    "# Lets see how many clusters \"Hierarchical Clustering\" on its own.\n",
    "# Since it will take a lot of time to run the algorithm on the entire dataset, therefore lets take only 5,000 observations.\n",
    "\n",
    "linkage_data = linkage(df.sample(4000), method='ward', metric='euclidean')\n",
    "dendrogram(linkage_data)\n",
    "plt.show()\n",
    "\n",
    "# From the above plot we can see that the number of clusters is 3, which is also verfied by the Elbow method from K_Means."
   ]
  },
  {
   "cell_type": "code",
   "execution_count": 86,
   "id": "a1GLby-MZnE9",
   "metadata": {
    "colab": {
     "base_uri": "https://localhost:8080/",
     "height": 347
    },
    "id": "a1GLby-MZnE9",
    "outputId": "25d11a62-d860-4a2e-8979-994c70666c41"
   },
   "outputs": [
    {
     "data": {
      "image/png": "[encoded data removed]",
      "text/plain": [
       "<Figure size 576x396 with 1 Axes>"
      ]
     },
     "metadata": {},
     "output_type": "display_data"
    }
   ],
   "source": [
    "# Lets look at the segmentation of the 3 clusters by using \"Hierarchical_Clustering\".\n",
    "# Since it will take a lot of time to run the algorithm on the entire dataset, therefore lets take only 15,000 observations.\n",
    "data=df.sample(15000)\n",
    "\n",
    "hierarchical_cluster = AgglomerativeClustering(n_clusters=3, affinity='euclidean', linkage='ward')\n",
    "labels = hierarchical_cluster.fit_predict(data)\n",
    "\n",
    "plt.scatter(data['Years_of_Experience'], data['Log_ctc'], c=labels,cmap='Set1')\n",
    "plt.show()\n",
    "\n",
    "# The segmentation of clusters by using \"Hierarchical_Clustering\" is almost the same as by using \"KMeans\"."
   ]
  },
  {
   "cell_type": "markdown",
   "id": "2f2de999",
   "metadata": {
    "id": "2f2de999"
   },
   "source": [
    "# Actionable Insights & Recommendations"
   ]
  },
  {
   "cell_type": "markdown",
   "id": "31163c4f",
   "metadata": {
    "colab": {
     "base_uri": "https://localhost:8080/",
     "height": 131
    },
    "id": "dc7d979e",
    "outputId": "0d18caf0-80e7-4924-8fac-d62a3ea4c2e9"
   },
   "source": [
    "- From the clustering analysis and also by business intuition, we finally deciced that there are 3 meaningful clusters.\n",
    "- The first cluster belongs to those young learners who are probably highly skilled and have joined high paying startups and MNCs.\n",
    "- The second cluster belongs to those learner who are probably working in service based MNCs and their salary increases with experience.\n",
    "- The third cluster belongs to those learner who are probably working in top product based companies and are very skillful and experienced.\n",
    "- For very high paying start-ups for less experienced learners, Scaler can identify, train and make them ready to crack those jobs.\n",
    "- For stable MNCs, learners who are not highly skilled or who are looking to do a career transition can be placed in such companies.\n",
    "- For highly experienced jobs, some learners can be identified who are both skillful and highly experieced to get those jobs.\n",
    "- There are a lot of \"Backend-Engineer\" and  \"Fullstack-Engineer\" jobs available, so getting learned placed for this job role would be relatively easy.\n",
    "- \"Engineering Leadership\" earns the highest average \"ctc\" among all job categories, and these learners have the highest average experience. A highly experienced learner might be better suited for \"Engineering Leadership\" job.\n",
    "- \"Support Engineer\" has the minimum average \"ctc\" among all job categories. This can be a good marketing strategy to attract learners who are looking to do a career transition.\n",
    "- As expected, \"Engineering Intern\" has the minimum average \"Years_of_Experience\" among all job categories.\n",
    "- \"Data Scientist\" and \"Backend Engineer\" are one of the most highly paid jobs, and Scaler's program these program for both these job profiles. So Scaler can get learner placed in such jobs easily.\n",
    "- There are a few masked companies who hire a lot of people, so Scaler can also placed suitable learners in these companies based on the job fit requirement.\n",
    "- There are a few companies who offer the best salaries to its employees. Scaler can shortlist such learners from its cohort and try to get learners placed in them to increase its credibility."
   ]
  },
  {
   "cell_type": "code",
   "execution_count": null,
   "id": "YoHiEbLTc7il",
   "metadata": {
    "colab": {
     "base_uri": "https://localhost:8080/",
     "height": 505
    },
    "id": "YoHiEbLTc7il",
    "outputId": "6c17a476-2826-460f-8659-47e7d465fcb4"
   },
   "outputs": [],
   "source": []
  }
 ],
 "metadata": {
  "colab": {
   "collapsed_sections": [],
   "provenance": []
  },
  "kernelspec": {
   "display_name": "Python 3 (ipykernel)",
   "language": "python",
   "name": "python3"
  },
  "language_info": {
   "codemirror_mode": {
    "name": "ipython",
    "version": 3
   },
   "file_extension": ".py",
   "mimetype": "text/x-python",
   "name": "python",
   "nbconvert_exporter": "python",
   "pygments_lexer": "ipython3",
   "version": "3.9.7"
  }
 },
 "nbformat": 4,
 "nbformat_minor": 5
}
