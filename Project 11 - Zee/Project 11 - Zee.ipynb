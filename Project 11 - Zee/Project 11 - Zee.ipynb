{
 "cells": [
  {
   "cell_type": "markdown",
   "id": "fefb416c",
   "metadata": {},
   "source": [
    "## PROBLEM STATEMENT\n",
    "Create a Recommender System for **Zee** to show personalized movie recommendations based on ratings given by a user and other users similar to them in order to improve user experience.\n",
    "\n",
    "### My Views:\n",
    " - Giving personalized and relevant movie recommendations to the users is a very important task for **Zee** to increase engagement and user experience.\n",
    " - Better engagement would mean people would be spending more time on **Zee's** platform, through which people would develop an affinity for **Zee**\n",
    " - Existing users would renew their subscriptions and as a reult Churn would reduce, which would also impact Revenue.\n",
    " - If the experience is good, more people would be interested to take **Zee** subscription, which can directly increase revenue.\n",
    " - Better do No recommendation than doing a wrong recommendation."
   ]
  },
  {
   "cell_type": "markdown",
   "id": "39f6e691",
   "metadata": {},
   "source": [
    "## Data Dictionary:\n",
    "\n",
    "\n",
    "### 1) RATINGS FILE DESCRIPTION\n",
    "\n",
    "\n",
    "All ratings are contained in the file \"ratings.dat\" and are in the following format: **UserID::MovieID::Rating::Timestamp**\n",
    "\n",
    "- UserIDs range between 1 and 6040\n",
    "- MovieIDs range between 1 and 3952\n",
    "- Ratings are made on a 5-star scale (whole-star ratings only)\n",
    "- Timestamp is represented in seconds\n",
    "- Each user has at least 20 ratings\n",
    "\n",
    "### 2) USERS FILE DESCRIPTION\n",
    "\n",
    "User information is in the file \"users.dat\" and is in the following format: **UserID::Gender::Age::Occupation::Zip-code**\n",
    "\n",
    "All demographic information is provided voluntarily by the users and is not checked for accuracy.\n",
    "Only users who have provided some demographic information are included in this data set.\n",
    "\n",
    "- Gender is denoted by a \"M\" for male and \"F\" for female\n",
    "- Age is chosen from the following ranges: 1: \"Under 18\", 18: \"18-24\", 25: \"25-34\", 35: \"35-44\", 45: \"45-49\", 50: \"50-55\", 56: \"56+\"\n",
    "\n",
    "- Occupation is chosen from the following choices: 0: \"other\" or not specified, 1: \"academic/educator\", 2: \"artist\", 3: \"clerical/admin\", 4: \"college/grad student\", 5: \"customer service\", 6: \"doctor/health care\", 7: \"executive/managerial\", 8: \"farmer\", 9: \"homemaker\", 10: \"K-12 student\", 11: \"lawyer\", 12: \"programmer\", 13: \"retired\", 14: \"sales/marketing\", 15: \"scientist\", 16: \"self-employed\", 17: \"technician/engineer\", 18: \"tradesman/craftsman\", 19: \"unemployed\", 20: \"writer\"\n",
    "\n",
    "### 3) MOVIES FILE DESCRIPTION\n",
    "\n",
    "Movie information is in the file \"movies.dat\" and is in the following format: **MovieID::Title::Genres**\n",
    "\n",
    "- Titles are identical to titles provided by the IMDB (including year of release)\n",
    "\n",
    "- Genres are pipe-separated and are selected from the following genres: Action, Adventure, Animation, Children's, Comedy, Crime, Documentary, Drama, Fantasy, Film-Noir, Horror, Musical, Mystery, Romance, Sci-Fi, Thriller, War, Western"
   ]
  },
  {
   "cell_type": "code",
   "execution_count": 1,
   "id": "22c9e54c",
   "metadata": {},
   "outputs": [],
   "source": [
    "import numpy as np\n",
    "import pandas as pd\n",
    "import matplotlib.pyplot as plt\n",
    "import seaborn as sns\n",
    "from datetime import datetime\n",
    "from sklearn.pipeline import Pipeline\n",
    "from sklearn.linear_model import LinearRegression\n",
    "from sklearn.ensemble import RandomForestRegressor\n",
    "from sklearn.ensemble import GradientBoostingRegressor\n",
    "from sklearn.model_selection import cross_validate\n",
    "from sklearn.preprocessing import StandardScaler\n",
    "from sklearn.preprocessing import OneHotEncoder\n",
    "from cmfrec import CMF"
   ]
  },
  {
   "cell_type": "markdown",
   "id": "a1bfd050",
   "metadata": {},
   "source": [
    "### Movies Dataset"
   ]
  },
  {
   "cell_type": "code",
   "execution_count": 2,
   "id": "c8c1bc74",
   "metadata": {},
   "outputs": [
    {
     "data": {
      "text/html": [
       "<div>\n",
       "<style scoped>\n",
       "    .dataframe tbody tr th:only-of-type {\n",
       "        vertical-align: middle;\n",
       "    }\n",
       "\n",
       "    .dataframe tbody tr th {\n",
       "        vertical-align: top;\n",
       "    }\n",
       "\n",
       "    .dataframe thead th {\n",
       "        text-align: right;\n",
       "    }\n",
       "</style>\n",
       "<table border=\"1\" class=\"dataframe\">\n",
       "  <thead>\n",
       "    <tr style=\"text-align: right;\">\n",
       "      <th></th>\n",
       "      <th>MovieID</th>\n",
       "      <th>Title</th>\n",
       "      <th>Genres</th>\n",
       "    </tr>\n",
       "  </thead>\n",
       "  <tbody>\n",
       "    <tr>\n",
       "      <th>0</th>\n",
       "      <td>1</td>\n",
       "      <td>Toy Story (1995)</td>\n",
       "      <td>Animation|Children's|Comedy</td>\n",
       "    </tr>\n",
       "    <tr>\n",
       "      <th>1</th>\n",
       "      <td>2</td>\n",
       "      <td>Jumanji (1995)</td>\n",
       "      <td>Adventure|Children's|Fantasy</td>\n",
       "    </tr>\n",
       "    <tr>\n",
       "      <th>2</th>\n",
       "      <td>3</td>\n",
       "      <td>Grumpier Old Men (1995)</td>\n",
       "      <td>Comedy|Romance</td>\n",
       "    </tr>\n",
       "    <tr>\n",
       "      <th>3</th>\n",
       "      <td>4</td>\n",
       "      <td>Waiting to Exhale (1995)</td>\n",
       "      <td>Comedy|Drama</td>\n",
       "    </tr>\n",
       "    <tr>\n",
       "      <th>4</th>\n",
       "      <td>5</td>\n",
       "      <td>Father of the Bride Part II (1995)</td>\n",
       "      <td>Comedy</td>\n",
       "    </tr>\n",
       "  </tbody>\n",
       "</table>\n",
       "</div>"
      ],
      "text/plain": [
       "  MovieID                               Title                        Genres\n",
       "0       1                    Toy Story (1995)   Animation|Children's|Comedy\n",
       "1       2                      Jumanji (1995)  Adventure|Children's|Fantasy\n",
       "2       3             Grumpier Old Men (1995)                Comedy|Romance\n",
       "3       4            Waiting to Exhale (1995)                  Comedy|Drama\n",
       "4       5  Father of the Bride Part II (1995)                        Comedy"
      ]
     },
     "metadata": {},
     "output_type": "display_data"
    },
    {
     "name": "stdout",
     "output_type": "stream",
     "text": [
      "Shape: (3883, 3)\n"
     ]
    }
   ],
   "source": [
    "movies=pd.read_fwf('zee-movies.dat',encoding='ISO-8859-1')\n",
    "movies=pd.DataFrame(data=(movies['Movie ID::Title::Genres'].str.split('::')).tolist(),columns=movies.columns[0].split('::'))\n",
    "movies.rename(columns={'Movie ID':'MovieID'},inplace=True)\n",
    "display(movies.head())\n",
    "\n",
    "print('Shape:',movies.shape) # There are 3833 rows."
   ]
  },
  {
   "cell_type": "code",
   "execution_count": 3,
   "id": "228c345e",
   "metadata": {},
   "outputs": [
    {
     "name": "stdout",
     "output_type": "stream",
     "text": [
      "MovieID     0\n",
      "Title       0\n",
      "Genres     25\n",
      "dtype: int64\n"
     ]
    }
   ],
   "source": [
    "# Checking for missing values.\n",
    "print(movies.isna().sum())\n",
    "# There are 25 movies for which Genre is not present. We can remove these movies.\n",
    "\n",
    "# Making a copy of the original dataset.\n",
    "movies_original=movies.copy()\n",
    "\n",
    "# Removing the movies which has \"Genre\" missing.\n",
    "movies_to_remove=list(movies.loc[movies['Genres'].isna(),'MovieID']) \n",
    "movies=movies[~movies['MovieID'].isin(movies_to_remove)].reset_index(drop=True)"
   ]
  },
  {
   "cell_type": "code",
   "execution_count": 4,
   "id": "11a6d600",
   "metadata": {},
   "outputs": [
    {
     "name": "stdout",
     "output_type": "stream",
     "text": [
      "['1995' '1994' '1996' '1976' '1993' '1992' '1988' '1967' '1977' '1965'\n",
      " '1982' '1962' '1990' '1991' '1989' '1937' '1940' '1969' '1981' '1973'\n",
      " '1970' '1960' '1955' '1956' '1959' '1968' '1980' '1975' '1986' '1948'\n",
      " '1943' '1950' '1946' '1987' '1997' '1974' '1958' '1949' '1972' '1998'\n",
      " '1933' '1952' '1951' '1957' '1961' '1954' '1934' '1944' '1963' '1942'\n",
      " '1941' '1964' '1953' '1939' '1947' '1945' '1938' '1935' '1936' '1926'\n",
      " '1932' '1930' '1971' '1979' '1966' '1978' '1985' '1983' '1984' '1931'\n",
      " '1922' '1927' '1929' '1928' '1925' '1923' '1999' '1919' '2000' '1920'\n",
      " '1921']\n"
     ]
    }
   ],
   "source": [
    "# Getting Release Year for every movie and removing year from Title.\n",
    "movies['Release_Year']=movies['Title'].apply(lambda x : x[-5:-1])\n",
    "\n",
    "# Lets check if there are any wrong values for \"Release_Year\".\n",
    "print(movies['Release_Year'].unique()) # Everything seems okay."
   ]
  },
  {
   "cell_type": "code",
   "execution_count": 5,
   "id": "8bdf60d5",
   "metadata": {},
   "outputs": [],
   "source": [
    "# Removing year from Title for every movie.\n",
    "movies['Title']=movies['Title'].apply(lambda x : x[:-7])"
   ]
  },
  {
   "cell_type": "code",
   "execution_count": 6,
   "id": "f393e55e",
   "metadata": {},
   "outputs": [
    {
     "name": "stdout",
     "output_type": "stream",
     "text": [
      "<class 'pandas.core.frame.DataFrame'>\n",
      "RangeIndex: 3858 entries, 0 to 3857\n",
      "Data columns (total 4 columns):\n",
      " #   Column        Non-Null Count  Dtype \n",
      "---  ------        --------------  ----- \n",
      " 0   MovieID       3858 non-null   object\n",
      " 1   Title         3858 non-null   object\n",
      " 2   Genres        3858 non-null   object\n",
      " 3   Release_Year  3858 non-null   object\n",
      "dtypes: object(4)\n",
      "memory usage: 120.7+ KB\n",
      "None\n"
     ]
    }
   ],
   "source": [
    "#Checking Movies Dataset Information\n",
    "print(movies.info())\n",
    "\n",
    "# Changing 'MoviedID' and \"Release_Year\" columns to integer datatype.\n",
    "movies[['MovieID','Release_Year']]=movies[['MovieID','Release_Year']].astype('int')\n",
    "movies_original[['MovieID']]=movies_original[['MovieID']].astype('int')"
   ]
  },
  {
   "cell_type": "code",
   "execution_count": 7,
   "id": "2929eee8",
   "metadata": {},
   "outputs": [
    {
     "data": {
      "text/html": [
       "<div>\n",
       "<style scoped>\n",
       "    .dataframe tbody tr th:only-of-type {\n",
       "        vertical-align: middle;\n",
       "    }\n",
       "\n",
       "    .dataframe tbody tr th {\n",
       "        vertical-align: top;\n",
       "    }\n",
       "\n",
       "    .dataframe thead th {\n",
       "        text-align: right;\n",
       "    }\n",
       "</style>\n",
       "<table border=\"1\" class=\"dataframe\">\n",
       "  <thead>\n",
       "    <tr style=\"text-align: right;\">\n",
       "      <th></th>\n",
       "      <th>MovieID</th>\n",
       "      <th>Title</th>\n",
       "      <th>Genres</th>\n",
       "      <th>Release_Year</th>\n",
       "    </tr>\n",
       "  </thead>\n",
       "  <tbody>\n",
       "    <tr>\n",
       "      <th>0</th>\n",
       "      <td>1</td>\n",
       "      <td>Toy Story</td>\n",
       "      <td>Animation</td>\n",
       "      <td>1995</td>\n",
       "    </tr>\n",
       "    <tr>\n",
       "      <th>0</th>\n",
       "      <td>1</td>\n",
       "      <td>Toy Story</td>\n",
       "      <td>Children's</td>\n",
       "      <td>1995</td>\n",
       "    </tr>\n",
       "    <tr>\n",
       "      <th>0</th>\n",
       "      <td>1</td>\n",
       "      <td>Toy Story</td>\n",
       "      <td>Comedy</td>\n",
       "      <td>1995</td>\n",
       "    </tr>\n",
       "    <tr>\n",
       "      <th>1</th>\n",
       "      <td>2</td>\n",
       "      <td>Jumanji</td>\n",
       "      <td>Adventure</td>\n",
       "      <td>1995</td>\n",
       "    </tr>\n",
       "    <tr>\n",
       "      <th>1</th>\n",
       "      <td>2</td>\n",
       "      <td>Jumanji</td>\n",
       "      <td>Children's</td>\n",
       "      <td>1995</td>\n",
       "    </tr>\n",
       "  </tbody>\n",
       "</table>\n",
       "</div>"
      ],
      "text/plain": [
       "   MovieID      Title      Genres  Release_Year\n",
       "0        1  Toy Story   Animation          1995\n",
       "0        1  Toy Story  Children's          1995\n",
       "0        1  Toy Story      Comedy          1995\n",
       "1        2    Jumanji   Adventure          1995\n",
       "1        2    Jumanji  Children's          1995"
      ]
     },
     "metadata": {},
     "output_type": "display_data"
    }
   ],
   "source": [
    "# Exploding the Dataset.\n",
    "movies_exploded=movies.copy()\n",
    "movies_exploded['Genres']=movies_exploded['Genres'].str.split('|')\n",
    "movies_exploded=movies_exploded.explode(column='Genres')\n",
    "display(movies_exploded.head(5))"
   ]
  },
  {
   "cell_type": "code",
   "execution_count": 8,
   "id": "f61cc4f4",
   "metadata": {},
   "outputs": [
    {
     "name": "stdout",
     "output_type": "stream",
     "text": [
      "Movies Shape: (3858, 4)\n",
      "Exploded_Movies Shape: (6341, 4)\n"
     ]
    }
   ],
   "source": [
    "print('Movies Shape:',movies.shape)\n",
    "print('Exploded_Movies Shape:',movies_exploded.shape)"
   ]
  },
  {
   "cell_type": "code",
   "execution_count": 9,
   "id": "39d7c5d3",
   "metadata": {},
   "outputs": [
    {
     "name": "stdout",
     "output_type": "stream",
     "text": [
      "Unique Movies: 3858\n",
      "Unique Genres: 63\n",
      "\n"
     ]
    },
    {
     "data": {
      "text/plain": [
       "array(['Animation', \"Children's\", 'Comedy', 'Adventure', 'Fantasy',\n",
       "       'Romance', 'Drama', 'Action', 'Crime', 'Thriller', 'Horror',\n",
       "       'Sci-Fi', 'Documentary', 'War', 'Musical', 'Mystery', 'Film-Noir',\n",
       "       'Dram', 'Western', 'Chil', '', 'Fantas', 'Dr', 'D', 'Documenta',\n",
       "       'Wester', 'Fant', 'Music', 'Childre', 'Childr', 'Rom', 'Animati',\n",
       "       'Children', 'Come', \"Children'\", 'Sci-F', 'Adv', 'Adventu',\n",
       "       'Horro', 'Docu', 'S', 'Sci-', 'Document', 'Th', 'Roman', 'Documen',\n",
       "       'We', 'F', 'Ro', 'R', 'Sci', 'Chi', 'Thri', 'Adventur', 'Advent',\n",
       "       'Acti', 'Roma', 'A', 'Comed', 'Com', 'Thrille', 'Wa', 'Horr'],\n",
       "      dtype=object)"
      ]
     },
     "execution_count": 9,
     "metadata": {},
     "output_type": "execute_result"
    }
   ],
   "source": [
    "# Checking for number of unique movies.\n",
    "print('Unique Movies:',movies['MovieID'].nunique())\n",
    "\n",
    "# Checking for number of unique Genres.\n",
    "print('Unique Genres:',movies_exploded['Genres'].nunique())\n",
    "print()\n",
    "\n",
    "# From the information provided earlier, we know that there are 18 Genres only, which are:\n",
    "# Action, Adventure, Animation, Children's, Comedy, Crime, Documentary, Drama, Fantasy, Film-Noir, Horror, Musical\" \n",
    "# \"Mystery, Romance, Sci-Fi, Thriller, War, Western\".\n",
    "# But from the dataset provided, there are 63 unique Genres. We need to inspect further.\n",
    "\n",
    "# Checking the unique categories of Genre.\n",
    "movies_exploded['Genres'].unique()"
   ]
  },
  {
   "cell_type": "code",
   "execution_count": 10,
   "id": "dd309ead",
   "metadata": {},
   "outputs": [],
   "source": [
    "# Observation 1 - There is a Genre which is an empty string. We can therefore remove these movies.\n",
    "movies=movies.loc[~(movies['Genres']=='')]\n",
    "movies_exploded=movies_exploded.loc[~(movies_exploded['Genres']=='')]\n",
    "\n",
    "\n",
    "# Observation2 - There are a lot of Genres which have spelling variations. We need to correct the mistyped names.\n",
    "def function(x):\n",
    "    if x in ['A','Acti','Action']:\n",
    "        return 'Action'\n",
    "    if x in ['Adv','Advent','Adventu','Adventur','Adventure']:\n",
    "        return \"Adventure\"\n",
    "    if x in ['Animati','Animation']:\n",
    "        return \"Animation\"\n",
    "    if x in ['Chi','Chil','Childr','Childre','Children',\"Children'\",\"Children's\"]:\n",
    "        return \"Childrens\"\n",
    "    if x in ['Com','Come','Comed','Comedy']:\n",
    "        return \"Comedy\"\n",
    "    if x in ['Crime']:\n",
    "        return \"Crime\"\n",
    "    if x in ['D','Docu','Documen','Document','Documenta','Documentary'] :\n",
    "        return \"Documentary\"\n",
    "    if x in ['Dr','Dram','Drama']:\n",
    "        return \"Drama\"\n",
    "    if x in ['F','Fant','Fantas','Fantasy']:\n",
    "        return \"Fantasy\"\n",
    "    if x in ['Film-Noir']:\n",
    "        return \"Film_Noir\"\n",
    "    if x in ['Horr','Horro','Horror']:\n",
    "        return \"Horror\"\n",
    "    if x in ['Musical','Music']:\n",
    "        return \"Musical\"\n",
    "    if x in ['Mystery']:\n",
    "        return \"Mystery\"\n",
    "    if x in ['R','Ro','Rom','Roma','Roman','Romance']:\n",
    "        return \"Romance\"\n",
    "    if x in ['S','Sci','Sci-','Sci-F','Sci-Fi']:\n",
    "        return \"Sci_Fi\"\n",
    "    if x in ['Th','Thri','Thrille','Thriller']:\n",
    "        return \"Thriller\"\n",
    "    if x in ['Wa','War']:\n",
    "        return \"War\"\n",
    "    if x in [\"We\",'Wester','Western']:\n",
    "        return \"Western\"\n",
    "   \n",
    "movies_exploded['Genres']=movies_exploded['Genres'].apply(function)"
   ]
  },
  {
   "cell_type": "code",
   "execution_count": 11,
   "id": "087ae764",
   "metadata": {},
   "outputs": [
    {
     "name": "stdout",
     "output_type": "stream",
     "text": [
      "1\n"
     ]
    }
   ],
   "source": [
    "# Removing duplicate entries if there are any.\n",
    "print(movies_exploded.duplicated().sum()) # There is 1 entry which is duplicate.\n",
    "\n",
    "# Removing the duplicate entry.\n",
    "movies_exploded=movies_exploded[~movies_exploded.duplicated()]"
   ]
  },
  {
   "cell_type": "code",
   "execution_count": 12,
   "id": "e3fdceb7",
   "metadata": {},
   "outputs": [
    {
     "data": {
      "text/html": [
       "<div>\n",
       "<style scoped>\n",
       "    .dataframe tbody tr th:only-of-type {\n",
       "        vertical-align: middle;\n",
       "    }\n",
       "\n",
       "    .dataframe tbody tr th {\n",
       "        vertical-align: top;\n",
       "    }\n",
       "\n",
       "    .dataframe thead th {\n",
       "        text-align: right;\n",
       "    }\n",
       "</style>\n",
       "<table border=\"1\" class=\"dataframe\">\n",
       "  <thead>\n",
       "    <tr style=\"text-align: right;\">\n",
       "      <th></th>\n",
       "      <th>MovieID</th>\n",
       "      <th>Title</th>\n",
       "      <th>Genres</th>\n",
       "      <th>Release_Year</th>\n",
       "    </tr>\n",
       "  </thead>\n",
       "  <tbody>\n",
       "    <tr>\n",
       "      <th>0</th>\n",
       "      <td>1</td>\n",
       "      <td>Toy Story</td>\n",
       "      <td>Animation</td>\n",
       "      <td>1995</td>\n",
       "    </tr>\n",
       "    <tr>\n",
       "      <th>0</th>\n",
       "      <td>1</td>\n",
       "      <td>Toy Story</td>\n",
       "      <td>Childrens</td>\n",
       "      <td>1995</td>\n",
       "    </tr>\n",
       "    <tr>\n",
       "      <th>0</th>\n",
       "      <td>1</td>\n",
       "      <td>Toy Story</td>\n",
       "      <td>Comedy</td>\n",
       "      <td>1995</td>\n",
       "    </tr>\n",
       "    <tr>\n",
       "      <th>1</th>\n",
       "      <td>2</td>\n",
       "      <td>Jumanji</td>\n",
       "      <td>Adventure</td>\n",
       "      <td>1995</td>\n",
       "    </tr>\n",
       "    <tr>\n",
       "      <th>1</th>\n",
       "      <td>2</td>\n",
       "      <td>Jumanji</td>\n",
       "      <td>Childrens</td>\n",
       "      <td>1995</td>\n",
       "    </tr>\n",
       "  </tbody>\n",
       "</table>\n",
       "</div>"
      ],
      "text/plain": [
       "   MovieID      Title     Genres  Release_Year\n",
       "0        1  Toy Story  Animation          1995\n",
       "0        1  Toy Story  Childrens          1995\n",
       "0        1  Toy Story     Comedy          1995\n",
       "1        2    Jumanji  Adventure          1995\n",
       "1        2    Jumanji  Childrens          1995"
      ]
     },
     "execution_count": 12,
     "metadata": {},
     "output_type": "execute_result"
    }
   ],
   "source": [
    "# Final Look at the Dataset.\n",
    "movies_exploded.head()"
   ]
  },
  {
   "cell_type": "code",
   "execution_count": 13,
   "id": "f629d3c0",
   "metadata": {},
   "outputs": [
    {
     "name": "stdout",
     "output_type": "stream",
     "text": [
      "Unique Movies: 3856\n",
      "Unique Genres: 18\n",
      "Unique Release Years: 81\n",
      "Exploded Movies Dataset Shape: (6332, 4)\n",
      "\n",
      "<class 'pandas.core.frame.DataFrame'>\n",
      "Int64Index: 6332 entries, 0 to 3857\n",
      "Data columns (total 4 columns):\n",
      " #   Column        Non-Null Count  Dtype \n",
      "---  ------        --------------  ----- \n",
      " 0   MovieID       6332 non-null   int32 \n",
      " 1   Title         6332 non-null   object\n",
      " 2   Genres        6332 non-null   object\n",
      " 3   Release_Year  6332 non-null   int32 \n",
      "dtypes: int32(2), object(2)\n",
      "memory usage: 197.9+ KB\n"
     ]
    },
    {
     "data": {
      "text/plain": [
       "None"
      ]
     },
     "metadata": {},
     "output_type": "display_data"
    }
   ],
   "source": [
    "# Checking for number of unique movies.\n",
    "print('Unique Movies:',movies_exploded['MovieID'].nunique())\n",
    "\n",
    "# Checking for number of unique Genres.\n",
    "print('Unique Genres:',movies_exploded['Genres'].nunique())\n",
    "\n",
    "# Checking for number of Release Years.\n",
    "print('Unique Release Years:',movies_exploded['Release_Year'].nunique())\n",
    "\n",
    "# Checking the shape of the dataset.\n",
    "print('Exploded Movies Dataset Shape:',movies_exploded.shape)\n",
    "print()\n",
    "\n",
    "# Checking Exploded_Movies Info.\n",
    "display(movies_exploded.info())"
   ]
  },
  {
   "cell_type": "code",
   "execution_count": 14,
   "id": "65df2ad5",
   "metadata": {},
   "outputs": [
    {
     "data": {
      "text/html": [
       "<div>\n",
       "<style scoped>\n",
       "    .dataframe tbody tr th:only-of-type {\n",
       "        vertical-align: middle;\n",
       "    }\n",
       "\n",
       "    .dataframe tbody tr th {\n",
       "        vertical-align: top;\n",
       "    }\n",
       "\n",
       "    .dataframe thead th {\n",
       "        text-align: right;\n",
       "    }\n",
       "</style>\n",
       "<table border=\"1\" class=\"dataframe\">\n",
       "  <thead>\n",
       "    <tr style=\"text-align: right;\">\n",
       "      <th>Genres</th>\n",
       "      <th>Action</th>\n",
       "      <th>Adventure</th>\n",
       "      <th>Animation</th>\n",
       "      <th>Childrens</th>\n",
       "      <th>Comedy</th>\n",
       "      <th>Crime</th>\n",
       "      <th>Documentary</th>\n",
       "      <th>Drama</th>\n",
       "      <th>Fantasy</th>\n",
       "      <th>Film_Noir</th>\n",
       "      <th>Horror</th>\n",
       "      <th>Musical</th>\n",
       "      <th>Mystery</th>\n",
       "      <th>Romance</th>\n",
       "      <th>Sci_Fi</th>\n",
       "      <th>Thriller</th>\n",
       "      <th>War</th>\n",
       "      <th>Western</th>\n",
       "    </tr>\n",
       "    <tr>\n",
       "      <th>MovieID</th>\n",
       "      <th></th>\n",
       "      <th></th>\n",
       "      <th></th>\n",
       "      <th></th>\n",
       "      <th></th>\n",
       "      <th></th>\n",
       "      <th></th>\n",
       "      <th></th>\n",
       "      <th></th>\n",
       "      <th></th>\n",
       "      <th></th>\n",
       "      <th></th>\n",
       "      <th></th>\n",
       "      <th></th>\n",
       "      <th></th>\n",
       "      <th></th>\n",
       "      <th></th>\n",
       "      <th></th>\n",
       "    </tr>\n",
       "  </thead>\n",
       "  <tbody>\n",
       "    <tr>\n",
       "      <th>1</th>\n",
       "      <td>0</td>\n",
       "      <td>0</td>\n",
       "      <td>1</td>\n",
       "      <td>1</td>\n",
       "      <td>1</td>\n",
       "      <td>0</td>\n",
       "      <td>0</td>\n",
       "      <td>0</td>\n",
       "      <td>0</td>\n",
       "      <td>0</td>\n",
       "      <td>0</td>\n",
       "      <td>0</td>\n",
       "      <td>0</td>\n",
       "      <td>0</td>\n",
       "      <td>0</td>\n",
       "      <td>0</td>\n",
       "      <td>0</td>\n",
       "      <td>0</td>\n",
       "    </tr>\n",
       "    <tr>\n",
       "      <th>2</th>\n",
       "      <td>0</td>\n",
       "      <td>1</td>\n",
       "      <td>0</td>\n",
       "      <td>1</td>\n",
       "      <td>0</td>\n",
       "      <td>0</td>\n",
       "      <td>0</td>\n",
       "      <td>0</td>\n",
       "      <td>1</td>\n",
       "      <td>0</td>\n",
       "      <td>0</td>\n",
       "      <td>0</td>\n",
       "      <td>0</td>\n",
       "      <td>0</td>\n",
       "      <td>0</td>\n",
       "      <td>0</td>\n",
       "      <td>0</td>\n",
       "      <td>0</td>\n",
       "    </tr>\n",
       "    <tr>\n",
       "      <th>3</th>\n",
       "      <td>0</td>\n",
       "      <td>0</td>\n",
       "      <td>0</td>\n",
       "      <td>0</td>\n",
       "      <td>1</td>\n",
       "      <td>0</td>\n",
       "      <td>0</td>\n",
       "      <td>0</td>\n",
       "      <td>0</td>\n",
       "      <td>0</td>\n",
       "      <td>0</td>\n",
       "      <td>0</td>\n",
       "      <td>0</td>\n",
       "      <td>1</td>\n",
       "      <td>0</td>\n",
       "      <td>0</td>\n",
       "      <td>0</td>\n",
       "      <td>0</td>\n",
       "    </tr>\n",
       "    <tr>\n",
       "      <th>4</th>\n",
       "      <td>0</td>\n",
       "      <td>0</td>\n",
       "      <td>0</td>\n",
       "      <td>0</td>\n",
       "      <td>1</td>\n",
       "      <td>0</td>\n",
       "      <td>0</td>\n",
       "      <td>1</td>\n",
       "      <td>0</td>\n",
       "      <td>0</td>\n",
       "      <td>0</td>\n",
       "      <td>0</td>\n",
       "      <td>0</td>\n",
       "      <td>0</td>\n",
       "      <td>0</td>\n",
       "      <td>0</td>\n",
       "      <td>0</td>\n",
       "      <td>0</td>\n",
       "    </tr>\n",
       "    <tr>\n",
       "      <th>5</th>\n",
       "      <td>0</td>\n",
       "      <td>0</td>\n",
       "      <td>0</td>\n",
       "      <td>0</td>\n",
       "      <td>1</td>\n",
       "      <td>0</td>\n",
       "      <td>0</td>\n",
       "      <td>0</td>\n",
       "      <td>0</td>\n",
       "      <td>0</td>\n",
       "      <td>0</td>\n",
       "      <td>0</td>\n",
       "      <td>0</td>\n",
       "      <td>0</td>\n",
       "      <td>0</td>\n",
       "      <td>0</td>\n",
       "      <td>0</td>\n",
       "      <td>0</td>\n",
       "    </tr>\n",
       "  </tbody>\n",
       "</table>\n",
       "</div>"
      ],
      "text/plain": [
       "Genres   Action  Adventure  Animation  Childrens  Comedy  Crime  Documentary  \\\n",
       "MovieID                                                                        \n",
       "1             0          0          1          1       1      0            0   \n",
       "2             0          1          0          1       0      0            0   \n",
       "3             0          0          0          0       1      0            0   \n",
       "4             0          0          0          0       1      0            0   \n",
       "5             0          0          0          0       1      0            0   \n",
       "\n",
       "Genres   Drama  Fantasy  Film_Noir  Horror  Musical  Mystery  Romance  Sci_Fi  \\\n",
       "MovieID                                                                         \n",
       "1            0        0          0       0        0        0        0       0   \n",
       "2            0        1          0       0        0        0        0       0   \n",
       "3            0        0          0       0        0        0        1       0   \n",
       "4            1        0          0       0        0        0        0       0   \n",
       "5            0        0          0       0        0        0        0       0   \n",
       "\n",
       "Genres   Thriller  War  Western  \n",
       "MovieID                          \n",
       "1               0    0        0  \n",
       "2               0    0        0  \n",
       "3               0    0        0  \n",
       "4               0    0        0  \n",
       "5               0    0        0  "
      ]
     },
     "execution_count": 14,
     "metadata": {},
     "output_type": "execute_result"
    }
   ],
   "source": [
    "movies_pivot=movies_exploded.pivot(index='MovieID',columns='Genres',values='Title')\n",
    "movies_pivot=(~movies_pivot.isna()).astype('int')\n",
    "movies_pivot.head()"
   ]
  },
  {
   "cell_type": "code",
   "execution_count": null,
   "id": "62e5db10",
   "metadata": {},
   "outputs": [],
   "source": []
  },
  {
   "cell_type": "markdown",
   "id": "dfcdf0e9",
   "metadata": {},
   "source": [
    "### Users Dataset"
   ]
  },
  {
   "cell_type": "code",
   "execution_count": 15,
   "id": "1e58e200",
   "metadata": {},
   "outputs": [
    {
     "data": {
      "text/html": [
       "<div>\n",
       "<style scoped>\n",
       "    .dataframe tbody tr th:only-of-type {\n",
       "        vertical-align: middle;\n",
       "    }\n",
       "\n",
       "    .dataframe tbody tr th {\n",
       "        vertical-align: top;\n",
       "    }\n",
       "\n",
       "    .dataframe thead th {\n",
       "        text-align: right;\n",
       "    }\n",
       "</style>\n",
       "<table border=\"1\" class=\"dataframe\">\n",
       "  <thead>\n",
       "    <tr style=\"text-align: right;\">\n",
       "      <th></th>\n",
       "      <th>UserID</th>\n",
       "      <th>Gender</th>\n",
       "      <th>Age</th>\n",
       "      <th>Occupation</th>\n",
       "      <th>Zip-code</th>\n",
       "    </tr>\n",
       "  </thead>\n",
       "  <tbody>\n",
       "    <tr>\n",
       "      <th>0</th>\n",
       "      <td>1</td>\n",
       "      <td>F</td>\n",
       "      <td>1</td>\n",
       "      <td>10</td>\n",
       "      <td>48067</td>\n",
       "    </tr>\n",
       "    <tr>\n",
       "      <th>1</th>\n",
       "      <td>2</td>\n",
       "      <td>M</td>\n",
       "      <td>56</td>\n",
       "      <td>16</td>\n",
       "      <td>70072</td>\n",
       "    </tr>\n",
       "    <tr>\n",
       "      <th>2</th>\n",
       "      <td>3</td>\n",
       "      <td>M</td>\n",
       "      <td>25</td>\n",
       "      <td>15</td>\n",
       "      <td>55117</td>\n",
       "    </tr>\n",
       "    <tr>\n",
       "      <th>3</th>\n",
       "      <td>4</td>\n",
       "      <td>M</td>\n",
       "      <td>45</td>\n",
       "      <td>7</td>\n",
       "      <td>02460</td>\n",
       "    </tr>\n",
       "    <tr>\n",
       "      <th>4</th>\n",
       "      <td>5</td>\n",
       "      <td>M</td>\n",
       "      <td>25</td>\n",
       "      <td>20</td>\n",
       "      <td>55455</td>\n",
       "    </tr>\n",
       "  </tbody>\n",
       "</table>\n",
       "</div>"
      ],
      "text/plain": [
       "  UserID Gender Age Occupation Zip-code\n",
       "0      1      F   1         10    48067\n",
       "1      2      M  56         16    70072\n",
       "2      3      M  25         15    55117\n",
       "3      4      M  45          7    02460\n",
       "4      5      M  25         20    55455"
      ]
     },
     "execution_count": 15,
     "metadata": {},
     "output_type": "execute_result"
    }
   ],
   "source": [
    "users=pd.read_fwf('zee-users.dat',encoding='ISO-8859-1')\n",
    "users=pd.DataFrame(data=users['UserID::Gender::Age::Occupation::Zip-code'].str.split('::').tolist(),columns=users.columns[0].split('::'))\n",
    "users.head()"
   ]
  },
  {
   "cell_type": "code",
   "execution_count": 16,
   "id": "6387bf50",
   "metadata": {},
   "outputs": [
    {
     "name": "stdout",
     "output_type": "stream",
     "text": [
      "UserID        0\n",
      "Gender        0\n",
      "Age           0\n",
      "Occupation    0\n",
      "Zip-code      0\n",
      "dtype: int64\n",
      "\n",
      "Users Shape (6040, 5)\n"
     ]
    }
   ],
   "source": [
    "# Checking for missing values.\n",
    "print(users.isna().sum())\n",
    "print()\n",
    "# There are no missing values in users dataset.\n",
    "\n",
    "# Checking the shape of the dataset.\n",
    "print('Users Shape',users.shape)"
   ]
  },
  {
   "cell_type": "code",
   "execution_count": 17,
   "id": "6b34b78c",
   "metadata": {},
   "outputs": [
    {
     "name": "stdout",
     "output_type": "stream",
     "text": [
      "<class 'pandas.core.frame.DataFrame'>\n",
      "RangeIndex: 6040 entries, 0 to 6039\n",
      "Data columns (total 5 columns):\n",
      " #   Column      Non-Null Count  Dtype \n",
      "---  ------      --------------  ----- \n",
      " 0   UserID      6040 non-null   object\n",
      " 1   Gender      6040 non-null   object\n",
      " 2   Age         6040 non-null   object\n",
      " 3   Occupation  6040 non-null   object\n",
      " 4   Zip-code    6040 non-null   object\n",
      "dtypes: object(5)\n",
      "memory usage: 236.1+ KB\n"
     ]
    },
    {
     "data": {
      "text/plain": [
       "None"
      ]
     },
     "metadata": {},
     "output_type": "display_data"
    }
   ],
   "source": [
    "# Checking the information of the users dataset.\n",
    "display(users.info())\n",
    "\n",
    "# Changing data type of the variables.\n",
    "users[['UserID', 'Age', 'Occupation']]=users[['UserID', 'Age', 'Occupation']].astype('int')"
   ]
  },
  {
   "cell_type": "code",
   "execution_count": 18,
   "id": "59f30f92",
   "metadata": {},
   "outputs": [
    {
     "name": "stdout",
     "output_type": "stream",
     "text": [
      "Users: 6040\n",
      "Gender: 2\n",
      "Age: 7\n",
      "Occupation: 21\n",
      "Zip Code: 3439\n"
     ]
    }
   ],
   "source": [
    "# Checking number of unique categories in different variables.\n",
    "print('Users:',users['UserID'].nunique())\n",
    "print('Gender:',users['Gender'].nunique())\n",
    "print('Age:',users['Age'].nunique())\n",
    "print('Occupation:',users['Occupation'].nunique())\n",
    "print('Zip Code:',users['Zip-code'].nunique())"
   ]
  },
  {
   "cell_type": "code",
   "execution_count": 19,
   "id": "9d489fd4",
   "metadata": {},
   "outputs": [],
   "source": [
    "# Encoding Gender variable.\n",
    "users['Gender']=users['Gender'].map({'F':0,'M':1})"
   ]
  },
  {
   "cell_type": "code",
   "execution_count": null,
   "id": "23b84f13",
   "metadata": {},
   "outputs": [],
   "source": []
  },
  {
   "cell_type": "markdown",
   "id": "f5b76634",
   "metadata": {},
   "source": [
    "### Ratings Dataset"
   ]
  },
  {
   "cell_type": "code",
   "execution_count": 20,
   "id": "68e118c7",
   "metadata": {},
   "outputs": [
    {
     "data": {
      "text/html": [
       "<div>\n",
       "<style scoped>\n",
       "    .dataframe tbody tr th:only-of-type {\n",
       "        vertical-align: middle;\n",
       "    }\n",
       "\n",
       "    .dataframe tbody tr th {\n",
       "        vertical-align: top;\n",
       "    }\n",
       "\n",
       "    .dataframe thead th {\n",
       "        text-align: right;\n",
       "    }\n",
       "</style>\n",
       "<table border=\"1\" class=\"dataframe\">\n",
       "  <thead>\n",
       "    <tr style=\"text-align: right;\">\n",
       "      <th></th>\n",
       "      <th>UserID</th>\n",
       "      <th>MovieID</th>\n",
       "      <th>Rating</th>\n",
       "      <th>Timestamp</th>\n",
       "    </tr>\n",
       "  </thead>\n",
       "  <tbody>\n",
       "    <tr>\n",
       "      <th>0</th>\n",
       "      <td>1</td>\n",
       "      <td>1193</td>\n",
       "      <td>5</td>\n",
       "      <td>978300760</td>\n",
       "    </tr>\n",
       "    <tr>\n",
       "      <th>1</th>\n",
       "      <td>1</td>\n",
       "      <td>661</td>\n",
       "      <td>3</td>\n",
       "      <td>978302109</td>\n",
       "    </tr>\n",
       "    <tr>\n",
       "      <th>2</th>\n",
       "      <td>1</td>\n",
       "      <td>914</td>\n",
       "      <td>3</td>\n",
       "      <td>978301968</td>\n",
       "    </tr>\n",
       "    <tr>\n",
       "      <th>3</th>\n",
       "      <td>1</td>\n",
       "      <td>3408</td>\n",
       "      <td>4</td>\n",
       "      <td>978300275</td>\n",
       "    </tr>\n",
       "    <tr>\n",
       "      <th>4</th>\n",
       "      <td>1</td>\n",
       "      <td>2355</td>\n",
       "      <td>5</td>\n",
       "      <td>978824291</td>\n",
       "    </tr>\n",
       "  </tbody>\n",
       "</table>\n",
       "</div>"
      ],
      "text/plain": [
       "  UserID MovieID Rating  Timestamp\n",
       "0      1    1193      5  978300760\n",
       "1      1     661      3  978302109\n",
       "2      1     914      3  978301968\n",
       "3      1    3408      4  978300275\n",
       "4      1    2355      5  978824291"
      ]
     },
     "execution_count": 20,
     "metadata": {},
     "output_type": "execute_result"
    }
   ],
   "source": [
    "ratings=pd.read_fwf('zee-ratings.dat',encoding='ISO-8859-1')\n",
    "ratings=pd.DataFrame(data=ratings['UserID::MovieID::Rating::Timestamp'].str.split('::').tolist(),columns=ratings.columns[0].split('::'))\n",
    "ratings.head()"
   ]
  },
  {
   "cell_type": "code",
   "execution_count": 21,
   "id": "ba2c233f",
   "metadata": {},
   "outputs": [
    {
     "name": "stdout",
     "output_type": "stream",
     "text": [
      "<class 'pandas.core.frame.DataFrame'>\n",
      "RangeIndex: 1000209 entries, 0 to 1000208\n",
      "Data columns (total 4 columns):\n",
      " #   Column     Non-Null Count    Dtype \n",
      "---  ------     --------------    ----- \n",
      " 0   UserID     1000209 non-null  object\n",
      " 1   MovieID    1000209 non-null  object\n",
      " 2   Rating     1000209 non-null  object\n",
      " 3   Timestamp  1000209 non-null  object\n",
      "dtypes: object(4)\n",
      "memory usage: 30.5+ MB\n"
     ]
    }
   ],
   "source": [
    "# Checking the information of Ratings Dataset.\n",
    "ratings.info()"
   ]
  },
  {
   "cell_type": "code",
   "execution_count": 22,
   "id": "dc7f2006",
   "metadata": {},
   "outputs": [],
   "source": [
    "# Changing the data type of all the variable to 'int'.\n",
    "ratings=ratings.astype('int')"
   ]
  },
  {
   "cell_type": "code",
   "execution_count": 23,
   "id": "daa00d55",
   "metadata": {},
   "outputs": [],
   "source": [
    "# Extracting Hour from Timestamp variable.\n",
    "ratings['Hour']=ratings['Timestamp'].apply(lambda x : datetime.fromtimestamp(x).hour)"
   ]
  },
  {
   "cell_type": "code",
   "execution_count": 24,
   "id": "2c501ff3",
   "metadata": {},
   "outputs": [
    {
     "name": "stdout",
     "output_type": "stream",
     "text": [
      "UserID       0\n",
      "MovieID      0\n",
      "Rating       0\n",
      "Timestamp    0\n",
      "Hour         0\n",
      "dtype: int64\n",
      "\n",
      "Ratings Shape (1000209, 5)\n"
     ]
    }
   ],
   "source": [
    "# Checking for missing values.\n",
    "print(ratings.isna().sum())\n",
    "print()\n",
    "# There are no missing values in users dataset.\n",
    "\n",
    "# Checking the shape of the dataset.\n",
    "print('Ratings Shape',ratings.shape)"
   ]
  },
  {
   "cell_type": "code",
   "execution_count": null,
   "id": "8675d5d6",
   "metadata": {},
   "outputs": [],
   "source": []
  },
  {
   "cell_type": "markdown",
   "id": "113f879c",
   "metadata": {},
   "source": [
    "## EDA"
   ]
  },
  {
   "cell_type": "markdown",
   "id": "8be55cf7",
   "metadata": {},
   "source": [
    "#### Q1) Availability of Genres in Zee."
   ]
  },
  {
   "cell_type": "code",
   "execution_count": 25,
   "id": "c23e0582",
   "metadata": {},
   "outputs": [
    {
     "data": {
      "image/png": "[encoded data removed]",
      "text/plain": [
       "<Figure size 1152x288 with 1 Axes>"
      ]
     },
     "metadata": {
      "needs_background": "light"
     },
     "output_type": "display_data"
    }
   ],
   "source": [
    "plt.figure(figsize=(16,4))\n",
    "sns.countplot(data=movies_exploded,x='Genres',order=movies_exploded['Genres'].value_counts().index)\n",
    "plt.xticks(rotation=90)\n",
    "plt.show()"
   ]
  },
  {
   "cell_type": "code",
   "execution_count": 26,
   "id": "bb1440e4",
   "metadata": {},
   "outputs": [
    {
     "data": {
      "text/plain": [
       "Drama       24.98\n",
       "Comedy      18.78\n",
       "Action       7.93\n",
       "Thriller     7.71\n",
       "Romance      7.30\n",
       "Name: Genres, dtype: float64"
      ]
     },
     "metadata": {},
     "output_type": "display_data"
    }
   ],
   "source": [
    "# Top 5 occuring Genres.\n",
    "display(np.round(movies_exploded['Genres'].value_counts(normalize=True)*100,2)[:5])"
   ]
  },
  {
   "cell_type": "code",
   "execution_count": 27,
   "id": "cdcb0e65",
   "metadata": {},
   "outputs": [
    {
     "data": {
      "text/plain": [
       "Mystery      1.66\n",
       "Animation    1.64\n",
       "Western      1.07\n",
       "Fantasy      0.99\n",
       "Film_Noir    0.69\n",
       "Name: Genres, dtype: float64"
      ]
     },
     "metadata": {},
     "output_type": "display_data"
    }
   ],
   "source": [
    "# Bottom 5 occuring Genres.\n",
    "display(np.round(movies_exploded['Genres'].value_counts(normalize=True)*100,2)[-5:])"
   ]
  },
  {
   "cell_type": "markdown",
   "id": "8a6dc62e",
   "metadata": {},
   "source": [
    "#### Q2) Few Recent Movies."
   ]
  },
  {
   "cell_type": "code",
   "execution_count": 28,
   "id": "d792e156",
   "metadata": {},
   "outputs": [
    {
     "name": "stdout",
     "output_type": "stream",
     "text": [
      "Max Release Year: 2000\n",
      "Number of movies released in Year 2000: 156\n",
      "Total Movies Released: 3856\n",
      "Few Recent Movies are:\n",
      "1:  Supernova\n",
      "2:  Down to You\n",
      "3:  Isn't She Great?\n",
      "4:  Scream 3\n",
      "5:  Gun Shy\n"
     ]
    }
   ],
   "source": [
    "temp=movies[movies['Release_Year']==np.max(movies['Release_Year'])]\n",
    "print('Max Release Year:'\n",
    "      ,np.max(movies['Release_Year']))\n",
    "print('Number of movies released in Year 2000:',len(temp))\n",
    "print('Total Movies Released:',len(movies))\n",
    "print('Few Recent Movies are:')\n",
    "for i in range(5):\n",
    "    print(str(i+1)+': ',temp.iloc[i,1])"
   ]
  },
  {
   "cell_type": "markdown",
   "id": "54952c0d",
   "metadata": {},
   "source": [
    "#### Q3) Distribution of Release Years of the movies."
   ]
  },
  {
   "cell_type": "code",
   "execution_count": 29,
   "id": "3b89fdc5",
   "metadata": {},
   "outputs": [
    {
     "data": {
      "image/png": "[encoded data removed]",
      "text/plain": [
       "<Figure size 1152x360 with 1 Axes>"
      ]
     },
     "metadata": {
      "needs_background": "light"
     },
     "output_type": "display_data"
    }
   ],
   "source": [
    "plt.figure(figsize=(16,5))\n",
    "sns.kdeplot(movies['Release_Year'])\n",
    "plt.show()"
   ]
  },
  {
   "cell_type": "code",
   "execution_count": 30,
   "id": "05947018",
   "metadata": {},
   "outputs": [
    {
     "data": {
      "text/html": [
       "<div>\n",
       "<style scoped>\n",
       "    .dataframe tbody tr th:only-of-type {\n",
       "        vertical-align: middle;\n",
       "    }\n",
       "\n",
       "    .dataframe tbody tr th {\n",
       "        vertical-align: top;\n",
       "    }\n",
       "\n",
       "    .dataframe thead th {\n",
       "        text-align: right;\n",
       "    }\n",
       "</style>\n",
       "<table border=\"1\" class=\"dataframe\">\n",
       "  <thead>\n",
       "    <tr style=\"text-align: right;\">\n",
       "      <th></th>\n",
       "      <th>count</th>\n",
       "      <th>mean</th>\n",
       "      <th>std</th>\n",
       "      <th>min</th>\n",
       "      <th>25%</th>\n",
       "      <th>50%</th>\n",
       "      <th>75%</th>\n",
       "      <th>max</th>\n",
       "    </tr>\n",
       "  </thead>\n",
       "  <tbody>\n",
       "    <tr>\n",
       "      <th>Release_Year</th>\n",
       "      <td>3856.0</td>\n",
       "      <td>1986.092324</td>\n",
       "      <td>16.900818</td>\n",
       "      <td>1919.0</td>\n",
       "      <td>1982.0</td>\n",
       "      <td>1994.0</td>\n",
       "      <td>1997.0</td>\n",
       "      <td>2000.0</td>\n",
       "    </tr>\n",
       "  </tbody>\n",
       "</table>\n",
       "</div>"
      ],
      "text/plain": [
       "               count         mean        std     min     25%     50%     75%  \\\n",
       "Release_Year  3856.0  1986.092324  16.900818  1919.0  1982.0  1994.0  1997.0   \n",
       "\n",
       "                 max  \n",
       "Release_Year  2000.0  "
      ]
     },
     "execution_count": 30,
     "metadata": {},
     "output_type": "execute_result"
    }
   ],
   "source": [
    "movies[['Release_Year']].describe().T\n",
    "\n",
    "# Most movies are between Year 1980 and Year 2000."
   ]
  },
  {
   "cell_type": "markdown",
   "id": "2440b85a",
   "metadata": {},
   "source": [
    "#### Q4) Proportion of Male and Females."
   ]
  },
  {
   "cell_type": "code",
   "execution_count": 31,
   "id": "82232132",
   "metadata": {},
   "outputs": [
    {
     "data": {
      "image/png": "[encoded data removed]",
      "text/plain": [
       "<Figure size 432x432 with 1 Axes>"
      ]
     },
     "metadata": {},
     "output_type": "display_data"
    }
   ],
   "source": [
    "temp=users['Gender'].value_counts(normalize=True).sort_index().tolist()\n",
    "plt.figure(figsize=(6,6))\n",
    "plt.pie(temp,labels=['Females','Males'],autopct='%1.0f')\n",
    "plt.show()\n",
    "\n",
    "# Male:Female = 72:28"
   ]
  },
  {
   "cell_type": "markdown",
   "id": "50cc8c78",
   "metadata": {},
   "source": [
    "#### Q5) Distribution of Ages of the customers."
   ]
  },
  {
   "cell_type": "code",
   "execution_count": 32,
   "id": "86a7bb3d",
   "metadata": {},
   "outputs": [
    {
     "data": {
      "image/png": "[encoded data removed]",
      "text/plain": [
       "<Figure size 1152x360 with 1 Axes>"
      ]
     },
     "metadata": {
      "needs_background": "light"
     },
     "output_type": "display_data"
    }
   ],
   "source": [
    "plt.figure(figsize=(16,5))\n",
    "sns.countplot(data=users,x='Age')\n",
    "plt.show()"
   ]
  },
  {
   "cell_type": "code",
   "execution_count": 33,
   "id": "07775244",
   "metadata": {},
   "outputs": [
    {
     "data": {
      "text/plain": [
       "25    34.70\n",
       "35    19.75\n",
       "18    18.26\n",
       "45     9.11\n",
       "50     8.21\n",
       "56     6.29\n",
       "1      3.68\n",
       "Name: Age, dtype: float64"
      ]
     },
     "metadata": {},
     "output_type": "display_data"
    }
   ],
   "source": [
    "display(np.round(users['Age'].value_counts(normalize=True)*100,2))\n",
    "\n",
    "# Most people are between 18 and 44 years of Age.\n",
    "# - 18: \"18-24\"\n",
    "# - 25: \"25-34\"\n",
    "# - 35: \"35-44\""
   ]
  },
  {
   "cell_type": "markdown",
   "id": "aa05dc7d",
   "metadata": {},
   "source": [
    "#### Q6) Which are the occupations for which customers are available in Zee's platform?"
   ]
  },
  {
   "cell_type": "code",
   "execution_count": 34,
   "id": "747e51e7",
   "metadata": {},
   "outputs": [
    {
     "data": {
      "image/png": "[encoded data removed]",
      "text/plain": [
       "<Figure size 1152x288 with 1 Axes>"
      ]
     },
     "metadata": {
      "needs_background": "light"
     },
     "output_type": "display_data"
    }
   ],
   "source": [
    "plt.figure(figsize=(16,4))\n",
    "sns.countplot(data=users,x='Occupation',order=users['Occupation'].value_counts().index)\n",
    "plt.xticks(rotation=90)\n",
    "plt.show()"
   ]
  },
  {
   "cell_type": "code",
   "execution_count": 35,
   "id": "ec77b1d7",
   "metadata": {},
   "outputs": [
    {
     "data": {
      "text/plain": [
       "4     13.0\n",
       "0     12.0\n",
       "7     11.0\n",
       "1      9.0\n",
       "17     8.0\n",
       "Name: Occupation, dtype: float64"
      ]
     },
     "execution_count": 35,
     "metadata": {},
     "output_type": "execute_result"
    }
   ],
   "source": [
    "# Top 5 occupations.\n",
    "np.round(users['Occupation'].value_counts(normalize=True)*100)[:5]\n",
    "# 4: \"college/grad student\"\n",
    "# 0: \"other\" or not specified\n",
    "# 7: \"executive/managerial\" \n",
    "# 1: \"academic/educator\"\n",
    "# 17: \"technician/engineer\" "
   ]
  },
  {
   "cell_type": "code",
   "execution_count": 36,
   "id": "7c275b4b",
   "metadata": {},
   "outputs": [
    {
     "data": {
      "text/plain": [
       "5     2.0\n",
       "9     2.0\n",
       "19    1.0\n",
       "18    1.0\n",
       "8     0.0\n",
       "Name: Occupation, dtype: float64"
      ]
     },
     "execution_count": 36,
     "metadata": {},
     "output_type": "execute_result"
    }
   ],
   "source": [
    "# Bottom 5 occupations.\n",
    "np.round(users['Occupation'].value_counts(normalize=True)*100)[-5:]\n",
    "# 5: \"customer service\"\n",
    "# 9: \"homemaker\"\n",
    "# 19: \"unemployed\" \n",
    "# 18: \"tradesman/craftsman\"\n",
    "# 8: \"farmer\""
   ]
  },
  {
   "cell_type": "markdown",
   "id": "ecd1c580",
   "metadata": {},
   "source": [
    "#### Q7) Which Movies have the most number of ratings?"
   ]
  },
  {
   "cell_type": "code",
   "execution_count": 37,
   "id": "6ed1c2f9",
   "metadata": {},
   "outputs": [
    {
     "name": "stdout",
     "output_type": "stream",
     "text": [
      "Top 10 Movies that have the most number of ratings\n"
     ]
    },
    {
     "data": {
      "text/plain": [
       "['Star Wars: Episode IV - A New Hope',\n",
       " 'Jurassic Park',\n",
       " 'Terminator 2: Judgment Day',\n",
       " 'Silence of the Lambs, The',\n",
       " 'Star Wars: Episode V - The Empire Strikes Back',\n",
       " 'Star Wars: Episode VI - Return of the Jedi',\n",
       " 'Back to the Future',\n",
       " 'Saving Private Ryan',\n",
       " 'Matrix, The',\n",
       " 'American Beauty']"
      ]
     },
     "execution_count": 37,
     "metadata": {},
     "output_type": "execute_result"
    }
   ],
   "source": [
    "temp=ratings.groupby('MovieID').count()['Rating'].sort_values(ascending=False)[:10].index\n",
    "print('Top 10 Movies that have the most number of ratings')\n",
    "movies.loc[movies['MovieID'].isin(temp),'Title'].tolist()"
   ]
  },
  {
   "cell_type": "markdown",
   "id": "ff52d14c",
   "metadata": {},
   "source": [
    "#### Q8) Which Movies have the highest and lowest average ratings.\n",
    "- Criteria: There should be atleast 50 ratings for the movie."
   ]
  },
  {
   "cell_type": "code",
   "execution_count": 38,
   "id": "a15c240e",
   "metadata": {},
   "outputs": [],
   "source": [
    "temp=ratings['MovieID'].value_counts()\n",
    "temp=temp[temp>=50].index\n",
    "top_5=ratings[ratings['MovieID'].isin(temp)].groupby(by='MovieID').mean()['Rating'].sort_values(ascending=False)[:5]\n",
    "bottom_5=ratings[ratings['MovieID'].isin(temp)].groupby(by='MovieID').mean()['Rating'].sort_values(ascending=False)[-5:]"
   ]
  },
  {
   "cell_type": "code",
   "execution_count": 39,
   "id": "eefdb552",
   "metadata": {},
   "outputs": [
    {
     "name": "stdout",
     "output_type": "stream",
     "text": [
      "['Shawshank Redemption, The', 'Close Shave, A', 'Godfather, The', 'Sanjuro']\n",
      "\n",
      "['Shawshank Redemption, The (1994)', 'Close Shave, A (1995)', 'Godfather, The (1972)', 'Seven Samurai (The Magnificent Seven) (Shichinin no samurai) (195', 'Sanjuro (1962)']\n"
     ]
    },
    {
     "data": {
      "text/html": [
       "<div>\n",
       "<style scoped>\n",
       "    .dataframe tbody tr th:only-of-type {\n",
       "        vertical-align: middle;\n",
       "    }\n",
       "\n",
       "    .dataframe tbody tr th {\n",
       "        vertical-align: top;\n",
       "    }\n",
       "\n",
       "    .dataframe thead th {\n",
       "        text-align: right;\n",
       "    }\n",
       "</style>\n",
       "<table border=\"1\" class=\"dataframe\">\n",
       "  <thead>\n",
       "    <tr style=\"text-align: right;\">\n",
       "      <th></th>\n",
       "      <th>MovieID</th>\n",
       "      <th>Title</th>\n",
       "      <th>Genres</th>\n",
       "    </tr>\n",
       "  </thead>\n",
       "  <tbody>\n",
       "    <tr>\n",
       "      <th>1950</th>\n",
       "      <td>2019</td>\n",
       "      <td>Seven Samurai (The Magnificent Seven) (Shichin...</td>\n",
       "      <td>None</td>\n",
       "    </tr>\n",
       "  </tbody>\n",
       "</table>\n",
       "</div>"
      ],
      "text/plain": [
       "      MovieID                                              Title Genres\n",
       "1950     2019  Seven Samurai (The Magnificent Seven) (Shichin...   None"
      ]
     },
     "metadata": {},
     "output_type": "display_data"
    }
   ],
   "source": [
    "# Top 5 Movies with highest average Ratings.\n",
    "print(movies.loc[movies['MovieID'].isin(top_5.index),'Title'].tolist()) \n",
    "# There are only 4 movies here. Seems like there is 1 movie which we removed earlier because of missing Genre.\n",
    "# Lets get the names of all 5 movies from original movies dataset.\n",
    "\n",
    "print()\n",
    "print(movies_original.loc[movies_original['MovieID'].isin(top_5.index),'Title'].tolist()) \n",
    "# \"'Seven Samurai (The Magnificent Seven) (Shichinin no samurai) (195'\" is the movie which has missing Genre. Lets confirm.\n",
    "\n",
    "display(movies_original[movies_original['Title']=='Seven Samurai (The Magnificent Seven) (Shichinin no samurai) (195'])"
   ]
  },
  {
   "cell_type": "code",
   "execution_count": 40,
   "id": "3cb01bfd",
   "metadata": {},
   "outputs": [
    {
     "name": "stdout",
     "output_type": "stream",
     "text": [
      "['Kazaam', 'Problem Child 2', 'Iron Eagle IV', 'Meatballs III', 'Battlefield Earth']\n"
     ]
    }
   ],
   "source": [
    "# Bottom 5 Movies with least average Ratings.\n",
    "print(movies.loc[movies['MovieID'].isin(bottom_5.index),'Title'].tolist()) "
   ]
  },
  {
   "cell_type": "markdown",
   "id": "e3df9f3a",
   "metadata": {},
   "source": [
    "#### Q9) Distribution of Hour to understand the watching convenience time of the users."
   ]
  },
  {
   "cell_type": "code",
   "execution_count": 41,
   "id": "1a204dd5",
   "metadata": {},
   "outputs": [
    {
     "data": {
      "image/png": "[encoded data removed]",
      "text/plain": [
       "<Figure size 1152x360 with 1 Axes>"
      ]
     },
     "metadata": {
      "needs_background": "light"
     },
     "output_type": "display_data"
    }
   ],
   "source": [
    "plt.figure(figsize=(16,5))\n",
    "sns.countplot(data=ratings,x='Hour')\n",
    "plt.show()\n",
    "\n",
    "# Most users don't prefer watching between Hour 12 and Hour 20."
   ]
  },
  {
   "cell_type": "markdown",
   "id": "b8a4fb3b",
   "metadata": {},
   "source": [
    "#### Q10) Distribution of Ratings"
   ]
  },
  {
   "cell_type": "code",
   "execution_count": 42,
   "id": "5dfc4723",
   "metadata": {},
   "outputs": [
    {
     "data": {
      "image/png": "[encoded data removed]",
      "text/plain": [
       "<Figure size 1152x288 with 1 Axes>"
      ]
     },
     "metadata": {
      "needs_background": "light"
     },
     "output_type": "display_data"
    }
   ],
   "source": [
    "plt.figure(figsize=(16,4))\n",
    "sns.countplot(data=ratings,x='Rating')\n",
    "plt.xticks(rotation=90)\n",
    "plt.show()"
   ]
  },
  {
   "cell_type": "code",
   "execution_count": 43,
   "id": "b102e031",
   "metadata": {},
   "outputs": [
    {
     "data": {
      "text/plain": [
       "4    35.0\n",
       "3    26.0\n",
       "5    23.0\n",
       "2    11.0\n",
       "1     6.0\n",
       "Name: Rating, dtype: float64"
      ]
     },
     "execution_count": 43,
     "metadata": {},
     "output_type": "execute_result"
    }
   ],
   "source": [
    "# Percentage wise distribution of Ratings.\n",
    "np.round(ratings['Rating'].value_counts(normalize=True)*100)\n",
    "\n",
    "# About 35 percent of the rated movies are \"4\". This is a good percentage."
   ]
  },
  {
   "cell_type": "markdown",
   "id": "2ca86a51",
   "metadata": {},
   "source": [
    "#### Q11) Average Ratings of Different Genres?"
   ]
  },
  {
   "cell_type": "code",
   "execution_count": 44,
   "id": "d46eb683",
   "metadata": {},
   "outputs": [
    {
     "data": {
      "image/png": "[encoded data removed]",
      "text/plain": [
       "<Figure size 1224x360 with 1 Axes>"
      ]
     },
     "metadata": {
      "needs_background": "light"
     },
     "output_type": "display_data"
    }
   ],
   "source": [
    "temp=pd.merge(left=ratings,right=movies_exploded,on='MovieID')\n",
    "temp=temp.groupby(by='Genres')['Rating'].mean().sort_values(ascending=False).reset_index()\n",
    "\n",
    "plt.figure(figsize=(17,5))\n",
    "sns.barplot(data=temp,y='Rating',x='Genres',palette='Blues_r')\n",
    "plt.show()"
   ]
  },
  {
   "cell_type": "code",
   "execution_count": 45,
   "id": "d3a8a005",
   "metadata": {},
   "outputs": [
    {
     "data": {
      "text/html": [
       "<div>\n",
       "<style scoped>\n",
       "    .dataframe tbody tr th:only-of-type {\n",
       "        vertical-align: middle;\n",
       "    }\n",
       "\n",
       "    .dataframe tbody tr th {\n",
       "        vertical-align: top;\n",
       "    }\n",
       "\n",
       "    .dataframe thead th {\n",
       "        text-align: right;\n",
       "    }\n",
       "</style>\n",
       "<table border=\"1\" class=\"dataframe\">\n",
       "  <thead>\n",
       "    <tr style=\"text-align: right;\">\n",
       "      <th></th>\n",
       "      <th>0</th>\n",
       "      <th>1</th>\n",
       "      <th>2</th>\n",
       "      <th>3</th>\n",
       "      <th>4</th>\n",
       "      <th>5</th>\n",
       "      <th>6</th>\n",
       "      <th>7</th>\n",
       "      <th>8</th>\n",
       "      <th>9</th>\n",
       "      <th>10</th>\n",
       "      <th>11</th>\n",
       "      <th>12</th>\n",
       "      <th>13</th>\n",
       "      <th>14</th>\n",
       "      <th>15</th>\n",
       "      <th>16</th>\n",
       "      <th>17</th>\n",
       "    </tr>\n",
       "  </thead>\n",
       "  <tbody>\n",
       "    <tr>\n",
       "      <th>Genres</th>\n",
       "      <td>Film_Noir</td>\n",
       "      <td>Documentary</td>\n",
       "      <td>War</td>\n",
       "      <td>Drama</td>\n",
       "      <td>Crime</td>\n",
       "      <td>Animation</td>\n",
       "      <td>Mystery</td>\n",
       "      <td>Musical</td>\n",
       "      <td>Western</td>\n",
       "      <td>Romance</td>\n",
       "      <td>Thriller</td>\n",
       "      <td>Comedy</td>\n",
       "      <td>Action</td>\n",
       "      <td>Adventure</td>\n",
       "      <td>Fantasy</td>\n",
       "      <td>Childrens</td>\n",
       "      <td>Sci_Fi</td>\n",
       "      <td>Horror</td>\n",
       "    </tr>\n",
       "    <tr>\n",
       "      <th>Rating</th>\n",
       "      <td>4.075188</td>\n",
       "      <td>3.92111</td>\n",
       "      <td>3.857115</td>\n",
       "      <td>3.760356</td>\n",
       "      <td>3.708781</td>\n",
       "      <td>3.681149</td>\n",
       "      <td>3.67469</td>\n",
       "      <td>3.665105</td>\n",
       "      <td>3.63777</td>\n",
       "      <td>3.596233</td>\n",
       "      <td>3.568161</td>\n",
       "      <td>3.522711</td>\n",
       "      <td>3.48857</td>\n",
       "      <td>3.477666</td>\n",
       "      <td>3.453678</td>\n",
       "      <td>3.427365</td>\n",
       "      <td>3.412587</td>\n",
       "      <td>3.21645</td>\n",
       "    </tr>\n",
       "  </tbody>\n",
       "</table>\n",
       "</div>"
      ],
      "text/plain": [
       "               0            1         2         3         4          5   \\\n",
       "Genres  Film_Noir  Documentary       War     Drama     Crime  Animation   \n",
       "Rating   4.075188      3.92111  3.857115  3.760356  3.708781   3.681149   \n",
       "\n",
       "             6         7        8         9         10        11       12  \\\n",
       "Genres  Mystery   Musical  Western   Romance  Thriller    Comedy   Action   \n",
       "Rating  3.67469  3.665105  3.63777  3.596233  3.568161  3.522711  3.48857   \n",
       "\n",
       "               13        14         15        16       17  \n",
       "Genres  Adventure   Fantasy  Childrens    Sci_Fi   Horror  \n",
       "Rating   3.477666  3.453678   3.427365  3.412587  3.21645  "
      ]
     },
     "metadata": {},
     "output_type": "display_data"
    }
   ],
   "source": [
    "display(temp.T)\n",
    "\n",
    "# \"Film_Noir\",\"Documentary\" and \"War\" are the best rated Genres.\n",
    "# \"Childrens\",\"Sci_Fi\" and \"Horror\" are the worst rated Genres."
   ]
  },
  {
   "cell_type": "markdown",
   "id": "167567b4",
   "metadata": {},
   "source": [
    "#### Q12) Distribution of Ratings with Genders"
   ]
  },
  {
   "cell_type": "code",
   "execution_count": 46,
   "id": "dc2aadd1",
   "metadata": {},
   "outputs": [
    {
     "data": {
      "text/plain": [
       "<AxesSubplot:xlabel='Gender', ylabel='count'>"
      ]
     },
     "execution_count": 46,
     "metadata": {},
     "output_type": "execute_result"
    },
    {
     "data": {
      "image/png": "[encoded data removed]",
      "text/plain": [
       "<Figure size 864x360 with 1 Axes>"
      ]
     },
     "metadata": {
      "needs_background": "light"
     },
     "output_type": "display_data"
    }
   ],
   "source": [
    "temp=pd.merge(left=ratings,right=users,on='UserID')\n",
    "temp\n",
    "plt.figure(figsize=(12,5))\n",
    "sns.countplot(data=temp,hue='Rating',x='Gender')\n",
    "# plt.show()"
   ]
  },
  {
   "cell_type": "code",
   "execution_count": 47,
   "id": "34111e1b",
   "metadata": {},
   "outputs": [
    {
     "data": {
      "text/html": [
       "<div>\n",
       "<style scoped>\n",
       "    .dataframe tbody tr th:only-of-type {\n",
       "        vertical-align: middle;\n",
       "    }\n",
       "\n",
       "    .dataframe tbody tr th {\n",
       "        vertical-align: top;\n",
       "    }\n",
       "\n",
       "    .dataframe thead th {\n",
       "        text-align: right;\n",
       "    }\n",
       "</style>\n",
       "<table border=\"1\" class=\"dataframe\">\n",
       "  <thead>\n",
       "    <tr style=\"text-align: right;\">\n",
       "      <th>Rating</th>\n",
       "      <th>1</th>\n",
       "      <th>2</th>\n",
       "      <th>3</th>\n",
       "      <th>4</th>\n",
       "      <th>5</th>\n",
       "    </tr>\n",
       "    <tr>\n",
       "      <th>Gender</th>\n",
       "      <th></th>\n",
       "      <th></th>\n",
       "      <th></th>\n",
       "      <th></th>\n",
       "      <th></th>\n",
       "    </tr>\n",
       "  </thead>\n",
       "  <tbody>\n",
       "    <tr>\n",
       "      <th>0</th>\n",
       "      <td>5.42</td>\n",
       "      <td>9.96</td>\n",
       "      <td>25.55</td>\n",
       "      <td>35.32</td>\n",
       "      <td>23.76</td>\n",
       "    </tr>\n",
       "    <tr>\n",
       "      <th>1</th>\n",
       "      <td>5.68</td>\n",
       "      <td>11.01</td>\n",
       "      <td>26.30</td>\n",
       "      <td>34.75</td>\n",
       "      <td>22.26</td>\n",
       "    </tr>\n",
       "  </tbody>\n",
       "</table>\n",
       "</div>"
      ],
      "text/plain": [
       "Rating     1      2      3      4      5\n",
       "Gender                                  \n",
       "0       5.42   9.96  25.55  35.32  23.76\n",
       "1       5.68  11.01  26.30  34.75  22.26"
      ]
     },
     "execution_count": 47,
     "metadata": {},
     "output_type": "execute_result"
    }
   ],
   "source": [
    "# Percentage wise distribution of Ratings Gender wise\n",
    "np.round(pd.crosstab(temp['Gender'],temp['Rating'],normalize='index')*100,2)\n",
    "\n",
    "# Seems like there isn't much difference between the distribution of ratings of Men and Women."
   ]
  },
  {
   "cell_type": "code",
   "execution_count": null,
   "id": "36235498",
   "metadata": {},
   "outputs": [],
   "source": []
  },
  {
   "cell_type": "markdown",
   "id": "1deb9015",
   "metadata": {},
   "source": [
    "# A) Item-Item Based Similarity."
   ]
  },
  {
   "cell_type": "markdown",
   "id": "3a18c56e",
   "metadata": {},
   "source": [
    "## 1) Recommender System based on Pearson Correlation "
   ]
  },
  {
   "cell_type": "code",
   "execution_count": 63,
   "id": "b13fe254",
   "metadata": {},
   "outputs": [],
   "source": [
    "# Returns similar most movies.\n",
    "\n",
    "def get_similar_movies(movies,similarity_matrix,movie_number):\n",
    "    movie_name=movies.loc[movies['MovieID']==movie_number,'Title'].tolist()[0]\n",
    "    similar_movies_order=similarity_matrix.loc[movie_number].sort_values(ascending=False)\n",
    "    similar_movies_id=similar_movies_order.index.tolist()\n",
    "    similar_movies_id.remove(movie_number)\n",
    "    similar_movies_id=similar_movies_id[:10]\n",
    "    similar_movies_df=pd.DataFrame(np.array([similar_movies_id,similar_movies_order.loc[similar_movies_id]])).T\n",
    "    similar_movies_df.columns=['MovieID','Correlation']\n",
    "    similar_movies_df=pd.merge(left=movies,right=similar_movies_df,on='MovieID')[['MovieID','Title','Correlation','Release_Year']]\n",
    "    similar_movies_df=similar_movies_df.sort_values(by='Correlation')\n",
    "    \n",
    "    return movie_name,similar_movies_df"
   ]
  },
  {
   "cell_type": "code",
   "execution_count": 64,
   "id": "b4239d3a",
   "metadata": {},
   "outputs": [
    {
     "name": "stdout",
     "output_type": "stream",
     "text": [
      "Movie Name: Toy Story\n"
     ]
    },
    {
     "data": {
      "text/plain": [
       "'Recommendations:'"
      ]
     },
     "metadata": {},
     "output_type": "display_data"
    },
    {
     "data": {
      "text/html": [
       "<div>\n",
       "<style scoped>\n",
       "    .dataframe tbody tr th:only-of-type {\n",
       "        vertical-align: middle;\n",
       "    }\n",
       "\n",
       "    .dataframe tbody tr th {\n",
       "        vertical-align: top;\n",
       "    }\n",
       "\n",
       "    .dataframe thead th {\n",
       "        text-align: right;\n",
       "    }\n",
       "</style>\n",
       "<table border=\"1\" class=\"dataframe\">\n",
       "  <thead>\n",
       "    <tr style=\"text-align: right;\">\n",
       "      <th></th>\n",
       "      <th>MovieID</th>\n",
       "      <th>Title</th>\n",
       "      <th>Correlation</th>\n",
       "      <th>Release_Year</th>\n",
       "    </tr>\n",
       "  </thead>\n",
       "  <tbody>\n",
       "    <tr>\n",
       "      <th>0</th>\n",
       "      <td>54</td>\n",
       "      <td>Big Green, The</td>\n",
       "      <td>0.790569</td>\n",
       "      <td>1995</td>\n",
       "    </tr>\n",
       "    <tr>\n",
       "      <th>2</th>\n",
       "      <td>374</td>\n",
       "      <td>Richie Rich</td>\n",
       "      <td>0.790569</td>\n",
       "      <td>1994</td>\n",
       "    </tr>\n",
       "    <tr>\n",
       "      <th>3</th>\n",
       "      <td>586</td>\n",
       "      <td>Home Alone</td>\n",
       "      <td>0.790569</td>\n",
       "      <td>1990</td>\n",
       "    </tr>\n",
       "    <tr>\n",
       "      <th>5</th>\n",
       "      <td>596</td>\n",
       "      <td>Pinocchio</td>\n",
       "      <td>0.790569</td>\n",
       "      <td>1940</td>\n",
       "    </tr>\n",
       "    <tr>\n",
       "      <th>6</th>\n",
       "      <td>616</td>\n",
       "      <td>Aristocats, The</td>\n",
       "      <td>0.790569</td>\n",
       "      <td>1970</td>\n",
       "    </tr>\n",
       "    <tr>\n",
       "      <th>7</th>\n",
       "      <td>709</td>\n",
       "      <td>Oliver &amp; Company</td>\n",
       "      <td>0.790569</td>\n",
       "      <td>1988</td>\n",
       "    </tr>\n",
       "    <tr>\n",
       "      <th>8</th>\n",
       "      <td>837</td>\n",
       "      <td>Matilda</td>\n",
       "      <td>0.790569</td>\n",
       "      <td>1996</td>\n",
       "    </tr>\n",
       "    <tr>\n",
       "      <th>9</th>\n",
       "      <td>881</td>\n",
       "      <td>First Kid</td>\n",
       "      <td>0.790569</td>\n",
       "      <td>1996</td>\n",
       "    </tr>\n",
       "    <tr>\n",
       "      <th>1</th>\n",
       "      <td>239</td>\n",
       "      <td>Goofy Movie, A</td>\n",
       "      <td>0.836660</td>\n",
       "      <td>1995</td>\n",
       "    </tr>\n",
       "    <tr>\n",
       "      <th>4</th>\n",
       "      <td>588</td>\n",
       "      <td>Aladdin</td>\n",
       "      <td>0.836660</td>\n",
       "      <td>1992</td>\n",
       "    </tr>\n",
       "  </tbody>\n",
       "</table>\n",
       "</div>"
      ],
      "text/plain": [
       "   MovieID             Title  Correlation  Release_Year\n",
       "0       54    Big Green, The     0.790569          1995\n",
       "2      374       Richie Rich     0.790569          1994\n",
       "3      586        Home Alone     0.790569          1990\n",
       "5      596         Pinocchio     0.790569          1940\n",
       "6      616   Aristocats, The     0.790569          1970\n",
       "7      709  Oliver & Company     0.790569          1988\n",
       "8      837           Matilda     0.790569          1996\n",
       "9      881         First Kid     0.790569          1996\n",
       "1      239    Goofy Movie, A     0.836660          1995\n",
       "4      588           Aladdin     0.836660          1992"
      ]
     },
     "metadata": {},
     "output_type": "display_data"
    }
   ],
   "source": [
    "# Higher the Correlation Coefficient, higher the similarity.\n",
    "movie_number=1\n",
    "similarity_matrix=movies_pivot[:1000].T.corr()\n",
    "item_item_recommendations=get_similar_movies(movies,similarity_matrix,movie_number)\n",
    "\n",
    "print('Movie Name:',item_item_recommendations[0])\n",
    "display('Recommendations:',item_item_recommendations[1])"
   ]
  },
  {
   "cell_type": "code",
   "execution_count": null,
   "id": "e798c611",
   "metadata": {},
   "outputs": [],
   "source": []
  },
  {
   "cell_type": "markdown",
   "id": "43034283",
   "metadata": {},
   "source": [
    "## 2) Recommender System based on Hamming Distance"
   ]
  },
  {
   "cell_type": "code",
   "execution_count": 55,
   "id": "a4cc4237",
   "metadata": {},
   "outputs": [],
   "source": [
    "# Returns similar most movies.\n",
    "\n",
    "def get_similar_movies(movies,similarity_matrix,movie_number):\n",
    "    movie_name=movies.loc[movies['MovieID']==movie_number,'Title'].tolist()[0]\n",
    "    similar_movies_order=similarity_matrix.loc[movie_number].sort_values()\n",
    "    similar_movies_id=similar_movies_order.index.tolist()\n",
    "    similar_movies_id.remove(movie_number)\n",
    "    similar_movies_id=similar_movies_id[:10]\n",
    "    similar_movies_df=pd.DataFrame(np.array([similar_movies_id,similar_movies_order.loc[similar_movies_id]])).T\n",
    "    similar_movies_df.columns=['MovieID','Distance']\n",
    "    similar_movies_df=pd.merge(left=movies,right=similar_movies_df,on='MovieID')[['MovieID','Title','Distance','Release_Year']]\n",
    "    similar_movies_df=similar_movies_df.sort_values(by='Distance')\n",
    "    \n",
    "    return movie_name,similar_movies_df"
   ]
  },
  {
   "cell_type": "code",
   "execution_count": 56,
   "id": "3a805804",
   "metadata": {},
   "outputs": [],
   "source": [
    "# Defining the Hamming_Distance Function to calculate similarity between movies.Lower the distance, higher is the similarity.\n",
    "def hamming_distance_function(df):\n",
    "    movie_ids=df.index\n",
    "    df=df.values\n",
    "    n=len(df)\n",
    "    temp=[]\n",
    "    for movie1 in df:\n",
    "        arr=[]\n",
    "        for movie2 in df:\n",
    "            arr.append(np.sum(np.abs(movie1-movie2)))\n",
    "        temp.append(arr)\n",
    "    return pd.DataFrame(temp,index=movie_ids,columns=movie_ids)"
   ]
  },
  {
   "cell_type": "code",
   "execution_count": 57,
   "id": "f9f12e21",
   "metadata": {},
   "outputs": [
    {
     "name": "stdout",
     "output_type": "stream",
     "text": [
      "Movie Name: Toy Story\n"
     ]
    },
    {
     "data": {
      "text/plain": [
       "'Recommendations:'"
      ]
     },
     "metadata": {},
     "output_type": "display_data"
    },
    {
     "data": {
      "text/html": [
       "<div>\n",
       "<style scoped>\n",
       "    .dataframe tbody tr th:only-of-type {\n",
       "        vertical-align: middle;\n",
       "    }\n",
       "\n",
       "    .dataframe tbody tr th {\n",
       "        vertical-align: top;\n",
       "    }\n",
       "\n",
       "    .dataframe thead th {\n",
       "        text-align: right;\n",
       "    }\n",
       "</style>\n",
       "<table border=\"1\" class=\"dataframe\">\n",
       "  <thead>\n",
       "    <tr style=\"text-align: right;\">\n",
       "      <th></th>\n",
       "      <th>MovieID</th>\n",
       "      <th>Title</th>\n",
       "      <th>Distance</th>\n",
       "      <th>Release_Year</th>\n",
       "    </tr>\n",
       "  </thead>\n",
       "  <tbody>\n",
       "    <tr>\n",
       "      <th>0</th>\n",
       "      <td>54</td>\n",
       "      <td>Big Green, The</td>\n",
       "      <td>1</td>\n",
       "      <td>1995</td>\n",
       "    </tr>\n",
       "    <tr>\n",
       "      <th>1</th>\n",
       "      <td>244</td>\n",
       "      <td>Gumby: The Movie</td>\n",
       "      <td>1</td>\n",
       "      <td>1995</td>\n",
       "    </tr>\n",
       "    <tr>\n",
       "      <th>2</th>\n",
       "      <td>250</td>\n",
       "      <td>Heavyweights</td>\n",
       "      <td>1</td>\n",
       "      <td>1994</td>\n",
       "    </tr>\n",
       "    <tr>\n",
       "      <th>3</th>\n",
       "      <td>313</td>\n",
       "      <td>Swan Princess, The</td>\n",
       "      <td>1</td>\n",
       "      <td>1994</td>\n",
       "    </tr>\n",
       "    <tr>\n",
       "      <th>4</th>\n",
       "      <td>355</td>\n",
       "      <td>Flintstones, The</td>\n",
       "      <td>1</td>\n",
       "      <td>1994</td>\n",
       "    </tr>\n",
       "    <tr>\n",
       "      <th>5</th>\n",
       "      <td>374</td>\n",
       "      <td>Richie Rich</td>\n",
       "      <td>1</td>\n",
       "      <td>1994</td>\n",
       "    </tr>\n",
       "    <tr>\n",
       "      <th>6</th>\n",
       "      <td>575</td>\n",
       "      <td>Little Rascals, The</td>\n",
       "      <td>1</td>\n",
       "      <td>1994</td>\n",
       "    </tr>\n",
       "    <tr>\n",
       "      <th>7</th>\n",
       "      <td>709</td>\n",
       "      <td>Oliver &amp; Company</td>\n",
       "      <td>1</td>\n",
       "      <td>1988</td>\n",
       "    </tr>\n",
       "    <tr>\n",
       "      <th>8</th>\n",
       "      <td>801</td>\n",
       "      <td>Harriet the Spy</td>\n",
       "      <td>1</td>\n",
       "      <td>1996</td>\n",
       "    </tr>\n",
       "    <tr>\n",
       "      <th>9</th>\n",
       "      <td>837</td>\n",
       "      <td>Matilda</td>\n",
       "      <td>1</td>\n",
       "      <td>1996</td>\n",
       "    </tr>\n",
       "  </tbody>\n",
       "</table>\n",
       "</div>"
      ],
      "text/plain": [
       "   MovieID                Title  Distance  Release_Year\n",
       "0       54       Big Green, The         1          1995\n",
       "1      244     Gumby: The Movie         1          1995\n",
       "2      250         Heavyweights         1          1994\n",
       "3      313   Swan Princess, The         1          1994\n",
       "4      355     Flintstones, The         1          1994\n",
       "5      374          Richie Rich         1          1994\n",
       "6      575  Little Rascals, The         1          1994\n",
       "7      709     Oliver & Company         1          1988\n",
       "8      801      Harriet the Spy         1          1996\n",
       "9      837              Matilda         1          1996"
      ]
     },
     "metadata": {},
     "output_type": "display_data"
    }
   ],
   "source": [
    "# Finding similar movies.\n",
    "\n",
    "movie_number=1\n",
    "similarity_matrix=hamming_distance_function(movies_pivot.iloc[:1000])     \n",
    "item_item_recommendations=get_similar_movies(movies,similarity_matrix,movie_number)\n",
    "\n",
    "print('Movie Name:',item_item_recommendations[0])\n",
    "display('Recommendations:',item_item_recommendations[1])"
   ]
  },
  {
   "cell_type": "code",
   "execution_count": 58,
   "id": "11b1812d",
   "metadata": {},
   "outputs": [
    {
     "data": {
      "text/html": [
       "<div>\n",
       "<style scoped>\n",
       "    .dataframe tbody tr th:only-of-type {\n",
       "        vertical-align: middle;\n",
       "    }\n",
       "\n",
       "    .dataframe tbody tr th {\n",
       "        vertical-align: top;\n",
       "    }\n",
       "\n",
       "    .dataframe thead th {\n",
       "        text-align: right;\n",
       "    }\n",
       "</style>\n",
       "<table border=\"1\" class=\"dataframe\">\n",
       "  <thead>\n",
       "    <tr style=\"text-align: right;\">\n",
       "      <th>MovieID</th>\n",
       "      <th>1</th>\n",
       "      <th>2</th>\n",
       "      <th>3</th>\n",
       "      <th>4</th>\n",
       "      <th>5</th>\n",
       "      <th>6</th>\n",
       "      <th>7</th>\n",
       "      <th>8</th>\n",
       "      <th>9</th>\n",
       "      <th>10</th>\n",
       "      <th>...</th>\n",
       "      <th>1011</th>\n",
       "      <th>1012</th>\n",
       "      <th>1013</th>\n",
       "      <th>1014</th>\n",
       "      <th>1015</th>\n",
       "      <th>1016</th>\n",
       "      <th>1017</th>\n",
       "      <th>1018</th>\n",
       "      <th>1019</th>\n",
       "      <th>1020</th>\n",
       "    </tr>\n",
       "    <tr>\n",
       "      <th>MovieID</th>\n",
       "      <th></th>\n",
       "      <th></th>\n",
       "      <th></th>\n",
       "      <th></th>\n",
       "      <th></th>\n",
       "      <th></th>\n",
       "      <th></th>\n",
       "      <th></th>\n",
       "      <th></th>\n",
       "      <th></th>\n",
       "      <th></th>\n",
       "      <th></th>\n",
       "      <th></th>\n",
       "      <th></th>\n",
       "      <th></th>\n",
       "      <th></th>\n",
       "      <th></th>\n",
       "      <th></th>\n",
       "      <th></th>\n",
       "      <th></th>\n",
       "      <th></th>\n",
       "    </tr>\n",
       "  </thead>\n",
       "  <tbody>\n",
       "    <tr>\n",
       "      <th>1</th>\n",
       "      <td>0</td>\n",
       "      <td>4</td>\n",
       "      <td>3</td>\n",
       "      <td>3</td>\n",
       "      <td>2</td>\n",
       "      <td>6</td>\n",
       "      <td>3</td>\n",
       "      <td>3</td>\n",
       "      <td>4</td>\n",
       "      <td>6</td>\n",
       "      <td>...</td>\n",
       "      <td>2</td>\n",
       "      <td>3</td>\n",
       "      <td>3</td>\n",
       "      <td>2</td>\n",
       "      <td>3</td>\n",
       "      <td>1</td>\n",
       "      <td>3</td>\n",
       "      <td>2</td>\n",
       "      <td>4</td>\n",
       "      <td>2</td>\n",
       "    </tr>\n",
       "    <tr>\n",
       "      <th>2</th>\n",
       "      <td>4</td>\n",
       "      <td>0</td>\n",
       "      <td>5</td>\n",
       "      <td>5</td>\n",
       "      <td>4</td>\n",
       "      <td>6</td>\n",
       "      <td>5</td>\n",
       "      <td>1</td>\n",
       "      <td>4</td>\n",
       "      <td>4</td>\n",
       "      <td>...</td>\n",
       "      <td>2</td>\n",
       "      <td>3</td>\n",
       "      <td>3</td>\n",
       "      <td>4</td>\n",
       "      <td>1</td>\n",
       "      <td>3</td>\n",
       "      <td>1</td>\n",
       "      <td>4</td>\n",
       "      <td>0</td>\n",
       "      <td>4</td>\n",
       "    </tr>\n",
       "    <tr>\n",
       "      <th>3</th>\n",
       "      <td>3</td>\n",
       "      <td>5</td>\n",
       "      <td>0</td>\n",
       "      <td>2</td>\n",
       "      <td>1</td>\n",
       "      <td>5</td>\n",
       "      <td>0</td>\n",
       "      <td>4</td>\n",
       "      <td>3</td>\n",
       "      <td>5</td>\n",
       "      <td>...</td>\n",
       "      <td>3</td>\n",
       "      <td>4</td>\n",
       "      <td>4</td>\n",
       "      <td>3</td>\n",
       "      <td>4</td>\n",
       "      <td>2</td>\n",
       "      <td>4</td>\n",
       "      <td>3</td>\n",
       "      <td>5</td>\n",
       "      <td>1</td>\n",
       "    </tr>\n",
       "    <tr>\n",
       "      <th>4</th>\n",
       "      <td>3</td>\n",
       "      <td>5</td>\n",
       "      <td>2</td>\n",
       "      <td>0</td>\n",
       "      <td>1</td>\n",
       "      <td>5</td>\n",
       "      <td>2</td>\n",
       "      <td>4</td>\n",
       "      <td>3</td>\n",
       "      <td>5</td>\n",
       "      <td>...</td>\n",
       "      <td>3</td>\n",
       "      <td>2</td>\n",
       "      <td>2</td>\n",
       "      <td>1</td>\n",
       "      <td>4</td>\n",
       "      <td>2</td>\n",
       "      <td>4</td>\n",
       "      <td>3</td>\n",
       "      <td>5</td>\n",
       "      <td>1</td>\n",
       "    </tr>\n",
       "    <tr>\n",
       "      <th>5</th>\n",
       "      <td>2</td>\n",
       "      <td>4</td>\n",
       "      <td>1</td>\n",
       "      <td>1</td>\n",
       "      <td>0</td>\n",
       "      <td>4</td>\n",
       "      <td>1</td>\n",
       "      <td>3</td>\n",
       "      <td>2</td>\n",
       "      <td>4</td>\n",
       "      <td>...</td>\n",
       "      <td>2</td>\n",
       "      <td>3</td>\n",
       "      <td>3</td>\n",
       "      <td>2</td>\n",
       "      <td>3</td>\n",
       "      <td>1</td>\n",
       "      <td>3</td>\n",
       "      <td>2</td>\n",
       "      <td>4</td>\n",
       "      <td>0</td>\n",
       "    </tr>\n",
       "  </tbody>\n",
       "</table>\n",
       "<p>5 rows × 1000 columns</p>\n",
       "</div>"
      ],
      "text/plain": [
       "MovieID  1     2     3     4     5     6     7     8     9     10    ...  \\\n",
       "MovieID                                                              ...   \n",
       "1           0     4     3     3     2     6     3     3     4     6  ...   \n",
       "2           4     0     5     5     4     6     5     1     4     4  ...   \n",
       "3           3     5     0     2     1     5     0     4     3     5  ...   \n",
       "4           3     5     2     0     1     5     2     4     3     5  ...   \n",
       "5           2     4     1     1     0     4     1     3     2     4  ...   \n",
       "\n",
       "MovieID  1011  1012  1013  1014  1015  1016  1017  1018  1019  1020  \n",
       "MovieID                                                              \n",
       "1           2     3     3     2     3     1     3     2     4     2  \n",
       "2           2     3     3     4     1     3     1     4     0     4  \n",
       "3           3     4     4     3     4     2     4     3     5     1  \n",
       "4           3     2     2     1     4     2     4     3     5     1  \n",
       "5           2     3     3     2     3     1     3     2     4     0  \n",
       "\n",
       "[5 rows x 1000 columns]"
      ]
     },
     "execution_count": 58,
     "metadata": {},
     "output_type": "execute_result"
    }
   ],
   "source": [
    "# Preview of User User Similarity Matrix\n",
    "similarity_matrix.head()"
   ]
  },
  {
   "cell_type": "code",
   "execution_count": null,
   "id": "676cdb81",
   "metadata": {},
   "outputs": [],
   "source": []
  },
  {
   "cell_type": "markdown",
   "id": "161c3bf5",
   "metadata": {},
   "source": [
    "# B) User-User Based Similarity."
   ]
  },
  {
   "cell_type": "code",
   "execution_count": 65,
   "id": "e20ad0d7",
   "metadata": {},
   "outputs": [
    {
     "data": {
      "text/html": [
       "<div>\n",
       "<style scoped>\n",
       "    .dataframe tbody tr th:only-of-type {\n",
       "        vertical-align: middle;\n",
       "    }\n",
       "\n",
       "    .dataframe tbody tr th {\n",
       "        vertical-align: top;\n",
       "    }\n",
       "\n",
       "    .dataframe thead th {\n",
       "        text-align: right;\n",
       "    }\n",
       "</style>\n",
       "<table border=\"1\" class=\"dataframe\">\n",
       "  <thead>\n",
       "    <tr style=\"text-align: right;\">\n",
       "      <th></th>\n",
       "      <th>UserID</th>\n",
       "      <th>Rating</th>\n",
       "      <th>Hour</th>\n",
       "      <th>Gender</th>\n",
       "      <th>Age</th>\n",
       "      <th>Occupation</th>\n",
       "    </tr>\n",
       "  </thead>\n",
       "  <tbody>\n",
       "    <tr>\n",
       "      <th>0</th>\n",
       "      <td>1</td>\n",
       "      <td>4.188679</td>\n",
       "      <td>3.792453</td>\n",
       "      <td>0</td>\n",
       "      <td>1</td>\n",
       "      <td>10</td>\n",
       "    </tr>\n",
       "    <tr>\n",
       "      <th>1</th>\n",
       "      <td>2</td>\n",
       "      <td>3.713178</td>\n",
       "      <td>2.968992</td>\n",
       "      <td>1</td>\n",
       "      <td>7</td>\n",
       "      <td>16</td>\n",
       "    </tr>\n",
       "    <tr>\n",
       "      <th>2</th>\n",
       "      <td>3</td>\n",
       "      <td>3.901961</td>\n",
       "      <td>2.215686</td>\n",
       "      <td>1</td>\n",
       "      <td>3</td>\n",
       "      <td>15</td>\n",
       "    </tr>\n",
       "    <tr>\n",
       "      <th>3</th>\n",
       "      <td>4</td>\n",
       "      <td>4.190476</td>\n",
       "      <td>1.000000</td>\n",
       "      <td>1</td>\n",
       "      <td>5</td>\n",
       "      <td>7</td>\n",
       "    </tr>\n",
       "    <tr>\n",
       "      <th>4</th>\n",
       "      <td>5</td>\n",
       "      <td>3.146465</td>\n",
       "      <td>11.656566</td>\n",
       "      <td>1</td>\n",
       "      <td>3</td>\n",
       "      <td>20</td>\n",
       "    </tr>\n",
       "  </tbody>\n",
       "</table>\n",
       "</div>"
      ],
      "text/plain": [
       "   UserID    Rating       Hour  Gender  Age  Occupation\n",
       "0       1  4.188679   3.792453       0    1          10\n",
       "1       2  3.713178   2.968992       1    7          16\n",
       "2       3  3.901961   2.215686       1    3          15\n",
       "3       4  4.190476   1.000000       1    5           7\n",
       "4       5  3.146465  11.656566       1    3          20"
      ]
     },
     "metadata": {},
     "output_type": "display_data"
    },
    {
     "data": {
      "text/html": [
       "<div>\n",
       "<style scoped>\n",
       "    .dataframe tbody tr th:only-of-type {\n",
       "        vertical-align: middle;\n",
       "    }\n",
       "\n",
       "    .dataframe tbody tr th {\n",
       "        vertical-align: top;\n",
       "    }\n",
       "\n",
       "    .dataframe thead th {\n",
       "        text-align: right;\n",
       "    }\n",
       "</style>\n",
       "<table border=\"1\" class=\"dataframe\">\n",
       "  <thead>\n",
       "    <tr style=\"text-align: right;\">\n",
       "      <th></th>\n",
       "      <th>Rating</th>\n",
       "      <th>Hour</th>\n",
       "      <th>Age</th>\n",
       "      <th>Gender</th>\n",
       "      <th>Occupation_1</th>\n",
       "      <th>Occupation_2</th>\n",
       "      <th>Occupation_3</th>\n",
       "      <th>Occupation_4</th>\n",
       "      <th>Occupation_5</th>\n",
       "      <th>Occupation_6</th>\n",
       "      <th>...</th>\n",
       "      <th>Occupation_11</th>\n",
       "      <th>Occupation_12</th>\n",
       "      <th>Occupation_13</th>\n",
       "      <th>Occupation_14</th>\n",
       "      <th>Occupation_15</th>\n",
       "      <th>Occupation_16</th>\n",
       "      <th>Occupation_17</th>\n",
       "      <th>Occupation_18</th>\n",
       "      <th>Occupation_19</th>\n",
       "      <th>Occupation_20</th>\n",
       "    </tr>\n",
       "    <tr>\n",
       "      <th>UserID</th>\n",
       "      <th></th>\n",
       "      <th></th>\n",
       "      <th></th>\n",
       "      <th></th>\n",
       "      <th></th>\n",
       "      <th></th>\n",
       "      <th></th>\n",
       "      <th></th>\n",
       "      <th></th>\n",
       "      <th></th>\n",
       "      <th></th>\n",
       "      <th></th>\n",
       "      <th></th>\n",
       "      <th></th>\n",
       "      <th></th>\n",
       "      <th></th>\n",
       "      <th></th>\n",
       "      <th></th>\n",
       "      <th></th>\n",
       "      <th></th>\n",
       "      <th></th>\n",
       "    </tr>\n",
       "  </thead>\n",
       "  <tbody>\n",
       "    <tr>\n",
       "      <th>1</th>\n",
       "      <td>1.131261</td>\n",
       "      <td>-0.909947</td>\n",
       "      <td>-1.747373</td>\n",
       "      <td>0</td>\n",
       "      <td>0</td>\n",
       "      <td>0</td>\n",
       "      <td>0</td>\n",
       "      <td>0</td>\n",
       "      <td>0</td>\n",
       "      <td>0</td>\n",
       "      <td>...</td>\n",
       "      <td>0</td>\n",
       "      <td>0</td>\n",
       "      <td>0</td>\n",
       "      <td>0</td>\n",
       "      <td>0</td>\n",
       "      <td>0</td>\n",
       "      <td>0</td>\n",
       "      <td>0</td>\n",
       "      <td>0</td>\n",
       "      <td>0</td>\n",
       "    </tr>\n",
       "    <tr>\n",
       "      <th>2</th>\n",
       "      <td>0.024380</td>\n",
       "      <td>-1.037952</td>\n",
       "      <td>2.251920</td>\n",
       "      <td>1</td>\n",
       "      <td>0</td>\n",
       "      <td>0</td>\n",
       "      <td>0</td>\n",
       "      <td>0</td>\n",
       "      <td>0</td>\n",
       "      <td>0</td>\n",
       "      <td>...</td>\n",
       "      <td>0</td>\n",
       "      <td>0</td>\n",
       "      <td>0</td>\n",
       "      <td>0</td>\n",
       "      <td>0</td>\n",
       "      <td>1</td>\n",
       "      <td>0</td>\n",
       "      <td>0</td>\n",
       "      <td>0</td>\n",
       "      <td>0</td>\n",
       "    </tr>\n",
       "    <tr>\n",
       "      <th>3</th>\n",
       "      <td>0.463832</td>\n",
       "      <td>-1.155052</td>\n",
       "      <td>-0.414276</td>\n",
       "      <td>1</td>\n",
       "      <td>0</td>\n",
       "      <td>0</td>\n",
       "      <td>0</td>\n",
       "      <td>0</td>\n",
       "      <td>0</td>\n",
       "      <td>0</td>\n",
       "      <td>...</td>\n",
       "      <td>0</td>\n",
       "      <td>0</td>\n",
       "      <td>0</td>\n",
       "      <td>0</td>\n",
       "      <td>1</td>\n",
       "      <td>0</td>\n",
       "      <td>0</td>\n",
       "      <td>0</td>\n",
       "      <td>0</td>\n",
       "      <td>0</td>\n",
       "    </tr>\n",
       "    <tr>\n",
       "      <th>4</th>\n",
       "      <td>1.135444</td>\n",
       "      <td>-1.344027</td>\n",
       "      <td>0.918822</td>\n",
       "      <td>1</td>\n",
       "      <td>0</td>\n",
       "      <td>0</td>\n",
       "      <td>0</td>\n",
       "      <td>0</td>\n",
       "      <td>0</td>\n",
       "      <td>0</td>\n",
       "      <td>...</td>\n",
       "      <td>0</td>\n",
       "      <td>0</td>\n",
       "      <td>0</td>\n",
       "      <td>0</td>\n",
       "      <td>0</td>\n",
       "      <td>0</td>\n",
       "      <td>0</td>\n",
       "      <td>0</td>\n",
       "      <td>0</td>\n",
       "      <td>0</td>\n",
       "    </tr>\n",
       "    <tr>\n",
       "      <th>5</th>\n",
       "      <td>-1.294827</td>\n",
       "      <td>0.312509</td>\n",
       "      <td>-0.414276</td>\n",
       "      <td>1</td>\n",
       "      <td>0</td>\n",
       "      <td>0</td>\n",
       "      <td>0</td>\n",
       "      <td>0</td>\n",
       "      <td>0</td>\n",
       "      <td>0</td>\n",
       "      <td>...</td>\n",
       "      <td>0</td>\n",
       "      <td>0</td>\n",
       "      <td>0</td>\n",
       "      <td>0</td>\n",
       "      <td>0</td>\n",
       "      <td>0</td>\n",
       "      <td>0</td>\n",
       "      <td>0</td>\n",
       "      <td>0</td>\n",
       "      <td>1</td>\n",
       "    </tr>\n",
       "  </tbody>\n",
       "</table>\n",
       "<p>5 rows × 24 columns</p>\n",
       "</div>"
      ],
      "text/plain": [
       "          Rating      Hour       Age  Gender  Occupation_1  Occupation_2  \\\n",
       "UserID                                                                     \n",
       "1       1.131261 -0.909947 -1.747373       0             0             0   \n",
       "2       0.024380 -1.037952  2.251920       1             0             0   \n",
       "3       0.463832 -1.155052 -0.414276       1             0             0   \n",
       "4       1.135444 -1.344027  0.918822       1             0             0   \n",
       "5      -1.294827  0.312509 -0.414276       1             0             0   \n",
       "\n",
       "        Occupation_3  Occupation_4  Occupation_5  Occupation_6  ...  \\\n",
       "UserID                                                          ...   \n",
       "1                  0             0             0             0  ...   \n",
       "2                  0             0             0             0  ...   \n",
       "3                  0             0             0             0  ...   \n",
       "4                  0             0             0             0  ...   \n",
       "5                  0             0             0             0  ...   \n",
       "\n",
       "        Occupation_11  Occupation_12  Occupation_13  Occupation_14  \\\n",
       "UserID                                                               \n",
       "1                   0              0              0              0   \n",
       "2                   0              0              0              0   \n",
       "3                   0              0              0              0   \n",
       "4                   0              0              0              0   \n",
       "5                   0              0              0              0   \n",
       "\n",
       "        Occupation_15  Occupation_16  Occupation_17  Occupation_18  \\\n",
       "UserID                                                               \n",
       "1                   0              0              0              0   \n",
       "2                   0              1              0              0   \n",
       "3                   1              0              0              0   \n",
       "4                   0              0              0              0   \n",
       "5                   0              0              0              0   \n",
       "\n",
       "        Occupation_19  Occupation_20  \n",
       "UserID                                \n",
       "1                   0              0  \n",
       "2                   0              0  \n",
       "3                   0              0  \n",
       "4                   0              0  \n",
       "5                   0              1  \n",
       "\n",
       "[5 rows x 24 columns]"
      ]
     },
     "metadata": {},
     "output_type": "display_data"
    }
   ],
   "source": [
    "# Creating a merged users dataset to find similar users.\n",
    "temp=ratings.groupby(by='UserID')[['Rating','Hour']].mean()\n",
    "temp=pd.merge(left=temp,right=users,on='UserID')[['UserID','Rating','Hour','Gender','Age','Occupation']]\n",
    "\n",
    "\n",
    "# Encoding age categories\n",
    "mapper={1:1, 18:2, 25:3, 35:4, 45:5, 50:6, 56:7,}\n",
    "temp['Age']=temp['Age'].map(mapper)\n",
    "display(temp.head())\n",
    "\n",
    "# One_Hot_Encoding \"Occupation\" variable.\n",
    "encoder=OneHotEncoder(sparse=False,drop='first',dtype='int')\n",
    "occupation_ohe_df=pd.DataFrame(data=encoder.fit_transform(temp[['Occupation']]),columns=encoder.get_feature_names_out())\n",
    "\n",
    "# Dropping original \"Occupation\" variable\n",
    "temp.drop(columns=['Occupation'],inplace=True)\n",
    "temp=pd.concat((temp,occupation_ohe_df),axis=1)\n",
    "\n",
    "# Scaling the \"Rating\", \"Hour\" and \"Age\".\n",
    "scaler=StandardScaler()\n",
    "scaled_columns=['Rating', 'Hour', 'Age']\n",
    "remaining_columns=['UserID','Gender', 'Occupation_1', 'Occupation_2','Occupation_3', 'Occupation_4', \n",
    "                   'Occupation_5', 'Occupation_6', 'Occupation_7', 'Occupation_8', 'Occupation_9', 'Occupation_10',\n",
    "                   'Occupation_11', 'Occupation_12', 'Occupation_13', 'Occupation_14','Occupation_15', 'Occupation_16', \n",
    "                   'Occupation_17', 'Occupation_18', 'Occupation_19', 'Occupation_20']\n",
    "temp_scaled=pd.DataFrame(data=scaler.fit_transform(temp[scaled_columns]),columns=scaled_columns)\n",
    "users_df=pd.concat((temp_scaled,temp[remaining_columns]),axis=1)\n",
    "users_df.index=users_df['UserID']\n",
    "users_df.drop(columns=['UserID'],inplace=True)\n",
    "display(users_df.head())"
   ]
  },
  {
   "cell_type": "code",
   "execution_count": 66,
   "id": "a2958a1c",
   "metadata": {},
   "outputs": [],
   "source": [
    "# Returns similar most movies.\n",
    "\n",
    "def get_similar_movies(movies_original,ratings,similarity_matrix,user_number):\n",
    "    temp=similarity_matrix.loc[user_number]\n",
    "    temp=temp.drop(index=user_number)\n",
    "    most_closest_user=temp[temp==temp.min()].index.tolist()[0]\n",
    "    \n",
    "# Lets get the list of of movies which are rated highly by the most_closest_user.\n",
    "    temp=ratings[ratings['UserID']==most_closest_user].sort_values(by='Rating',ascending=False).iloc[:10][['MovieID','Rating']]\n",
    "    temp=pd.merge(left=temp,right=movies,on='MovieID')\n",
    "\n",
    "    \n",
    "    return user_number,most_closest_user,temp"
   ]
  },
  {
   "cell_type": "markdown",
   "id": "f0e66f6a",
   "metadata": {},
   "source": [
    "## 2) Recommender System based on KNN Distance"
   ]
  },
  {
   "cell_type": "code",
   "execution_count": 67,
   "id": "f4586369",
   "metadata": {},
   "outputs": [],
   "source": [
    "# Defining the KNN_Distance Function to measure similarity between users. Lower the distance, higher is the similarity.\n",
    "def knn_function(df):\n",
    "    user_ids=df.index\n",
    "    df=df.values\n",
    "    n=len(df)\n",
    "    temp=[]\n",
    "    for user1 in df:\n",
    "        arr=[]\n",
    "        for user2 in df:\n",
    "            arr.append(np.sum(user1-user2)**2)\n",
    "        temp.append(arr)\n",
    "    return pd.DataFrame(temp,index=user_ids,columns=user_ids)"
   ]
  },
  {
   "cell_type": "code",
   "execution_count": 68,
   "id": "0efa38f2",
   "metadata": {},
   "outputs": [
    {
     "name": "stdout",
     "output_type": "stream",
     "text": [
      "User_Number: 1\n",
      "Most_Closest_User: 978\n"
     ]
    },
    {
     "data": {
      "text/plain": [
       "'Recommendations'"
      ]
     },
     "metadata": {},
     "output_type": "display_data"
    },
    {
     "data": {
      "text/html": [
       "<div>\n",
       "<style scoped>\n",
       "    .dataframe tbody tr th:only-of-type {\n",
       "        vertical-align: middle;\n",
       "    }\n",
       "\n",
       "    .dataframe tbody tr th {\n",
       "        vertical-align: top;\n",
       "    }\n",
       "\n",
       "    .dataframe thead th {\n",
       "        text-align: right;\n",
       "    }\n",
       "</style>\n",
       "<table border=\"1\" class=\"dataframe\">\n",
       "  <thead>\n",
       "    <tr style=\"text-align: right;\">\n",
       "      <th></th>\n",
       "      <th>MovieID</th>\n",
       "      <th>Rating</th>\n",
       "      <th>Title</th>\n",
       "      <th>Genres</th>\n",
       "      <th>Release_Year</th>\n",
       "    </tr>\n",
       "  </thead>\n",
       "  <tbody>\n",
       "    <tr>\n",
       "      <th>0</th>\n",
       "      <td>1199</td>\n",
       "      <td>5</td>\n",
       "      <td>Brazil</td>\n",
       "      <td>Sci-Fi</td>\n",
       "      <td>1985</td>\n",
       "    </tr>\n",
       "    <tr>\n",
       "      <th>1</th>\n",
       "      <td>1206</td>\n",
       "      <td>5</td>\n",
       "      <td>Clockwork Orange, A</td>\n",
       "      <td>Sci-Fi</td>\n",
       "      <td>1971</td>\n",
       "    </tr>\n",
       "    <tr>\n",
       "      <th>2</th>\n",
       "      <td>1298</td>\n",
       "      <td>5</td>\n",
       "      <td>Pink Floyd - The Wall</td>\n",
       "      <td>Drama|Musical|War</td>\n",
       "      <td>1982</td>\n",
       "    </tr>\n",
       "    <tr>\n",
       "      <th>3</th>\n",
       "      <td>111</td>\n",
       "      <td>5</td>\n",
       "      <td>Taxi Driver</td>\n",
       "      <td>Drama|Thriller</td>\n",
       "      <td>1976</td>\n",
       "    </tr>\n",
       "    <tr>\n",
       "      <th>4</th>\n",
       "      <td>3160</td>\n",
       "      <td>5</td>\n",
       "      <td>Magnolia</td>\n",
       "      <td>Drama</td>\n",
       "      <td>1999</td>\n",
       "    </tr>\n",
       "    <tr>\n",
       "      <th>5</th>\n",
       "      <td>2329</td>\n",
       "      <td>5</td>\n",
       "      <td>American History X</td>\n",
       "      <td>Drama</td>\n",
       "      <td>1998</td>\n",
       "    </tr>\n",
       "    <tr>\n",
       "      <th>6</th>\n",
       "      <td>2318</td>\n",
       "      <td>5</td>\n",
       "      <td>Happiness</td>\n",
       "      <td>Comedy</td>\n",
       "      <td>1998</td>\n",
       "    </tr>\n",
       "    <tr>\n",
       "      <th>7</th>\n",
       "      <td>47</td>\n",
       "      <td>5</td>\n",
       "      <td>Seven (Se7en)</td>\n",
       "      <td>Crime|Thriller</td>\n",
       "      <td>1995</td>\n",
       "    </tr>\n",
       "    <tr>\n",
       "      <th>8</th>\n",
       "      <td>1136</td>\n",
       "      <td>5</td>\n",
       "      <td>Monty Python and the Holy Grail</td>\n",
       "      <td>Comedy</td>\n",
       "      <td>1974</td>\n",
       "    </tr>\n",
       "    <tr>\n",
       "      <th>9</th>\n",
       "      <td>2712</td>\n",
       "      <td>5</td>\n",
       "      <td>Eyes Wide Shut</td>\n",
       "      <td>Drama</td>\n",
       "      <td>1999</td>\n",
       "    </tr>\n",
       "  </tbody>\n",
       "</table>\n",
       "</div>"
      ],
      "text/plain": [
       "   MovieID  Rating                            Title             Genres  \\\n",
       "0     1199       5                           Brazil             Sci-Fi   \n",
       "1     1206       5              Clockwork Orange, A             Sci-Fi   \n",
       "2     1298       5            Pink Floyd - The Wall  Drama|Musical|War   \n",
       "3      111       5                      Taxi Driver     Drama|Thriller   \n",
       "4     3160       5                         Magnolia              Drama   \n",
       "5     2329       5               American History X              Drama   \n",
       "6     2318       5                        Happiness             Comedy   \n",
       "7       47       5                    Seven (Se7en)     Crime|Thriller   \n",
       "8     1136       5  Monty Python and the Holy Grail             Comedy   \n",
       "9     2712       5                   Eyes Wide Shut              Drama   \n",
       "\n",
       "   Release_Year  \n",
       "0          1985  \n",
       "1          1971  \n",
       "2          1982  \n",
       "3          1976  \n",
       "4          1999  \n",
       "5          1998  \n",
       "6          1998  \n",
       "7          1995  \n",
       "8          1974  \n",
       "9          1999  "
      ]
     },
     "metadata": {},
     "output_type": "display_data"
    }
   ],
   "source": [
    "user_number=1\n",
    "similarity_matrix=knn_function(users_df.iloc[:1000])     \n",
    "\n",
    "user_user_recommendations=get_similar_movies(movies_original,ratings,similarity_matrix,user_number)\n",
    "\n",
    "print('User_Number:',user_user_recommendations[0])\n",
    "print('Most_Closest_User:',user_user_recommendations[1])\n",
    "display('Recommendations',user_user_recommendations[2])"
   ]
  },
  {
   "cell_type": "code",
   "execution_count": null,
   "id": "04da1612",
   "metadata": {},
   "outputs": [],
   "source": []
  },
  {
   "cell_type": "markdown",
   "id": "b7cdbfdf",
   "metadata": {},
   "source": [
    "## Recommender System based on Cosine Similarity"
   ]
  },
  {
   "cell_type": "code",
   "execution_count": 69,
   "id": "ce93a0fe",
   "metadata": {},
   "outputs": [],
   "source": [
    "# Defining the Cosine Function to measure similarity between users. Lower the distance, higher is the similarity.\n",
    "def cosine_function(df):\n",
    "    user_ids=df.index\n",
    "    df=df.values\n",
    "    n=len(df)\n",
    "    temp=[]\n",
    "    for user1 in df:\n",
    "        arr=[]\n",
    "        for user2 in df:\n",
    "            arr.append(np.dot(user1,user2)/(np.linalg.norm(user1)*np.linalg.norm(user2)))\n",
    "        temp.append(arr)\n",
    "    return pd.DataFrame(temp,index=user_ids,columns=user_ids)"
   ]
  },
  {
   "cell_type": "code",
   "execution_count": 70,
   "id": "91793c8f",
   "metadata": {},
   "outputs": [
    {
     "name": "stdout",
     "output_type": "stream",
     "text": [
      "User_Number: 1\n",
      "Most_Closest_User: 689\n"
     ]
    },
    {
     "data": {
      "text/plain": [
       "'Recommendations'"
      ]
     },
     "metadata": {},
     "output_type": "display_data"
    },
    {
     "data": {
      "text/html": [
       "<div>\n",
       "<style scoped>\n",
       "    .dataframe tbody tr th:only-of-type {\n",
       "        vertical-align: middle;\n",
       "    }\n",
       "\n",
       "    .dataframe tbody tr th {\n",
       "        vertical-align: top;\n",
       "    }\n",
       "\n",
       "    .dataframe thead th {\n",
       "        text-align: right;\n",
       "    }\n",
       "</style>\n",
       "<table border=\"1\" class=\"dataframe\">\n",
       "  <thead>\n",
       "    <tr style=\"text-align: right;\">\n",
       "      <th></th>\n",
       "      <th>MovieID</th>\n",
       "      <th>Rating</th>\n",
       "      <th>Title</th>\n",
       "      <th>Genres</th>\n",
       "      <th>Release_Year</th>\n",
       "    </tr>\n",
       "  </thead>\n",
       "  <tbody>\n",
       "    <tr>\n",
       "      <th>0</th>\n",
       "      <td>249</td>\n",
       "      <td>5</td>\n",
       "      <td>Immortal Beloved</td>\n",
       "      <td>Drama|Romance</td>\n",
       "      <td>1994</td>\n",
       "    </tr>\n",
       "    <tr>\n",
       "      <th>1</th>\n",
       "      <td>2568</td>\n",
       "      <td>5</td>\n",
       "      <td>Mod Squad, The</td>\n",
       "      <td>Action|Crime</td>\n",
       "      <td>1999</td>\n",
       "    </tr>\n",
       "    <tr>\n",
       "      <th>2</th>\n",
       "      <td>1253</td>\n",
       "      <td>5</td>\n",
       "      <td>Day the Earth Stood Still, The</td>\n",
       "      <td>Drama|Sci-Fi</td>\n",
       "      <td>1951</td>\n",
       "    </tr>\n",
       "    <tr>\n",
       "      <th>3</th>\n",
       "      <td>2407</td>\n",
       "      <td>5</td>\n",
       "      <td>Cocoon</td>\n",
       "      <td>Comedy|Sci-Fi</td>\n",
       "      <td>1985</td>\n",
       "    </tr>\n",
       "    <tr>\n",
       "      <th>4</th>\n",
       "      <td>539</td>\n",
       "      <td>5</td>\n",
       "      <td>Sleepless in Seattle</td>\n",
       "      <td>Comedy|Romance</td>\n",
       "      <td>1993</td>\n",
       "    </tr>\n",
       "    <tr>\n",
       "      <th>5</th>\n",
       "      <td>924</td>\n",
       "      <td>5</td>\n",
       "      <td>2001: A Space Odyssey</td>\n",
       "      <td>Drama|Mystery|Sci-Fi|Thriller</td>\n",
       "      <td>1968</td>\n",
       "    </tr>\n",
       "    <tr>\n",
       "      <th>6</th>\n",
       "      <td>265</td>\n",
       "      <td>5</td>\n",
       "      <td>Like Water for Chocolate (Como agua para choco...</td>\n",
       "      <td>Drama|</td>\n",
       "      <td>1992</td>\n",
       "    </tr>\n",
       "    <tr>\n",
       "      <th>7</th>\n",
       "      <td>3528</td>\n",
       "      <td>5</td>\n",
       "      <td>Prince of Tides, The</td>\n",
       "      <td>Drama|Romance</td>\n",
       "      <td>1991</td>\n",
       "    </tr>\n",
       "    <tr>\n",
       "      <th>8</th>\n",
       "      <td>2454</td>\n",
       "      <td>5</td>\n",
       "      <td>Fly, The</td>\n",
       "      <td>Horror|Sci-Fi</td>\n",
       "      <td>1958</td>\n",
       "    </tr>\n",
       "  </tbody>\n",
       "</table>\n",
       "</div>"
      ],
      "text/plain": [
       "   MovieID  Rating                                              Title  \\\n",
       "0      249       5                                   Immortal Beloved   \n",
       "1     2568       5                                     Mod Squad, The   \n",
       "2     1253       5                     Day the Earth Stood Still, The   \n",
       "3     2407       5                                             Cocoon   \n",
       "4      539       5                               Sleepless in Seattle   \n",
       "5      924       5                              2001: A Space Odyssey   \n",
       "6      265       5  Like Water for Chocolate (Como agua para choco...   \n",
       "7     3528       5                               Prince of Tides, The   \n",
       "8     2454       5                                           Fly, The   \n",
       "\n",
       "                          Genres  Release_Year  \n",
       "0                  Drama|Romance          1994  \n",
       "1                   Action|Crime          1999  \n",
       "2                   Drama|Sci-Fi          1951  \n",
       "3                  Comedy|Sci-Fi          1985  \n",
       "4                 Comedy|Romance          1993  \n",
       "5  Drama|Mystery|Sci-Fi|Thriller          1968  \n",
       "6                         Drama|          1992  \n",
       "7                  Drama|Romance          1991  \n",
       "8                  Horror|Sci-Fi          1958  "
      ]
     },
     "metadata": {},
     "output_type": "display_data"
    }
   ],
   "source": [
    "user_number=1\n",
    "similarity_matrix=cosine_function(users_df.iloc[:1000])     \n",
    "\n",
    "user_user_recommendations=get_similar_movies(movies_original,ratings,similarity_matrix,user_number)\n",
    "\n",
    "print('User_Number:',user_user_recommendations[0])\n",
    "print('Most_Closest_User:',user_user_recommendations[1])\n",
    "display('Recommendations',user_user_recommendations[2])"
   ]
  },
  {
   "cell_type": "code",
   "execution_count": null,
   "id": "9143fc38",
   "metadata": {},
   "outputs": [],
   "source": []
  },
  {
   "cell_type": "markdown",
   "id": "404b5fb9",
   "metadata": {},
   "source": [
    "# C) Recommender System based on Matrix Factorization"
   ]
  },
  {
   "cell_type": "code",
   "execution_count": null,
   "id": "788e006e",
   "metadata": {},
   "outputs": [],
   "source": [
    "# ratings_df = ratings[['UserID', 'MovieID', 'Rating']].copy()\n",
    "# ratings_df.columns = ['UserId', 'ItemId', 'Rating']  # Lib requires specific column names\n",
    "\n",
    "# model = CMF(method=\"als\", k=2, lambda_=0.1, user_bias=False, item_bias=False, verbose=False)\n",
    "# model.fit(rm_raw)"
   ]
  },
  {
   "cell_type": "code",
   "execution_count": null,
   "id": "62865b07",
   "metadata": {},
   "outputs": [],
   "source": []
  },
  {
   "cell_type": "code",
   "execution_count": null,
   "id": "49ef2e80",
   "metadata": {},
   "outputs": [],
   "source": []
  },
  {
   "cell_type": "markdown",
   "id": "13f1a6b4",
   "metadata": {},
   "source": [
    "# Handling a Cold Start Problem "
   ]
  },
  {
   "cell_type": "markdown",
   "id": "c1ffea29",
   "metadata": {},
   "source": [
    "#### For newly joined users, we wouldn't have all the User Information. This is a cold start problem. To handle this, we can ask for their favorite Genres. There are various ways we can recommend movies to new users. Some of them are:\n",
    "- Recommend the most popular movies based on highest average Rating.\n",
    "- Recommend the most recent movies.\n",
    "- Recommend the movies which match with the new users's preferred Genres.\n",
    "- Recommend the highest average rated movies on the basis of their location, i.e. Zip Code."
   ]
  },
  {
   "cell_type": "code",
   "execution_count": null,
   "id": "509d1287",
   "metadata": {},
   "outputs": [],
   "source": []
  },
  {
   "cell_type": "code",
   "execution_count": null,
   "id": "8eb8cde1",
   "metadata": {},
   "outputs": [],
   "source": []
  },
  {
   "cell_type": "code",
   "execution_count": null,
   "id": "e10d1594",
   "metadata": {},
   "outputs": [],
   "source": []
  },
  {
   "cell_type": "code",
   "execution_count": null,
   "id": "f990cb62",
   "metadata": {},
   "outputs": [],
   "source": []
  },
  {
   "cell_type": "code",
   "execution_count": null,
   "id": "bd149528",
   "metadata": {},
   "outputs": [],
   "source": []
  },
  {
   "cell_type": "code",
   "execution_count": null,
   "id": "c2fe9189",
   "metadata": {},
   "outputs": [],
   "source": []
  },
  {
   "cell_type": "code",
   "execution_count": null,
   "id": "13ccc2e0",
   "metadata": {},
   "outputs": [],
   "source": []
  },
  {
   "cell_type": "code",
   "execution_count": null,
   "id": "298d2fc2",
   "metadata": {},
   "outputs": [],
   "source": []
  },
  {
   "cell_type": "code",
   "execution_count": null,
   "id": "21be240e",
   "metadata": {},
   "outputs": [],
   "source": []
  },
  {
   "cell_type": "code",
   "execution_count": null,
   "id": "dce95cd7",
   "metadata": {},
   "outputs": [],
   "source": []
  },
  {
   "cell_type": "code",
   "execution_count": null,
   "id": "9d5b5b0e",
   "metadata": {},
   "outputs": [],
   "source": []
  },
  {
   "cell_type": "code",
   "execution_count": null,
   "id": "60786265",
   "metadata": {},
   "outputs": [],
   "source": []
  },
  {
   "cell_type": "code",
   "execution_count": null,
   "id": "063ec2e6",
   "metadata": {},
   "outputs": [],
   "source": []
  },
  {
   "cell_type": "code",
   "execution_count": null,
   "id": "10a1c415",
   "metadata": {},
   "outputs": [],
   "source": []
  },
  {
   "cell_type": "code",
   "execution_count": null,
   "id": "e85e3290",
   "metadata": {},
   "outputs": [],
   "source": []
  },
  {
   "cell_type": "code",
   "execution_count": null,
   "id": "a4c9590d",
   "metadata": {},
   "outputs": [],
   "source": []
  },
  {
   "cell_type": "code",
   "execution_count": null,
   "id": "61f3655d",
   "metadata": {},
   "outputs": [],
   "source": []
  },
  {
   "cell_type": "code",
   "execution_count": null,
   "id": "9ce21e40",
   "metadata": {},
   "outputs": [],
   "source": []
  },
  {
   "cell_type": "code",
   "execution_count": null,
   "id": "e0c33824",
   "metadata": {},
   "outputs": [],
   "source": []
  }
 ],
 "metadata": {
  "kernelspec": {
   "display_name": "Python 3 (ipykernel)",
   "language": "python",
   "name": "python3"
  },
  "language_info": {
   "codemirror_mode": {
    "name": "ipython",
    "version": 3
   },
   "file_extension": ".py",
   "mimetype": "text/x-python",
   "name": "python",
   "nbconvert_exporter": "python",
   "pygments_lexer": "ipython3",
   "version": "3.9.7"
  }
 },
 "nbformat": 4,
 "nbformat_minor": 5
}
